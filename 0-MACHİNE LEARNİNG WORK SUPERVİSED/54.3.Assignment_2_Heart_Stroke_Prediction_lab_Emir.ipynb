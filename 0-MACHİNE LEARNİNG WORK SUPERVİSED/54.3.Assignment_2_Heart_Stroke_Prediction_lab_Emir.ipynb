{
 "cells": [
  {
   "cell_type": "markdown",
   "id": "KI0TtW1tvm_r",
   "metadata": {
    "id": "KI0TtW1tvm_r"
   },
   "source": [
    "___\n",
    "\n",
    "<p style=\"text-align: center;\"><img src=\"https://docs.google.com/uc?id=1lY0Uj5R04yMY3-ZppPWxqCr5pvBLYPnV\" class=\"img-fluid\" alt=\"CLRSWY\"></p>\n",
    "\n",
    "___"
   ]
  },
  {
   "cell_type": "markdown",
   "id": "392a02f0-fdda-44ae-a0fc-97f3b03924a9",
   "metadata": {
    "id": "392a02f0-fdda-44ae-a0fc-97f3b03924a9"
   },
   "source": [
    "Data vocabulary:\n",
    "\n",
    "1. #3 (age): age in years \n",
    "2. #4 (sex): sex (1 = male; 0 = female) \n",
    "3. #9 (cp): cp: chest pain type | Value 0: typical angina | Value 1: atypical angina | Value 2: non-anginal pain | Value 3: asymptomatic \n",
    "4. #10 (trestbps): resting blood pressure (in mm Hg on admission to the hospital) \n",
    "5. #12 (chol): serum cholestoral in mg/dl \n",
    "6. #16 (fbs): (fasting blood sugar > 120 mg/dl) (1 = true; 0 = false) \n",
    "7. #19 (restecg): resting electrocardiographic results | Value 0: normal | Value 1: having ST-T wave abnormality (T wave inversions and/or ST elevation or depression of > 0.05 mV) | Value 2: showing probable or definite left ventricular hypertrophy by Estes' criteria \n",
    "8. #32 (thalach): maximum heart rate achieved \n",
    "9. #38 (exang): exercise induced angina (1 = yes; 0 = no) \n",
    "10. #40 (oldpeak): ST depression induced by exercise relative to rest \n",
    "11. #41 (slope): the slope of the peak exercise ST segment | Value 1: upsloping | Value 2: flat | Value 3: downsloping \n",
    "12. #44 (ca): number of major vessels (0-3) colored by flourosopy \n",
    "13. #51 (thal): 3 = normal; 6 = fixed defect; 7 = reversable defect \n",
    "14. #58 (num) (the predicted attribute): Value 0: < 50% diameter narrowing | Value 1: > 50% diameter narrowing "
   ]
  },
  {
   "cell_type": "markdown",
   "id": "2kuJJ54iwAlk",
   "metadata": {
    "id": "2kuJJ54iwAlk"
   },
   "source": [
    "# Import esential Libraries"
   ]
  },
  {
   "cell_type": "code",
   "execution_count": 1,
   "id": "d2f67c2a-c903-4b6c-bcda-2d69e2619192",
   "metadata": {
    "id": "d2f67c2a-c903-4b6c-bcda-2d69e2619192"
   },
   "outputs": [],
   "source": [
    "# This codes coppied from ML-8 notebook.\n",
    "import numpy as np\n",
    "import pandas as pd\n",
    "import seaborn as sns\n",
    "import matplotlib.pyplot as plt\n",
    "\n",
    "%matplotlib inline\n",
    "#%matplotlib notebook\n",
    "plt.rcParams[\"figure.figsize\"] = (10,6)\n",
    "import warnings\n",
    "warnings.filterwarnings(\"ignore\")\n",
    "warnings.warn(\"this will not show\")\n",
    "pd.set_option('display.float_format', lambda x: '%.3f' % x)"
   ]
  },
  {
   "cell_type": "markdown",
   "id": "6Qn_DjhPwKRF",
   "metadata": {
    "id": "6Qn_DjhPwKRF"
   },
   "source": [
    "# Ingest the data to notebook"
   ]
  },
  {
   "cell_type": "code",
   "execution_count": 2,
   "id": "542d4531-d67c-4a30-a836-dc31795ff0e8",
   "metadata": {
    "id": "542d4531-d67c-4a30-a836-dc31795ff0e8"
   },
   "outputs": [
    {
     "data": {
      "text/html": [
       "<div>\n",
       "<style scoped>\n",
       "    .dataframe tbody tr th:only-of-type {\n",
       "        vertical-align: middle;\n",
       "    }\n",
       "\n",
       "    .dataframe tbody tr th {\n",
       "        vertical-align: top;\n",
       "    }\n",
       "\n",
       "    .dataframe thead th {\n",
       "        text-align: right;\n",
       "    }\n",
       "</style>\n",
       "<table border=\"1\" class=\"dataframe\">\n",
       "  <thead>\n",
       "    <tr style=\"text-align: right;\">\n",
       "      <th></th>\n",
       "      <th>0</th>\n",
       "      <th>1</th>\n",
       "      <th>2</th>\n",
       "      <th>3</th>\n",
       "      <th>4</th>\n",
       "    </tr>\n",
       "  </thead>\n",
       "  <tbody>\n",
       "    <tr>\n",
       "      <th>age</th>\n",
       "      <td>63.000</td>\n",
       "      <td>37.000</td>\n",
       "      <td>41.000</td>\n",
       "      <td>56.000</td>\n",
       "      <td>57.000</td>\n",
       "    </tr>\n",
       "    <tr>\n",
       "      <th>sex</th>\n",
       "      <td>1.000</td>\n",
       "      <td>1.000</td>\n",
       "      <td>0.000</td>\n",
       "      <td>1.000</td>\n",
       "      <td>0.000</td>\n",
       "    </tr>\n",
       "    <tr>\n",
       "      <th>cp</th>\n",
       "      <td>3.000</td>\n",
       "      <td>2.000</td>\n",
       "      <td>1.000</td>\n",
       "      <td>1.000</td>\n",
       "      <td>0.000</td>\n",
       "    </tr>\n",
       "    <tr>\n",
       "      <th>trestbps</th>\n",
       "      <td>145.000</td>\n",
       "      <td>130.000</td>\n",
       "      <td>130.000</td>\n",
       "      <td>120.000</td>\n",
       "      <td>120.000</td>\n",
       "    </tr>\n",
       "    <tr>\n",
       "      <th>chol</th>\n",
       "      <td>233.000</td>\n",
       "      <td>250.000</td>\n",
       "      <td>204.000</td>\n",
       "      <td>236.000</td>\n",
       "      <td>354.000</td>\n",
       "    </tr>\n",
       "    <tr>\n",
       "      <th>fbs</th>\n",
       "      <td>1.000</td>\n",
       "      <td>0.000</td>\n",
       "      <td>0.000</td>\n",
       "      <td>0.000</td>\n",
       "      <td>0.000</td>\n",
       "    </tr>\n",
       "    <tr>\n",
       "      <th>restecg</th>\n",
       "      <td>0.000</td>\n",
       "      <td>1.000</td>\n",
       "      <td>0.000</td>\n",
       "      <td>1.000</td>\n",
       "      <td>1.000</td>\n",
       "    </tr>\n",
       "    <tr>\n",
       "      <th>thalach</th>\n",
       "      <td>150.000</td>\n",
       "      <td>187.000</td>\n",
       "      <td>172.000</td>\n",
       "      <td>178.000</td>\n",
       "      <td>163.000</td>\n",
       "    </tr>\n",
       "    <tr>\n",
       "      <th>exang</th>\n",
       "      <td>0.000</td>\n",
       "      <td>0.000</td>\n",
       "      <td>0.000</td>\n",
       "      <td>0.000</td>\n",
       "      <td>1.000</td>\n",
       "    </tr>\n",
       "    <tr>\n",
       "      <th>oldpeak</th>\n",
       "      <td>2.300</td>\n",
       "      <td>3.500</td>\n",
       "      <td>1.400</td>\n",
       "      <td>0.800</td>\n",
       "      <td>0.600</td>\n",
       "    </tr>\n",
       "    <tr>\n",
       "      <th>slope</th>\n",
       "      <td>0.000</td>\n",
       "      <td>0.000</td>\n",
       "      <td>2.000</td>\n",
       "      <td>2.000</td>\n",
       "      <td>2.000</td>\n",
       "    </tr>\n",
       "    <tr>\n",
       "      <th>ca</th>\n",
       "      <td>0.000</td>\n",
       "      <td>0.000</td>\n",
       "      <td>0.000</td>\n",
       "      <td>0.000</td>\n",
       "      <td>0.000</td>\n",
       "    </tr>\n",
       "    <tr>\n",
       "      <th>thal</th>\n",
       "      <td>1.000</td>\n",
       "      <td>2.000</td>\n",
       "      <td>2.000</td>\n",
       "      <td>2.000</td>\n",
       "      <td>2.000</td>\n",
       "    </tr>\n",
       "    <tr>\n",
       "      <th>target</th>\n",
       "      <td>1.000</td>\n",
       "      <td>1.000</td>\n",
       "      <td>1.000</td>\n",
       "      <td>1.000</td>\n",
       "      <td>1.000</td>\n",
       "    </tr>\n",
       "  </tbody>\n",
       "</table>\n",
       "</div>"
      ],
      "text/plain": [
       "               0       1       2       3       4\n",
       "age       63.000  37.000  41.000  56.000  57.000\n",
       "sex        1.000   1.000   0.000   1.000   0.000\n",
       "cp         3.000   2.000   1.000   1.000   0.000\n",
       "trestbps 145.000 130.000 130.000 120.000 120.000\n",
       "chol     233.000 250.000 204.000 236.000 354.000\n",
       "fbs        1.000   0.000   0.000   0.000   0.000\n",
       "restecg    0.000   1.000   0.000   1.000   1.000\n",
       "thalach  150.000 187.000 172.000 178.000 163.000\n",
       "exang      0.000   0.000   0.000   0.000   1.000\n",
       "oldpeak    2.300   3.500   1.400   0.800   0.600\n",
       "slope      0.000   0.000   2.000   2.000   2.000\n",
       "ca         0.000   0.000   0.000   0.000   0.000\n",
       "thal       1.000   2.000   2.000   2.000   2.000\n",
       "target     1.000   1.000   1.000   1.000   1.000"
      ]
     },
     "execution_count": 2,
     "metadata": {},
     "output_type": "execute_result"
    }
   ],
   "source": [
    "# The data read from my local .csv file which our course had shared.\n",
    "df = pd.read_csv(\"heart.csv\").copy()\n",
    "df.head().T"
   ]
  },
  {
   "cell_type": "markdown",
   "id": "v64txbyYwhzL",
   "metadata": {
    "id": "v64txbyYwhzL"
   },
   "source": [
    "# EDA"
   ]
  },
  {
   "cell_type": "code",
   "execution_count": 3,
   "id": "bc7eca15-a6ca-4959-a43b-d20e37bcefb3",
   "metadata": {
    "id": "bc7eca15-a6ca-4959-a43b-d20e37bcefb3"
   },
   "outputs": [
    {
     "name": "stdout",
     "output_type": "stream",
     "text": [
      "<class 'pandas.core.frame.DataFrame'>\n",
      "RangeIndex: 303 entries, 0 to 302\n",
      "Data columns (total 14 columns):\n",
      " #   Column    Non-Null Count  Dtype  \n",
      "---  ------    --------------  -----  \n",
      " 0   age       303 non-null    int64  \n",
      " 1   sex       303 non-null    int64  \n",
      " 2   cp        303 non-null    int64  \n",
      " 3   trestbps  303 non-null    int64  \n",
      " 4   chol      303 non-null    int64  \n",
      " 5   fbs       303 non-null    int64  \n",
      " 6   restecg   303 non-null    int64  \n",
      " 7   thalach   303 non-null    int64  \n",
      " 8   exang     303 non-null    int64  \n",
      " 9   oldpeak   303 non-null    float64\n",
      " 10  slope     303 non-null    int64  \n",
      " 11  ca        303 non-null    int64  \n",
      " 12  thal      303 non-null    int64  \n",
      " 13  target    303 non-null    int64  \n",
      "dtypes: float64(1), int64(13)\n",
      "memory usage: 33.3 KB\n"
     ]
    }
   ],
   "source": [
    "# let's check info of DataFrame\n",
    "df.info()"
   ]
  },
  {
   "cell_type": "raw",
   "id": "859e60be",
   "metadata": {},
   "source": [
    "- We have 14 columns and 303 rows.\n",
    "- There is no null values, we will check again.\n",
    "- All the dtype of columns are integer execpt \"oldpeak\""
   ]
  },
  {
   "cell_type": "code",
   "execution_count": 4,
   "id": "9820bb23",
   "metadata": {},
   "outputs": [
    {
     "data": {
      "text/plain": [
       "(303, 14)"
      ]
     },
     "execution_count": 4,
     "metadata": {},
     "output_type": "execute_result"
    }
   ],
   "source": [
    "# Let's check the above information:\n",
    "df.shape"
   ]
  },
  {
   "cell_type": "code",
   "execution_count": 5,
   "id": "7fffdf48",
   "metadata": {},
   "outputs": [
    {
     "data": {
      "text/plain": [
       "age         0\n",
       "sex         0\n",
       "cp          0\n",
       "trestbps    0\n",
       "chol        0\n",
       "fbs         0\n",
       "restecg     0\n",
       "thalach     0\n",
       "exang       0\n",
       "oldpeak     0\n",
       "slope       0\n",
       "ca          0\n",
       "thal        0\n",
       "target      0\n",
       "dtype: int64"
      ]
     },
     "execution_count": 5,
     "metadata": {},
     "output_type": "execute_result"
    }
   ],
   "source": [
    "# double check is always good.\n",
    "df.isnull().sum()"
   ]
  },
  {
   "cell_type": "code",
   "execution_count": 6,
   "id": "f26a5025",
   "metadata": {},
   "outputs": [
    {
     "name": "stdout",
     "output_type": "stream",
     "text": [
      "The column of: 'age'\n",
      "age\n",
      "58    19\n",
      "57    17\n",
      "54    16\n",
      "59    14\n",
      "52    13\n",
      "51    12\n",
      "62    11\n",
      "60    11\n",
      "44    11\n",
      "56    11\n",
      "41    10\n",
      "64    10\n",
      "63     9\n",
      "67     9\n",
      "65     8\n",
      "55     8\n",
      "61     8\n",
      "53     8\n",
      "45     8\n",
      "43     8\n",
      "42     8\n",
      "50     7\n",
      "66     7\n",
      "48     7\n",
      "46     7\n",
      "49     5\n",
      "47     5\n",
      "70     4\n",
      "39     4\n",
      "68     4\n",
      "35     4\n",
      "69     3\n",
      "40     3\n",
      "38     3\n",
      "71     3\n",
      "37     2\n",
      "34     2\n",
      "76     1\n",
      "29     1\n",
      "74     1\n",
      "77     1\n",
      "Name: age, dtype: int64\n",
      "\n",
      "The column of: 'sex'\n",
      "sex\n",
      "1    207\n",
      "0     96\n",
      "Name: sex, dtype: int64\n",
      "\n",
      "The column of: 'cp'\n",
      "cp\n",
      "0    143\n",
      "2     87\n",
      "1     50\n",
      "3     23\n",
      "Name: cp, dtype: int64\n",
      "\n",
      "The column of: 'trestbps'\n",
      "trestbps\n",
      "120    37\n",
      "130    36\n",
      "140    32\n",
      "110    19\n",
      "150    17\n",
      "138    13\n",
      "128    12\n",
      "125    11\n",
      "160    11\n",
      "112     9\n",
      "132     8\n",
      "118     7\n",
      "108     6\n",
      "135     6\n",
      "124     6\n",
      "152     5\n",
      "145     5\n",
      "134     5\n",
      "100     4\n",
      "122     4\n",
      "170     4\n",
      "126     3\n",
      "115     3\n",
      "105     3\n",
      "136     3\n",
      "180     3\n",
      "142     3\n",
      "146     2\n",
      "148     2\n",
      "178     2\n",
      "94      2\n",
      "144     2\n",
      "102     2\n",
      "129     1\n",
      "192     1\n",
      "101     1\n",
      "174     1\n",
      "172     1\n",
      "104     1\n",
      "165     1\n",
      "164     1\n",
      "106     1\n",
      "156     1\n",
      "155     1\n",
      "154     1\n",
      "114     1\n",
      "117     1\n",
      "123     1\n",
      "200     1\n",
      "Name: trestbps, dtype: int64\n",
      "\n",
      "The column of: 'chol'\n",
      "chol\n",
      "204    6\n",
      "197    6\n",
      "234    6\n",
      "269    5\n",
      "212    5\n",
      "      ..\n",
      "215    1\n",
      "210    1\n",
      "200    1\n",
      "195    1\n",
      "417    1\n",
      "Name: chol, Length: 152, dtype: int64\n",
      "\n",
      "The column of: 'fbs'\n",
      "fbs\n",
      "0    258\n",
      "1     45\n",
      "Name: fbs, dtype: int64\n",
      "\n",
      "The column of: 'restecg'\n",
      "restecg\n",
      "1    152\n",
      "0    147\n",
      "2      4\n",
      "Name: restecg, dtype: int64\n",
      "\n",
      "The column of: 'thalach'\n",
      "thalach\n",
      "162    11\n",
      "163     9\n",
      "160     9\n",
      "152     8\n",
      "173     8\n",
      "       ..\n",
      "128     1\n",
      "129     1\n",
      "134     1\n",
      "137     1\n",
      "202     1\n",
      "Name: thalach, Length: 91, dtype: int64\n",
      "\n",
      "The column of: 'exang'\n",
      "exang\n",
      "0    204\n",
      "1     99\n",
      "Name: exang, dtype: int64\n",
      "\n",
      "The column of: 'oldpeak'\n",
      "oldpeak\n",
      "0.000    99\n",
      "1.200    17\n",
      "1.000    14\n",
      "0.600    14\n",
      "0.800    13\n",
      "1.400    13\n",
      "0.200    12\n",
      "1.600    11\n",
      "1.800    10\n",
      "0.400     9\n",
      "2.000     9\n",
      "0.100     7\n",
      "2.600     6\n",
      "2.800     6\n",
      "1.900     5\n",
      "0.500     5\n",
      "1.500     5\n",
      "3.000     5\n",
      "2.200     4\n",
      "3.600     4\n",
      "0.300     3\n",
      "2.400     3\n",
      "0.900     3\n",
      "4.000     3\n",
      "3.400     3\n",
      "2.300     2\n",
      "1.100     2\n",
      "4.200     2\n",
      "3.200     2\n",
      "2.500     2\n",
      "3.500     1\n",
      "1.300     1\n",
      "3.800     1\n",
      "6.200     1\n",
      "5.600     1\n",
      "3.100     1\n",
      "2.900     1\n",
      "4.400     1\n",
      "0.700     1\n",
      "2.100     1\n",
      "Name: oldpeak, dtype: int64\n",
      "\n",
      "The column of: 'slope'\n",
      "slope\n",
      "2    142\n",
      "1    140\n",
      "0     21\n",
      "Name: slope, dtype: int64\n",
      "\n",
      "The column of: 'ca'\n",
      "ca\n",
      "0    175\n",
      "1     65\n",
      "2     38\n",
      "3     20\n",
      "4      5\n",
      "Name: ca, dtype: int64\n",
      "\n",
      "The column of: 'thal'\n",
      "thal\n",
      "2    166\n",
      "3    117\n",
      "1     18\n",
      "0      2\n",
      "Name: thal, dtype: int64\n",
      "\n",
      "The column of: 'target'\n",
      "target\n",
      "1    165\n",
      "0    138\n",
      "Name: target, dtype: int64\n",
      "\n"
     ]
    }
   ],
   "source": [
    "# Let's look at the .value_counts() of a whole dataframe all in one code.\n",
    "# This code is stolen from C8120-Raife.\n",
    "for i in df.columns:\n",
    "    print(f\"The column of: '{i}'\")\n",
    "    print(i,df[i].value_counts(), sep= '\\n')\n",
    "    print(\"\")"
   ]
  },
  {
   "cell_type": "code",
   "execution_count": 7,
   "id": "6b11b853",
   "metadata": {},
   "outputs": [
    {
     "data": {
      "text/html": [
       "<div>\n",
       "<style scoped>\n",
       "    .dataframe tbody tr th:only-of-type {\n",
       "        vertical-align: middle;\n",
       "    }\n",
       "\n",
       "    .dataframe tbody tr th {\n",
       "        vertical-align: top;\n",
       "    }\n",
       "\n",
       "    .dataframe thead th {\n",
       "        text-align: right;\n",
       "    }\n",
       "</style>\n",
       "<table border=\"1\" class=\"dataframe\">\n",
       "  <thead>\n",
       "    <tr style=\"text-align: right;\">\n",
       "      <th></th>\n",
       "      <th>age</th>\n",
       "      <th>sex</th>\n",
       "      <th>cp</th>\n",
       "      <th>trestbps</th>\n",
       "      <th>chol</th>\n",
       "      <th>fbs</th>\n",
       "      <th>restecg</th>\n",
       "      <th>thalach</th>\n",
       "      <th>exang</th>\n",
       "      <th>oldpeak</th>\n",
       "      <th>slope</th>\n",
       "      <th>ca</th>\n",
       "      <th>thal</th>\n",
       "      <th>target</th>\n",
       "    </tr>\n",
       "  </thead>\n",
       "  <tbody>\n",
       "    <tr>\n",
       "      <th>count</th>\n",
       "      <td>303.000</td>\n",
       "      <td>303.000</td>\n",
       "      <td>303.000</td>\n",
       "      <td>303.000</td>\n",
       "      <td>303.000</td>\n",
       "      <td>303.000</td>\n",
       "      <td>303.000</td>\n",
       "      <td>303.000</td>\n",
       "      <td>303.000</td>\n",
       "      <td>303.000</td>\n",
       "      <td>303.000</td>\n",
       "      <td>303.000</td>\n",
       "      <td>303.000</td>\n",
       "      <td>303.000</td>\n",
       "    </tr>\n",
       "    <tr>\n",
       "      <th>mean</th>\n",
       "      <td>54.366</td>\n",
       "      <td>0.683</td>\n",
       "      <td>0.967</td>\n",
       "      <td>131.624</td>\n",
       "      <td>246.264</td>\n",
       "      <td>0.149</td>\n",
       "      <td>0.528</td>\n",
       "      <td>149.647</td>\n",
       "      <td>0.327</td>\n",
       "      <td>1.040</td>\n",
       "      <td>1.399</td>\n",
       "      <td>0.729</td>\n",
       "      <td>2.314</td>\n",
       "      <td>0.545</td>\n",
       "    </tr>\n",
       "    <tr>\n",
       "      <th>std</th>\n",
       "      <td>9.082</td>\n",
       "      <td>0.466</td>\n",
       "      <td>1.032</td>\n",
       "      <td>17.538</td>\n",
       "      <td>51.831</td>\n",
       "      <td>0.356</td>\n",
       "      <td>0.526</td>\n",
       "      <td>22.905</td>\n",
       "      <td>0.470</td>\n",
       "      <td>1.161</td>\n",
       "      <td>0.616</td>\n",
       "      <td>1.023</td>\n",
       "      <td>0.612</td>\n",
       "      <td>0.499</td>\n",
       "    </tr>\n",
       "    <tr>\n",
       "      <th>min</th>\n",
       "      <td>29.000</td>\n",
       "      <td>0.000</td>\n",
       "      <td>0.000</td>\n",
       "      <td>94.000</td>\n",
       "      <td>126.000</td>\n",
       "      <td>0.000</td>\n",
       "      <td>0.000</td>\n",
       "      <td>71.000</td>\n",
       "      <td>0.000</td>\n",
       "      <td>0.000</td>\n",
       "      <td>0.000</td>\n",
       "      <td>0.000</td>\n",
       "      <td>0.000</td>\n",
       "      <td>0.000</td>\n",
       "    </tr>\n",
       "    <tr>\n",
       "      <th>25%</th>\n",
       "      <td>47.500</td>\n",
       "      <td>0.000</td>\n",
       "      <td>0.000</td>\n",
       "      <td>120.000</td>\n",
       "      <td>211.000</td>\n",
       "      <td>0.000</td>\n",
       "      <td>0.000</td>\n",
       "      <td>133.500</td>\n",
       "      <td>0.000</td>\n",
       "      <td>0.000</td>\n",
       "      <td>1.000</td>\n",
       "      <td>0.000</td>\n",
       "      <td>2.000</td>\n",
       "      <td>0.000</td>\n",
       "    </tr>\n",
       "    <tr>\n",
       "      <th>50%</th>\n",
       "      <td>55.000</td>\n",
       "      <td>1.000</td>\n",
       "      <td>1.000</td>\n",
       "      <td>130.000</td>\n",
       "      <td>240.000</td>\n",
       "      <td>0.000</td>\n",
       "      <td>1.000</td>\n",
       "      <td>153.000</td>\n",
       "      <td>0.000</td>\n",
       "      <td>0.800</td>\n",
       "      <td>1.000</td>\n",
       "      <td>0.000</td>\n",
       "      <td>2.000</td>\n",
       "      <td>1.000</td>\n",
       "    </tr>\n",
       "    <tr>\n",
       "      <th>75%</th>\n",
       "      <td>61.000</td>\n",
       "      <td>1.000</td>\n",
       "      <td>2.000</td>\n",
       "      <td>140.000</td>\n",
       "      <td>274.500</td>\n",
       "      <td>0.000</td>\n",
       "      <td>1.000</td>\n",
       "      <td>166.000</td>\n",
       "      <td>1.000</td>\n",
       "      <td>1.600</td>\n",
       "      <td>2.000</td>\n",
       "      <td>1.000</td>\n",
       "      <td>3.000</td>\n",
       "      <td>1.000</td>\n",
       "    </tr>\n",
       "    <tr>\n",
       "      <th>max</th>\n",
       "      <td>77.000</td>\n",
       "      <td>1.000</td>\n",
       "      <td>3.000</td>\n",
       "      <td>200.000</td>\n",
       "      <td>564.000</td>\n",
       "      <td>1.000</td>\n",
       "      <td>2.000</td>\n",
       "      <td>202.000</td>\n",
       "      <td>1.000</td>\n",
       "      <td>6.200</td>\n",
       "      <td>2.000</td>\n",
       "      <td>4.000</td>\n",
       "      <td>3.000</td>\n",
       "      <td>1.000</td>\n",
       "    </tr>\n",
       "  </tbody>\n",
       "</table>\n",
       "</div>"
      ],
      "text/plain": [
       "          age     sex      cp  trestbps    chol     fbs  restecg  thalach  \\\n",
       "count 303.000 303.000 303.000   303.000 303.000 303.000  303.000  303.000   \n",
       "mean   54.366   0.683   0.967   131.624 246.264   0.149    0.528  149.647   \n",
       "std     9.082   0.466   1.032    17.538  51.831   0.356    0.526   22.905   \n",
       "min    29.000   0.000   0.000    94.000 126.000   0.000    0.000   71.000   \n",
       "25%    47.500   0.000   0.000   120.000 211.000   0.000    0.000  133.500   \n",
       "50%    55.000   1.000   1.000   130.000 240.000   0.000    1.000  153.000   \n",
       "75%    61.000   1.000   2.000   140.000 274.500   0.000    1.000  166.000   \n",
       "max    77.000   1.000   3.000   200.000 564.000   1.000    2.000  202.000   \n",
       "\n",
       "        exang  oldpeak   slope      ca    thal  target  \n",
       "count 303.000  303.000 303.000 303.000 303.000 303.000  \n",
       "mean    0.327    1.040   1.399   0.729   2.314   0.545  \n",
       "std     0.470    1.161   0.616   1.023   0.612   0.499  \n",
       "min     0.000    0.000   0.000   0.000   0.000   0.000  \n",
       "25%     0.000    0.000   1.000   0.000   2.000   0.000  \n",
       "50%     0.000    0.800   1.000   0.000   2.000   1.000  \n",
       "75%     1.000    1.600   2.000   1.000   3.000   1.000  \n",
       "max     1.000    6.200   2.000   4.000   3.000   1.000  "
      ]
     },
     "execution_count": 7,
     "metadata": {},
     "output_type": "execute_result"
    }
   ],
   "source": [
    "# Let's check basic statistical results of our data and make comment.\n",
    "# We can make lots of comment here. Let me show you hot to read .describe() results.\n",
    "# 1) We can check min and mox, then we can look %50(Q2) and evaluate difference. So we can roughly find is there any outlier?\n",
    "# 2) We can compare and evaluate mean and median (mean - %50). So we can say smthng about skewness.\n",
    "# ... bla bla bla\n",
    "df.describe()"
   ]
  },
  {
   "cell_type": "code",
   "execution_count": 8,
   "id": "5a67ed55",
   "metadata": {},
   "outputs": [
    {
     "data": {
      "text/plain": [
       "1"
      ]
     },
     "execution_count": 8,
     "metadata": {},
     "output_type": "execute_result"
    }
   ],
   "source": [
    "# Let's see if there is a duplicate value in our data. \n",
    "# If there are, we should drop them and reinterpret our dataframe.\n",
    "df.duplicated().sum()"
   ]
  },
  {
   "cell_type": "code",
   "execution_count": 9,
   "id": "4d0186a8",
   "metadata": {},
   "outputs": [],
   "source": [
    "df = df.drop_duplicates()"
   ]
  },
  {
   "cell_type": "code",
   "execution_count": 10,
   "id": "6da7c7b2",
   "metadata": {},
   "outputs": [
    {
     "data": {
      "text/plain": [
       "0"
      ]
     },
     "execution_count": 10,
     "metadata": {},
     "output_type": "execute_result"
    }
   ],
   "source": [
    "# Let's check again.\n",
    "df.duplicated().sum()"
   ]
  },
  {
   "cell_type": "code",
   "execution_count": 11,
   "id": "69760170",
   "metadata": {},
   "outputs": [
    {
     "data": {
      "text/plain": [
       "(302, 14)"
      ]
     },
     "execution_count": 11,
     "metadata": {},
     "output_type": "execute_result"
    }
   ],
   "source": [
    "df.shape"
   ]
  },
  {
   "cell_type": "markdown",
   "id": "e7f046fa",
   "metadata": {},
   "source": [
    "**cp: chest pain type\" column**"
   ]
  },
  {
   "cell_type": "code",
   "execution_count": 12,
   "id": "9982a0a3",
   "metadata": {},
   "outputs": [
    {
     "data": {
      "text/plain": [
       "0    143\n",
       "2     86\n",
       "1     50\n",
       "3     23\n",
       "Name: cp, dtype: int64"
      ]
     },
     "execution_count": 12,
     "metadata": {},
     "output_type": "execute_result"
    }
   ],
   "source": [
    "# We need to look at \"cp: chest pain type\" column.\n",
    "# Angina: It is a term that expresses chest pain caused by insufficient blood and oxygen to the heart.\n",
    "# Value 0: typical angina\n",
    "# Value 1: atypical angina\n",
    "# Value 2: non-anginal pain\n",
    "# Value 3: asymptomatic\n",
    "df.cp.value_counts(dropna = False)"
   ]
  },
  {
   "cell_type": "markdown",
   "id": "bc361af5",
   "metadata": {},
   "source": [
    "**trestbps column**"
   ]
  },
  {
   "cell_type": "code",
   "execution_count": 13,
   "id": "2f62ca1c",
   "metadata": {},
   "outputs": [
    {
     "name": "stdout",
     "output_type": "stream",
     "text": [
      "First 10 bps min to max\n",
      "94      2\n",
      "100     4\n",
      "101     1\n",
      "102     2\n",
      "104     1\n",
      "105     3\n",
      "106     1\n",
      "108     6\n",
      "110    19\n",
      "112     9\n",
      "Name: trestbps, dtype: int64\n",
      "Last 10 bps min to max\n",
      "160    11\n",
      "164     1\n",
      "165     1\n",
      "170     4\n",
      "172     1\n",
      "174     1\n",
      "178     2\n",
      "180     3\n",
      "192     1\n",
      "200     1\n",
      "Name: trestbps, dtype: int64\n"
     ]
    }
   ],
   "source": [
    "# (trestbps): resting blood pressure (in mm Hg on admission to the hospital)\n",
    "# bps --> beat perr second\n",
    "# rest --> regular condition\n",
    "# Let's look at range and check is there any absurd bps.\n",
    "print(\"First 10 bps min to max\")\n",
    "print(df.trestbps.value_counts().sort_index().head(10))\n",
    "print(\"Last 10 bps min to max\")\n",
    "print(df.trestbps.value_counts().sort_index().tail(10))"
   ]
  },
  {
   "cell_type": "markdown",
   "id": "c23dd5bc",
   "metadata": {},
   "source": [
    "- We've already check all columns, and did not not find any absurd value."
   ]
  },
  {
   "cell_type": "code",
   "execution_count": 14,
   "id": "92b1dd2a",
   "metadata": {},
   "outputs": [],
   "source": [
    "# df = pd.get_dummies(df, drop_first = True)"
   ]
  },
  {
   "attachments": {
    "image.png": {
     "image/png": "[encoded data removed]"
    }
   },
   "cell_type": "markdown",
   "id": "071a833a",
   "metadata": {},
   "source": [
    "- ***Dummy variables, is necessary to standardize them?***\n",
    "![image.png](attachment:image.png)"
   ]
  },
  {
   "cell_type": "code",
   "execution_count": 15,
   "id": "24171a8f",
   "metadata": {},
   "outputs": [
    {
     "data": {
      "text/html": [
       "<div>\n",
       "<style scoped>\n",
       "    .dataframe tbody tr th:only-of-type {\n",
       "        vertical-align: middle;\n",
       "    }\n",
       "\n",
       "    .dataframe tbody tr th {\n",
       "        vertical-align: top;\n",
       "    }\n",
       "\n",
       "    .dataframe thead th {\n",
       "        text-align: right;\n",
       "    }\n",
       "</style>\n",
       "<table border=\"1\" class=\"dataframe\">\n",
       "  <thead>\n",
       "    <tr style=\"text-align: right;\">\n",
       "      <th></th>\n",
       "      <th>age</th>\n",
       "      <th>sex</th>\n",
       "      <th>cp</th>\n",
       "      <th>trestbps</th>\n",
       "      <th>chol</th>\n",
       "      <th>fbs</th>\n",
       "      <th>restecg</th>\n",
       "      <th>thalach</th>\n",
       "      <th>exang</th>\n",
       "      <th>oldpeak</th>\n",
       "      <th>slope</th>\n",
       "      <th>ca</th>\n",
       "      <th>thal</th>\n",
       "      <th>target</th>\n",
       "    </tr>\n",
       "  </thead>\n",
       "  <tbody>\n",
       "    <tr>\n",
       "      <th>age</th>\n",
       "      <td>1.000</td>\n",
       "      <td>-0.095</td>\n",
       "      <td>-0.063</td>\n",
       "      <td>0.283</td>\n",
       "      <td>0.207</td>\n",
       "      <td>0.119</td>\n",
       "      <td>-0.112</td>\n",
       "      <td>-0.395</td>\n",
       "      <td>0.093</td>\n",
       "      <td>0.206</td>\n",
       "      <td>-0.164</td>\n",
       "      <td>0.302</td>\n",
       "      <td>0.065</td>\n",
       "      <td>-0.221</td>\n",
       "    </tr>\n",
       "    <tr>\n",
       "      <th>sex</th>\n",
       "      <td>-0.095</td>\n",
       "      <td>1.000</td>\n",
       "      <td>-0.052</td>\n",
       "      <td>-0.058</td>\n",
       "      <td>-0.196</td>\n",
       "      <td>0.046</td>\n",
       "      <td>-0.060</td>\n",
       "      <td>-0.046</td>\n",
       "      <td>0.143</td>\n",
       "      <td>0.098</td>\n",
       "      <td>-0.033</td>\n",
       "      <td>0.113</td>\n",
       "      <td>0.211</td>\n",
       "      <td>-0.284</td>\n",
       "    </tr>\n",
       "    <tr>\n",
       "      <th>cp</th>\n",
       "      <td>-0.063</td>\n",
       "      <td>-0.052</td>\n",
       "      <td>1.000</td>\n",
       "      <td>0.046</td>\n",
       "      <td>-0.073</td>\n",
       "      <td>0.096</td>\n",
       "      <td>0.042</td>\n",
       "      <td>0.293</td>\n",
       "      <td>-0.393</td>\n",
       "      <td>-0.147</td>\n",
       "      <td>0.117</td>\n",
       "      <td>-0.195</td>\n",
       "      <td>-0.160</td>\n",
       "      <td>0.432</td>\n",
       "    </tr>\n",
       "    <tr>\n",
       "      <th>trestbps</th>\n",
       "      <td>0.283</td>\n",
       "      <td>-0.058</td>\n",
       "      <td>0.046</td>\n",
       "      <td>1.000</td>\n",
       "      <td>0.125</td>\n",
       "      <td>0.178</td>\n",
       "      <td>-0.115</td>\n",
       "      <td>-0.048</td>\n",
       "      <td>0.069</td>\n",
       "      <td>0.195</td>\n",
       "      <td>-0.123</td>\n",
       "      <td>0.099</td>\n",
       "      <td>0.063</td>\n",
       "      <td>-0.146</td>\n",
       "    </tr>\n",
       "    <tr>\n",
       "      <th>chol</th>\n",
       "      <td>0.207</td>\n",
       "      <td>-0.196</td>\n",
       "      <td>-0.073</td>\n",
       "      <td>0.125</td>\n",
       "      <td>1.000</td>\n",
       "      <td>0.011</td>\n",
       "      <td>-0.148</td>\n",
       "      <td>-0.005</td>\n",
       "      <td>0.064</td>\n",
       "      <td>0.050</td>\n",
       "      <td>0.000</td>\n",
       "      <td>0.087</td>\n",
       "      <td>0.097</td>\n",
       "      <td>-0.081</td>\n",
       "    </tr>\n",
       "    <tr>\n",
       "      <th>fbs</th>\n",
       "      <td>0.119</td>\n",
       "      <td>0.046</td>\n",
       "      <td>0.096</td>\n",
       "      <td>0.178</td>\n",
       "      <td>0.011</td>\n",
       "      <td>1.000</td>\n",
       "      <td>-0.083</td>\n",
       "      <td>-0.007</td>\n",
       "      <td>0.025</td>\n",
       "      <td>0.005</td>\n",
       "      <td>-0.059</td>\n",
       "      <td>0.145</td>\n",
       "      <td>-0.033</td>\n",
       "      <td>-0.027</td>\n",
       "    </tr>\n",
       "    <tr>\n",
       "      <th>restecg</th>\n",
       "      <td>-0.112</td>\n",
       "      <td>-0.060</td>\n",
       "      <td>0.042</td>\n",
       "      <td>-0.115</td>\n",
       "      <td>-0.148</td>\n",
       "      <td>-0.083</td>\n",
       "      <td>1.000</td>\n",
       "      <td>0.041</td>\n",
       "      <td>-0.069</td>\n",
       "      <td>-0.056</td>\n",
       "      <td>0.090</td>\n",
       "      <td>-0.083</td>\n",
       "      <td>-0.010</td>\n",
       "      <td>0.135</td>\n",
       "    </tr>\n",
       "    <tr>\n",
       "      <th>thalach</th>\n",
       "      <td>-0.395</td>\n",
       "      <td>-0.046</td>\n",
       "      <td>0.293</td>\n",
       "      <td>-0.048</td>\n",
       "      <td>-0.005</td>\n",
       "      <td>-0.007</td>\n",
       "      <td>0.041</td>\n",
       "      <td>1.000</td>\n",
       "      <td>-0.377</td>\n",
       "      <td>-0.342</td>\n",
       "      <td>0.385</td>\n",
       "      <td>-0.228</td>\n",
       "      <td>-0.095</td>\n",
       "      <td>0.420</td>\n",
       "    </tr>\n",
       "    <tr>\n",
       "      <th>exang</th>\n",
       "      <td>0.093</td>\n",
       "      <td>0.143</td>\n",
       "      <td>-0.393</td>\n",
       "      <td>0.069</td>\n",
       "      <td>0.064</td>\n",
       "      <td>0.025</td>\n",
       "      <td>-0.069</td>\n",
       "      <td>-0.377</td>\n",
       "      <td>1.000</td>\n",
       "      <td>0.287</td>\n",
       "      <td>-0.256</td>\n",
       "      <td>0.125</td>\n",
       "      <td>0.206</td>\n",
       "      <td>-0.436</td>\n",
       "    </tr>\n",
       "    <tr>\n",
       "      <th>oldpeak</th>\n",
       "      <td>0.206</td>\n",
       "      <td>0.098</td>\n",
       "      <td>-0.147</td>\n",
       "      <td>0.195</td>\n",
       "      <td>0.050</td>\n",
       "      <td>0.005</td>\n",
       "      <td>-0.056</td>\n",
       "      <td>-0.342</td>\n",
       "      <td>0.287</td>\n",
       "      <td>1.000</td>\n",
       "      <td>-0.576</td>\n",
       "      <td>0.237</td>\n",
       "      <td>0.209</td>\n",
       "      <td>-0.429</td>\n",
       "    </tr>\n",
       "    <tr>\n",
       "      <th>slope</th>\n",
       "      <td>-0.164</td>\n",
       "      <td>-0.033</td>\n",
       "      <td>0.117</td>\n",
       "      <td>-0.123</td>\n",
       "      <td>0.000</td>\n",
       "      <td>-0.059</td>\n",
       "      <td>0.090</td>\n",
       "      <td>0.385</td>\n",
       "      <td>-0.256</td>\n",
       "      <td>-0.576</td>\n",
       "      <td>1.000</td>\n",
       "      <td>-0.092</td>\n",
       "      <td>-0.103</td>\n",
       "      <td>0.344</td>\n",
       "    </tr>\n",
       "    <tr>\n",
       "      <th>ca</th>\n",
       "      <td>0.302</td>\n",
       "      <td>0.113</td>\n",
       "      <td>-0.195</td>\n",
       "      <td>0.099</td>\n",
       "      <td>0.087</td>\n",
       "      <td>0.145</td>\n",
       "      <td>-0.083</td>\n",
       "      <td>-0.228</td>\n",
       "      <td>0.125</td>\n",
       "      <td>0.237</td>\n",
       "      <td>-0.092</td>\n",
       "      <td>1.000</td>\n",
       "      <td>0.160</td>\n",
       "      <td>-0.409</td>\n",
       "    </tr>\n",
       "    <tr>\n",
       "      <th>thal</th>\n",
       "      <td>0.065</td>\n",
       "      <td>0.211</td>\n",
       "      <td>-0.160</td>\n",
       "      <td>0.063</td>\n",
       "      <td>0.097</td>\n",
       "      <td>-0.033</td>\n",
       "      <td>-0.010</td>\n",
       "      <td>-0.095</td>\n",
       "      <td>0.206</td>\n",
       "      <td>0.209</td>\n",
       "      <td>-0.103</td>\n",
       "      <td>0.160</td>\n",
       "      <td>1.000</td>\n",
       "      <td>-0.343</td>\n",
       "    </tr>\n",
       "    <tr>\n",
       "      <th>target</th>\n",
       "      <td>-0.221</td>\n",
       "      <td>-0.284</td>\n",
       "      <td>0.432</td>\n",
       "      <td>-0.146</td>\n",
       "      <td>-0.081</td>\n",
       "      <td>-0.027</td>\n",
       "      <td>0.135</td>\n",
       "      <td>0.420</td>\n",
       "      <td>-0.436</td>\n",
       "      <td>-0.429</td>\n",
       "      <td>0.344</td>\n",
       "      <td>-0.409</td>\n",
       "      <td>-0.343</td>\n",
       "      <td>1.000</td>\n",
       "    </tr>\n",
       "  </tbody>\n",
       "</table>\n",
       "</div>"
      ],
      "text/plain": [
       "            age    sex     cp  trestbps   chol    fbs  restecg  thalach  \\\n",
       "age       1.000 -0.095 -0.063     0.283  0.207  0.119   -0.112   -0.395   \n",
       "sex      -0.095  1.000 -0.052    -0.058 -0.196  0.046   -0.060   -0.046   \n",
       "cp       -0.063 -0.052  1.000     0.046 -0.073  0.096    0.042    0.293   \n",
       "trestbps  0.283 -0.058  0.046     1.000  0.125  0.178   -0.115   -0.048   \n",
       "chol      0.207 -0.196 -0.073     0.125  1.000  0.011   -0.148   -0.005   \n",
       "fbs       0.119  0.046  0.096     0.178  0.011  1.000   -0.083   -0.007   \n",
       "restecg  -0.112 -0.060  0.042    -0.115 -0.148 -0.083    1.000    0.041   \n",
       "thalach  -0.395 -0.046  0.293    -0.048 -0.005 -0.007    0.041    1.000   \n",
       "exang     0.093  0.143 -0.393     0.069  0.064  0.025   -0.069   -0.377   \n",
       "oldpeak   0.206  0.098 -0.147     0.195  0.050  0.005   -0.056   -0.342   \n",
       "slope    -0.164 -0.033  0.117    -0.123  0.000 -0.059    0.090    0.385   \n",
       "ca        0.302  0.113 -0.195     0.099  0.087  0.145   -0.083   -0.228   \n",
       "thal      0.065  0.211 -0.160     0.063  0.097 -0.033   -0.010   -0.095   \n",
       "target   -0.221 -0.284  0.432    -0.146 -0.081 -0.027    0.135    0.420   \n",
       "\n",
       "          exang  oldpeak  slope     ca   thal  target  \n",
       "age       0.093    0.206 -0.164  0.302  0.065  -0.221  \n",
       "sex       0.143    0.098 -0.033  0.113  0.211  -0.284  \n",
       "cp       -0.393   -0.147  0.117 -0.195 -0.160   0.432  \n",
       "trestbps  0.069    0.195 -0.123  0.099  0.063  -0.146  \n",
       "chol      0.064    0.050  0.000  0.087  0.097  -0.081  \n",
       "fbs       0.025    0.005 -0.059  0.145 -0.033  -0.027  \n",
       "restecg  -0.069   -0.056  0.090 -0.083 -0.010   0.135  \n",
       "thalach  -0.377   -0.342  0.385 -0.228 -0.095   0.420  \n",
       "exang     1.000    0.287 -0.256  0.125  0.206  -0.436  \n",
       "oldpeak   0.287    1.000 -0.576  0.237  0.209  -0.429  \n",
       "slope    -0.256   -0.576  1.000 -0.092 -0.103   0.344  \n",
       "ca        0.125    0.237 -0.092  1.000  0.160  -0.409  \n",
       "thal      0.206    0.209 -0.103  0.160  1.000  -0.343  \n",
       "target   -0.436   -0.429  0.344 -0.409 -0.343   1.000  "
      ]
     },
     "execution_count": 15,
     "metadata": {},
     "output_type": "execute_result"
    }
   ],
   "source": [
    "# Let's check corr.\n",
    "df.corr()"
   ]
  },
  {
   "cell_type": "code",
   "execution_count": 16,
   "id": "76e1e62d",
   "metadata": {},
   "outputs": [
    {
     "data": {
      "image/png": "[encoded data removed]",
      "text/plain": [
       "<Figure size 1152x576 with 2 Axes>"
      ]
     },
     "metadata": {
      "needs_background": "light"
     },
     "output_type": "display_data"
    }
   ],
   "source": [
    "# make it more visiual\n",
    "plt.figure(figsize=(16,8))\n",
    "sns.heatmap(df.corr(),annot = True);"
   ]
  },
  {
   "cell_type": "code",
   "execution_count": 17,
   "id": "87911c32",
   "metadata": {},
   "outputs": [
    {
     "data": {
      "text/plain": [
       "<AxesSubplot:>"
      ]
     },
     "execution_count": 17,
     "metadata": {},
     "output_type": "execute_result"
    },
    {
     "data": {
      "image/png": "[encoded data removed]",
      "text/plain": [
       "<Figure size 720x432 with 1 Axes>"
      ]
     },
     "metadata": {
      "needs_background": "light"
     },
     "output_type": "display_data"
    }
   ],
   "source": [
    "# realations of each columns with target\n",
    "df.corr()['target'].drop('target').plot.barh()"
   ]
  },
  {
   "cell_type": "markdown",
   "id": "9XRYs7_ZwvG1",
   "metadata": {
    "id": "9XRYs7_ZwvG1"
   },
   "source": [
    "# Data Preprocessing"
   ]
  },
  {
   "cell_type": "code",
   "execution_count": 18,
   "id": "bf46aaed",
   "metadata": {},
   "outputs": [],
   "source": [
    "from sklearn.preprocessing import MinMaxScaler,StandardScaler,RobustScaler\n",
    "from sklearn.model_selection import train_test_split"
   ]
  },
  {
   "cell_type": "code",
   "execution_count": 19,
   "id": "5d5dc755-7e67-4ee7-9706-a21c1bd6ff09",
   "metadata": {
    "id": "5d5dc755-7e67-4ee7-9706-a21c1bd6ff09"
   },
   "outputs": [],
   "source": [
    "# Specify target and features\n",
    "X = df.drop('target', axis =1)\n",
    "y = df['target']"
   ]
  },
  {
   "cell_type": "code",
   "execution_count": 156,
   "id": "3fff0669",
   "metadata": {},
   "outputs": [],
   "source": [
    "X_train, X_test, y_train, y_test = train_test_split(X, y, test_size = .105, random_state = 101)"
   ]
  },
  {
   "cell_type": "code",
   "execution_count": 157,
   "id": "56183f15",
   "metadata": {},
   "outputs": [],
   "source": [
    "scaler = StandardScaler()"
   ]
  },
  {
   "cell_type": "code",
   "execution_count": 158,
   "id": "e6171ffb",
   "metadata": {},
   "outputs": [],
   "source": [
    "X_train_scaled = scaler.fit_transform(X_train)\n",
    "X_test_scaled = scaler.transform(X_test)"
   ]
  },
  {
   "cell_type": "markdown",
   "id": "jeBjgfDiw6uJ",
   "metadata": {
    "id": "jeBjgfDiw6uJ"
   },
   "source": [
    "# Implement Logistic Regression and Evaluate"
   ]
  },
  {
   "cell_type": "code",
   "execution_count": 159,
   "id": "f7f6864d-dfad-433b-a2a5-fd7e92865fd0",
   "metadata": {
    "id": "f7f6864d-dfad-433b-a2a5-fd7e92865fd0"
   },
   "outputs": [],
   "source": [
    "from sklearn.linear_model import LogisticRegression\n",
    "from sklearn.model_selection import GridSearchCV\n",
    "from sklearn.metrics import accuracy_score, confusion_matrix, classification_report, plot_confusion_matrix"
   ]
  },
  {
   "cell_type": "markdown",
   "id": "f47c85e0",
   "metadata": {},
   "source": [
    "- ***Default parameters***"
   ]
  },
  {
   "cell_type": "code",
   "execution_count": 160,
   "id": "93ab861b",
   "metadata": {},
   "outputs": [],
   "source": [
    "log_model = LogisticRegression()"
   ]
  },
  {
   "cell_type": "code",
   "execution_count": 161,
   "id": "1ed0a9bf",
   "metadata": {},
   "outputs": [],
   "source": [
    "log_model.fit(X_train_scaled,y_train)\n",
    "y_pred = log_model.predict(X_test_scaled)\n",
    "# y_pred"
   ]
  },
  {
   "cell_type": "code",
   "execution_count": 162,
   "id": "be97f78f",
   "metadata": {},
   "outputs": [],
   "source": [
    "y_pred_proba = log_model.predict_proba(X_test_scaled)\n",
    "# y_pred_proba"
   ]
  },
  {
   "cell_type": "code",
   "execution_count": 163,
   "id": "982e2c63",
   "metadata": {},
   "outputs": [
    {
     "data": {
      "text/plain": [
       "<sklearn.metrics._plot.confusion_matrix.ConfusionMatrixDisplay at 0x18fead8e8e0>"
      ]
     },
     "execution_count": 163,
     "metadata": {},
     "output_type": "execute_result"
    },
    {
     "data": {
      "image/png": "[encoded data removed]",
      "text/plain": [
       "<Figure size 720x432 with 2 Axes>"
      ]
     },
     "metadata": {
      "needs_background": "light"
     },
     "output_type": "display_data"
    }
   ],
   "source": [
    "plot_confusion_matrix(log_model, X_test_scaled, y_test)"
   ]
  },
  {
   "cell_type": "code",
   "execution_count": 164,
   "id": "418b3aa0",
   "metadata": {},
   "outputs": [
    {
     "name": "stdout",
     "output_type": "stream",
     "text": [
      "[[12  2]\n",
      " [ 1 17]]\n",
      "              precision    recall  f1-score   support\n",
      "\n",
      "           0       0.92      0.86      0.89        14\n",
      "           1       0.89      0.94      0.92        18\n",
      "\n",
      "    accuracy                           0.91        32\n",
      "   macro avg       0.91      0.90      0.90        32\n",
      "weighted avg       0.91      0.91      0.91        32\n",
      "\n"
     ]
    }
   ],
   "source": [
    "print(confusion_matrix(y_test, y_pred))\n",
    "print(classification_report(y_test, y_pred))"
   ]
  },
  {
   "cell_type": "markdown",
   "id": "d6d77676",
   "metadata": {},
   "source": [
    "- ***Let's check with cross Validate***"
   ]
  },
  {
   "cell_type": "code",
   "execution_count": 165,
   "id": "66d0044e",
   "metadata": {},
   "outputs": [],
   "source": [
    "from sklearn.model_selection import cross_validate"
   ]
  },
  {
   "cell_type": "code",
   "execution_count": 166,
   "id": "d24d225b",
   "metadata": {},
   "outputs": [
    {
     "data": {
      "text/plain": [
       "test_accuracy             0.819\n",
       "test_precision_weighted   0.824\n",
       "test_recall_weighted      0.819\n",
       "test_f1_weighted          0.818\n",
       "dtype: float64"
      ]
     },
     "execution_count": 166,
     "metadata": {},
     "output_type": "execute_result"
    }
   ],
   "source": [
    "model = LogisticRegression()\n",
    "\n",
    "scores = cross_validate(model, X_train_scaled, y_train, scoring = ['accuracy', 'precision_weighted','recall_weighted',\n",
    "                                                                   'f1_weighted'], cv = 10)\n",
    "df_scores = pd.DataFrame(scores, index = range(1, 11))\n",
    "df_scores.mean()[2:]"
   ]
  },
  {
   "cell_type": "markdown",
   "id": "cbb659f5",
   "metadata": {},
   "source": [
    "The results of cross validate is for only label 1. And it's normal to be little bit smaller than above. Now let's find with best parameters by usiing **GridSearch**"
   ]
  },
  {
   "cell_type": "markdown",
   "id": "6eb61afc",
   "metadata": {},
   "source": [
    "- **Best Parameters By Using GridSearchCV***"
   ]
  },
  {
   "cell_type": "code",
   "execution_count": 167,
   "id": "66822088",
   "metadata": {},
   "outputs": [],
   "source": [
    "log_model = LogisticRegression(solver='saga',multi_class=\"ovr\",max_iter=5000)\n",
    "# solver olarak gridsearch de tüm penaltı değerlerini kullanmak adına saga seçtik.\n",
    "# ovr auto olabilirdi. Görmek için seçildi. auto seçersek multinominal seçer ve bütün hepsini bu datasette bilir.\n",
    "# modelimde daha grid search yapmadan bile hyperparametreleri girdim.\n",
    "# başlangıç için bazı hyperparametrelerimiz değiştirdik. Başlangıç olarak bunlarla çalışmak istedik."
   ]
  },
  {
   "cell_type": "code",
   "execution_count": 168,
   "id": "4c36301a",
   "metadata": {},
   "outputs": [],
   "source": [
    "penalty = [\"l1\", \"l2\", \"elasticnet\", \"none\"]\n",
    "l1_ratio = np.linspace(0, 1, 20)  # l1_ratio'nun 0 la 1 arasında 20 tane eşit ara değer almasını istiyorum, 0 ve 1 de dahil.\n",
    "C = np.logspace(0, 10, 20)       # C değerleri için 0 la 10 arasında 20 tane logaritmik değer almasını istiyorum.\n",
    "\n",
    "param_grid = {\"penalty\" : penalty,\n",
    "             \"l1_ratio\" : l1_ratio,\n",
    "             \"C\" : C}\n",
    "\n",
    "# param_grid değişkenine GridSearchCV içinde hypterparametrelerin formatı nasıl ise aynı formatta parametreler tanımladım.\n",
    "# ki aşağıda GridSearchCV() içinde bu parametreleri kullanacağım."
   ]
  },
  {
   "cell_type": "code",
   "execution_count": 169,
   "id": "fff142ee",
   "metadata": {},
   "outputs": [],
   "source": [
    "grid_model = GridSearchCV(log_model, param_grid = param_grid)"
   ]
  },
  {
   "cell_type": "code",
   "execution_count": 170,
   "id": "ce1ad8f6",
   "metadata": {},
   "outputs": [
    {
     "data": {
      "text/plain": [
       "GridSearchCV(estimator=LogisticRegression(max_iter=5000, multi_class='ovr',\n",
       "                                          solver='saga'),\n",
       "             param_grid={'C': array([1.00000000e+00, 3.35981829e+00, 1.12883789e+01, 3.79269019e+01,\n",
       "       1.27427499e+02, 4.28133240e+02, 1.43844989e+03, 4.83293024e+03,\n",
       "       1.62377674e+04, 5.45559478e+04, 1.83298071e+05, 6.15848211e+05,\n",
       "       2.06913808e+06, 6.95192796e+06, 2.33572147e+07, 7.84759970e+07,\n",
       "       2.63665090e+08, 8.85866790e+08, 2.97635144e+09, 1.00000000e+10]),\n",
       "                         'l1_ratio': array([0.        , 0.05263158, 0.10526316, 0.15789474, 0.21052632,\n",
       "       0.26315789, 0.31578947, 0.36842105, 0.42105263, 0.47368421,\n",
       "       0.52631579, 0.57894737, 0.63157895, 0.68421053, 0.73684211,\n",
       "       0.78947368, 0.84210526, 0.89473684, 0.94736842, 1.        ]),\n",
       "                         'penalty': ['l1', 'l2', 'elasticnet', 'none']})"
      ]
     },
     "execution_count": 170,
     "metadata": {},
     "output_type": "execute_result"
    }
   ],
   "source": [
    "grid_model.fit(X_train_scaled,y_train)  # en iyi skor kombinasyonlarını verecek ve biz bet_params_ ile ona bakacağız."
   ]
  },
  {
   "cell_type": "code",
   "execution_count": 171,
   "id": "f5a54e12",
   "metadata": {},
   "outputs": [
    {
     "data": {
      "text/plain": [
       "{'C': 1.0, 'l1_ratio': 0.0, 'penalty': 'none'}"
      ]
     },
     "execution_count": 171,
     "metadata": {},
     "output_type": "execute_result"
    }
   ],
   "source": [
    "grid_model.best_params_"
   ]
  },
  {
   "cell_type": "code",
   "execution_count": 172,
   "id": "ea2864d2",
   "metadata": {},
   "outputs": [],
   "source": [
    "y_pred = grid_model.predict(X_test_scaled)"
   ]
  },
  {
   "cell_type": "code",
   "execution_count": 173,
   "id": "74b815a3",
   "metadata": {},
   "outputs": [
    {
     "data": {
      "text/plain": [
       "<sklearn.metrics._plot.confusion_matrix.ConfusionMatrixDisplay at 0x18fe9ada520>"
      ]
     },
     "execution_count": 173,
     "metadata": {},
     "output_type": "execute_result"
    },
    {
     "data": {
      "image/png": "[encoded data removed]",
      "text/plain": [
       "<Figure size 720x432 with 2 Axes>"
      ]
     },
     "metadata": {
      "needs_background": "light"
     },
     "output_type": "display_data"
    }
   ],
   "source": [
    "plot_confusion_matrix(grid_model, X_test_scaled, y_test)\n",
    "# log_model ile aynı sayılara sahip olduğunu gördüm. demek ki birşey değişmedi."
   ]
  },
  {
   "cell_type": "code",
   "execution_count": 174,
   "id": "db679d13",
   "metadata": {},
   "outputs": [
    {
     "name": "stdout",
     "output_type": "stream",
     "text": [
      "[[12  2]\n",
      " [ 1 17]]\n",
      "              precision    recall  f1-score   support\n",
      "\n",
      "           0       0.92      0.86      0.89        14\n",
      "           1       0.89      0.94      0.92        18\n",
      "\n",
      "    accuracy                           0.91        32\n",
      "   macro avg       0.91      0.90      0.90        32\n",
      "weighted avg       0.91      0.91      0.91        32\n",
      "\n"
     ]
    }
   ],
   "source": [
    "print(confusion_matrix(y_test, y_pred))\n",
    "print(classification_report(y_test, y_pred))"
   ]
  },
  {
   "cell_type": "code",
   "execution_count": 175,
   "id": "5c91a578",
   "metadata": {},
   "outputs": [],
   "source": [
    "from sklearn.metrics import plot_roc_curve, plot_precision_recall_curve, roc_auc_score, auc, roc_curve, average_precision_score, precision_recall_curve"
   ]
  },
  {
   "cell_type": "code",
   "execution_count": 176,
   "id": "fe50f96b",
   "metadata": {},
   "outputs": [
    {
     "data": {
      "image/png": "[encoded data removed]",
      "text/plain": [
       "<Figure size 720x432 with 1 Axes>"
      ]
     },
     "metadata": {
      "needs_background": "light"
     },
     "output_type": "display_data"
    }
   ],
   "source": [
    "plot_roc_curve(grid_model, X_test_scaled, y_test);"
   ]
  },
  {
   "cell_type": "code",
   "execution_count": 178,
   "id": "0cbfc904",
   "metadata": {},
   "outputs": [
    {
     "data": {
      "image/png": "[encoded data removed]",
      "text/plain": [
       "<Figure size 720x432 with 1 Axes>"
      ]
     },
     "metadata": {
      "needs_background": "light"
     },
     "output_type": "display_data"
    }
   ],
   "source": [
    "plot_roc_curve(grid_model, X_train_scaled, y_train);"
   ]
  },
  {
   "cell_type": "code",
   "execution_count": 177,
   "id": "f6ad832a",
   "metadata": {},
   "outputs": [
    {
     "data": {
      "image/png": "[encoded data removed]",
      "text/plain": [
       "<Figure size 720x432 with 1 Axes>"
      ]
     },
     "metadata": {
      "needs_background": "light"
     },
     "output_type": "display_data"
    }
   ],
   "source": [
    "plot_precision_recall_curve(grid_model, X_test_scaled, y_test);"
   ]
  },
  {
   "cell_type": "markdown",
   "id": "3cbd9567",
   "metadata": {},
   "source": [
    "**Conc. : Default parameters and best parameters are giving same results**"
   ]
  },
  {
   "cell_type": "markdown",
   "id": "uyHR7S4ExKCU",
   "metadata": {
    "id": "uyHR7S4ExKCU"
   },
   "source": [
    "# Implement KNN and Evaluate"
   ]
  },
  {
   "cell_type": "code",
   "execution_count": 181,
   "id": "612bff88-57f4-4d18-88bc-6fc7bb95735f",
   "metadata": {
    "id": "612bff88-57f4-4d18-88bc-6fc7bb95735f"
   },
   "outputs": [],
   "source": [
    "from sklearn.neighbors import KNeighborsClassifier"
   ]
  },
  {
   "cell_type": "code",
   "execution_count": 182,
   "id": "6ec97667",
   "metadata": {},
   "outputs": [],
   "source": [
    "knn_model = KNeighborsClassifier(n_neighbors=5) \n",
    "# default is 5."
   ]
  },
  {
   "cell_type": "code",
   "execution_count": 184,
   "id": "adc96c78",
   "metadata": {},
   "outputs": [
    {
     "data": {
      "text/plain": [
       "KNeighborsClassifier()"
      ]
     },
     "execution_count": 184,
     "metadata": {},
     "output_type": "execute_result"
    }
   ],
   "source": [
    "knn_model.fit(X_train_scaled,y_train)"
   ]
  },
  {
   "cell_type": "code",
   "execution_count": 186,
   "id": "ff99554e",
   "metadata": {},
   "outputs": [],
   "source": [
    "y_pred = knn_model.predict(X_test_scaled)"
   ]
  },
  {
   "cell_type": "code",
   "execution_count": 187,
   "id": "bde5e4a4",
   "metadata": {},
   "outputs": [],
   "source": [
    "y_pred_proba = knn_model.predict_proba(X_test_scaled)"
   ]
  },
  {
   "cell_type": "code",
   "execution_count": 188,
   "id": "5ac7455c",
   "metadata": {},
   "outputs": [
    {
     "data": {
      "text/html": [
       "<div>\n",
       "<style scoped>\n",
       "    .dataframe tbody tr th:only-of-type {\n",
       "        vertical-align: middle;\n",
       "    }\n",
       "\n",
       "    .dataframe tbody tr th {\n",
       "        vertical-align: top;\n",
       "    }\n",
       "\n",
       "    .dataframe thead th {\n",
       "        text-align: right;\n",
       "    }\n",
       "</style>\n",
       "<table border=\"1\" class=\"dataframe\">\n",
       "  <thead>\n",
       "    <tr style=\"text-align: right;\">\n",
       "      <th></th>\n",
       "      <th>Actual</th>\n",
       "      <th>Pred</th>\n",
       "      <th>Proba_1</th>\n",
       "      <th>Proba_0</th>\n",
       "    </tr>\n",
       "  </thead>\n",
       "  <tbody>\n",
       "    <tr>\n",
       "      <th>232</th>\n",
       "      <td>0</td>\n",
       "      <td>0</td>\n",
       "      <td>0.000</td>\n",
       "      <td>1.000</td>\n",
       "    </tr>\n",
       "    <tr>\n",
       "      <th>154</th>\n",
       "      <td>1</td>\n",
       "      <td>1</td>\n",
       "      <td>1.000</td>\n",
       "      <td>0.000</td>\n",
       "    </tr>\n",
       "    <tr>\n",
       "      <th>16</th>\n",
       "      <td>1</td>\n",
       "      <td>1</td>\n",
       "      <td>1.000</td>\n",
       "      <td>0.000</td>\n",
       "    </tr>\n",
       "    <tr>\n",
       "      <th>162</th>\n",
       "      <td>1</td>\n",
       "      <td>1</td>\n",
       "      <td>1.000</td>\n",
       "      <td>0.000</td>\n",
       "    </tr>\n",
       "    <tr>\n",
       "      <th>211</th>\n",
       "      <td>0</td>\n",
       "      <td>0</td>\n",
       "      <td>0.000</td>\n",
       "      <td>1.000</td>\n",
       "    </tr>\n",
       "    <tr>\n",
       "      <th>15</th>\n",
       "      <td>1</td>\n",
       "      <td>1</td>\n",
       "      <td>1.000</td>\n",
       "      <td>0.000</td>\n",
       "    </tr>\n",
       "    <tr>\n",
       "      <th>13</th>\n",
       "      <td>1</td>\n",
       "      <td>1</td>\n",
       "      <td>0.600</td>\n",
       "      <td>0.400</td>\n",
       "    </tr>\n",
       "    <tr>\n",
       "      <th>65</th>\n",
       "      <td>1</td>\n",
       "      <td>1</td>\n",
       "      <td>1.000</td>\n",
       "      <td>0.000</td>\n",
       "    </tr>\n",
       "    <tr>\n",
       "      <th>91</th>\n",
       "      <td>1</td>\n",
       "      <td>0</td>\n",
       "      <td>0.200</td>\n",
       "      <td>0.800</td>\n",
       "    </tr>\n",
       "    <tr>\n",
       "      <th>89</th>\n",
       "      <td>1</td>\n",
       "      <td>1</td>\n",
       "      <td>1.000</td>\n",
       "      <td>0.000</td>\n",
       "    </tr>\n",
       "  </tbody>\n",
       "</table>\n",
       "</div>"
      ],
      "text/plain": [
       "     Actual  Pred  Proba_1  Proba_0\n",
       "232       0     0    0.000    1.000\n",
       "154       1     1    1.000    0.000\n",
       "16        1     1    1.000    0.000\n",
       "162       1     1    1.000    0.000\n",
       "211       0     0    0.000    1.000\n",
       "15        1     1    1.000    0.000\n",
       "13        1     1    0.600    0.400\n",
       "65        1     1    1.000    0.000\n",
       "91        1     0    0.200    0.800\n",
       "89        1     1    1.000    0.000"
      ]
     },
     "execution_count": 188,
     "metadata": {},
     "output_type": "execute_result"
    }
   ],
   "source": [
    "my_dict = {\"Actual\": y_test, \"Pred\":y_pred, \"Proba_1\":y_pred_proba[:,1], \"Proba_0\":y_pred_proba[:,0]}\n",
    "pd.DataFrame.from_dict(my_dict).sample(10)"
   ]
  },
  {
   "cell_type": "markdown",
   "id": "e26c6ff6",
   "metadata": {},
   "source": [
    "- **Model performance**"
   ]
  },
  {
   "cell_type": "code",
   "execution_count": 189,
   "id": "4ec904bc",
   "metadata": {},
   "outputs": [],
   "source": [
    "from sklearn.metrics import confusion_matrix, classification_report, plot_confusion_matrix"
   ]
  },
  {
   "cell_type": "code",
   "execution_count": 192,
   "id": "6a6e4ffa",
   "metadata": {},
   "outputs": [
    {
     "data": {
      "image/png": "[encoded data removed]",
      "text/plain": [
       "<Figure size 720x432 with 2 Axes>"
      ]
     },
     "metadata": {
      "needs_background": "light"
     },
     "output_type": "display_data"
    }
   ],
   "source": [
    "plot_confusion_matrix(knn_model, X_test_scaled, y_test);"
   ]
  },
  {
   "cell_type": "code",
   "execution_count": 193,
   "id": "63eaeb1a",
   "metadata": {},
   "outputs": [
    {
     "name": "stdout",
     "output_type": "stream",
     "text": [
      "[[13  1]\n",
      " [ 3 15]]\n",
      "              precision    recall  f1-score   support\n",
      "\n",
      "           0       0.81      0.93      0.87        14\n",
      "           1       0.94      0.83      0.88        18\n",
      "\n",
      "    accuracy                           0.88        32\n",
      "   macro avg       0.88      0.88      0.87        32\n",
      "weighted avg       0.88      0.88      0.88        32\n",
      "\n"
     ]
    }
   ],
   "source": [
    "print(confusion_matrix(y_test, y_pred))\n",
    "print(classification_report(y_test, y_pred))"
   ]
  },
  {
   "cell_type": "markdown",
   "id": "3c7e416c",
   "metadata": {},
   "source": [
    "- **Elbow Method for Choosing Reasonable K Values**"
   ]
  },
  {
   "cell_type": "code",
   "execution_count": 194,
   "id": "3fb280b4",
   "metadata": {},
   "outputs": [],
   "source": [
    "from sklearn.metrics import accuracy_score, f1_score, recall_score, precision_score"
   ]
  },
  {
   "cell_type": "code",
   "execution_count": 197,
   "id": "5d76acba",
   "metadata": {},
   "outputs": [],
   "source": [
    "test_error_rates = []\n",
    "\n",
    "\n",
    "for k in range(1,30):\n",
    "    knn_model = KNeighborsClassifier(n_neighbors=k)\n",
    "    knn_model.fit(X_train_scaled,y_train) \n",
    "   \n",
    "    y_pred_test = knn_model.predict(X_test_scaled)\n",
    "    \n",
    "    test_error = 1 - accuracy_score(y_test,y_pred_test)\n",
    "    test_error_rates.append(test_error)"
   ]
  },
  {
   "cell_type": "code",
   "execution_count": 203,
   "id": "98c96b83",
   "metadata": {},
   "outputs": [
    {
     "data": {
      "image/png": "[encoded data removed]",
      "text/plain": [
       "<Figure size 1080x576 with 1 Axes>"
      ]
     },
     "metadata": {
      "needs_background": "light"
     },
     "output_type": "display_data"
    }
   ],
   "source": [
    "plt.figure(figsize=(15,8))\n",
    "plt.plot(range(1,30), test_error_rates, color='blue', linestyle='--', marker='o',\n",
    "         markerfacecolor='red', markersize=10)\n",
    "plt.title('Error Rate vs. K Value')\n",
    "plt.xlabel('K_values')\n",
    "plt.ylabel('Error Rate')\n",
    "plt.hlines(y=0.062, xmin = 0, xmax = 30, colors= 'r', linestyles=\"--\")\n",
    "plt.hlines(y=0.0935, xmin = 0, xmax = 30, colors= 'r', linestyles=\"--\");\n",
    "\n",
    "# x değeri olarak 1 den 30 kadar range yaptım. y olarak da test error rates leri atadım.\n",
    "\n",
    "# amacım minimum error skorunu veren k sayısını bulmak.\n",
    "\n",
    "# genel amacımız minimum kompleksiti ile maksimum verimi almaktı. o yüzden k sayısını optimum olarak belirlemeliyim"
   ]
  },
  {
   "cell_type": "markdown",
   "id": "f99c6fed",
   "metadata": {},
   "source": [
    "- 0.0935 hata demek %91 accuracy demek. 0.062 hata ise %94 accuracy demek. sorulacak soru şu. %3 bir fark için modelimin kompleksitisini arttırmaya değer mi? \n",
    "\n",
    "- Kabul edilebilir hata miktarına karşılık gelen minimum komşu sayısını belirlemem lazım.\n",
    "\n",
    "- Elbow metoduna göre kabul edilebilir hata miktarına göre minimum k sayısını belirlemek.\n",
    "- 0.09 çizgisindeki ilk kırmızı nokta 23. k oluyor. ikinci nokta 24. k sayısıdır. 0.06 çizgisindeki k sayısı ise 26 dir. ben burda 23 u tercih edebilirim. "
   ]
  },
  {
   "cell_type": "markdown",
   "id": "f04db338",
   "metadata": {},
   "source": [
    "- **Scores by Various K Values**"
   ]
  },
  {
   "cell_type": "code",
   "execution_count": 225,
   "id": "b9af7536",
   "metadata": {},
   "outputs": [
    {
     "name": "stdout",
     "output_type": "stream",
     "text": [
      "WITH K=2\n",
      "\n",
      "\n",
      "[[14  0]\n",
      " [ 4 14]]\n",
      "\n",
      "\n",
      "              precision    recall  f1-score   support\n",
      "\n",
      "           0       0.78      1.00      0.88        14\n",
      "           1       1.00      0.78      0.88        18\n",
      "\n",
      "    accuracy                           0.88        32\n",
      "   macro avg       0.89      0.89      0.88        32\n",
      "weighted avg       0.90      0.88      0.88        32\n",
      "\n"
     ]
    }
   ],
   "source": [
    "# K=2\n",
    "knn = KNeighborsClassifier(n_neighbors=2)\n",
    "\n",
    "knn.fit(X_train_scaled,y_train)\n",
    "pred = knn.predict(X_test_scaled)\n",
    "\n",
    "print('WITH K=2')\n",
    "print('\\n')\n",
    "print(confusion_matrix(y_test, pred))\n",
    "print('\\n')\n",
    "print(classification_report(y_test, pred))"
   ]
  },
  {
   "cell_type": "code",
   "execution_count": 223,
   "id": "0a932c56",
   "metadata": {},
   "outputs": [
    {
     "name": "stdout",
     "output_type": "stream",
     "text": [
      "WITH DEFAULT K=5\n",
      "\n",
      "\n",
      "[[13  1]\n",
      " [ 3 15]]\n",
      "\n",
      "\n",
      "              precision    recall  f1-score   support\n",
      "\n",
      "           0       0.81      0.93      0.87        14\n",
      "           1       0.94      0.83      0.88        18\n",
      "\n",
      "    accuracy                           0.88        32\n",
      "   macro avg       0.88      0.88      0.87        32\n",
      "weighted avg       0.88      0.88      0.88        32\n",
      "\n"
     ]
    }
   ],
   "source": [
    "# Default K=5\n",
    "knn = KNeighborsClassifier(n_neighbors=5)\n",
    "\n",
    "knn.fit(X_train_scaled,y_train)\n",
    "pred = knn.predict(X_test_scaled)\n",
    "\n",
    "print('WITH DEFAULT K=5')\n",
    "print('\\n')\n",
    "print(confusion_matrix(y_test, pred))\n",
    "print('\\n')\n",
    "print(classification_report(y_test, pred))"
   ]
  },
  {
   "cell_type": "code",
   "execution_count": 213,
   "id": "6331e156",
   "metadata": {},
   "outputs": [
    {
     "name": "stdout",
     "output_type": "stream",
     "text": [
      "WITH K=23\n",
      "\n",
      "\n",
      "[[11  3]\n",
      " [ 0 18]]\n",
      "\n",
      "\n",
      "              precision    recall  f1-score   support\n",
      "\n",
      "           0       1.00      0.79      0.88        14\n",
      "           1       0.86      1.00      0.92        18\n",
      "\n",
      "    accuracy                           0.91        32\n",
      "   macro avg       0.93      0.89      0.90        32\n",
      "weighted avg       0.92      0.91      0.90        32\n",
      "\n"
     ]
    }
   ],
   "source": [
    "# K=23\n",
    "knn = KNeighborsClassifier(n_neighbors=23)\n",
    "\n",
    "knn.fit(X_train_scaled,y_train)\n",
    "pred = knn.predict(X_test_scaled)\n",
    "\n",
    "print('WITH K=23')\n",
    "print('\\n')\n",
    "print(confusion_matrix(y_test, pred))\n",
    "print('\\n')\n",
    "print(classification_report(y_test, pred))"
   ]
  },
  {
   "cell_type": "markdown",
   "id": "8d3c90ea",
   "metadata": {},
   "source": [
    "- This is over fit"
   ]
  },
  {
   "cell_type": "code",
   "execution_count": 216,
   "id": "25d8071a",
   "metadata": {},
   "outputs": [
    {
     "name": "stdout",
     "output_type": "stream",
     "text": [
      "WITH K=26\n",
      "\n",
      "\n",
      "[[12  2]\n",
      " [ 0 18]]\n",
      "\n",
      "\n",
      "              precision    recall  f1-score   support\n",
      "\n",
      "           0       1.00      0.86      0.92        14\n",
      "           1       0.90      1.00      0.95        18\n",
      "\n",
      "    accuracy                           0.94        32\n",
      "   macro avg       0.95      0.93      0.94        32\n",
      "weighted avg       0.94      0.94      0.94        32\n",
      "\n"
     ]
    }
   ],
   "source": [
    "# K=26\n",
    "knn = KNeighborsClassifier(n_neighbors=26)\n",
    "\n",
    "knn.fit(X_train_scaled,y_train)\n",
    "pred = knn.predict(X_test_scaled)\n",
    "\n",
    "print('WITH K=26')\n",
    "print('\\n')\n",
    "print(confusion_matrix(y_test, pred))\n",
    "print('\\n')\n",
    "print(classification_report(y_test, pred))"
   ]
  },
  {
   "cell_type": "markdown",
   "id": "8db6b568",
   "metadata": {},
   "source": [
    "* This is over fit"
   ]
  },
  {
   "cell_type": "markdown",
   "id": "b5a65b15",
   "metadata": {},
   "source": [
    "- **Cross Validate For 23 AS K Value**"
   ]
  },
  {
   "cell_type": "code",
   "execution_count": 217,
   "id": "c9df668d",
   "metadata": {},
   "outputs": [],
   "source": [
    "from sklearn.model_selection import cross_val_score, cross_validate"
   ]
  },
  {
   "cell_type": "code",
   "execution_count": 228,
   "id": "5d845c94",
   "metadata": {},
   "outputs": [],
   "source": [
    "model = KNeighborsClassifier(n_neighbors=23)\n",
    "\n",
    "scores = cross_validate(model, X_train_scaled, y_train, scoring = ['accuracy', 'precision','recall',\n",
    "                                                                   'f1'], cv = 10)\n",
    "df_scores = pd.DataFrame(scores, index = range(1, 11))"
   ]
  },
  {
   "cell_type": "code",
   "execution_count": 229,
   "id": "09e37a20",
   "metadata": {},
   "outputs": [
    {
     "data": {
      "text/plain": [
       "test_accuracy    0.826\n",
       "test_precision   0.795\n",
       "test_recall      0.925\n",
       "test_f1          0.853\n",
       "dtype: float64"
      ]
     },
     "execution_count": 229,
     "metadata": {},
     "output_type": "execute_result"
    }
   ],
   "source": [
    "df_scores.mean()[2:]"
   ]
  },
  {
   "cell_type": "markdown",
   "id": "7588be3d",
   "metadata": {},
   "source": [
    "- **Gridsearch Method for Choosing Reasonable K Values**"
   ]
  },
  {
   "cell_type": "code",
   "execution_count": 230,
   "id": "6a5762c3",
   "metadata": {},
   "outputs": [],
   "source": [
    "from sklearn.model_selection import GridSearchCV"
   ]
  },
  {
   "cell_type": "code",
   "execution_count": 231,
   "id": "08da2cea",
   "metadata": {},
   "outputs": [],
   "source": [
    "knn_grid = KNeighborsClassifier()\n",
    "\n",
    "# KNeighborsClassifier() fonksiyonundaki parametrelerden en önemlisi n_neighbors dur. bununla mutlaka oynamak gerekir.\n",
    "\n",
    "# p = 1 manhatten, p = 2 öklit. "
   ]
  },
  {
   "cell_type": "code",
   "execution_count": 232,
   "id": "c1c27add",
   "metadata": {},
   "outputs": [],
   "source": [
    "k_values= range(1,30)"
   ]
  },
  {
   "cell_type": "code",
   "execution_count": 233,
   "id": "72744f6d",
   "metadata": {},
   "outputs": [],
   "source": [
    "param_grid = {\"n_neighbors\":k_values, \"p\": [1,2], \"weights\": ['uniform', \"distance\"]}"
   ]
  },
  {
   "cell_type": "code",
   "execution_count": 234,
   "id": "9e762fe8",
   "metadata": {},
   "outputs": [],
   "source": [
    "knn_grid_model = GridSearchCV(knn_grid, param_grid, cv=10, scoring= 'accuracy')\n",
    "\n",
    "# datam dengeli olduğu için skor için accuracy ye bakıyorum.\n",
    "\n",
    "# girdiğim parametreleri 10 defa skorluyor ve en iyi parametreler hangileri ise bana onu döndürüyor."
   ]
  },
  {
   "cell_type": "code",
   "execution_count": 236,
   "id": "525092bb",
   "metadata": {},
   "outputs": [
    {
     "data": {
      "text/plain": [
       "GridSearchCV(cv=10, estimator=KNeighborsClassifier(),\n",
       "             param_grid={'n_neighbors': range(1, 30), 'p': [1, 2],\n",
       "                         'weights': ['uniform', 'distance']},\n",
       "             scoring='accuracy')"
      ]
     },
     "execution_count": 236,
     "metadata": {},
     "output_type": "execute_result"
    }
   ],
   "source": [
    "knn_grid_model.fit(X_train_scaled, y_train)"
   ]
  },
  {
   "cell_type": "code",
   "execution_count": 237,
   "id": "c5d89629",
   "metadata": {},
   "outputs": [
    {
     "data": {
      "text/plain": [
       "{'n_neighbors': 14, 'p': 1, 'weights': 'uniform'}"
      ]
     },
     "execution_count": 237,
     "metadata": {},
     "output_type": "execute_result"
    }
   ],
   "source": [
    "knn_grid_model.best_params_"
   ]
  },
  {
   "cell_type": "markdown",
   "id": "dee05352",
   "metadata": {},
   "source": [
    "GridSearchCV() en iyi parametreleri bana getiriyor ama hesaplama maliyetlerimi hesaba katmıyor. Bu değerlendirmeyi biz yapmalıyız ki  en küçük %'lik iyileştirme için modelimi çok komplex hale getirmesin."
   ]
  },
  {
   "cell_type": "markdown",
   "id": "c481e9db",
   "metadata": {},
   "source": [
    "- **K=14** This is my final choice. Because I checked with **gridsearchcv** --> **best params with cross validate**"
   ]
  },
  {
   "cell_type": "code",
   "execution_count": 239,
   "id": "1a475cef",
   "metadata": {},
   "outputs": [
    {
     "name": "stdout",
     "output_type": "stream",
     "text": [
      "WITH K=14\n",
      "\n",
      "\n",
      "[[13  1]\n",
      " [ 3 15]]\n",
      "\n",
      "\n",
      "              precision    recall  f1-score   support\n",
      "\n",
      "           0       0.81      0.93      0.87        14\n",
      "           1       0.94      0.83      0.88        18\n",
      "\n",
      "    accuracy                           0.88        32\n",
      "   macro avg       0.88      0.88      0.87        32\n",
      "weighted avg       0.88      0.88      0.88        32\n",
      "\n"
     ]
    }
   ],
   "source": [
    "# NOW WITH K=14\n",
    "knn = KNeighborsClassifier(n_neighbors=14, p =1)\n",
    "\n",
    "knn.fit(X_train_scaled,y_train)\n",
    "pred = knn.predict(X_test_scaled)\n",
    "\n",
    "print('WITH K=14')\n",
    "print('\\n')\n",
    "print(confusion_matrix(y_test, pred))\n",
    "print('\\n')\n",
    "print(classification_report(y_test, pred))"
   ]
  },
  {
   "cell_type": "code",
   "execution_count": 240,
   "id": "00942e25",
   "metadata": {},
   "outputs": [
    {
     "data": {
      "image/png": "[encoded data removed]",
      "text/plain": [
       "<Figure size 720x432 with 1 Axes>"
      ]
     },
     "metadata": {
      "needs_background": "light"
     },
     "output_type": "display_data"
    }
   ],
   "source": [
    "plot_roc_curve(knn_grid_model, X_test_scaled, y_test);"
   ]
  },
  {
   "cell_type": "code",
   "execution_count": 241,
   "id": "96fa64e7",
   "metadata": {},
   "outputs": [
    {
     "data": {
      "image/png": "[encoded data removed]",
      "text/plain": [
       "<Figure size 720x432 with 1 Axes>"
      ]
     },
     "metadata": {
      "needs_background": "light"
     },
     "output_type": "display_data"
    }
   ],
   "source": [
    "plot_precision_recall_curve(knn_grid_model, X_test_scaled, y_test);"
   ]
  },
  {
   "cell_type": "markdown",
   "id": "tWSsL9psxaR6",
   "metadata": {
    "id": "tWSsL9psxaR6"
   },
   "source": [
    "# Implement SVM and Evaluate"
   ]
  },
  {
   "cell_type": "markdown",
   "id": "87fb133e",
   "metadata": {},
   "source": [
    "- **At this model i will directly try to find best params**"
   ]
  },
  {
   "cell_type": "code",
   "execution_count": 291,
   "id": "d4f69871-a019-49ab-a082-9d5f6f7020c8",
   "metadata": {
    "id": "d4f69871-a019-49ab-a082-9d5f6f7020c8"
   },
   "outputs": [],
   "source": [
    "from sklearn.model_selection import GridSearchCV"
   ]
  },
  {
   "cell_type": "code",
   "execution_count": 292,
   "id": "324620c6",
   "metadata": {},
   "outputs": [],
   "source": [
    "param_grid = {'C': [0.1,1, 10, 100, 1000],\n",
    "              'gamma': [\"scale\", \"auto\", 1,0.1,0.01,0.001,0.0001],\n",
    "              'kernel': ['linear','rbf','sigmoid','poly'],\n",
    "              'degree':[1,2]}"
   ]
  },
  {
   "cell_type": "code",
   "execution_count": 293,
   "id": "5b2092cc",
   "metadata": {},
   "outputs": [],
   "source": [
    "model = SVC()\n",
    "svm_model_grid = GridSearchCV(model, param_grid, verbose=3, refit=True)"
   ]
  },
  {
   "cell_type": "code",
   "execution_count": 294,
   "id": "a32ec0c3",
   "metadata": {},
   "outputs": [
    {
     "name": "stdout",
     "output_type": "stream",
     "text": [
      "Fitting 5 folds for each of 280 candidates, totalling 1400 fits\n",
      "[CV 1/5] END ....C=0.1, degree=1, gamma=scale, kernel=linear; total time=   0.0s\n",
      "[CV 2/5] END ....C=0.1, degree=1, gamma=scale, kernel=linear; total time=   0.0s\n",
      "[CV 3/5] END ....C=0.1, degree=1, gamma=scale, kernel=linear; total time=   0.0s\n",
      "[CV 4/5] END ....C=0.1, degree=1, gamma=scale, kernel=linear; total time=   0.0s\n",
      "[CV 5/5] END ....C=0.1, degree=1, gamma=scale, kernel=linear; total time=   0.0s\n",
      "[CV 1/5] END .......C=0.1, degree=1, gamma=scale, kernel=rbf; total time=   0.0s\n",
      "[CV 2/5] END .......C=0.1, degree=1, gamma=scale, kernel=rbf; total time=   0.0s\n",
      "[CV 3/5] END .......C=0.1, degree=1, gamma=scale, kernel=rbf; total time=   0.0s\n",
      "[CV 4/5] END .......C=0.1, degree=1, gamma=scale, kernel=rbf; total time=   0.0s\n",
      "[CV 5/5] END .......C=0.1, degree=1, gamma=scale, kernel=rbf; total time=   0.0s\n",
      "[CV 1/5] END ...C=0.1, degree=1, gamma=scale, kernel=sigmoid; total time=   0.0s\n",
      "[CV 2/5] END ...C=0.1, degree=1, gamma=scale, kernel=sigmoid; total time=   0.0s\n",
      "[CV 3/5] END ...C=0.1, degree=1, gamma=scale, kernel=sigmoid; total time=   0.0s\n",
      "[CV 4/5] END ...C=0.1, degree=1, gamma=scale, kernel=sigmoid; total time=   0.0s\n",
      "[CV 5/5] END ...C=0.1, degree=1, gamma=scale, kernel=sigmoid; total time=   0.0s\n",
      "[CV 1/5] END ......C=0.1, degree=1, gamma=scale, kernel=poly; total time=   0.0s\n",
      "[CV 2/5] END ......C=0.1, degree=1, gamma=scale, kernel=poly; total time=   0.0s\n",
      "[CV 3/5] END ......C=0.1, degree=1, gamma=scale, kernel=poly; total time=   0.0s\n",
      "[CV 4/5] END ......C=0.1, degree=1, gamma=scale, kernel=poly; total time=   0.0s\n",
      "[CV 5/5] END ......C=0.1, degree=1, gamma=scale, kernel=poly; total time=   0.0s\n",
      "[CV 1/5] END .....C=0.1, degree=1, gamma=auto, kernel=linear; total time=   0.0s\n",
      "[CV 2/5] END .....C=0.1, degree=1, gamma=auto, kernel=linear; total time=   0.0s\n",
      "[CV 3/5] END .....C=0.1, degree=1, gamma=auto, kernel=linear; total time=   0.0s\n",
      "[CV 4/5] END .....C=0.1, degree=1, gamma=auto, kernel=linear; total time=   0.0s\n",
      "[CV 5/5] END .....C=0.1, degree=1, gamma=auto, kernel=linear; total time=   0.0s\n",
      "[CV 1/5] END ........C=0.1, degree=1, gamma=auto, kernel=rbf; total time=   0.0s\n",
      "[CV 2/5] END ........C=0.1, degree=1, gamma=auto, kernel=rbf; total time=   0.0s\n",
      "[CV 3/5] END ........C=0.1, degree=1, gamma=auto, kernel=rbf; total time=   0.0s\n",
      "[CV 4/5] END ........C=0.1, degree=1, gamma=auto, kernel=rbf; total time=   0.0s\n",
      "[CV 5/5] END ........C=0.1, degree=1, gamma=auto, kernel=rbf; total time=   0.0s\n",
      "[CV 1/5] END ....C=0.1, degree=1, gamma=auto, kernel=sigmoid; total time=   0.0s\n",
      "[CV 2/5] END ....C=0.1, degree=1, gamma=auto, kernel=sigmoid; total time=   0.0s\n",
      "[CV 3/5] END ....C=0.1, degree=1, gamma=auto, kernel=sigmoid; total time=   0.0s\n",
      "[CV 4/5] END ....C=0.1, degree=1, gamma=auto, kernel=sigmoid; total time=   0.0s\n",
      "[CV 5/5] END ....C=0.1, degree=1, gamma=auto, kernel=sigmoid; total time=   0.0s\n",
      "[CV 1/5] END .......C=0.1, degree=1, gamma=auto, kernel=poly; total time=   0.0s\n",
      "[CV 2/5] END .......C=0.1, degree=1, gamma=auto, kernel=poly; total time=   0.0s\n",
      "[CV 3/5] END .......C=0.1, degree=1, gamma=auto, kernel=poly; total time=   0.0s\n",
      "[CV 4/5] END .......C=0.1, degree=1, gamma=auto, kernel=poly; total time=   0.0s\n",
      "[CV 5/5] END .......C=0.1, degree=1, gamma=auto, kernel=poly; total time=   0.0s\n",
      "[CV 1/5] END ........C=0.1, degree=1, gamma=1, kernel=linear; total time=   0.0s\n",
      "[CV 2/5] END ........C=0.1, degree=1, gamma=1, kernel=linear; total time=   0.0s\n",
      "[CV 3/5] END ........C=0.1, degree=1, gamma=1, kernel=linear; total time=   0.0s\n",
      "[CV 4/5] END ........C=0.1, degree=1, gamma=1, kernel=linear; total time=   0.0s\n",
      "[CV 5/5] END ........C=0.1, degree=1, gamma=1, kernel=linear; total time=   0.0s\n",
      "[CV 1/5] END ...........C=0.1, degree=1, gamma=1, kernel=rbf; total time=   0.0s\n",
      "[CV 2/5] END ...........C=0.1, degree=1, gamma=1, kernel=rbf; total time=   0.0s\n",
      "[CV 3/5] END ...........C=0.1, degree=1, gamma=1, kernel=rbf; total time=   0.0s\n",
      "[CV 4/5] END ...........C=0.1, degree=1, gamma=1, kernel=rbf; total time=   0.0s\n",
      "[CV 5/5] END ...........C=0.1, degree=1, gamma=1, kernel=rbf; total time=   0.0s\n",
      "[CV 1/5] END .......C=0.1, degree=1, gamma=1, kernel=sigmoid; total time=   0.0s\n",
      "[CV 2/5] END .......C=0.1, degree=1, gamma=1, kernel=sigmoid; total time=   0.0s\n",
      "[CV 3/5] END .......C=0.1, degree=1, gamma=1, kernel=sigmoid; total time=   0.0s\n",
      "[CV 4/5] END .......C=0.1, degree=1, gamma=1, kernel=sigmoid; total time=   0.0s\n",
      "[CV 5/5] END .......C=0.1, degree=1, gamma=1, kernel=sigmoid; total time=   0.0s\n",
      "[CV 1/5] END ..........C=0.1, degree=1, gamma=1, kernel=poly; total time=   0.0s\n",
      "[CV 2/5] END ..........C=0.1, degree=1, gamma=1, kernel=poly; total time=   0.0s\n",
      "[CV 3/5] END ..........C=0.1, degree=1, gamma=1, kernel=poly; total time=   0.0s\n",
      "[CV 4/5] END ..........C=0.1, degree=1, gamma=1, kernel=poly; total time=   0.0s\n",
      "[CV 5/5] END ..........C=0.1, degree=1, gamma=1, kernel=poly; total time=   0.0s\n",
      "[CV 1/5] END ......C=0.1, degree=1, gamma=0.1, kernel=linear; total time=   0.0s\n",
      "[CV 2/5] END ......C=0.1, degree=1, gamma=0.1, kernel=linear; total time=   0.0s\n",
      "[CV 3/5] END ......C=0.1, degree=1, gamma=0.1, kernel=linear; total time=   0.0s\n",
      "[CV 4/5] END ......C=0.1, degree=1, gamma=0.1, kernel=linear; total time=   0.0s\n",
      "[CV 5/5] END ......C=0.1, degree=1, gamma=0.1, kernel=linear; total time=   0.0s\n",
      "[CV 1/5] END .........C=0.1, degree=1, gamma=0.1, kernel=rbf; total time=   0.0s\n",
      "[CV 2/5] END .........C=0.1, degree=1, gamma=0.1, kernel=rbf; total time=   0.0s\n",
      "[CV 3/5] END .........C=0.1, degree=1, gamma=0.1, kernel=rbf; total time=   0.0s\n",
      "[CV 4/5] END .........C=0.1, degree=1, gamma=0.1, kernel=rbf; total time=   0.0s\n",
      "[CV 5/5] END .........C=0.1, degree=1, gamma=0.1, kernel=rbf; total time=   0.0s\n",
      "[CV 1/5] END .....C=0.1, degree=1, gamma=0.1, kernel=sigmoid; total time=   0.0s\n",
      "[CV 2/5] END .....C=0.1, degree=1, gamma=0.1, kernel=sigmoid; total time=   0.0s\n",
      "[CV 3/5] END .....C=0.1, degree=1, gamma=0.1, kernel=sigmoid; total time=   0.0s\n",
      "[CV 4/5] END .....C=0.1, degree=1, gamma=0.1, kernel=sigmoid; total time=   0.0s\n",
      "[CV 5/5] END .....C=0.1, degree=1, gamma=0.1, kernel=sigmoid; total time=   0.0s\n",
      "[CV 1/5] END ........C=0.1, degree=1, gamma=0.1, kernel=poly; total time=   0.0s\n",
      "[CV 2/5] END ........C=0.1, degree=1, gamma=0.1, kernel=poly; total time=   0.0s\n",
      "[CV 3/5] END ........C=0.1, degree=1, gamma=0.1, kernel=poly; total time=   0.0s\n",
      "[CV 4/5] END ........C=0.1, degree=1, gamma=0.1, kernel=poly; total time=   0.0s\n",
      "[CV 5/5] END ........C=0.1, degree=1, gamma=0.1, kernel=poly; total time=   0.0s\n",
      "[CV 1/5] END .....C=0.1, degree=1, gamma=0.01, kernel=linear; total time=   0.0s\n",
      "[CV 2/5] END .....C=0.1, degree=1, gamma=0.01, kernel=linear; total time=   0.0s\n",
      "[CV 3/5] END .....C=0.1, degree=1, gamma=0.01, kernel=linear; total time=   0.0s\n",
      "[CV 4/5] END .....C=0.1, degree=1, gamma=0.01, kernel=linear; total time=   0.0s\n",
      "[CV 5/5] END .....C=0.1, degree=1, gamma=0.01, kernel=linear; total time=   0.0s\n",
      "[CV 1/5] END ........C=0.1, degree=1, gamma=0.01, kernel=rbf; total time=   0.0s\n",
      "[CV 2/5] END ........C=0.1, degree=1, gamma=0.01, kernel=rbf; total time=   0.0s\n",
      "[CV 3/5] END ........C=0.1, degree=1, gamma=0.01, kernel=rbf; total time=   0.0s\n",
      "[CV 4/5] END ........C=0.1, degree=1, gamma=0.01, kernel=rbf; total time=   0.0s\n",
      "[CV 5/5] END ........C=0.1, degree=1, gamma=0.01, kernel=rbf; total time=   0.0s\n",
      "[CV 1/5] END ....C=0.1, degree=1, gamma=0.01, kernel=sigmoid; total time=   0.0s\n",
      "[CV 2/5] END ....C=0.1, degree=1, gamma=0.01, kernel=sigmoid; total time=   0.0s\n",
      "[CV 3/5] END ....C=0.1, degree=1, gamma=0.01, kernel=sigmoid; total time=   0.0s\n",
      "[CV 4/5] END ....C=0.1, degree=1, gamma=0.01, kernel=sigmoid; total time=   0.0s\n",
      "[CV 5/5] END ....C=0.1, degree=1, gamma=0.01, kernel=sigmoid; total time=   0.0s\n",
      "[CV 1/5] END .......C=0.1, degree=1, gamma=0.01, kernel=poly; total time=   0.0s\n",
      "[CV 2/5] END .......C=0.1, degree=1, gamma=0.01, kernel=poly; total time=   0.0s\n",
      "[CV 3/5] END .......C=0.1, degree=1, gamma=0.01, kernel=poly; total time=   0.0s\n",
      "[CV 4/5] END .......C=0.1, degree=1, gamma=0.01, kernel=poly; total time=   0.0s\n",
      "[CV 5/5] END .......C=0.1, degree=1, gamma=0.01, kernel=poly; total time=   0.0s\n",
      "[CV 1/5] END ....C=0.1, degree=1, gamma=0.001, kernel=linear; total time=   0.0s\n",
      "[CV 2/5] END ....C=0.1, degree=1, gamma=0.001, kernel=linear; total time=   0.0s\n",
      "[CV 3/5] END ....C=0.1, degree=1, gamma=0.001, kernel=linear; total time=   0.0s\n",
      "[CV 4/5] END ....C=0.1, degree=1, gamma=0.001, kernel=linear; total time=   0.0s\n",
      "[CV 5/5] END ....C=0.1, degree=1, gamma=0.001, kernel=linear; total time=   0.0s\n",
      "[CV 1/5] END .......C=0.1, degree=1, gamma=0.001, kernel=rbf; total time=   0.0s\n",
      "[CV 2/5] END .......C=0.1, degree=1, gamma=0.001, kernel=rbf; total time=   0.0s\n",
      "[CV 3/5] END .......C=0.1, degree=1, gamma=0.001, kernel=rbf; total time=   0.0s\n",
      "[CV 4/5] END .......C=0.1, degree=1, gamma=0.001, kernel=rbf; total time=   0.0s\n",
      "[CV 5/5] END .......C=0.1, degree=1, gamma=0.001, kernel=rbf; total time=   0.0s\n",
      "[CV 1/5] END ...C=0.1, degree=1, gamma=0.001, kernel=sigmoid; total time=   0.0s\n",
      "[CV 2/5] END ...C=0.1, degree=1, gamma=0.001, kernel=sigmoid; total time=   0.0s\n",
      "[CV 3/5] END ...C=0.1, degree=1, gamma=0.001, kernel=sigmoid; total time=   0.0s\n"
     ]
    },
    {
     "name": "stdout",
     "output_type": "stream",
     "text": [
      "[CV 4/5] END ...C=0.1, degree=1, gamma=0.001, kernel=sigmoid; total time=   0.0s\n",
      "[CV 5/5] END ...C=0.1, degree=1, gamma=0.001, kernel=sigmoid; total time=   0.0s\n",
      "[CV 1/5] END ......C=0.1, degree=1, gamma=0.001, kernel=poly; total time=   0.0s\n",
      "[CV 2/5] END ......C=0.1, degree=1, gamma=0.001, kernel=poly; total time=   0.0s\n",
      "[CV 3/5] END ......C=0.1, degree=1, gamma=0.001, kernel=poly; total time=   0.0s\n",
      "[CV 4/5] END ......C=0.1, degree=1, gamma=0.001, kernel=poly; total time=   0.0s\n",
      "[CV 5/5] END ......C=0.1, degree=1, gamma=0.001, kernel=poly; total time=   0.0s\n",
      "[CV 1/5] END ...C=0.1, degree=1, gamma=0.0001, kernel=linear; total time=   0.0s\n",
      "[CV 2/5] END ...C=0.1, degree=1, gamma=0.0001, kernel=linear; total time=   0.0s\n",
      "[CV 3/5] END ...C=0.1, degree=1, gamma=0.0001, kernel=linear; total time=   0.0s\n",
      "[CV 4/5] END ...C=0.1, degree=1, gamma=0.0001, kernel=linear; total time=   0.0s\n",
      "[CV 5/5] END ...C=0.1, degree=1, gamma=0.0001, kernel=linear; total time=   0.0s\n",
      "[CV 1/5] END ......C=0.1, degree=1, gamma=0.0001, kernel=rbf; total time=   0.0s\n",
      "[CV 2/5] END ......C=0.1, degree=1, gamma=0.0001, kernel=rbf; total time=   0.0s\n",
      "[CV 3/5] END ......C=0.1, degree=1, gamma=0.0001, kernel=rbf; total time=   0.0s\n",
      "[CV 4/5] END ......C=0.1, degree=1, gamma=0.0001, kernel=rbf; total time=   0.0s\n",
      "[CV 5/5] END ......C=0.1, degree=1, gamma=0.0001, kernel=rbf; total time=   0.0s\n",
      "[CV 1/5] END ..C=0.1, degree=1, gamma=0.0001, kernel=sigmoid; total time=   0.0s\n",
      "[CV 2/5] END ..C=0.1, degree=1, gamma=0.0001, kernel=sigmoid; total time=   0.0s\n",
      "[CV 3/5] END ..C=0.1, degree=1, gamma=0.0001, kernel=sigmoid; total time=   0.0s\n",
      "[CV 4/5] END ..C=0.1, degree=1, gamma=0.0001, kernel=sigmoid; total time=   0.0s\n",
      "[CV 5/5] END ..C=0.1, degree=1, gamma=0.0001, kernel=sigmoid; total time=   0.0s\n",
      "[CV 1/5] END .....C=0.1, degree=1, gamma=0.0001, kernel=poly; total time=   0.0s\n",
      "[CV 2/5] END .....C=0.1, degree=1, gamma=0.0001, kernel=poly; total time=   0.0s\n",
      "[CV 3/5] END .....C=0.1, degree=1, gamma=0.0001, kernel=poly; total time=   0.0s\n",
      "[CV 4/5] END .....C=0.1, degree=1, gamma=0.0001, kernel=poly; total time=   0.0s\n",
      "[CV 5/5] END .....C=0.1, degree=1, gamma=0.0001, kernel=poly; total time=   0.0s\n",
      "[CV 1/5] END ....C=0.1, degree=2, gamma=scale, kernel=linear; total time=   0.0s\n",
      "[CV 2/5] END ....C=0.1, degree=2, gamma=scale, kernel=linear; total time=   0.0s\n",
      "[CV 3/5] END ....C=0.1, degree=2, gamma=scale, kernel=linear; total time=   0.0s\n",
      "[CV 4/5] END ....C=0.1, degree=2, gamma=scale, kernel=linear; total time=   0.0s\n",
      "[CV 5/5] END ....C=0.1, degree=2, gamma=scale, kernel=linear; total time=   0.0s\n",
      "[CV 1/5] END .......C=0.1, degree=2, gamma=scale, kernel=rbf; total time=   0.0s\n",
      "[CV 2/5] END .......C=0.1, degree=2, gamma=scale, kernel=rbf; total time=   0.0s\n",
      "[CV 3/5] END .......C=0.1, degree=2, gamma=scale, kernel=rbf; total time=   0.0s\n",
      "[CV 4/5] END .......C=0.1, degree=2, gamma=scale, kernel=rbf; total time=   0.0s\n",
      "[CV 5/5] END .......C=0.1, degree=2, gamma=scale, kernel=rbf; total time=   0.0s\n",
      "[CV 1/5] END ...C=0.1, degree=2, gamma=scale, kernel=sigmoid; total time=   0.0s\n",
      "[CV 2/5] END ...C=0.1, degree=2, gamma=scale, kernel=sigmoid; total time=   0.0s\n",
      "[CV 3/5] END ...C=0.1, degree=2, gamma=scale, kernel=sigmoid; total time=   0.0s\n",
      "[CV 4/5] END ...C=0.1, degree=2, gamma=scale, kernel=sigmoid; total time=   0.0s\n",
      "[CV 5/5] END ...C=0.1, degree=2, gamma=scale, kernel=sigmoid; total time=   0.0s\n",
      "[CV 1/5] END ......C=0.1, degree=2, gamma=scale, kernel=poly; total time=   0.0s\n",
      "[CV 2/5] END ......C=0.1, degree=2, gamma=scale, kernel=poly; total time=   0.0s\n",
      "[CV 3/5] END ......C=0.1, degree=2, gamma=scale, kernel=poly; total time=   0.0s\n",
      "[CV 4/5] END ......C=0.1, degree=2, gamma=scale, kernel=poly; total time=   0.0s\n",
      "[CV 5/5] END ......C=0.1, degree=2, gamma=scale, kernel=poly; total time=   0.0s\n",
      "[CV 1/5] END .....C=0.1, degree=2, gamma=auto, kernel=linear; total time=   0.0s\n",
      "[CV 2/5] END .....C=0.1, degree=2, gamma=auto, kernel=linear; total time=   0.0s\n",
      "[CV 3/5] END .....C=0.1, degree=2, gamma=auto, kernel=linear; total time=   0.0s\n",
      "[CV 4/5] END .....C=0.1, degree=2, gamma=auto, kernel=linear; total time=   0.0s\n",
      "[CV 5/5] END .....C=0.1, degree=2, gamma=auto, kernel=linear; total time=   0.0s\n",
      "[CV 1/5] END ........C=0.1, degree=2, gamma=auto, kernel=rbf; total time=   0.0s\n",
      "[CV 2/5] END ........C=0.1, degree=2, gamma=auto, kernel=rbf; total time=   0.0s\n",
      "[CV 3/5] END ........C=0.1, degree=2, gamma=auto, kernel=rbf; total time=   0.0s\n",
      "[CV 4/5] END ........C=0.1, degree=2, gamma=auto, kernel=rbf; total time=   0.0s\n",
      "[CV 5/5] END ........C=0.1, degree=2, gamma=auto, kernel=rbf; total time=   0.0s\n",
      "[CV 1/5] END ....C=0.1, degree=2, gamma=auto, kernel=sigmoid; total time=   0.0s\n",
      "[CV 2/5] END ....C=0.1, degree=2, gamma=auto, kernel=sigmoid; total time=   0.0s\n",
      "[CV 3/5] END ....C=0.1, degree=2, gamma=auto, kernel=sigmoid; total time=   0.0s\n",
      "[CV 4/5] END ....C=0.1, degree=2, gamma=auto, kernel=sigmoid; total time=   0.0s\n",
      "[CV 5/5] END ....C=0.1, degree=2, gamma=auto, kernel=sigmoid; total time=   0.0s\n",
      "[CV 1/5] END .......C=0.1, degree=2, gamma=auto, kernel=poly; total time=   0.0s\n",
      "[CV 2/5] END .......C=0.1, degree=2, gamma=auto, kernel=poly; total time=   0.0s\n",
      "[CV 3/5] END .......C=0.1, degree=2, gamma=auto, kernel=poly; total time=   0.0s\n",
      "[CV 4/5] END .......C=0.1, degree=2, gamma=auto, kernel=poly; total time=   0.0s\n",
      "[CV 5/5] END .......C=0.1, degree=2, gamma=auto, kernel=poly; total time=   0.0s\n",
      "[CV 1/5] END ........C=0.1, degree=2, gamma=1, kernel=linear; total time=   0.0s\n",
      "[CV 2/5] END ........C=0.1, degree=2, gamma=1, kernel=linear; total time=   0.0s\n",
      "[CV 3/5] END ........C=0.1, degree=2, gamma=1, kernel=linear; total time=   0.0s\n",
      "[CV 4/5] END ........C=0.1, degree=2, gamma=1, kernel=linear; total time=   0.0s\n",
      "[CV 5/5] END ........C=0.1, degree=2, gamma=1, kernel=linear; total time=   0.0s\n",
      "[CV 1/5] END ...........C=0.1, degree=2, gamma=1, kernel=rbf; total time=   0.0s\n",
      "[CV 2/5] END ...........C=0.1, degree=2, gamma=1, kernel=rbf; total time=   0.0s\n",
      "[CV 3/5] END ...........C=0.1, degree=2, gamma=1, kernel=rbf; total time=   0.0s\n",
      "[CV 4/5] END ...........C=0.1, degree=2, gamma=1, kernel=rbf; total time=   0.0s\n",
      "[CV 5/5] END ...........C=0.1, degree=2, gamma=1, kernel=rbf; total time=   0.0s\n",
      "[CV 1/5] END .......C=0.1, degree=2, gamma=1, kernel=sigmoid; total time=   0.0s\n",
      "[CV 2/5] END .......C=0.1, degree=2, gamma=1, kernel=sigmoid; total time=   0.0s\n",
      "[CV 3/5] END .......C=0.1, degree=2, gamma=1, kernel=sigmoid; total time=   0.0s\n",
      "[CV 4/5] END .......C=0.1, degree=2, gamma=1, kernel=sigmoid; total time=   0.0s\n",
      "[CV 5/5] END .......C=0.1, degree=2, gamma=1, kernel=sigmoid; total time=   0.0s\n",
      "[CV 1/5] END ..........C=0.1, degree=2, gamma=1, kernel=poly; total time=   0.0s\n",
      "[CV 2/5] END ..........C=0.1, degree=2, gamma=1, kernel=poly; total time=   0.0s\n",
      "[CV 3/5] END ..........C=0.1, degree=2, gamma=1, kernel=poly; total time=   0.0s\n",
      "[CV 4/5] END ..........C=0.1, degree=2, gamma=1, kernel=poly; total time=   0.0s\n",
      "[CV 5/5] END ..........C=0.1, degree=2, gamma=1, kernel=poly; total time=   0.0s\n",
      "[CV 1/5] END ......C=0.1, degree=2, gamma=0.1, kernel=linear; total time=   0.0s\n",
      "[CV 2/5] END ......C=0.1, degree=2, gamma=0.1, kernel=linear; total time=   0.0s\n",
      "[CV 3/5] END ......C=0.1, degree=2, gamma=0.1, kernel=linear; total time=   0.0s\n",
      "[CV 4/5] END ......C=0.1, degree=2, gamma=0.1, kernel=linear; total time=   0.0s\n",
      "[CV 5/5] END ......C=0.1, degree=2, gamma=0.1, kernel=linear; total time=   0.0s\n",
      "[CV 1/5] END .........C=0.1, degree=2, gamma=0.1, kernel=rbf; total time=   0.0s\n",
      "[CV 2/5] END .........C=0.1, degree=2, gamma=0.1, kernel=rbf; total time=   0.0s\n",
      "[CV 3/5] END .........C=0.1, degree=2, gamma=0.1, kernel=rbf; total time=   0.0s\n",
      "[CV 4/5] END .........C=0.1, degree=2, gamma=0.1, kernel=rbf; total time=   0.0s\n",
      "[CV 5/5] END .........C=0.1, degree=2, gamma=0.1, kernel=rbf; total time=   0.0s\n",
      "[CV 1/5] END .....C=0.1, degree=2, gamma=0.1, kernel=sigmoid; total time=   0.0s\n",
      "[CV 2/5] END .....C=0.1, degree=2, gamma=0.1, kernel=sigmoid; total time=   0.0s\n",
      "[CV 3/5] END .....C=0.1, degree=2, gamma=0.1, kernel=sigmoid; total time=   0.0s\n",
      "[CV 4/5] END .....C=0.1, degree=2, gamma=0.1, kernel=sigmoid; total time=   0.0s\n",
      "[CV 5/5] END .....C=0.1, degree=2, gamma=0.1, kernel=sigmoid; total time=   0.0s\n",
      "[CV 1/5] END ........C=0.1, degree=2, gamma=0.1, kernel=poly; total time=   0.0s\n",
      "[CV 2/5] END ........C=0.1, degree=2, gamma=0.1, kernel=poly; total time=   0.0s\n",
      "[CV 3/5] END ........C=0.1, degree=2, gamma=0.1, kernel=poly; total time=   0.0s\n",
      "[CV 4/5] END ........C=0.1, degree=2, gamma=0.1, kernel=poly; total time=   0.0s\n",
      "[CV 5/5] END ........C=0.1, degree=2, gamma=0.1, kernel=poly; total time=   0.0s\n",
      "[CV 1/5] END .....C=0.1, degree=2, gamma=0.01, kernel=linear; total time=   0.0s\n",
      "[CV 2/5] END .....C=0.1, degree=2, gamma=0.01, kernel=linear; total time=   0.0s\n"
     ]
    },
    {
     "name": "stdout",
     "output_type": "stream",
     "text": [
      "[CV 3/5] END .....C=0.1, degree=2, gamma=0.01, kernel=linear; total time=   0.0s\n",
      "[CV 4/5] END .....C=0.1, degree=2, gamma=0.01, kernel=linear; total time=   0.0s\n",
      "[CV 5/5] END .....C=0.1, degree=2, gamma=0.01, kernel=linear; total time=   0.0s\n",
      "[CV 1/5] END ........C=0.1, degree=2, gamma=0.01, kernel=rbf; total time=   0.0s\n",
      "[CV 2/5] END ........C=0.1, degree=2, gamma=0.01, kernel=rbf; total time=   0.0s\n",
      "[CV 3/5] END ........C=0.1, degree=2, gamma=0.01, kernel=rbf; total time=   0.0s\n",
      "[CV 4/5] END ........C=0.1, degree=2, gamma=0.01, kernel=rbf; total time=   0.0s\n",
      "[CV 5/5] END ........C=0.1, degree=2, gamma=0.01, kernel=rbf; total time=   0.0s\n",
      "[CV 1/5] END ....C=0.1, degree=2, gamma=0.01, kernel=sigmoid; total time=   0.0s\n",
      "[CV 2/5] END ....C=0.1, degree=2, gamma=0.01, kernel=sigmoid; total time=   0.0s\n",
      "[CV 3/5] END ....C=0.1, degree=2, gamma=0.01, kernel=sigmoid; total time=   0.0s\n",
      "[CV 4/5] END ....C=0.1, degree=2, gamma=0.01, kernel=sigmoid; total time=   0.0s\n",
      "[CV 5/5] END ....C=0.1, degree=2, gamma=0.01, kernel=sigmoid; total time=   0.0s\n",
      "[CV 1/5] END .......C=0.1, degree=2, gamma=0.01, kernel=poly; total time=   0.0s\n",
      "[CV 2/5] END .......C=0.1, degree=2, gamma=0.01, kernel=poly; total time=   0.0s\n",
      "[CV 3/5] END .......C=0.1, degree=2, gamma=0.01, kernel=poly; total time=   0.0s\n",
      "[CV 4/5] END .......C=0.1, degree=2, gamma=0.01, kernel=poly; total time=   0.0s\n",
      "[CV 5/5] END .......C=0.1, degree=2, gamma=0.01, kernel=poly; total time=   0.0s\n",
      "[CV 1/5] END ....C=0.1, degree=2, gamma=0.001, kernel=linear; total time=   0.0s\n",
      "[CV 2/5] END ....C=0.1, degree=2, gamma=0.001, kernel=linear; total time=   0.0s\n",
      "[CV 3/5] END ....C=0.1, degree=2, gamma=0.001, kernel=linear; total time=   0.0s\n",
      "[CV 4/5] END ....C=0.1, degree=2, gamma=0.001, kernel=linear; total time=   0.0s\n",
      "[CV 5/5] END ....C=0.1, degree=2, gamma=0.001, kernel=linear; total time=   0.0s\n",
      "[CV 1/5] END .......C=0.1, degree=2, gamma=0.001, kernel=rbf; total time=   0.0s\n",
      "[CV 2/5] END .......C=0.1, degree=2, gamma=0.001, kernel=rbf; total time=   0.0s\n",
      "[CV 3/5] END .......C=0.1, degree=2, gamma=0.001, kernel=rbf; total time=   0.0s\n",
      "[CV 4/5] END .......C=0.1, degree=2, gamma=0.001, kernel=rbf; total time=   0.0s\n",
      "[CV 5/5] END .......C=0.1, degree=2, gamma=0.001, kernel=rbf; total time=   0.0s\n",
      "[CV 1/5] END ...C=0.1, degree=2, gamma=0.001, kernel=sigmoid; total time=   0.0s\n",
      "[CV 2/5] END ...C=0.1, degree=2, gamma=0.001, kernel=sigmoid; total time=   0.0s\n",
      "[CV 3/5] END ...C=0.1, degree=2, gamma=0.001, kernel=sigmoid; total time=   0.0s\n",
      "[CV 4/5] END ...C=0.1, degree=2, gamma=0.001, kernel=sigmoid; total time=   0.0s\n",
      "[CV 5/5] END ...C=0.1, degree=2, gamma=0.001, kernel=sigmoid; total time=   0.0s\n",
      "[CV 1/5] END ......C=0.1, degree=2, gamma=0.001, kernel=poly; total time=   0.0s\n",
      "[CV 2/5] END ......C=0.1, degree=2, gamma=0.001, kernel=poly; total time=   0.0s\n",
      "[CV 3/5] END ......C=0.1, degree=2, gamma=0.001, kernel=poly; total time=   0.0s\n",
      "[CV 4/5] END ......C=0.1, degree=2, gamma=0.001, kernel=poly; total time=   0.0s\n",
      "[CV 5/5] END ......C=0.1, degree=2, gamma=0.001, kernel=poly; total time=   0.0s\n",
      "[CV 1/5] END ...C=0.1, degree=2, gamma=0.0001, kernel=linear; total time=   0.0s\n",
      "[CV 2/5] END ...C=0.1, degree=2, gamma=0.0001, kernel=linear; total time=   0.0s\n",
      "[CV 3/5] END ...C=0.1, degree=2, gamma=0.0001, kernel=linear; total time=   0.0s\n",
      "[CV 4/5] END ...C=0.1, degree=2, gamma=0.0001, kernel=linear; total time=   0.0s\n",
      "[CV 5/5] END ...C=0.1, degree=2, gamma=0.0001, kernel=linear; total time=   0.0s\n",
      "[CV 1/5] END ......C=0.1, degree=2, gamma=0.0001, kernel=rbf; total time=   0.0s\n",
      "[CV 2/5] END ......C=0.1, degree=2, gamma=0.0001, kernel=rbf; total time=   0.0s\n",
      "[CV 3/5] END ......C=0.1, degree=2, gamma=0.0001, kernel=rbf; total time=   0.0s\n",
      "[CV 4/5] END ......C=0.1, degree=2, gamma=0.0001, kernel=rbf; total time=   0.0s\n",
      "[CV 5/5] END ......C=0.1, degree=2, gamma=0.0001, kernel=rbf; total time=   0.0s\n",
      "[CV 1/5] END ..C=0.1, degree=2, gamma=0.0001, kernel=sigmoid; total time=   0.0s\n",
      "[CV 2/5] END ..C=0.1, degree=2, gamma=0.0001, kernel=sigmoid; total time=   0.0s\n",
      "[CV 3/5] END ..C=0.1, degree=2, gamma=0.0001, kernel=sigmoid; total time=   0.0s\n",
      "[CV 4/5] END ..C=0.1, degree=2, gamma=0.0001, kernel=sigmoid; total time=   0.0s\n",
      "[CV 5/5] END ..C=0.1, degree=2, gamma=0.0001, kernel=sigmoid; total time=   0.0s\n",
      "[CV 1/5] END .....C=0.1, degree=2, gamma=0.0001, kernel=poly; total time=   0.0s\n",
      "[CV 2/5] END .....C=0.1, degree=2, gamma=0.0001, kernel=poly; total time=   0.0s\n",
      "[CV 3/5] END .....C=0.1, degree=2, gamma=0.0001, kernel=poly; total time=   0.0s\n",
      "[CV 4/5] END .....C=0.1, degree=2, gamma=0.0001, kernel=poly; total time=   0.0s\n",
      "[CV 5/5] END .....C=0.1, degree=2, gamma=0.0001, kernel=poly; total time=   0.0s\n",
      "[CV 1/5] END ......C=1, degree=1, gamma=scale, kernel=linear; total time=   0.0s\n",
      "[CV 2/5] END ......C=1, degree=1, gamma=scale, kernel=linear; total time=   0.0s\n",
      "[CV 3/5] END ......C=1, degree=1, gamma=scale, kernel=linear; total time=   0.0s\n",
      "[CV 4/5] END ......C=1, degree=1, gamma=scale, kernel=linear; total time=   0.0s\n",
      "[CV 5/5] END ......C=1, degree=1, gamma=scale, kernel=linear; total time=   0.0s\n",
      "[CV 1/5] END .........C=1, degree=1, gamma=scale, kernel=rbf; total time=   0.0s\n",
      "[CV 2/5] END .........C=1, degree=1, gamma=scale, kernel=rbf; total time=   0.0s\n",
      "[CV 3/5] END .........C=1, degree=1, gamma=scale, kernel=rbf; total time=   0.0s\n",
      "[CV 4/5] END .........C=1, degree=1, gamma=scale, kernel=rbf; total time=   0.0s\n",
      "[CV 5/5] END .........C=1, degree=1, gamma=scale, kernel=rbf; total time=   0.0s\n",
      "[CV 1/5] END .....C=1, degree=1, gamma=scale, kernel=sigmoid; total time=   0.0s\n",
      "[CV 2/5] END .....C=1, degree=1, gamma=scale, kernel=sigmoid; total time=   0.0s\n",
      "[CV 3/5] END .....C=1, degree=1, gamma=scale, kernel=sigmoid; total time=   0.0s\n",
      "[CV 4/5] END .....C=1, degree=1, gamma=scale, kernel=sigmoid; total time=   0.0s\n",
      "[CV 5/5] END .....C=1, degree=1, gamma=scale, kernel=sigmoid; total time=   0.0s\n",
      "[CV 1/5] END ........C=1, degree=1, gamma=scale, kernel=poly; total time=   0.0s\n",
      "[CV 2/5] END ........C=1, degree=1, gamma=scale, kernel=poly; total time=   0.0s\n",
      "[CV 3/5] END ........C=1, degree=1, gamma=scale, kernel=poly; total time=   0.0s\n",
      "[CV 4/5] END ........C=1, degree=1, gamma=scale, kernel=poly; total time=   0.0s\n",
      "[CV 5/5] END ........C=1, degree=1, gamma=scale, kernel=poly; total time=   0.0s\n",
      "[CV 1/5] END .......C=1, degree=1, gamma=auto, kernel=linear; total time=   0.0s\n",
      "[CV 2/5] END .......C=1, degree=1, gamma=auto, kernel=linear; total time=   0.0s\n",
      "[CV 3/5] END .......C=1, degree=1, gamma=auto, kernel=linear; total time=   0.0s\n",
      "[CV 4/5] END .......C=1, degree=1, gamma=auto, kernel=linear; total time=   0.0s\n",
      "[CV 5/5] END .......C=1, degree=1, gamma=auto, kernel=linear; total time=   0.0s\n",
      "[CV 1/5] END ..........C=1, degree=1, gamma=auto, kernel=rbf; total time=   0.0s\n",
      "[CV 2/5] END ..........C=1, degree=1, gamma=auto, kernel=rbf; total time=   0.0s\n",
      "[CV 3/5] END ..........C=1, degree=1, gamma=auto, kernel=rbf; total time=   0.0s\n",
      "[CV 4/5] END ..........C=1, degree=1, gamma=auto, kernel=rbf; total time=   0.0s\n",
      "[CV 5/5] END ..........C=1, degree=1, gamma=auto, kernel=rbf; total time=   0.0s\n",
      "[CV 1/5] END ......C=1, degree=1, gamma=auto, kernel=sigmoid; total time=   0.0s\n",
      "[CV 2/5] END ......C=1, degree=1, gamma=auto, kernel=sigmoid; total time=   0.0s\n",
      "[CV 3/5] END ......C=1, degree=1, gamma=auto, kernel=sigmoid; total time=   0.0s\n",
      "[CV 4/5] END ......C=1, degree=1, gamma=auto, kernel=sigmoid; total time=   0.0s\n",
      "[CV 5/5] END ......C=1, degree=1, gamma=auto, kernel=sigmoid; total time=   0.0s\n",
      "[CV 1/5] END .........C=1, degree=1, gamma=auto, kernel=poly; total time=   0.0s\n",
      "[CV 2/5] END .........C=1, degree=1, gamma=auto, kernel=poly; total time=   0.0s\n",
      "[CV 3/5] END .........C=1, degree=1, gamma=auto, kernel=poly; total time=   0.0s\n",
      "[CV 4/5] END .........C=1, degree=1, gamma=auto, kernel=poly; total time=   0.0s\n",
      "[CV 5/5] END .........C=1, degree=1, gamma=auto, kernel=poly; total time=   0.0s\n",
      "[CV 1/5] END ..........C=1, degree=1, gamma=1, kernel=linear; total time=   0.0s\n",
      "[CV 2/5] END ..........C=1, degree=1, gamma=1, kernel=linear; total time=   0.0s\n",
      "[CV 3/5] END ..........C=1, degree=1, gamma=1, kernel=linear; total time=   0.0s\n",
      "[CV 4/5] END ..........C=1, degree=1, gamma=1, kernel=linear; total time=   0.0s\n",
      "[CV 5/5] END ..........C=1, degree=1, gamma=1, kernel=linear; total time=   0.0s\n",
      "[CV 1/5] END .............C=1, degree=1, gamma=1, kernel=rbf; total time=   0.0s\n",
      "[CV 2/5] END .............C=1, degree=1, gamma=1, kernel=rbf; total time=   0.0s\n",
      "[CV 3/5] END .............C=1, degree=1, gamma=1, kernel=rbf; total time=   0.0s\n",
      "[CV 4/5] END .............C=1, degree=1, gamma=1, kernel=rbf; total time=   0.0s\n",
      "[CV 5/5] END .............C=1, degree=1, gamma=1, kernel=rbf; total time=   0.0s\n",
      "[CV 1/5] END .........C=1, degree=1, gamma=1, kernel=sigmoid; total time=   0.0s\n",
      "[CV 2/5] END .........C=1, degree=1, gamma=1, kernel=sigmoid; total time=   0.0s\n",
      "[CV 3/5] END .........C=1, degree=1, gamma=1, kernel=sigmoid; total time=   0.0s\n",
      "[CV 4/5] END .........C=1, degree=1, gamma=1, kernel=sigmoid; total time=   0.0s\n",
      "[CV 5/5] END .........C=1, degree=1, gamma=1, kernel=sigmoid; total time=   0.0s\n",
      "[CV 1/5] END ............C=1, degree=1, gamma=1, kernel=poly; total time=   0.0s\n",
      "[CV 2/5] END ............C=1, degree=1, gamma=1, kernel=poly; total time=   0.0s\n",
      "[CV 3/5] END ............C=1, degree=1, gamma=1, kernel=poly; total time=   0.0s\n",
      "[CV 4/5] END ............C=1, degree=1, gamma=1, kernel=poly; total time=   0.0s\n",
      "[CV 5/5] END ............C=1, degree=1, gamma=1, kernel=poly; total time=   0.0s\n",
      "[CV 1/5] END ........C=1, degree=1, gamma=0.1, kernel=linear; total time=   0.0s\n",
      "[CV 2/5] END ........C=1, degree=1, gamma=0.1, kernel=linear; total time=   0.0s\n",
      "[CV 3/5] END ........C=1, degree=1, gamma=0.1, kernel=linear; total time=   0.0s\n"
     ]
    },
    {
     "name": "stdout",
     "output_type": "stream",
     "text": [
      "[CV 4/5] END ........C=1, degree=1, gamma=0.1, kernel=linear; total time=   0.0s\n",
      "[CV 5/5] END ........C=1, degree=1, gamma=0.1, kernel=linear; total time=   0.0s\n",
      "[CV 1/5] END ...........C=1, degree=1, gamma=0.1, kernel=rbf; total time=   0.0s\n",
      "[CV 2/5] END ...........C=1, degree=1, gamma=0.1, kernel=rbf; total time=   0.0s\n",
      "[CV 3/5] END ...........C=1, degree=1, gamma=0.1, kernel=rbf; total time=   0.0s\n",
      "[CV 4/5] END ...........C=1, degree=1, gamma=0.1, kernel=rbf; total time=   0.0s\n",
      "[CV 5/5] END ...........C=1, degree=1, gamma=0.1, kernel=rbf; total time=   0.0s\n",
      "[CV 1/5] END .......C=1, degree=1, gamma=0.1, kernel=sigmoid; total time=   0.0s\n",
      "[CV 2/5] END .......C=1, degree=1, gamma=0.1, kernel=sigmoid; total time=   0.0s\n",
      "[CV 3/5] END .......C=1, degree=1, gamma=0.1, kernel=sigmoid; total time=   0.0s\n",
      "[CV 4/5] END .......C=1, degree=1, gamma=0.1, kernel=sigmoid; total time=   0.0s\n",
      "[CV 5/5] END .......C=1, degree=1, gamma=0.1, kernel=sigmoid; total time=   0.0s\n",
      "[CV 1/5] END ..........C=1, degree=1, gamma=0.1, kernel=poly; total time=   0.0s\n",
      "[CV 2/5] END ..........C=1, degree=1, gamma=0.1, kernel=poly; total time=   0.0s\n",
      "[CV 3/5] END ..........C=1, degree=1, gamma=0.1, kernel=poly; total time=   0.0s\n",
      "[CV 4/5] END ..........C=1, degree=1, gamma=0.1, kernel=poly; total time=   0.0s\n",
      "[CV 5/5] END ..........C=1, degree=1, gamma=0.1, kernel=poly; total time=   0.0s\n",
      "[CV 1/5] END .......C=1, degree=1, gamma=0.01, kernel=linear; total time=   0.0s\n",
      "[CV 2/5] END .......C=1, degree=1, gamma=0.01, kernel=linear; total time=   0.0s\n",
      "[CV 3/5] END .......C=1, degree=1, gamma=0.01, kernel=linear; total time=   0.0s\n",
      "[CV 4/5] END .......C=1, degree=1, gamma=0.01, kernel=linear; total time=   0.0s\n",
      "[CV 5/5] END .......C=1, degree=1, gamma=0.01, kernel=linear; total time=   0.0s\n",
      "[CV 1/5] END ..........C=1, degree=1, gamma=0.01, kernel=rbf; total time=   0.0s\n",
      "[CV 2/5] END ..........C=1, degree=1, gamma=0.01, kernel=rbf; total time=   0.0s\n",
      "[CV 3/5] END ..........C=1, degree=1, gamma=0.01, kernel=rbf; total time=   0.0s\n",
      "[CV 4/5] END ..........C=1, degree=1, gamma=0.01, kernel=rbf; total time=   0.0s\n",
      "[CV 5/5] END ..........C=1, degree=1, gamma=0.01, kernel=rbf; total time=   0.0s\n",
      "[CV 1/5] END ......C=1, degree=1, gamma=0.01, kernel=sigmoid; total time=   0.0s\n",
      "[CV 2/5] END ......C=1, degree=1, gamma=0.01, kernel=sigmoid; total time=   0.0s\n",
      "[CV 3/5] END ......C=1, degree=1, gamma=0.01, kernel=sigmoid; total time=   0.0s\n",
      "[CV 4/5] END ......C=1, degree=1, gamma=0.01, kernel=sigmoid; total time=   0.0s\n",
      "[CV 5/5] END ......C=1, degree=1, gamma=0.01, kernel=sigmoid; total time=   0.0s\n",
      "[CV 1/5] END .........C=1, degree=1, gamma=0.01, kernel=poly; total time=   0.0s\n",
      "[CV 2/5] END .........C=1, degree=1, gamma=0.01, kernel=poly; total time=   0.0s\n",
      "[CV 3/5] END .........C=1, degree=1, gamma=0.01, kernel=poly; total time=   0.0s\n",
      "[CV 4/5] END .........C=1, degree=1, gamma=0.01, kernel=poly; total time=   0.0s\n",
      "[CV 5/5] END .........C=1, degree=1, gamma=0.01, kernel=poly; total time=   0.0s\n",
      "[CV 1/5] END ......C=1, degree=1, gamma=0.001, kernel=linear; total time=   0.0s\n",
      "[CV 2/5] END ......C=1, degree=1, gamma=0.001, kernel=linear; total time=   0.0s\n",
      "[CV 3/5] END ......C=1, degree=1, gamma=0.001, kernel=linear; total time=   0.0s\n",
      "[CV 4/5] END ......C=1, degree=1, gamma=0.001, kernel=linear; total time=   0.0s\n",
      "[CV 5/5] END ......C=1, degree=1, gamma=0.001, kernel=linear; total time=   0.0s\n",
      "[CV 1/5] END .........C=1, degree=1, gamma=0.001, kernel=rbf; total time=   0.0s\n",
      "[CV 2/5] END .........C=1, degree=1, gamma=0.001, kernel=rbf; total time=   0.0s\n",
      "[CV 3/5] END .........C=1, degree=1, gamma=0.001, kernel=rbf; total time=   0.0s\n",
      "[CV 4/5] END .........C=1, degree=1, gamma=0.001, kernel=rbf; total time=   0.0s\n",
      "[CV 5/5] END .........C=1, degree=1, gamma=0.001, kernel=rbf; total time=   0.0s\n",
      "[CV 1/5] END .....C=1, degree=1, gamma=0.001, kernel=sigmoid; total time=   0.0s\n",
      "[CV 2/5] END .....C=1, degree=1, gamma=0.001, kernel=sigmoid; total time=   0.0s\n",
      "[CV 3/5] END .....C=1, degree=1, gamma=0.001, kernel=sigmoid; total time=   0.0s\n",
      "[CV 4/5] END .....C=1, degree=1, gamma=0.001, kernel=sigmoid; total time=   0.0s\n",
      "[CV 5/5] END .....C=1, degree=1, gamma=0.001, kernel=sigmoid; total time=   0.0s\n",
      "[CV 1/5] END ........C=1, degree=1, gamma=0.001, kernel=poly; total time=   0.0s\n",
      "[CV 2/5] END ........C=1, degree=1, gamma=0.001, kernel=poly; total time=   0.0s\n",
      "[CV 3/5] END ........C=1, degree=1, gamma=0.001, kernel=poly; total time=   0.0s\n",
      "[CV 4/5] END ........C=1, degree=1, gamma=0.001, kernel=poly; total time=   0.0s\n",
      "[CV 5/5] END ........C=1, degree=1, gamma=0.001, kernel=poly; total time=   0.0s\n",
      "[CV 1/5] END .....C=1, degree=1, gamma=0.0001, kernel=linear; total time=   0.0s\n",
      "[CV 2/5] END .....C=1, degree=1, gamma=0.0001, kernel=linear; total time=   0.0s\n",
      "[CV 3/5] END .....C=1, degree=1, gamma=0.0001, kernel=linear; total time=   0.0s\n",
      "[CV 4/5] END .....C=1, degree=1, gamma=0.0001, kernel=linear; total time=   0.0s\n",
      "[CV 5/5] END .....C=1, degree=1, gamma=0.0001, kernel=linear; total time=   0.0s\n",
      "[CV 1/5] END ........C=1, degree=1, gamma=0.0001, kernel=rbf; total time=   0.0s\n",
      "[CV 2/5] END ........C=1, degree=1, gamma=0.0001, kernel=rbf; total time=   0.0s\n",
      "[CV 3/5] END ........C=1, degree=1, gamma=0.0001, kernel=rbf; total time=   0.0s\n",
      "[CV 4/5] END ........C=1, degree=1, gamma=0.0001, kernel=rbf; total time=   0.0s\n",
      "[CV 5/5] END ........C=1, degree=1, gamma=0.0001, kernel=rbf; total time=   0.0s\n",
      "[CV 1/5] END ....C=1, degree=1, gamma=0.0001, kernel=sigmoid; total time=   0.0s\n",
      "[CV 2/5] END ....C=1, degree=1, gamma=0.0001, kernel=sigmoid; total time=   0.0s\n",
      "[CV 3/5] END ....C=1, degree=1, gamma=0.0001, kernel=sigmoid; total time=   0.0s\n",
      "[CV 4/5] END ....C=1, degree=1, gamma=0.0001, kernel=sigmoid; total time=   0.0s\n",
      "[CV 5/5] END ....C=1, degree=1, gamma=0.0001, kernel=sigmoid; total time=   0.0s\n",
      "[CV 1/5] END .......C=1, degree=1, gamma=0.0001, kernel=poly; total time=   0.0s\n",
      "[CV 2/5] END .......C=1, degree=1, gamma=0.0001, kernel=poly; total time=   0.0s\n",
      "[CV 3/5] END .......C=1, degree=1, gamma=0.0001, kernel=poly; total time=   0.0s\n",
      "[CV 4/5] END .......C=1, degree=1, gamma=0.0001, kernel=poly; total time=   0.0s\n",
      "[CV 5/5] END .......C=1, degree=1, gamma=0.0001, kernel=poly; total time=   0.0s\n",
      "[CV 1/5] END ......C=1, degree=2, gamma=scale, kernel=linear; total time=   0.0s\n",
      "[CV 2/5] END ......C=1, degree=2, gamma=scale, kernel=linear; total time=   0.0s\n",
      "[CV 3/5] END ......C=1, degree=2, gamma=scale, kernel=linear; total time=   0.0s\n",
      "[CV 4/5] END ......C=1, degree=2, gamma=scale, kernel=linear; total time=   0.0s\n",
      "[CV 5/5] END ......C=1, degree=2, gamma=scale, kernel=linear; total time=   0.0s\n",
      "[CV 1/5] END .........C=1, degree=2, gamma=scale, kernel=rbf; total time=   0.0s\n",
      "[CV 2/5] END .........C=1, degree=2, gamma=scale, kernel=rbf; total time=   0.0s\n",
      "[CV 3/5] END .........C=1, degree=2, gamma=scale, kernel=rbf; total time=   0.0s\n",
      "[CV 4/5] END .........C=1, degree=2, gamma=scale, kernel=rbf; total time=   0.0s\n",
      "[CV 5/5] END .........C=1, degree=2, gamma=scale, kernel=rbf; total time=   0.0s\n",
      "[CV 1/5] END .....C=1, degree=2, gamma=scale, kernel=sigmoid; total time=   0.0s\n",
      "[CV 2/5] END .....C=1, degree=2, gamma=scale, kernel=sigmoid; total time=   0.0s\n",
      "[CV 3/5] END .....C=1, degree=2, gamma=scale, kernel=sigmoid; total time=   0.0s\n",
      "[CV 4/5] END .....C=1, degree=2, gamma=scale, kernel=sigmoid; total time=   0.0s\n",
      "[CV 5/5] END .....C=1, degree=2, gamma=scale, kernel=sigmoid; total time=   0.0s\n",
      "[CV 1/5] END ........C=1, degree=2, gamma=scale, kernel=poly; total time=   0.0s\n",
      "[CV 2/5] END ........C=1, degree=2, gamma=scale, kernel=poly; total time=   0.0s\n",
      "[CV 3/5] END ........C=1, degree=2, gamma=scale, kernel=poly; total time=   0.0s\n",
      "[CV 4/5] END ........C=1, degree=2, gamma=scale, kernel=poly; total time=   0.0s\n",
      "[CV 5/5] END ........C=1, degree=2, gamma=scale, kernel=poly; total time=   0.0s\n",
      "[CV 1/5] END .......C=1, degree=2, gamma=auto, kernel=linear; total time=   0.0s\n",
      "[CV 2/5] END .......C=1, degree=2, gamma=auto, kernel=linear; total time=   0.0s\n",
      "[CV 3/5] END .......C=1, degree=2, gamma=auto, kernel=linear; total time=   0.0s\n",
      "[CV 4/5] END .......C=1, degree=2, gamma=auto, kernel=linear; total time=   0.0s\n",
      "[CV 5/5] END .......C=1, degree=2, gamma=auto, kernel=linear; total time=   0.0s\n",
      "[CV 1/5] END ..........C=1, degree=2, gamma=auto, kernel=rbf; total time=   0.0s\n",
      "[CV 2/5] END ..........C=1, degree=2, gamma=auto, kernel=rbf; total time=   0.0s\n",
      "[CV 3/5] END ..........C=1, degree=2, gamma=auto, kernel=rbf; total time=   0.0s\n",
      "[CV 4/5] END ..........C=1, degree=2, gamma=auto, kernel=rbf; total time=   0.0s\n",
      "[CV 5/5] END ..........C=1, degree=2, gamma=auto, kernel=rbf; total time=   0.0s\n"
     ]
    },
    {
     "name": "stdout",
     "output_type": "stream",
     "text": [
      "[CV 1/5] END ......C=1, degree=2, gamma=auto, kernel=sigmoid; total time=   0.0s\n",
      "[CV 2/5] END ......C=1, degree=2, gamma=auto, kernel=sigmoid; total time=   0.0s\n",
      "[CV 3/5] END ......C=1, degree=2, gamma=auto, kernel=sigmoid; total time=   0.0s\n",
      "[CV 4/5] END ......C=1, degree=2, gamma=auto, kernel=sigmoid; total time=   0.0s\n",
      "[CV 5/5] END ......C=1, degree=2, gamma=auto, kernel=sigmoid; total time=   0.0s\n",
      "[CV 1/5] END .........C=1, degree=2, gamma=auto, kernel=poly; total time=   0.0s\n",
      "[CV 2/5] END .........C=1, degree=2, gamma=auto, kernel=poly; total time=   0.0s\n",
      "[CV 3/5] END .........C=1, degree=2, gamma=auto, kernel=poly; total time=   0.0s\n",
      "[CV 4/5] END .........C=1, degree=2, gamma=auto, kernel=poly; total time=   0.0s\n",
      "[CV 5/5] END .........C=1, degree=2, gamma=auto, kernel=poly; total time=   0.0s\n",
      "[CV 1/5] END ..........C=1, degree=2, gamma=1, kernel=linear; total time=   0.0s\n",
      "[CV 2/5] END ..........C=1, degree=2, gamma=1, kernel=linear; total time=   0.0s\n",
      "[CV 3/5] END ..........C=1, degree=2, gamma=1, kernel=linear; total time=   0.0s\n",
      "[CV 4/5] END ..........C=1, degree=2, gamma=1, kernel=linear; total time=   0.0s\n",
      "[CV 5/5] END ..........C=1, degree=2, gamma=1, kernel=linear; total time=   0.0s\n",
      "[CV 1/5] END .............C=1, degree=2, gamma=1, kernel=rbf; total time=   0.0s\n",
      "[CV 2/5] END .............C=1, degree=2, gamma=1, kernel=rbf; total time=   0.0s\n",
      "[CV 3/5] END .............C=1, degree=2, gamma=1, kernel=rbf; total time=   0.0s\n",
      "[CV 4/5] END .............C=1, degree=2, gamma=1, kernel=rbf; total time=   0.0s\n",
      "[CV 5/5] END .............C=1, degree=2, gamma=1, kernel=rbf; total time=   0.0s\n",
      "[CV 1/5] END .........C=1, degree=2, gamma=1, kernel=sigmoid; total time=   0.0s\n",
      "[CV 2/5] END .........C=1, degree=2, gamma=1, kernel=sigmoid; total time=   0.0s\n",
      "[CV 3/5] END .........C=1, degree=2, gamma=1, kernel=sigmoid; total time=   0.0s\n",
      "[CV 4/5] END .........C=1, degree=2, gamma=1, kernel=sigmoid; total time=   0.0s\n",
      "[CV 5/5] END .........C=1, degree=2, gamma=1, kernel=sigmoid; total time=   0.0s\n",
      "[CV 1/5] END ............C=1, degree=2, gamma=1, kernel=poly; total time=   0.0s\n",
      "[CV 2/5] END ............C=1, degree=2, gamma=1, kernel=poly; total time=   0.0s\n",
      "[CV 3/5] END ............C=1, degree=2, gamma=1, kernel=poly; total time=   0.0s\n",
      "[CV 4/5] END ............C=1, degree=2, gamma=1, kernel=poly; total time=   0.0s\n",
      "[CV 5/5] END ............C=1, degree=2, gamma=1, kernel=poly; total time=   0.0s\n",
      "[CV 1/5] END ........C=1, degree=2, gamma=0.1, kernel=linear; total time=   0.0s\n",
      "[CV 2/5] END ........C=1, degree=2, gamma=0.1, kernel=linear; total time=   0.0s\n",
      "[CV 3/5] END ........C=1, degree=2, gamma=0.1, kernel=linear; total time=   0.0s\n",
      "[CV 4/5] END ........C=1, degree=2, gamma=0.1, kernel=linear; total time=   0.0s\n",
      "[CV 5/5] END ........C=1, degree=2, gamma=0.1, kernel=linear; total time=   0.0s\n",
      "[CV 1/5] END ...........C=1, degree=2, gamma=0.1, kernel=rbf; total time=   0.0s\n",
      "[CV 2/5] END ...........C=1, degree=2, gamma=0.1, kernel=rbf; total time=   0.0s\n",
      "[CV 3/5] END ...........C=1, degree=2, gamma=0.1, kernel=rbf; total time=   0.0s\n",
      "[CV 4/5] END ...........C=1, degree=2, gamma=0.1, kernel=rbf; total time=   0.0s\n",
      "[CV 5/5] END ...........C=1, degree=2, gamma=0.1, kernel=rbf; total time=   0.0s\n",
      "[CV 1/5] END .......C=1, degree=2, gamma=0.1, kernel=sigmoid; total time=   0.0s\n",
      "[CV 2/5] END .......C=1, degree=2, gamma=0.1, kernel=sigmoid; total time=   0.0s\n",
      "[CV 3/5] END .......C=1, degree=2, gamma=0.1, kernel=sigmoid; total time=   0.0s\n",
      "[CV 4/5] END .......C=1, degree=2, gamma=0.1, kernel=sigmoid; total time=   0.0s\n",
      "[CV 5/5] END .......C=1, degree=2, gamma=0.1, kernel=sigmoid; total time=   0.0s\n",
      "[CV 1/5] END ..........C=1, degree=2, gamma=0.1, kernel=poly; total time=   0.0s\n",
      "[CV 2/5] END ..........C=1, degree=2, gamma=0.1, kernel=poly; total time=   0.0s\n",
      "[CV 3/5] END ..........C=1, degree=2, gamma=0.1, kernel=poly; total time=   0.0s\n",
      "[CV 4/5] END ..........C=1, degree=2, gamma=0.1, kernel=poly; total time=   0.0s\n",
      "[CV 5/5] END ..........C=1, degree=2, gamma=0.1, kernel=poly; total time=   0.0s\n",
      "[CV 1/5] END .......C=1, degree=2, gamma=0.01, kernel=linear; total time=   0.0s\n",
      "[CV 2/5] END .......C=1, degree=2, gamma=0.01, kernel=linear; total time=   0.0s\n",
      "[CV 3/5] END .......C=1, degree=2, gamma=0.01, kernel=linear; total time=   0.0s\n",
      "[CV 4/5] END .......C=1, degree=2, gamma=0.01, kernel=linear; total time=   0.0s\n",
      "[CV 5/5] END .......C=1, degree=2, gamma=0.01, kernel=linear; total time=   0.0s\n",
      "[CV 1/5] END ..........C=1, degree=2, gamma=0.01, kernel=rbf; total time=   0.0s\n",
      "[CV 2/5] END ..........C=1, degree=2, gamma=0.01, kernel=rbf; total time=   0.0s\n",
      "[CV 3/5] END ..........C=1, degree=2, gamma=0.01, kernel=rbf; total time=   0.0s\n",
      "[CV 4/5] END ..........C=1, degree=2, gamma=0.01, kernel=rbf; total time=   0.0s\n",
      "[CV 5/5] END ..........C=1, degree=2, gamma=0.01, kernel=rbf; total time=   0.0s\n",
      "[CV 1/5] END ......C=1, degree=2, gamma=0.01, kernel=sigmoid; total time=   0.0s\n",
      "[CV 2/5] END ......C=1, degree=2, gamma=0.01, kernel=sigmoid; total time=   0.0s\n",
      "[CV 3/5] END ......C=1, degree=2, gamma=0.01, kernel=sigmoid; total time=   0.0s\n",
      "[CV 4/5] END ......C=1, degree=2, gamma=0.01, kernel=sigmoid; total time=   0.0s\n",
      "[CV 5/5] END ......C=1, degree=2, gamma=0.01, kernel=sigmoid; total time=   0.0s\n",
      "[CV 1/5] END .........C=1, degree=2, gamma=0.01, kernel=poly; total time=   0.0s\n",
      "[CV 2/5] END .........C=1, degree=2, gamma=0.01, kernel=poly; total time=   0.0s\n",
      "[CV 3/5] END .........C=1, degree=2, gamma=0.01, kernel=poly; total time=   0.0s\n",
      "[CV 4/5] END .........C=1, degree=2, gamma=0.01, kernel=poly; total time=   0.0s\n",
      "[CV 5/5] END .........C=1, degree=2, gamma=0.01, kernel=poly; total time=   0.0s\n",
      "[CV 1/5] END ......C=1, degree=2, gamma=0.001, kernel=linear; total time=   0.0s\n",
      "[CV 2/5] END ......C=1, degree=2, gamma=0.001, kernel=linear; total time=   0.0s\n",
      "[CV 3/5] END ......C=1, degree=2, gamma=0.001, kernel=linear; total time=   0.0s\n",
      "[CV 4/5] END ......C=1, degree=2, gamma=0.001, kernel=linear; total time=   0.0s\n",
      "[CV 5/5] END ......C=1, degree=2, gamma=0.001, kernel=linear; total time=   0.0s\n",
      "[CV 1/5] END .........C=1, degree=2, gamma=0.001, kernel=rbf; total time=   0.0s\n",
      "[CV 2/5] END .........C=1, degree=2, gamma=0.001, kernel=rbf; total time=   0.0s\n",
      "[CV 3/5] END .........C=1, degree=2, gamma=0.001, kernel=rbf; total time=   0.0s\n",
      "[CV 4/5] END .........C=1, degree=2, gamma=0.001, kernel=rbf; total time=   0.0s\n",
      "[CV 5/5] END .........C=1, degree=2, gamma=0.001, kernel=rbf; total time=   0.0s\n",
      "[CV 1/5] END .....C=1, degree=2, gamma=0.001, kernel=sigmoid; total time=   0.0s\n",
      "[CV 2/5] END .....C=1, degree=2, gamma=0.001, kernel=sigmoid; total time=   0.0s\n",
      "[CV 3/5] END .....C=1, degree=2, gamma=0.001, kernel=sigmoid; total time=   0.0s\n",
      "[CV 4/5] END .....C=1, degree=2, gamma=0.001, kernel=sigmoid; total time=   0.0s\n",
      "[CV 5/5] END .....C=1, degree=2, gamma=0.001, kernel=sigmoid; total time=   0.0s\n",
      "[CV 1/5] END ........C=1, degree=2, gamma=0.001, kernel=poly; total time=   0.0s\n",
      "[CV 2/5] END ........C=1, degree=2, gamma=0.001, kernel=poly; total time=   0.0s\n",
      "[CV 3/5] END ........C=1, degree=2, gamma=0.001, kernel=poly; total time=   0.0s\n",
      "[CV 4/5] END ........C=1, degree=2, gamma=0.001, kernel=poly; total time=   0.0s\n",
      "[CV 5/5] END ........C=1, degree=2, gamma=0.001, kernel=poly; total time=   0.0s\n",
      "[CV 1/5] END .....C=1, degree=2, gamma=0.0001, kernel=linear; total time=   0.0s\n",
      "[CV 2/5] END .....C=1, degree=2, gamma=0.0001, kernel=linear; total time=   0.0s\n",
      "[CV 3/5] END .....C=1, degree=2, gamma=0.0001, kernel=linear; total time=   0.0s\n",
      "[CV 4/5] END .....C=1, degree=2, gamma=0.0001, kernel=linear; total time=   0.0s\n",
      "[CV 5/5] END .....C=1, degree=2, gamma=0.0001, kernel=linear; total time=   0.0s\n",
      "[CV 1/5] END ........C=1, degree=2, gamma=0.0001, kernel=rbf; total time=   0.0s\n",
      "[CV 2/5] END ........C=1, degree=2, gamma=0.0001, kernel=rbf; total time=   0.0s\n",
      "[CV 3/5] END ........C=1, degree=2, gamma=0.0001, kernel=rbf; total time=   0.0s\n",
      "[CV 4/5] END ........C=1, degree=2, gamma=0.0001, kernel=rbf; total time=   0.0s\n",
      "[CV 5/5] END ........C=1, degree=2, gamma=0.0001, kernel=rbf; total time=   0.0s\n",
      "[CV 1/5] END ....C=1, degree=2, gamma=0.0001, kernel=sigmoid; total time=   0.0s\n",
      "[CV 2/5] END ....C=1, degree=2, gamma=0.0001, kernel=sigmoid; total time=   0.0s\n",
      "[CV 3/5] END ....C=1, degree=2, gamma=0.0001, kernel=sigmoid; total time=   0.0s\n",
      "[CV 4/5] END ....C=1, degree=2, gamma=0.0001, kernel=sigmoid; total time=   0.0s\n",
      "[CV 5/5] END ....C=1, degree=2, gamma=0.0001, kernel=sigmoid; total time=   0.0s\n",
      "[CV 1/5] END .......C=1, degree=2, gamma=0.0001, kernel=poly; total time=   0.0s\n",
      "[CV 2/5] END .......C=1, degree=2, gamma=0.0001, kernel=poly; total time=   0.0s\n",
      "[CV 3/5] END .......C=1, degree=2, gamma=0.0001, kernel=poly; total time=   0.0s\n",
      "[CV 4/5] END .......C=1, degree=2, gamma=0.0001, kernel=poly; total time=   0.0s\n",
      "[CV 5/5] END .......C=1, degree=2, gamma=0.0001, kernel=poly; total time=   0.0s\n",
      "[CV 1/5] END .....C=10, degree=1, gamma=scale, kernel=linear; total time=   0.0s\n",
      "[CV 2/5] END .....C=10, degree=1, gamma=scale, kernel=linear; total time=   0.0s\n",
      "[CV 3/5] END .....C=10, degree=1, gamma=scale, kernel=linear; total time=   0.0s\n",
      "[CV 4/5] END .....C=10, degree=1, gamma=scale, kernel=linear; total time=   0.0s\n",
      "[CV 5/5] END .....C=10, degree=1, gamma=scale, kernel=linear; total time=   0.0s\n",
      "[CV 1/5] END ........C=10, degree=1, gamma=scale, kernel=rbf; total time=   0.0s\n",
      "[CV 2/5] END ........C=10, degree=1, gamma=scale, kernel=rbf; total time=   0.0s\n",
      "[CV 3/5] END ........C=10, degree=1, gamma=scale, kernel=rbf; total time=   0.0s\n",
      "[CV 4/5] END ........C=10, degree=1, gamma=scale, kernel=rbf; total time=   0.0s\n"
     ]
    },
    {
     "name": "stdout",
     "output_type": "stream",
     "text": [
      "[CV 5/5] END ........C=10, degree=1, gamma=scale, kernel=rbf; total time=   0.0s\n",
      "[CV 1/5] END ....C=10, degree=1, gamma=scale, kernel=sigmoid; total time=   0.0s\n",
      "[CV 2/5] END ....C=10, degree=1, gamma=scale, kernel=sigmoid; total time=   0.0s\n",
      "[CV 3/5] END ....C=10, degree=1, gamma=scale, kernel=sigmoid; total time=   0.0s\n",
      "[CV 4/5] END ....C=10, degree=1, gamma=scale, kernel=sigmoid; total time=   0.0s\n",
      "[CV 5/5] END ....C=10, degree=1, gamma=scale, kernel=sigmoid; total time=   0.0s\n",
      "[CV 1/5] END .......C=10, degree=1, gamma=scale, kernel=poly; total time=   0.0s\n",
      "[CV 2/5] END .......C=10, degree=1, gamma=scale, kernel=poly; total time=   0.0s\n",
      "[CV 3/5] END .......C=10, degree=1, gamma=scale, kernel=poly; total time=   0.0s\n",
      "[CV 4/5] END .......C=10, degree=1, gamma=scale, kernel=poly; total time=   0.0s\n",
      "[CV 5/5] END .......C=10, degree=1, gamma=scale, kernel=poly; total time=   0.0s\n",
      "[CV 1/5] END ......C=10, degree=1, gamma=auto, kernel=linear; total time=   0.0s\n",
      "[CV 2/5] END ......C=10, degree=1, gamma=auto, kernel=linear; total time=   0.0s\n",
      "[CV 3/5] END ......C=10, degree=1, gamma=auto, kernel=linear; total time=   0.0s\n",
      "[CV 4/5] END ......C=10, degree=1, gamma=auto, kernel=linear; total time=   0.0s\n",
      "[CV 5/5] END ......C=10, degree=1, gamma=auto, kernel=linear; total time=   0.0s\n",
      "[CV 1/5] END .........C=10, degree=1, gamma=auto, kernel=rbf; total time=   0.0s\n",
      "[CV 2/5] END .........C=10, degree=1, gamma=auto, kernel=rbf; total time=   0.0s\n",
      "[CV 3/5] END .........C=10, degree=1, gamma=auto, kernel=rbf; total time=   0.0s\n",
      "[CV 4/5] END .........C=10, degree=1, gamma=auto, kernel=rbf; total time=   0.0s\n",
      "[CV 5/5] END .........C=10, degree=1, gamma=auto, kernel=rbf; total time=   0.0s\n",
      "[CV 1/5] END .....C=10, degree=1, gamma=auto, kernel=sigmoid; total time=   0.0s\n",
      "[CV 2/5] END .....C=10, degree=1, gamma=auto, kernel=sigmoid; total time=   0.0s\n",
      "[CV 3/5] END .....C=10, degree=1, gamma=auto, kernel=sigmoid; total time=   0.0s\n",
      "[CV 4/5] END .....C=10, degree=1, gamma=auto, kernel=sigmoid; total time=   0.0s\n",
      "[CV 5/5] END .....C=10, degree=1, gamma=auto, kernel=sigmoid; total time=   0.0s\n",
      "[CV 1/5] END ........C=10, degree=1, gamma=auto, kernel=poly; total time=   0.0s\n",
      "[CV 2/5] END ........C=10, degree=1, gamma=auto, kernel=poly; total time=   0.0s\n",
      "[CV 3/5] END ........C=10, degree=1, gamma=auto, kernel=poly; total time=   0.0s\n",
      "[CV 4/5] END ........C=10, degree=1, gamma=auto, kernel=poly; total time=   0.0s\n",
      "[CV 5/5] END ........C=10, degree=1, gamma=auto, kernel=poly; total time=   0.0s\n",
      "[CV 1/5] END .........C=10, degree=1, gamma=1, kernel=linear; total time=   0.0s\n",
      "[CV 2/5] END .........C=10, degree=1, gamma=1, kernel=linear; total time=   0.0s\n",
      "[CV 3/5] END .........C=10, degree=1, gamma=1, kernel=linear; total time=   0.0s\n",
      "[CV 4/5] END .........C=10, degree=1, gamma=1, kernel=linear; total time=   0.0s\n",
      "[CV 5/5] END .........C=10, degree=1, gamma=1, kernel=linear; total time=   0.0s\n",
      "[CV 1/5] END ............C=10, degree=1, gamma=1, kernel=rbf; total time=   0.0s\n",
      "[CV 2/5] END ............C=10, degree=1, gamma=1, kernel=rbf; total time=   0.0s\n",
      "[CV 3/5] END ............C=10, degree=1, gamma=1, kernel=rbf; total time=   0.0s\n",
      "[CV 4/5] END ............C=10, degree=1, gamma=1, kernel=rbf; total time=   0.0s\n",
      "[CV 5/5] END ............C=10, degree=1, gamma=1, kernel=rbf; total time=   0.0s\n",
      "[CV 1/5] END ........C=10, degree=1, gamma=1, kernel=sigmoid; total time=   0.0s\n",
      "[CV 2/5] END ........C=10, degree=1, gamma=1, kernel=sigmoid; total time=   0.0s\n",
      "[CV 3/5] END ........C=10, degree=1, gamma=1, kernel=sigmoid; total time=   0.0s\n",
      "[CV 4/5] END ........C=10, degree=1, gamma=1, kernel=sigmoid; total time=   0.0s\n",
      "[CV 5/5] END ........C=10, degree=1, gamma=1, kernel=sigmoid; total time=   0.0s\n",
      "[CV 1/5] END ...........C=10, degree=1, gamma=1, kernel=poly; total time=   0.0s\n",
      "[CV 2/5] END ...........C=10, degree=1, gamma=1, kernel=poly; total time=   0.0s\n",
      "[CV 3/5] END ...........C=10, degree=1, gamma=1, kernel=poly; total time=   0.0s\n",
      "[CV 4/5] END ...........C=10, degree=1, gamma=1, kernel=poly; total time=   0.0s\n",
      "[CV 5/5] END ...........C=10, degree=1, gamma=1, kernel=poly; total time=   0.0s\n",
      "[CV 1/5] END .......C=10, degree=1, gamma=0.1, kernel=linear; total time=   0.0s\n",
      "[CV 2/5] END .......C=10, degree=1, gamma=0.1, kernel=linear; total time=   0.0s\n",
      "[CV 3/5] END .......C=10, degree=1, gamma=0.1, kernel=linear; total time=   0.0s\n",
      "[CV 4/5] END .......C=10, degree=1, gamma=0.1, kernel=linear; total time=   0.0s\n",
      "[CV 5/5] END .......C=10, degree=1, gamma=0.1, kernel=linear; total time=   0.0s\n",
      "[CV 1/5] END ..........C=10, degree=1, gamma=0.1, kernel=rbf; total time=   0.0s\n",
      "[CV 2/5] END ..........C=10, degree=1, gamma=0.1, kernel=rbf; total time=   0.0s\n",
      "[CV 3/5] END ..........C=10, degree=1, gamma=0.1, kernel=rbf; total time=   0.0s\n",
      "[CV 4/5] END ..........C=10, degree=1, gamma=0.1, kernel=rbf; total time=   0.0s\n",
      "[CV 5/5] END ..........C=10, degree=1, gamma=0.1, kernel=rbf; total time=   0.0s\n",
      "[CV 1/5] END ......C=10, degree=1, gamma=0.1, kernel=sigmoid; total time=   0.0s\n",
      "[CV 2/5] END ......C=10, degree=1, gamma=0.1, kernel=sigmoid; total time=   0.0s\n",
      "[CV 3/5] END ......C=10, degree=1, gamma=0.1, kernel=sigmoid; total time=   0.0s\n",
      "[CV 4/5] END ......C=10, degree=1, gamma=0.1, kernel=sigmoid; total time=   0.0s\n",
      "[CV 5/5] END ......C=10, degree=1, gamma=0.1, kernel=sigmoid; total time=   0.0s\n",
      "[CV 1/5] END .........C=10, degree=1, gamma=0.1, kernel=poly; total time=   0.0s\n",
      "[CV 2/5] END .........C=10, degree=1, gamma=0.1, kernel=poly; total time=   0.0s\n",
      "[CV 3/5] END .........C=10, degree=1, gamma=0.1, kernel=poly; total time=   0.0s\n",
      "[CV 4/5] END .........C=10, degree=1, gamma=0.1, kernel=poly; total time=   0.0s\n",
      "[CV 5/5] END .........C=10, degree=1, gamma=0.1, kernel=poly; total time=   0.0s\n",
      "[CV 1/5] END ......C=10, degree=1, gamma=0.01, kernel=linear; total time=   0.0s\n",
      "[CV 2/5] END ......C=10, degree=1, gamma=0.01, kernel=linear; total time=   0.0s\n",
      "[CV 3/5] END ......C=10, degree=1, gamma=0.01, kernel=linear; total time=   0.0s\n",
      "[CV 4/5] END ......C=10, degree=1, gamma=0.01, kernel=linear; total time=   0.0s\n",
      "[CV 5/5] END ......C=10, degree=1, gamma=0.01, kernel=linear; total time=   0.0s\n",
      "[CV 1/5] END .........C=10, degree=1, gamma=0.01, kernel=rbf; total time=   0.0s\n",
      "[CV 2/5] END .........C=10, degree=1, gamma=0.01, kernel=rbf; total time=   0.0s\n",
      "[CV 3/5] END .........C=10, degree=1, gamma=0.01, kernel=rbf; total time=   0.0s\n",
      "[CV 4/5] END .........C=10, degree=1, gamma=0.01, kernel=rbf; total time=   0.0s\n",
      "[CV 5/5] END .........C=10, degree=1, gamma=0.01, kernel=rbf; total time=   0.0s\n",
      "[CV 1/5] END .....C=10, degree=1, gamma=0.01, kernel=sigmoid; total time=   0.0s\n",
      "[CV 2/5] END .....C=10, degree=1, gamma=0.01, kernel=sigmoid; total time=   0.0s\n",
      "[CV 3/5] END .....C=10, degree=1, gamma=0.01, kernel=sigmoid; total time=   0.0s\n",
      "[CV 4/5] END .....C=10, degree=1, gamma=0.01, kernel=sigmoid; total time=   0.0s\n",
      "[CV 5/5] END .....C=10, degree=1, gamma=0.01, kernel=sigmoid; total time=   0.0s\n",
      "[CV 1/5] END ........C=10, degree=1, gamma=0.01, kernel=poly; total time=   0.0s\n",
      "[CV 2/5] END ........C=10, degree=1, gamma=0.01, kernel=poly; total time=   0.0s\n",
      "[CV 3/5] END ........C=10, degree=1, gamma=0.01, kernel=poly; total time=   0.0s\n",
      "[CV 4/5] END ........C=10, degree=1, gamma=0.01, kernel=poly; total time=   0.0s\n",
      "[CV 5/5] END ........C=10, degree=1, gamma=0.01, kernel=poly; total time=   0.0s\n",
      "[CV 1/5] END .....C=10, degree=1, gamma=0.001, kernel=linear; total time=   0.0s\n",
      "[CV 2/5] END .....C=10, degree=1, gamma=0.001, kernel=linear; total time=   0.0s\n",
      "[CV 3/5] END .....C=10, degree=1, gamma=0.001, kernel=linear; total time=   0.0s\n",
      "[CV 4/5] END .....C=10, degree=1, gamma=0.001, kernel=linear; total time=   0.0s\n",
      "[CV 5/5] END .....C=10, degree=1, gamma=0.001, kernel=linear; total time=   0.0s\n",
      "[CV 1/5] END ........C=10, degree=1, gamma=0.001, kernel=rbf; total time=   0.0s\n",
      "[CV 2/5] END ........C=10, degree=1, gamma=0.001, kernel=rbf; total time=   0.0s\n",
      "[CV 3/5] END ........C=10, degree=1, gamma=0.001, kernel=rbf; total time=   0.0s\n",
      "[CV 4/5] END ........C=10, degree=1, gamma=0.001, kernel=rbf; total time=   0.0s\n",
      "[CV 5/5] END ........C=10, degree=1, gamma=0.001, kernel=rbf; total time=   0.0s\n",
      "[CV 1/5] END ....C=10, degree=1, gamma=0.001, kernel=sigmoid; total time=   0.0s\n",
      "[CV 2/5] END ....C=10, degree=1, gamma=0.001, kernel=sigmoid; total time=   0.0s\n",
      "[CV 3/5] END ....C=10, degree=1, gamma=0.001, kernel=sigmoid; total time=   0.0s\n",
      "[CV 4/5] END ....C=10, degree=1, gamma=0.001, kernel=sigmoid; total time=   0.0s\n",
      "[CV 5/5] END ....C=10, degree=1, gamma=0.001, kernel=sigmoid; total time=   0.0s\n",
      "[CV 1/5] END .......C=10, degree=1, gamma=0.001, kernel=poly; total time=   0.0s\n",
      "[CV 2/5] END .......C=10, degree=1, gamma=0.001, kernel=poly; total time=   0.0s\n",
      "[CV 3/5] END .......C=10, degree=1, gamma=0.001, kernel=poly; total time=   0.0s\n",
      "[CV 4/5] END .......C=10, degree=1, gamma=0.001, kernel=poly; total time=   0.0s\n",
      "[CV 5/5] END .......C=10, degree=1, gamma=0.001, kernel=poly; total time=   0.0s\n",
      "[CV 1/5] END ....C=10, degree=1, gamma=0.0001, kernel=linear; total time=   0.0s\n",
      "[CV 2/5] END ....C=10, degree=1, gamma=0.0001, kernel=linear; total time=   0.0s\n",
      "[CV 3/5] END ....C=10, degree=1, gamma=0.0001, kernel=linear; total time=   0.0s\n",
      "[CV 4/5] END ....C=10, degree=1, gamma=0.0001, kernel=linear; total time=   0.0s\n",
      "[CV 5/5] END ....C=10, degree=1, gamma=0.0001, kernel=linear; total time=   0.0s\n",
      "[CV 1/5] END .......C=10, degree=1, gamma=0.0001, kernel=rbf; total time=   0.0s\n"
     ]
    },
    {
     "name": "stdout",
     "output_type": "stream",
     "text": [
      "[CV 2/5] END .......C=10, degree=1, gamma=0.0001, kernel=rbf; total time=   0.0s\n",
      "[CV 3/5] END .......C=10, degree=1, gamma=0.0001, kernel=rbf; total time=   0.0s\n",
      "[CV 4/5] END .......C=10, degree=1, gamma=0.0001, kernel=rbf; total time=   0.0s\n",
      "[CV 5/5] END .......C=10, degree=1, gamma=0.0001, kernel=rbf; total time=   0.0s\n",
      "[CV 1/5] END ...C=10, degree=1, gamma=0.0001, kernel=sigmoid; total time=   0.0s\n",
      "[CV 2/5] END ...C=10, degree=1, gamma=0.0001, kernel=sigmoid; total time=   0.0s\n",
      "[CV 3/5] END ...C=10, degree=1, gamma=0.0001, kernel=sigmoid; total time=   0.0s\n",
      "[CV 4/5] END ...C=10, degree=1, gamma=0.0001, kernel=sigmoid; total time=   0.0s\n",
      "[CV 5/5] END ...C=10, degree=1, gamma=0.0001, kernel=sigmoid; total time=   0.0s\n",
      "[CV 1/5] END ......C=10, degree=1, gamma=0.0001, kernel=poly; total time=   0.0s\n",
      "[CV 2/5] END ......C=10, degree=1, gamma=0.0001, kernel=poly; total time=   0.0s\n",
      "[CV 3/5] END ......C=10, degree=1, gamma=0.0001, kernel=poly; total time=   0.0s\n",
      "[CV 4/5] END ......C=10, degree=1, gamma=0.0001, kernel=poly; total time=   0.0s\n",
      "[CV 5/5] END ......C=10, degree=1, gamma=0.0001, kernel=poly; total time=   0.0s\n",
      "[CV 1/5] END .....C=10, degree=2, gamma=scale, kernel=linear; total time=   0.0s\n",
      "[CV 2/5] END .....C=10, degree=2, gamma=scale, kernel=linear; total time=   0.0s\n",
      "[CV 3/5] END .....C=10, degree=2, gamma=scale, kernel=linear; total time=   0.0s\n",
      "[CV 4/5] END .....C=10, degree=2, gamma=scale, kernel=linear; total time=   0.0s\n",
      "[CV 5/5] END .....C=10, degree=2, gamma=scale, kernel=linear; total time=   0.0s\n",
      "[CV 1/5] END ........C=10, degree=2, gamma=scale, kernel=rbf; total time=   0.0s\n",
      "[CV 2/5] END ........C=10, degree=2, gamma=scale, kernel=rbf; total time=   0.0s\n",
      "[CV 3/5] END ........C=10, degree=2, gamma=scale, kernel=rbf; total time=   0.0s\n",
      "[CV 4/5] END ........C=10, degree=2, gamma=scale, kernel=rbf; total time=   0.0s\n",
      "[CV 5/5] END ........C=10, degree=2, gamma=scale, kernel=rbf; total time=   0.0s\n",
      "[CV 1/5] END ....C=10, degree=2, gamma=scale, kernel=sigmoid; total time=   0.0s\n",
      "[CV 2/5] END ....C=10, degree=2, gamma=scale, kernel=sigmoid; total time=   0.0s\n",
      "[CV 3/5] END ....C=10, degree=2, gamma=scale, kernel=sigmoid; total time=   0.0s\n",
      "[CV 4/5] END ....C=10, degree=2, gamma=scale, kernel=sigmoid; total time=   0.0s\n",
      "[CV 5/5] END ....C=10, degree=2, gamma=scale, kernel=sigmoid; total time=   0.0s\n",
      "[CV 1/5] END .......C=10, degree=2, gamma=scale, kernel=poly; total time=   0.0s\n",
      "[CV 2/5] END .......C=10, degree=2, gamma=scale, kernel=poly; total time=   0.0s\n",
      "[CV 3/5] END .......C=10, degree=2, gamma=scale, kernel=poly; total time=   0.0s\n",
      "[CV 4/5] END .......C=10, degree=2, gamma=scale, kernel=poly; total time=   0.0s\n",
      "[CV 5/5] END .......C=10, degree=2, gamma=scale, kernel=poly; total time=   0.0s\n",
      "[CV 1/5] END ......C=10, degree=2, gamma=auto, kernel=linear; total time=   0.0s\n",
      "[CV 2/5] END ......C=10, degree=2, gamma=auto, kernel=linear; total time=   0.0s\n",
      "[CV 3/5] END ......C=10, degree=2, gamma=auto, kernel=linear; total time=   0.0s\n",
      "[CV 4/5] END ......C=10, degree=2, gamma=auto, kernel=linear; total time=   0.0s\n",
      "[CV 5/5] END ......C=10, degree=2, gamma=auto, kernel=linear; total time=   0.0s\n",
      "[CV 1/5] END .........C=10, degree=2, gamma=auto, kernel=rbf; total time=   0.0s\n",
      "[CV 2/5] END .........C=10, degree=2, gamma=auto, kernel=rbf; total time=   0.0s\n",
      "[CV 3/5] END .........C=10, degree=2, gamma=auto, kernel=rbf; total time=   0.0s\n",
      "[CV 4/5] END .........C=10, degree=2, gamma=auto, kernel=rbf; total time=   0.0s\n",
      "[CV 5/5] END .........C=10, degree=2, gamma=auto, kernel=rbf; total time=   0.0s\n",
      "[CV 1/5] END .....C=10, degree=2, gamma=auto, kernel=sigmoid; total time=   0.0s\n",
      "[CV 2/5] END .....C=10, degree=2, gamma=auto, kernel=sigmoid; total time=   0.0s\n",
      "[CV 3/5] END .....C=10, degree=2, gamma=auto, kernel=sigmoid; total time=   0.0s\n",
      "[CV 4/5] END .....C=10, degree=2, gamma=auto, kernel=sigmoid; total time=   0.0s\n",
      "[CV 5/5] END .....C=10, degree=2, gamma=auto, kernel=sigmoid; total time=   0.0s\n",
      "[CV 1/5] END ........C=10, degree=2, gamma=auto, kernel=poly; total time=   0.0s\n",
      "[CV 2/5] END ........C=10, degree=2, gamma=auto, kernel=poly; total time=   0.0s\n",
      "[CV 3/5] END ........C=10, degree=2, gamma=auto, kernel=poly; total time=   0.0s\n",
      "[CV 4/5] END ........C=10, degree=2, gamma=auto, kernel=poly; total time=   0.0s\n",
      "[CV 5/5] END ........C=10, degree=2, gamma=auto, kernel=poly; total time=   0.0s\n",
      "[CV 1/5] END .........C=10, degree=2, gamma=1, kernel=linear; total time=   0.0s\n",
      "[CV 2/5] END .........C=10, degree=2, gamma=1, kernel=linear; total time=   0.0s\n",
      "[CV 3/5] END .........C=10, degree=2, gamma=1, kernel=linear; total time=   0.0s\n",
      "[CV 4/5] END .........C=10, degree=2, gamma=1, kernel=linear; total time=   0.0s\n",
      "[CV 5/5] END .........C=10, degree=2, gamma=1, kernel=linear; total time=   0.0s\n",
      "[CV 1/5] END ............C=10, degree=2, gamma=1, kernel=rbf; total time=   0.0s\n",
      "[CV 2/5] END ............C=10, degree=2, gamma=1, kernel=rbf; total time=   0.0s\n",
      "[CV 3/5] END ............C=10, degree=2, gamma=1, kernel=rbf; total time=   0.0s\n",
      "[CV 4/5] END ............C=10, degree=2, gamma=1, kernel=rbf; total time=   0.0s\n",
      "[CV 5/5] END ............C=10, degree=2, gamma=1, kernel=rbf; total time=   0.0s\n",
      "[CV 1/5] END ........C=10, degree=2, gamma=1, kernel=sigmoid; total time=   0.0s\n",
      "[CV 2/5] END ........C=10, degree=2, gamma=1, kernel=sigmoid; total time=   0.0s\n",
      "[CV 3/5] END ........C=10, degree=2, gamma=1, kernel=sigmoid; total time=   0.0s\n",
      "[CV 4/5] END ........C=10, degree=2, gamma=1, kernel=sigmoid; total time=   0.0s\n",
      "[CV 5/5] END ........C=10, degree=2, gamma=1, kernel=sigmoid; total time=   0.0s\n",
      "[CV 1/5] END ...........C=10, degree=2, gamma=1, kernel=poly; total time=   0.1s\n",
      "[CV 2/5] END ...........C=10, degree=2, gamma=1, kernel=poly; total time=   0.0s\n",
      "[CV 3/5] END ...........C=10, degree=2, gamma=1, kernel=poly; total time=   0.0s\n",
      "[CV 4/5] END ...........C=10, degree=2, gamma=1, kernel=poly; total time=   0.0s\n",
      "[CV 5/5] END ...........C=10, degree=2, gamma=1, kernel=poly; total time=   0.2s\n",
      "[CV 1/5] END .......C=10, degree=2, gamma=0.1, kernel=linear; total time=   0.0s\n",
      "[CV 2/5] END .......C=10, degree=2, gamma=0.1, kernel=linear; total time=   0.0s\n",
      "[CV 3/5] END .......C=10, degree=2, gamma=0.1, kernel=linear; total time=   0.0s\n",
      "[CV 4/5] END .......C=10, degree=2, gamma=0.1, kernel=linear; total time=   0.0s\n",
      "[CV 5/5] END .......C=10, degree=2, gamma=0.1, kernel=linear; total time=   0.0s\n",
      "[CV 1/5] END ..........C=10, degree=2, gamma=0.1, kernel=rbf; total time=   0.0s\n",
      "[CV 2/5] END ..........C=10, degree=2, gamma=0.1, kernel=rbf; total time=   0.0s\n",
      "[CV 3/5] END ..........C=10, degree=2, gamma=0.1, kernel=rbf; total time=   0.0s\n",
      "[CV 4/5] END ..........C=10, degree=2, gamma=0.1, kernel=rbf; total time=   0.0s\n",
      "[CV 5/5] END ..........C=10, degree=2, gamma=0.1, kernel=rbf; total time=   0.0s\n",
      "[CV 1/5] END ......C=10, degree=2, gamma=0.1, kernel=sigmoid; total time=   0.0s\n",
      "[CV 2/5] END ......C=10, degree=2, gamma=0.1, kernel=sigmoid; total time=   0.0s\n",
      "[CV 3/5] END ......C=10, degree=2, gamma=0.1, kernel=sigmoid; total time=   0.0s\n",
      "[CV 4/5] END ......C=10, degree=2, gamma=0.1, kernel=sigmoid; total time=   0.0s\n",
      "[CV 5/5] END ......C=10, degree=2, gamma=0.1, kernel=sigmoid; total time=   0.0s\n",
      "[CV 1/5] END .........C=10, degree=2, gamma=0.1, kernel=poly; total time=   0.0s\n",
      "[CV 2/5] END .........C=10, degree=2, gamma=0.1, kernel=poly; total time=   0.0s\n",
      "[CV 3/5] END .........C=10, degree=2, gamma=0.1, kernel=poly; total time=   0.0s\n",
      "[CV 4/5] END .........C=10, degree=2, gamma=0.1, kernel=poly; total time=   0.0s\n",
      "[CV 5/5] END .........C=10, degree=2, gamma=0.1, kernel=poly; total time=   0.0s\n",
      "[CV 1/5] END ......C=10, degree=2, gamma=0.01, kernel=linear; total time=   0.0s\n",
      "[CV 2/5] END ......C=10, degree=2, gamma=0.01, kernel=linear; total time=   0.0s\n",
      "[CV 3/5] END ......C=10, degree=2, gamma=0.01, kernel=linear; total time=   0.0s\n",
      "[CV 4/5] END ......C=10, degree=2, gamma=0.01, kernel=linear; total time=   0.0s\n",
      "[CV 5/5] END ......C=10, degree=2, gamma=0.01, kernel=linear; total time=   0.0s\n",
      "[CV 1/5] END .........C=10, degree=2, gamma=0.01, kernel=rbf; total time=   0.0s\n",
      "[CV 2/5] END .........C=10, degree=2, gamma=0.01, kernel=rbf; total time=   0.0s\n",
      "[CV 3/5] END .........C=10, degree=2, gamma=0.01, kernel=rbf; total time=   0.0s\n",
      "[CV 4/5] END .........C=10, degree=2, gamma=0.01, kernel=rbf; total time=   0.0s\n",
      "[CV 5/5] END .........C=10, degree=2, gamma=0.01, kernel=rbf; total time=   0.0s\n",
      "[CV 1/5] END .....C=10, degree=2, gamma=0.01, kernel=sigmoid; total time=   0.0s\n",
      "[CV 2/5] END .....C=10, degree=2, gamma=0.01, kernel=sigmoid; total time=   0.0s\n",
      "[CV 3/5] END .....C=10, degree=2, gamma=0.01, kernel=sigmoid; total time=   0.0s\n",
      "[CV 4/5] END .....C=10, degree=2, gamma=0.01, kernel=sigmoid; total time=   0.0s\n",
      "[CV 5/5] END .....C=10, degree=2, gamma=0.01, kernel=sigmoid; total time=   0.0s\n",
      "[CV 1/5] END ........C=10, degree=2, gamma=0.01, kernel=poly; total time=   0.0s\n",
      "[CV 2/5] END ........C=10, degree=2, gamma=0.01, kernel=poly; total time=   0.0s\n",
      "[CV 3/5] END ........C=10, degree=2, gamma=0.01, kernel=poly; total time=   0.0s\n",
      "[CV 4/5] END ........C=10, degree=2, gamma=0.01, kernel=poly; total time=   0.0s\n",
      "[CV 5/5] END ........C=10, degree=2, gamma=0.01, kernel=poly; total time=   0.0s\n",
      "[CV 1/5] END .....C=10, degree=2, gamma=0.001, kernel=linear; total time=   0.0s\n",
      "[CV 2/5] END .....C=10, degree=2, gamma=0.001, kernel=linear; total time=   0.0s\n"
     ]
    },
    {
     "name": "stdout",
     "output_type": "stream",
     "text": [
      "[CV 3/5] END .....C=10, degree=2, gamma=0.001, kernel=linear; total time=   0.0s\n",
      "[CV 4/5] END .....C=10, degree=2, gamma=0.001, kernel=linear; total time=   0.0s\n",
      "[CV 5/5] END .....C=10, degree=2, gamma=0.001, kernel=linear; total time=   0.0s\n",
      "[CV 1/5] END ........C=10, degree=2, gamma=0.001, kernel=rbf; total time=   0.0s\n",
      "[CV 2/5] END ........C=10, degree=2, gamma=0.001, kernel=rbf; total time=   0.0s\n",
      "[CV 3/5] END ........C=10, degree=2, gamma=0.001, kernel=rbf; total time=   0.0s\n",
      "[CV 4/5] END ........C=10, degree=2, gamma=0.001, kernel=rbf; total time=   0.0s\n",
      "[CV 5/5] END ........C=10, degree=2, gamma=0.001, kernel=rbf; total time=   0.0s\n",
      "[CV 1/5] END ....C=10, degree=2, gamma=0.001, kernel=sigmoid; total time=   0.0s\n",
      "[CV 2/5] END ....C=10, degree=2, gamma=0.001, kernel=sigmoid; total time=   0.0s\n",
      "[CV 3/5] END ....C=10, degree=2, gamma=0.001, kernel=sigmoid; total time=   0.0s\n",
      "[CV 4/5] END ....C=10, degree=2, gamma=0.001, kernel=sigmoid; total time=   0.0s\n",
      "[CV 5/5] END ....C=10, degree=2, gamma=0.001, kernel=sigmoid; total time=   0.0s\n",
      "[CV 1/5] END .......C=10, degree=2, gamma=0.001, kernel=poly; total time=   0.0s\n",
      "[CV 2/5] END .......C=10, degree=2, gamma=0.001, kernel=poly; total time=   0.0s\n",
      "[CV 3/5] END .......C=10, degree=2, gamma=0.001, kernel=poly; total time=   0.0s\n",
      "[CV 4/5] END .......C=10, degree=2, gamma=0.001, kernel=poly; total time=   0.0s\n",
      "[CV 5/5] END .......C=10, degree=2, gamma=0.001, kernel=poly; total time=   0.0s\n",
      "[CV 1/5] END ....C=10, degree=2, gamma=0.0001, kernel=linear; total time=   0.0s\n",
      "[CV 2/5] END ....C=10, degree=2, gamma=0.0001, kernel=linear; total time=   0.0s\n",
      "[CV 3/5] END ....C=10, degree=2, gamma=0.0001, kernel=linear; total time=   0.0s\n",
      "[CV 4/5] END ....C=10, degree=2, gamma=0.0001, kernel=linear; total time=   0.0s\n",
      "[CV 5/5] END ....C=10, degree=2, gamma=0.0001, kernel=linear; total time=   0.0s\n",
      "[CV 1/5] END .......C=10, degree=2, gamma=0.0001, kernel=rbf; total time=   0.0s\n",
      "[CV 2/5] END .......C=10, degree=2, gamma=0.0001, kernel=rbf; total time=   0.0s\n",
      "[CV 3/5] END .......C=10, degree=2, gamma=0.0001, kernel=rbf; total time=   0.0s\n",
      "[CV 4/5] END .......C=10, degree=2, gamma=0.0001, kernel=rbf; total time=   0.0s\n",
      "[CV 5/5] END .......C=10, degree=2, gamma=0.0001, kernel=rbf; total time=   0.0s\n",
      "[CV 1/5] END ...C=10, degree=2, gamma=0.0001, kernel=sigmoid; total time=   0.0s\n",
      "[CV 2/5] END ...C=10, degree=2, gamma=0.0001, kernel=sigmoid; total time=   0.0s\n",
      "[CV 3/5] END ...C=10, degree=2, gamma=0.0001, kernel=sigmoid; total time=   0.0s\n",
      "[CV 4/5] END ...C=10, degree=2, gamma=0.0001, kernel=sigmoid; total time=   0.0s\n",
      "[CV 5/5] END ...C=10, degree=2, gamma=0.0001, kernel=sigmoid; total time=   0.0s\n",
      "[CV 1/5] END ......C=10, degree=2, gamma=0.0001, kernel=poly; total time=   0.0s\n",
      "[CV 2/5] END ......C=10, degree=2, gamma=0.0001, kernel=poly; total time=   0.0s\n",
      "[CV 3/5] END ......C=10, degree=2, gamma=0.0001, kernel=poly; total time=   0.0s\n",
      "[CV 4/5] END ......C=10, degree=2, gamma=0.0001, kernel=poly; total time=   0.0s\n",
      "[CV 5/5] END ......C=10, degree=2, gamma=0.0001, kernel=poly; total time=   0.0s\n",
      "[CV 1/5] END ....C=100, degree=1, gamma=scale, kernel=linear; total time=   0.1s\n",
      "[CV 2/5] END ....C=100, degree=1, gamma=scale, kernel=linear; total time=   0.0s\n",
      "[CV 3/5] END ....C=100, degree=1, gamma=scale, kernel=linear; total time=   0.0s\n",
      "[CV 4/5] END ....C=100, degree=1, gamma=scale, kernel=linear; total time=   0.1s\n",
      "[CV 5/5] END ....C=100, degree=1, gamma=scale, kernel=linear; total time=   0.0s\n",
      "[CV 1/5] END .......C=100, degree=1, gamma=scale, kernel=rbf; total time=   0.0s\n",
      "[CV 2/5] END .......C=100, degree=1, gamma=scale, kernel=rbf; total time=   0.0s\n",
      "[CV 3/5] END .......C=100, degree=1, gamma=scale, kernel=rbf; total time=   0.0s\n",
      "[CV 4/5] END .......C=100, degree=1, gamma=scale, kernel=rbf; total time=   0.0s\n",
      "[CV 5/5] END .......C=100, degree=1, gamma=scale, kernel=rbf; total time=   0.0s\n",
      "[CV 1/5] END ...C=100, degree=1, gamma=scale, kernel=sigmoid; total time=   0.0s\n",
      "[CV 2/5] END ...C=100, degree=1, gamma=scale, kernel=sigmoid; total time=   0.0s\n",
      "[CV 3/5] END ...C=100, degree=1, gamma=scale, kernel=sigmoid; total time=   0.0s\n",
      "[CV 4/5] END ...C=100, degree=1, gamma=scale, kernel=sigmoid; total time=   0.0s\n",
      "[CV 5/5] END ...C=100, degree=1, gamma=scale, kernel=sigmoid; total time=   0.0s\n",
      "[CV 1/5] END ......C=100, degree=1, gamma=scale, kernel=poly; total time=   0.0s\n",
      "[CV 2/5] END ......C=100, degree=1, gamma=scale, kernel=poly; total time=   0.0s\n",
      "[CV 3/5] END ......C=100, degree=1, gamma=scale, kernel=poly; total time=   0.0s\n",
      "[CV 4/5] END ......C=100, degree=1, gamma=scale, kernel=poly; total time=   0.0s\n",
      "[CV 5/5] END ......C=100, degree=1, gamma=scale, kernel=poly; total time=   0.0s\n",
      "[CV 1/5] END .....C=100, degree=1, gamma=auto, kernel=linear; total time=   0.1s\n",
      "[CV 2/5] END .....C=100, degree=1, gamma=auto, kernel=linear; total time=   0.0s\n",
      "[CV 3/5] END .....C=100, degree=1, gamma=auto, kernel=linear; total time=   0.0s\n",
      "[CV 4/5] END .....C=100, degree=1, gamma=auto, kernel=linear; total time=   0.1s\n",
      "[CV 5/5] END .....C=100, degree=1, gamma=auto, kernel=linear; total time=   0.0s\n",
      "[CV 1/5] END ........C=100, degree=1, gamma=auto, kernel=rbf; total time=   0.0s\n",
      "[CV 2/5] END ........C=100, degree=1, gamma=auto, kernel=rbf; total time=   0.0s\n",
      "[CV 3/5] END ........C=100, degree=1, gamma=auto, kernel=rbf; total time=   0.0s\n",
      "[CV 4/5] END ........C=100, degree=1, gamma=auto, kernel=rbf; total time=   0.0s\n",
      "[CV 5/5] END ........C=100, degree=1, gamma=auto, kernel=rbf; total time=   0.0s\n",
      "[CV 1/5] END ....C=100, degree=1, gamma=auto, kernel=sigmoid; total time=   0.0s\n",
      "[CV 2/5] END ....C=100, degree=1, gamma=auto, kernel=sigmoid; total time=   0.0s\n",
      "[CV 3/5] END ....C=100, degree=1, gamma=auto, kernel=sigmoid; total time=   0.0s\n",
      "[CV 4/5] END ....C=100, degree=1, gamma=auto, kernel=sigmoid; total time=   0.0s\n",
      "[CV 5/5] END ....C=100, degree=1, gamma=auto, kernel=sigmoid; total time=   0.0s\n",
      "[CV 1/5] END .......C=100, degree=1, gamma=auto, kernel=poly; total time=   0.0s\n",
      "[CV 2/5] END .......C=100, degree=1, gamma=auto, kernel=poly; total time=   0.0s\n",
      "[CV 3/5] END .......C=100, degree=1, gamma=auto, kernel=poly; total time=   0.0s\n",
      "[CV 4/5] END .......C=100, degree=1, gamma=auto, kernel=poly; total time=   0.0s\n",
      "[CV 5/5] END .......C=100, degree=1, gamma=auto, kernel=poly; total time=   0.0s\n",
      "[CV 1/5] END ........C=100, degree=1, gamma=1, kernel=linear; total time=   0.1s\n",
      "[CV 2/5] END ........C=100, degree=1, gamma=1, kernel=linear; total time=   0.0s\n",
      "[CV 3/5] END ........C=100, degree=1, gamma=1, kernel=linear; total time=   0.0s\n",
      "[CV 4/5] END ........C=100, degree=1, gamma=1, kernel=linear; total time=   0.1s\n",
      "[CV 5/5] END ........C=100, degree=1, gamma=1, kernel=linear; total time=   0.0s\n",
      "[CV 1/5] END ...........C=100, degree=1, gamma=1, kernel=rbf; total time=   0.0s\n",
      "[CV 2/5] END ...........C=100, degree=1, gamma=1, kernel=rbf; total time=   0.0s\n",
      "[CV 3/5] END ...........C=100, degree=1, gamma=1, kernel=rbf; total time=   0.0s\n",
      "[CV 4/5] END ...........C=100, degree=1, gamma=1, kernel=rbf; total time=   0.0s\n",
      "[CV 5/5] END ...........C=100, degree=1, gamma=1, kernel=rbf; total time=   0.0s\n",
      "[CV 1/5] END .......C=100, degree=1, gamma=1, kernel=sigmoid; total time=   0.0s\n",
      "[CV 2/5] END .......C=100, degree=1, gamma=1, kernel=sigmoid; total time=   0.0s\n",
      "[CV 3/5] END .......C=100, degree=1, gamma=1, kernel=sigmoid; total time=   0.0s\n",
      "[CV 4/5] END .......C=100, degree=1, gamma=1, kernel=sigmoid; total time=   0.0s\n",
      "[CV 5/5] END .......C=100, degree=1, gamma=1, kernel=sigmoid; total time=   0.0s\n",
      "[CV 1/5] END ..........C=100, degree=1, gamma=1, kernel=poly; total time=   0.1s\n",
      "[CV 2/5] END ..........C=100, degree=1, gamma=1, kernel=poly; total time=   0.0s\n",
      "[CV 3/5] END ..........C=100, degree=1, gamma=1, kernel=poly; total time=   0.0s\n",
      "[CV 4/5] END ..........C=100, degree=1, gamma=1, kernel=poly; total time=   0.1s\n",
      "[CV 5/5] END ..........C=100, degree=1, gamma=1, kernel=poly; total time=   0.0s\n",
      "[CV 1/5] END ......C=100, degree=1, gamma=0.1, kernel=linear; total time=   0.1s\n",
      "[CV 2/5] END ......C=100, degree=1, gamma=0.1, kernel=linear; total time=   0.0s\n",
      "[CV 3/5] END ......C=100, degree=1, gamma=0.1, kernel=linear; total time=   0.0s\n",
      "[CV 4/5] END ......C=100, degree=1, gamma=0.1, kernel=linear; total time=   0.2s\n",
      "[CV 5/5] END ......C=100, degree=1, gamma=0.1, kernel=linear; total time=   0.1s\n",
      "[CV 1/5] END .........C=100, degree=1, gamma=0.1, kernel=rbf; total time=   0.0s\n"
     ]
    },
    {
     "name": "stdout",
     "output_type": "stream",
     "text": [
      "[CV 2/5] END .........C=100, degree=1, gamma=0.1, kernel=rbf; total time=   0.0s\n",
      "[CV 3/5] END .........C=100, degree=1, gamma=0.1, kernel=rbf; total time=   0.0s\n",
      "[CV 4/5] END .........C=100, degree=1, gamma=0.1, kernel=rbf; total time=   0.0s\n",
      "[CV 5/5] END .........C=100, degree=1, gamma=0.1, kernel=rbf; total time=   0.0s\n",
      "[CV 1/5] END .....C=100, degree=1, gamma=0.1, kernel=sigmoid; total time=   0.0s\n",
      "[CV 2/5] END .....C=100, degree=1, gamma=0.1, kernel=sigmoid; total time=   0.0s\n",
      "[CV 3/5] END .....C=100, degree=1, gamma=0.1, kernel=sigmoid; total time=   0.0s\n",
      "[CV 4/5] END .....C=100, degree=1, gamma=0.1, kernel=sigmoid; total time=   0.0s\n",
      "[CV 5/5] END .....C=100, degree=1, gamma=0.1, kernel=sigmoid; total time=   0.0s\n",
      "[CV 1/5] END ........C=100, degree=1, gamma=0.1, kernel=poly; total time=   0.0s\n",
      "[CV 2/5] END ........C=100, degree=1, gamma=0.1, kernel=poly; total time=   0.0s\n",
      "[CV 3/5] END ........C=100, degree=1, gamma=0.1, kernel=poly; total time=   0.0s\n",
      "[CV 4/5] END ........C=100, degree=1, gamma=0.1, kernel=poly; total time=   0.0s\n",
      "[CV 5/5] END ........C=100, degree=1, gamma=0.1, kernel=poly; total time=   0.0s\n",
      "[CV 1/5] END .....C=100, degree=1, gamma=0.01, kernel=linear; total time=   0.1s\n",
      "[CV 2/5] END .....C=100, degree=1, gamma=0.01, kernel=linear; total time=   0.0s\n",
      "[CV 3/5] END .....C=100, degree=1, gamma=0.01, kernel=linear; total time=   0.0s\n",
      "[CV 4/5] END .....C=100, degree=1, gamma=0.01, kernel=linear; total time=   0.2s\n",
      "[CV 5/5] END .....C=100, degree=1, gamma=0.01, kernel=linear; total time=   0.0s\n",
      "[CV 1/5] END ........C=100, degree=1, gamma=0.01, kernel=rbf; total time=   0.0s\n",
      "[CV 2/5] END ........C=100, degree=1, gamma=0.01, kernel=rbf; total time=   0.0s\n",
      "[CV 3/5] END ........C=100, degree=1, gamma=0.01, kernel=rbf; total time=   0.0s\n",
      "[CV 4/5] END ........C=100, degree=1, gamma=0.01, kernel=rbf; total time=   0.0s\n",
      "[CV 5/5] END ........C=100, degree=1, gamma=0.01, kernel=rbf; total time=   0.0s\n",
      "[CV 1/5] END ....C=100, degree=1, gamma=0.01, kernel=sigmoid; total time=   0.0s\n",
      "[CV 2/5] END ....C=100, degree=1, gamma=0.01, kernel=sigmoid; total time=   0.0s\n",
      "[CV 3/5] END ....C=100, degree=1, gamma=0.01, kernel=sigmoid; total time=   0.0s\n",
      "[CV 4/5] END ....C=100, degree=1, gamma=0.01, kernel=sigmoid; total time=   0.0s\n",
      "[CV 5/5] END ....C=100, degree=1, gamma=0.01, kernel=sigmoid; total time=   0.0s\n",
      "[CV 1/5] END .......C=100, degree=1, gamma=0.01, kernel=poly; total time=   0.0s\n",
      "[CV 2/5] END .......C=100, degree=1, gamma=0.01, kernel=poly; total time=   0.0s\n",
      "[CV 3/5] END .......C=100, degree=1, gamma=0.01, kernel=poly; total time=   0.0s\n",
      "[CV 4/5] END .......C=100, degree=1, gamma=0.01, kernel=poly; total time=   0.0s\n",
      "[CV 5/5] END .......C=100, degree=1, gamma=0.01, kernel=poly; total time=   0.0s\n",
      "[CV 1/5] END ....C=100, degree=1, gamma=0.001, kernel=linear; total time=   0.1s\n",
      "[CV 2/5] END ....C=100, degree=1, gamma=0.001, kernel=linear; total time=   0.0s\n",
      "[CV 3/5] END ....C=100, degree=1, gamma=0.001, kernel=linear; total time=   0.0s\n",
      "[CV 4/5] END ....C=100, degree=1, gamma=0.001, kernel=linear; total time=   0.1s\n",
      "[CV 5/5] END ....C=100, degree=1, gamma=0.001, kernel=linear; total time=   0.0s\n",
      "[CV 1/5] END .......C=100, degree=1, gamma=0.001, kernel=rbf; total time=   0.0s\n",
      "[CV 2/5] END .......C=100, degree=1, gamma=0.001, kernel=rbf; total time=   0.0s\n",
      "[CV 3/5] END .......C=100, degree=1, gamma=0.001, kernel=rbf; total time=   0.0s\n",
      "[CV 4/5] END .......C=100, degree=1, gamma=0.001, kernel=rbf; total time=   0.0s\n",
      "[CV 5/5] END .......C=100, degree=1, gamma=0.001, kernel=rbf; total time=   0.0s\n",
      "[CV 1/5] END ...C=100, degree=1, gamma=0.001, kernel=sigmoid; total time=   0.0s\n",
      "[CV 2/5] END ...C=100, degree=1, gamma=0.001, kernel=sigmoid; total time=   0.0s\n",
      "[CV 3/5] END ...C=100, degree=1, gamma=0.001, kernel=sigmoid; total time=   0.0s\n",
      "[CV 4/5] END ...C=100, degree=1, gamma=0.001, kernel=sigmoid; total time=   0.0s\n",
      "[CV 5/5] END ...C=100, degree=1, gamma=0.001, kernel=sigmoid; total time=   0.0s\n",
      "[CV 1/5] END ......C=100, degree=1, gamma=0.001, kernel=poly; total time=   0.0s\n",
      "[CV 2/5] END ......C=100, degree=1, gamma=0.001, kernel=poly; total time=   0.0s\n",
      "[CV 3/5] END ......C=100, degree=1, gamma=0.001, kernel=poly; total time=   0.0s\n",
      "[CV 4/5] END ......C=100, degree=1, gamma=0.001, kernel=poly; total time=   0.0s\n",
      "[CV 5/5] END ......C=100, degree=1, gamma=0.001, kernel=poly; total time=   0.0s\n",
      "[CV 1/5] END ...C=100, degree=1, gamma=0.0001, kernel=linear; total time=   0.1s\n",
      "[CV 2/5] END ...C=100, degree=1, gamma=0.0001, kernel=linear; total time=   0.0s\n",
      "[CV 3/5] END ...C=100, degree=1, gamma=0.0001, kernel=linear; total time=   0.0s\n",
      "[CV 4/5] END ...C=100, degree=1, gamma=0.0001, kernel=linear; total time=   0.1s\n",
      "[CV 5/5] END ...C=100, degree=1, gamma=0.0001, kernel=linear; total time=   0.0s\n",
      "[CV 1/5] END ......C=100, degree=1, gamma=0.0001, kernel=rbf; total time=   0.0s\n",
      "[CV 2/5] END ......C=100, degree=1, gamma=0.0001, kernel=rbf; total time=   0.0s\n",
      "[CV 3/5] END ......C=100, degree=1, gamma=0.0001, kernel=rbf; total time=   0.0s\n",
      "[CV 4/5] END ......C=100, degree=1, gamma=0.0001, kernel=rbf; total time=   0.0s\n",
      "[CV 5/5] END ......C=100, degree=1, gamma=0.0001, kernel=rbf; total time=   0.0s\n",
      "[CV 1/5] END ..C=100, degree=1, gamma=0.0001, kernel=sigmoid; total time=   0.0s\n",
      "[CV 2/5] END ..C=100, degree=1, gamma=0.0001, kernel=sigmoid; total time=   0.0s\n",
      "[CV 3/5] END ..C=100, degree=1, gamma=0.0001, kernel=sigmoid; total time=   0.0s\n",
      "[CV 4/5] END ..C=100, degree=1, gamma=0.0001, kernel=sigmoid; total time=   0.0s\n",
      "[CV 5/5] END ..C=100, degree=1, gamma=0.0001, kernel=sigmoid; total time=   0.0s\n",
      "[CV 1/5] END .....C=100, degree=1, gamma=0.0001, kernel=poly; total time=   0.0s\n",
      "[CV 2/5] END .....C=100, degree=1, gamma=0.0001, kernel=poly; total time=   0.0s\n",
      "[CV 3/5] END .....C=100, degree=1, gamma=0.0001, kernel=poly; total time=   0.0s\n",
      "[CV 4/5] END .....C=100, degree=1, gamma=0.0001, kernel=poly; total time=   0.0s\n",
      "[CV 5/5] END .....C=100, degree=1, gamma=0.0001, kernel=poly; total time=   0.0s\n",
      "[CV 1/5] END ....C=100, degree=2, gamma=scale, kernel=linear; total time=   0.0s\n",
      "[CV 2/5] END ....C=100, degree=2, gamma=scale, kernel=linear; total time=   0.0s\n",
      "[CV 3/5] END ....C=100, degree=2, gamma=scale, kernel=linear; total time=   0.0s\n",
      "[CV 4/5] END ....C=100, degree=2, gamma=scale, kernel=linear; total time=   0.1s\n",
      "[CV 5/5] END ....C=100, degree=2, gamma=scale, kernel=linear; total time=   0.0s\n",
      "[CV 1/5] END .......C=100, degree=2, gamma=scale, kernel=rbf; total time=   0.0s\n",
      "[CV 2/5] END .......C=100, degree=2, gamma=scale, kernel=rbf; total time=   0.0s\n",
      "[CV 3/5] END .......C=100, degree=2, gamma=scale, kernel=rbf; total time=   0.0s\n",
      "[CV 4/5] END .......C=100, degree=2, gamma=scale, kernel=rbf; total time=   0.0s\n",
      "[CV 5/5] END .......C=100, degree=2, gamma=scale, kernel=rbf; total time=   0.0s\n",
      "[CV 1/5] END ...C=100, degree=2, gamma=scale, kernel=sigmoid; total time=   0.0s\n",
      "[CV 2/5] END ...C=100, degree=2, gamma=scale, kernel=sigmoid; total time=   0.0s\n",
      "[CV 3/5] END ...C=100, degree=2, gamma=scale, kernel=sigmoid; total time=   0.0s\n",
      "[CV 4/5] END ...C=100, degree=2, gamma=scale, kernel=sigmoid; total time=   0.0s\n",
      "[CV 5/5] END ...C=100, degree=2, gamma=scale, kernel=sigmoid; total time=   0.0s\n",
      "[CV 1/5] END ......C=100, degree=2, gamma=scale, kernel=poly; total time=   0.0s\n",
      "[CV 2/5] END ......C=100, degree=2, gamma=scale, kernel=poly; total time=   0.0s\n",
      "[CV 3/5] END ......C=100, degree=2, gamma=scale, kernel=poly; total time=   0.0s\n",
      "[CV 4/5] END ......C=100, degree=2, gamma=scale, kernel=poly; total time=   0.0s\n",
      "[CV 5/5] END ......C=100, degree=2, gamma=scale, kernel=poly; total time=   0.0s\n",
      "[CV 1/5] END .....C=100, degree=2, gamma=auto, kernel=linear; total time=   0.1s\n",
      "[CV 2/5] END .....C=100, degree=2, gamma=auto, kernel=linear; total time=   0.0s\n",
      "[CV 3/5] END .....C=100, degree=2, gamma=auto, kernel=linear; total time=   0.0s\n",
      "[CV 4/5] END .....C=100, degree=2, gamma=auto, kernel=linear; total time=   0.1s\n",
      "[CV 5/5] END .....C=100, degree=2, gamma=auto, kernel=linear; total time=   0.0s\n",
      "[CV 1/5] END ........C=100, degree=2, gamma=auto, kernel=rbf; total time=   0.0s\n",
      "[CV 2/5] END ........C=100, degree=2, gamma=auto, kernel=rbf; total time=   0.0s\n",
      "[CV 3/5] END ........C=100, degree=2, gamma=auto, kernel=rbf; total time=   0.0s\n",
      "[CV 4/5] END ........C=100, degree=2, gamma=auto, kernel=rbf; total time=   0.0s\n",
      "[CV 5/5] END ........C=100, degree=2, gamma=auto, kernel=rbf; total time=   0.0s\n",
      "[CV 1/5] END ....C=100, degree=2, gamma=auto, kernel=sigmoid; total time=   0.0s\n",
      "[CV 2/5] END ....C=100, degree=2, gamma=auto, kernel=sigmoid; total time=   0.0s\n",
      "[CV 3/5] END ....C=100, degree=2, gamma=auto, kernel=sigmoid; total time=   0.0s\n"
     ]
    },
    {
     "name": "stdout",
     "output_type": "stream",
     "text": [
      "[CV 4/5] END ....C=100, degree=2, gamma=auto, kernel=sigmoid; total time=   0.0s\n",
      "[CV 5/5] END ....C=100, degree=2, gamma=auto, kernel=sigmoid; total time=   0.0s\n",
      "[CV 1/5] END .......C=100, degree=2, gamma=auto, kernel=poly; total time=   0.0s\n",
      "[CV 2/5] END .......C=100, degree=2, gamma=auto, kernel=poly; total time=   0.0s\n",
      "[CV 3/5] END .......C=100, degree=2, gamma=auto, kernel=poly; total time=   0.0s\n",
      "[CV 4/5] END .......C=100, degree=2, gamma=auto, kernel=poly; total time=   0.0s\n",
      "[CV 5/5] END .......C=100, degree=2, gamma=auto, kernel=poly; total time=   0.0s\n",
      "[CV 1/5] END ........C=100, degree=2, gamma=1, kernel=linear; total time=   0.1s\n",
      "[CV 2/5] END ........C=100, degree=2, gamma=1, kernel=linear; total time=   0.0s\n",
      "[CV 3/5] END ........C=100, degree=2, gamma=1, kernel=linear; total time=   0.0s\n",
      "[CV 4/5] END ........C=100, degree=2, gamma=1, kernel=linear; total time=   0.1s\n",
      "[CV 5/5] END ........C=100, degree=2, gamma=1, kernel=linear; total time=   0.0s\n",
      "[CV 1/5] END ...........C=100, degree=2, gamma=1, kernel=rbf; total time=   0.0s\n",
      "[CV 2/5] END ...........C=100, degree=2, gamma=1, kernel=rbf; total time=   0.0s\n",
      "[CV 3/5] END ...........C=100, degree=2, gamma=1, kernel=rbf; total time=   0.0s\n",
      "[CV 4/5] END ...........C=100, degree=2, gamma=1, kernel=rbf; total time=   0.0s\n",
      "[CV 5/5] END ...........C=100, degree=2, gamma=1, kernel=rbf; total time=   0.0s\n",
      "[CV 1/5] END .......C=100, degree=2, gamma=1, kernel=sigmoid; total time=   0.0s\n",
      "[CV 2/5] END .......C=100, degree=2, gamma=1, kernel=sigmoid; total time=   0.0s\n",
      "[CV 3/5] END .......C=100, degree=2, gamma=1, kernel=sigmoid; total time=   0.0s\n",
      "[CV 4/5] END .......C=100, degree=2, gamma=1, kernel=sigmoid; total time=   0.0s\n",
      "[CV 5/5] END .......C=100, degree=2, gamma=1, kernel=sigmoid; total time=   0.0s\n",
      "[CV 1/5] END ..........C=100, degree=2, gamma=1, kernel=poly; total time=   0.2s\n",
      "[CV 2/5] END ..........C=100, degree=2, gamma=1, kernel=poly; total time=   0.0s\n",
      "[CV 3/5] END ..........C=100, degree=2, gamma=1, kernel=poly; total time=   0.0s\n",
      "[CV 4/5] END ..........C=100, degree=2, gamma=1, kernel=poly; total time=   0.0s\n",
      "[CV 5/5] END ..........C=100, degree=2, gamma=1, kernel=poly; total time=   0.6s\n",
      "[CV 1/5] END ......C=100, degree=2, gamma=0.1, kernel=linear; total time=   0.2s\n",
      "[CV 2/5] END ......C=100, degree=2, gamma=0.1, kernel=linear; total time=   0.0s\n",
      "[CV 3/5] END ......C=100, degree=2, gamma=0.1, kernel=linear; total time=   0.0s\n",
      "[CV 4/5] END ......C=100, degree=2, gamma=0.1, kernel=linear; total time=   0.2s\n",
      "[CV 5/5] END ......C=100, degree=2, gamma=0.1, kernel=linear; total time=   0.0s\n",
      "[CV 1/5] END .........C=100, degree=2, gamma=0.1, kernel=rbf; total time=   0.0s\n",
      "[CV 2/5] END .........C=100, degree=2, gamma=0.1, kernel=rbf; total time=   0.0s\n",
      "[CV 3/5] END .........C=100, degree=2, gamma=0.1, kernel=rbf; total time=   0.0s\n",
      "[CV 4/5] END .........C=100, degree=2, gamma=0.1, kernel=rbf; total time=   0.0s\n",
      "[CV 5/5] END .........C=100, degree=2, gamma=0.1, kernel=rbf; total time=   0.0s\n",
      "[CV 1/5] END .....C=100, degree=2, gamma=0.1, kernel=sigmoid; total time=   0.0s\n",
      "[CV 2/5] END .....C=100, degree=2, gamma=0.1, kernel=sigmoid; total time=   0.0s\n",
      "[CV 3/5] END .....C=100, degree=2, gamma=0.1, kernel=sigmoid; total time=   0.0s\n",
      "[CV 4/5] END .....C=100, degree=2, gamma=0.1, kernel=sigmoid; total time=   0.0s\n",
      "[CV 5/5] END .....C=100, degree=2, gamma=0.1, kernel=sigmoid; total time=   0.0s\n",
      "[CV 1/5] END ........C=100, degree=2, gamma=0.1, kernel=poly; total time=   0.0s\n",
      "[CV 2/5] END ........C=100, degree=2, gamma=0.1, kernel=poly; total time=   0.0s\n",
      "[CV 3/5] END ........C=100, degree=2, gamma=0.1, kernel=poly; total time=   0.0s\n",
      "[CV 4/5] END ........C=100, degree=2, gamma=0.1, kernel=poly; total time=   0.0s\n",
      "[CV 5/5] END ........C=100, degree=2, gamma=0.1, kernel=poly; total time=   0.0s\n",
      "[CV 1/5] END .....C=100, degree=2, gamma=0.01, kernel=linear; total time=   0.1s\n",
      "[CV 2/5] END .....C=100, degree=2, gamma=0.01, kernel=linear; total time=   0.0s\n",
      "[CV 3/5] END .....C=100, degree=2, gamma=0.01, kernel=linear; total time=   0.0s\n",
      "[CV 4/5] END .....C=100, degree=2, gamma=0.01, kernel=linear; total time=   0.2s\n",
      "[CV 5/5] END .....C=100, degree=2, gamma=0.01, kernel=linear; total time=   0.0s\n",
      "[CV 1/5] END ........C=100, degree=2, gamma=0.01, kernel=rbf; total time=   0.0s\n",
      "[CV 2/5] END ........C=100, degree=2, gamma=0.01, kernel=rbf; total time=   0.0s\n",
      "[CV 3/5] END ........C=100, degree=2, gamma=0.01, kernel=rbf; total time=   0.0s\n",
      "[CV 4/5] END ........C=100, degree=2, gamma=0.01, kernel=rbf; total time=   0.0s\n",
      "[CV 5/5] END ........C=100, degree=2, gamma=0.01, kernel=rbf; total time=   0.0s\n",
      "[CV 1/5] END ....C=100, degree=2, gamma=0.01, kernel=sigmoid; total time=   0.0s\n",
      "[CV 2/5] END ....C=100, degree=2, gamma=0.01, kernel=sigmoid; total time=   0.0s\n",
      "[CV 3/5] END ....C=100, degree=2, gamma=0.01, kernel=sigmoid; total time=   0.0s\n",
      "[CV 4/5] END ....C=100, degree=2, gamma=0.01, kernel=sigmoid; total time=   0.0s\n",
      "[CV 5/5] END ....C=100, degree=2, gamma=0.01, kernel=sigmoid; total time=   0.0s\n",
      "[CV 1/5] END .......C=100, degree=2, gamma=0.01, kernel=poly; total time=   0.0s\n",
      "[CV 2/5] END .......C=100, degree=2, gamma=0.01, kernel=poly; total time=   0.0s\n",
      "[CV 3/5] END .......C=100, degree=2, gamma=0.01, kernel=poly; total time=   0.0s\n",
      "[CV 4/5] END .......C=100, degree=2, gamma=0.01, kernel=poly; total time=   0.0s\n",
      "[CV 5/5] END .......C=100, degree=2, gamma=0.01, kernel=poly; total time=   0.0s\n",
      "[CV 1/5] END ....C=100, degree=2, gamma=0.001, kernel=linear; total time=   0.1s\n",
      "[CV 2/5] END ....C=100, degree=2, gamma=0.001, kernel=linear; total time=   0.0s\n",
      "[CV 3/5] END ....C=100, degree=2, gamma=0.001, kernel=linear; total time=   0.0s\n",
      "[CV 4/5] END ....C=100, degree=2, gamma=0.001, kernel=linear; total time=   0.2s\n",
      "[CV 5/5] END ....C=100, degree=2, gamma=0.001, kernel=linear; total time=   0.0s\n",
      "[CV 1/5] END .......C=100, degree=2, gamma=0.001, kernel=rbf; total time=   0.0s\n",
      "[CV 2/5] END .......C=100, degree=2, gamma=0.001, kernel=rbf; total time=   0.0s\n",
      "[CV 3/5] END .......C=100, degree=2, gamma=0.001, kernel=rbf; total time=   0.0s\n",
      "[CV 4/5] END .......C=100, degree=2, gamma=0.001, kernel=rbf; total time=   0.0s\n",
      "[CV 5/5] END .......C=100, degree=2, gamma=0.001, kernel=rbf; total time=   0.0s\n",
      "[CV 1/5] END ...C=100, degree=2, gamma=0.001, kernel=sigmoid; total time=   0.0s\n",
      "[CV 2/5] END ...C=100, degree=2, gamma=0.001, kernel=sigmoid; total time=   0.0s\n",
      "[CV 3/5] END ...C=100, degree=2, gamma=0.001, kernel=sigmoid; total time=   0.0s\n",
      "[CV 4/5] END ...C=100, degree=2, gamma=0.001, kernel=sigmoid; total time=   0.0s\n",
      "[CV 5/5] END ...C=100, degree=2, gamma=0.001, kernel=sigmoid; total time=   0.0s\n",
      "[CV 1/5] END ......C=100, degree=2, gamma=0.001, kernel=poly; total time=   0.0s\n",
      "[CV 2/5] END ......C=100, degree=2, gamma=0.001, kernel=poly; total time=   0.0s\n",
      "[CV 3/5] END ......C=100, degree=2, gamma=0.001, kernel=poly; total time=   0.0s\n",
      "[CV 4/5] END ......C=100, degree=2, gamma=0.001, kernel=poly; total time=   0.0s\n",
      "[CV 5/5] END ......C=100, degree=2, gamma=0.001, kernel=poly; total time=   0.0s\n",
      "[CV 1/5] END ...C=100, degree=2, gamma=0.0001, kernel=linear; total time=   0.0s\n",
      "[CV 2/5] END ...C=100, degree=2, gamma=0.0001, kernel=linear; total time=   0.0s\n",
      "[CV 3/5] END ...C=100, degree=2, gamma=0.0001, kernel=linear; total time=   0.0s\n",
      "[CV 4/5] END ...C=100, degree=2, gamma=0.0001, kernel=linear; total time=   0.1s\n",
      "[CV 5/5] END ...C=100, degree=2, gamma=0.0001, kernel=linear; total time=   0.0s\n",
      "[CV 1/5] END ......C=100, degree=2, gamma=0.0001, kernel=rbf; total time=   0.0s\n",
      "[CV 2/5] END ......C=100, degree=2, gamma=0.0001, kernel=rbf; total time=   0.0s\n",
      "[CV 3/5] END ......C=100, degree=2, gamma=0.0001, kernel=rbf; total time=   0.0s\n",
      "[CV 4/5] END ......C=100, degree=2, gamma=0.0001, kernel=rbf; total time=   0.0s\n",
      "[CV 5/5] END ......C=100, degree=2, gamma=0.0001, kernel=rbf; total time=   0.0s\n",
      "[CV 1/5] END ..C=100, degree=2, gamma=0.0001, kernel=sigmoid; total time=   0.0s\n",
      "[CV 2/5] END ..C=100, degree=2, gamma=0.0001, kernel=sigmoid; total time=   0.0s\n",
      "[CV 3/5] END ..C=100, degree=2, gamma=0.0001, kernel=sigmoid; total time=   0.0s\n",
      "[CV 4/5] END ..C=100, degree=2, gamma=0.0001, kernel=sigmoid; total time=   0.0s\n",
      "[CV 5/5] END ..C=100, degree=2, gamma=0.0001, kernel=sigmoid; total time=   0.0s\n",
      "[CV 1/5] END .....C=100, degree=2, gamma=0.0001, kernel=poly; total time=   0.0s\n",
      "[CV 2/5] END .....C=100, degree=2, gamma=0.0001, kernel=poly; total time=   0.0s\n"
     ]
    },
    {
     "name": "stdout",
     "output_type": "stream",
     "text": [
      "[CV 3/5] END .....C=100, degree=2, gamma=0.0001, kernel=poly; total time=   0.0s\n",
      "[CV 4/5] END .....C=100, degree=2, gamma=0.0001, kernel=poly; total time=   0.0s\n",
      "[CV 5/5] END .....C=100, degree=2, gamma=0.0001, kernel=poly; total time=   0.0s\n",
      "[CV 1/5] END ...C=1000, degree=1, gamma=scale, kernel=linear; total time=   2.1s\n",
      "[CV 2/5] END ...C=1000, degree=1, gamma=scale, kernel=linear; total time=   1.1s\n",
      "[CV 3/5] END ...C=1000, degree=1, gamma=scale, kernel=linear; total time=   1.0s\n",
      "[CV 4/5] END ...C=1000, degree=1, gamma=scale, kernel=linear; total time=   1.0s\n",
      "[CV 5/5] END ...C=1000, degree=1, gamma=scale, kernel=linear; total time=   0.7s\n",
      "[CV 1/5] END ......C=1000, degree=1, gamma=scale, kernel=rbf; total time=   0.0s\n",
      "[CV 2/5] END ......C=1000, degree=1, gamma=scale, kernel=rbf; total time=   0.0s\n",
      "[CV 3/5] END ......C=1000, degree=1, gamma=scale, kernel=rbf; total time=   0.0s\n",
      "[CV 4/5] END ......C=1000, degree=1, gamma=scale, kernel=rbf; total time=   0.0s\n",
      "[CV 5/5] END ......C=1000, degree=1, gamma=scale, kernel=rbf; total time=   0.0s\n",
      "[CV 1/5] END ..C=1000, degree=1, gamma=scale, kernel=sigmoid; total time=   0.0s\n",
      "[CV 2/5] END ..C=1000, degree=1, gamma=scale, kernel=sigmoid; total time=   0.0s\n",
      "[CV 3/5] END ..C=1000, degree=1, gamma=scale, kernel=sigmoid; total time=   0.0s\n",
      "[CV 4/5] END ..C=1000, degree=1, gamma=scale, kernel=sigmoid; total time=   0.0s\n",
      "[CV 5/5] END ..C=1000, degree=1, gamma=scale, kernel=sigmoid; total time=   0.0s\n",
      "[CV 1/5] END .....C=1000, degree=1, gamma=scale, kernel=poly; total time=   0.0s\n",
      "[CV 2/5] END .....C=1000, degree=1, gamma=scale, kernel=poly; total time=   0.0s\n",
      "[CV 3/5] END .....C=1000, degree=1, gamma=scale, kernel=poly; total time=   0.0s\n",
      "[CV 4/5] END .....C=1000, degree=1, gamma=scale, kernel=poly; total time=   0.0s\n",
      "[CV 5/5] END .....C=1000, degree=1, gamma=scale, kernel=poly; total time=   0.0s\n",
      "[CV 1/5] END ....C=1000, degree=1, gamma=auto, kernel=linear; total time=   1.4s\n",
      "[CV 2/5] END ....C=1000, degree=1, gamma=auto, kernel=linear; total time=   0.9s\n",
      "[CV 3/5] END ....C=1000, degree=1, gamma=auto, kernel=linear; total time=   0.8s\n",
      "[CV 4/5] END ....C=1000, degree=1, gamma=auto, kernel=linear; total time=   0.8s\n",
      "[CV 5/5] END ....C=1000, degree=1, gamma=auto, kernel=linear; total time=   0.6s\n",
      "[CV 1/5] END .......C=1000, degree=1, gamma=auto, kernel=rbf; total time=   0.0s\n",
      "[CV 2/5] END .......C=1000, degree=1, gamma=auto, kernel=rbf; total time=   0.0s\n",
      "[CV 3/5] END .......C=1000, degree=1, gamma=auto, kernel=rbf; total time=   0.0s\n",
      "[CV 4/5] END .......C=1000, degree=1, gamma=auto, kernel=rbf; total time=   0.0s\n",
      "[CV 5/5] END .......C=1000, degree=1, gamma=auto, kernel=rbf; total time=   0.0s\n",
      "[CV 1/5] END ...C=1000, degree=1, gamma=auto, kernel=sigmoid; total time=   0.0s\n",
      "[CV 2/5] END ...C=1000, degree=1, gamma=auto, kernel=sigmoid; total time=   0.0s\n",
      "[CV 3/5] END ...C=1000, degree=1, gamma=auto, kernel=sigmoid; total time=   0.0s\n",
      "[CV 4/5] END ...C=1000, degree=1, gamma=auto, kernel=sigmoid; total time=   0.0s\n",
      "[CV 5/5] END ...C=1000, degree=1, gamma=auto, kernel=sigmoid; total time=   0.0s\n",
      "[CV 1/5] END ......C=1000, degree=1, gamma=auto, kernel=poly; total time=   0.0s\n",
      "[CV 2/5] END ......C=1000, degree=1, gamma=auto, kernel=poly; total time=   0.0s\n",
      "[CV 3/5] END ......C=1000, degree=1, gamma=auto, kernel=poly; total time=   0.0s\n",
      "[CV 4/5] END ......C=1000, degree=1, gamma=auto, kernel=poly; total time=   0.0s\n",
      "[CV 5/5] END ......C=1000, degree=1, gamma=auto, kernel=poly; total time=   0.0s\n",
      "[CV 1/5] END .......C=1000, degree=1, gamma=1, kernel=linear; total time=   1.3s\n",
      "[CV 2/5] END .......C=1000, degree=1, gamma=1, kernel=linear; total time=   0.8s\n",
      "[CV 3/5] END .......C=1000, degree=1, gamma=1, kernel=linear; total time=   1.0s\n",
      "[CV 4/5] END .......C=1000, degree=1, gamma=1, kernel=linear; total time=   0.8s\n",
      "[CV 5/5] END .......C=1000, degree=1, gamma=1, kernel=linear; total time=   0.9s\n",
      "[CV 1/5] END ..........C=1000, degree=1, gamma=1, kernel=rbf; total time=   0.0s\n",
      "[CV 2/5] END ..........C=1000, degree=1, gamma=1, kernel=rbf; total time=   0.0s\n",
      "[CV 3/5] END ..........C=1000, degree=1, gamma=1, kernel=rbf; total time=   0.0s\n",
      "[CV 4/5] END ..........C=1000, degree=1, gamma=1, kernel=rbf; total time=   0.0s\n",
      "[CV 5/5] END ..........C=1000, degree=1, gamma=1, kernel=rbf; total time=   0.0s\n",
      "[CV 1/5] END ......C=1000, degree=1, gamma=1, kernel=sigmoid; total time=   0.0s\n",
      "[CV 2/5] END ......C=1000, degree=1, gamma=1, kernel=sigmoid; total time=   0.0s\n",
      "[CV 3/5] END ......C=1000, degree=1, gamma=1, kernel=sigmoid; total time=   0.0s\n",
      "[CV 4/5] END ......C=1000, degree=1, gamma=1, kernel=sigmoid; total time=   0.0s\n",
      "[CV 5/5] END ......C=1000, degree=1, gamma=1, kernel=sigmoid; total time=   0.0s\n",
      "[CV 1/5] END .........C=1000, degree=1, gamma=1, kernel=poly; total time=   1.9s\n",
      "[CV 2/5] END .........C=1000, degree=1, gamma=1, kernel=poly; total time=   0.9s\n",
      "[CV 3/5] END .........C=1000, degree=1, gamma=1, kernel=poly; total time=   0.8s\n",
      "[CV 4/5] END .........C=1000, degree=1, gamma=1, kernel=poly; total time=   0.9s\n",
      "[CV 5/5] END .........C=1000, degree=1, gamma=1, kernel=poly; total time=   0.6s\n",
      "[CV 1/5] END .....C=1000, degree=1, gamma=0.1, kernel=linear; total time=   1.3s\n",
      "[CV 2/5] END .....C=1000, degree=1, gamma=0.1, kernel=linear; total time=   0.8s\n",
      "[CV 3/5] END .....C=1000, degree=1, gamma=0.1, kernel=linear; total time=   0.9s\n",
      "[CV 4/5] END .....C=1000, degree=1, gamma=0.1, kernel=linear; total time=   0.9s\n",
      "[CV 5/5] END .....C=1000, degree=1, gamma=0.1, kernel=linear; total time=   0.6s\n",
      "[CV 1/5] END ........C=1000, degree=1, gamma=0.1, kernel=rbf; total time=   0.0s\n",
      "[CV 2/5] END ........C=1000, degree=1, gamma=0.1, kernel=rbf; total time=   0.0s\n",
      "[CV 3/5] END ........C=1000, degree=1, gamma=0.1, kernel=rbf; total time=   0.0s\n",
      "[CV 4/5] END ........C=1000, degree=1, gamma=0.1, kernel=rbf; total time=   0.0s\n",
      "[CV 5/5] END ........C=1000, degree=1, gamma=0.1, kernel=rbf; total time=   0.0s\n",
      "[CV 1/5] END ....C=1000, degree=1, gamma=0.1, kernel=sigmoid; total time=   0.0s\n",
      "[CV 2/5] END ....C=1000, degree=1, gamma=0.1, kernel=sigmoid; total time=   0.0s\n",
      "[CV 3/5] END ....C=1000, degree=1, gamma=0.1, kernel=sigmoid; total time=   0.0s\n",
      "[CV 4/5] END ....C=1000, degree=1, gamma=0.1, kernel=sigmoid; total time=   0.0s\n",
      "[CV 5/5] END ....C=1000, degree=1, gamma=0.1, kernel=sigmoid; total time=   0.0s\n",
      "[CV 1/5] END .......C=1000, degree=1, gamma=0.1, kernel=poly; total time=   0.0s\n",
      "[CV 2/5] END .......C=1000, degree=1, gamma=0.1, kernel=poly; total time=   0.0s\n",
      "[CV 3/5] END .......C=1000, degree=1, gamma=0.1, kernel=poly; total time=   0.1s\n",
      "[CV 4/5] END .......C=1000, degree=1, gamma=0.1, kernel=poly; total time=   0.1s\n",
      "[CV 5/5] END .......C=1000, degree=1, gamma=0.1, kernel=poly; total time=   0.1s\n",
      "[CV 1/5] END ....C=1000, degree=1, gamma=0.01, kernel=linear; total time=   1.8s\n",
      "[CV 2/5] END ....C=1000, degree=1, gamma=0.01, kernel=linear; total time=   0.8s\n",
      "[CV 3/5] END ....C=1000, degree=1, gamma=0.01, kernel=linear; total time=   0.8s\n",
      "[CV 4/5] END ....C=1000, degree=1, gamma=0.01, kernel=linear; total time=   1.1s\n",
      "[CV 5/5] END ....C=1000, degree=1, gamma=0.01, kernel=linear; total time=   0.8s\n",
      "[CV 1/5] END .......C=1000, degree=1, gamma=0.01, kernel=rbf; total time=   0.0s\n",
      "[CV 2/5] END .......C=1000, degree=1, gamma=0.01, kernel=rbf; total time=   0.0s\n",
      "[CV 3/5] END .......C=1000, degree=1, gamma=0.01, kernel=rbf; total time=   0.0s\n",
      "[CV 4/5] END .......C=1000, degree=1, gamma=0.01, kernel=rbf; total time=   0.0s\n",
      "[CV 5/5] END .......C=1000, degree=1, gamma=0.01, kernel=rbf; total time=   0.0s\n",
      "[CV 1/5] END ...C=1000, degree=1, gamma=0.01, kernel=sigmoid; total time=   0.0s\n",
      "[CV 2/5] END ...C=1000, degree=1, gamma=0.01, kernel=sigmoid; total time=   0.0s\n",
      "[CV 3/5] END ...C=1000, degree=1, gamma=0.01, kernel=sigmoid; total time=   0.0s\n",
      "[CV 4/5] END ...C=1000, degree=1, gamma=0.01, kernel=sigmoid; total time=   0.0s\n",
      "[CV 5/5] END ...C=1000, degree=1, gamma=0.01, kernel=sigmoid; total time=   0.0s\n",
      "[CV 1/5] END ......C=1000, degree=1, gamma=0.01, kernel=poly; total time=   0.0s\n",
      "[CV 2/5] END ......C=1000, degree=1, gamma=0.01, kernel=poly; total time=   0.0s\n",
      "[CV 3/5] END ......C=1000, degree=1, gamma=0.01, kernel=poly; total time=   0.0s\n",
      "[CV 4/5] END ......C=1000, degree=1, gamma=0.01, kernel=poly; total time=   0.0s\n",
      "[CV 5/5] END ......C=1000, degree=1, gamma=0.01, kernel=poly; total time=   0.0s\n"
     ]
    },
    {
     "name": "stdout",
     "output_type": "stream",
     "text": [
      "[CV 1/5] END ...C=1000, degree=1, gamma=0.001, kernel=linear; total time=   1.3s\n",
      "[CV 2/5] END ...C=1000, degree=1, gamma=0.001, kernel=linear; total time=   0.8s\n",
      "[CV 3/5] END ...C=1000, degree=1, gamma=0.001, kernel=linear; total time=   0.8s\n",
      "[CV 4/5] END ...C=1000, degree=1, gamma=0.001, kernel=linear; total time=   0.8s\n",
      "[CV 5/5] END ...C=1000, degree=1, gamma=0.001, kernel=linear; total time=   0.6s\n",
      "[CV 1/5] END ......C=1000, degree=1, gamma=0.001, kernel=rbf; total time=   0.0s\n",
      "[CV 2/5] END ......C=1000, degree=1, gamma=0.001, kernel=rbf; total time=   0.0s\n",
      "[CV 3/5] END ......C=1000, degree=1, gamma=0.001, kernel=rbf; total time=   0.0s\n",
      "[CV 4/5] END ......C=1000, degree=1, gamma=0.001, kernel=rbf; total time=   0.0s\n",
      "[CV 5/5] END ......C=1000, degree=1, gamma=0.001, kernel=rbf; total time=   0.0s\n",
      "[CV 1/5] END ..C=1000, degree=1, gamma=0.001, kernel=sigmoid; total time=   0.0s\n",
      "[CV 2/5] END ..C=1000, degree=1, gamma=0.001, kernel=sigmoid; total time=   0.0s\n",
      "[CV 3/5] END ..C=1000, degree=1, gamma=0.001, kernel=sigmoid; total time=   0.0s\n",
      "[CV 4/5] END ..C=1000, degree=1, gamma=0.001, kernel=sigmoid; total time=   0.0s\n",
      "[CV 5/5] END ..C=1000, degree=1, gamma=0.001, kernel=sigmoid; total time=   0.0s\n",
      "[CV 1/5] END .....C=1000, degree=1, gamma=0.001, kernel=poly; total time=   0.0s\n",
      "[CV 2/5] END .....C=1000, degree=1, gamma=0.001, kernel=poly; total time=   0.0s\n",
      "[CV 3/5] END .....C=1000, degree=1, gamma=0.001, kernel=poly; total time=   0.0s\n",
      "[CV 4/5] END .....C=1000, degree=1, gamma=0.001, kernel=poly; total time=   0.0s\n",
      "[CV 5/5] END .....C=1000, degree=1, gamma=0.001, kernel=poly; total time=   0.0s\n",
      "[CV 1/5] END ..C=1000, degree=1, gamma=0.0001, kernel=linear; total time=   1.3s\n",
      "[CV 2/5] END ..C=1000, degree=1, gamma=0.0001, kernel=linear; total time=   0.8s\n",
      "[CV 3/5] END ..C=1000, degree=1, gamma=0.0001, kernel=linear; total time=   0.9s\n",
      "[CV 4/5] END ..C=1000, degree=1, gamma=0.0001, kernel=linear; total time=   0.9s\n",
      "[CV 5/5] END ..C=1000, degree=1, gamma=0.0001, kernel=linear; total time=   1.2s\n",
      "[CV 1/5] END .....C=1000, degree=1, gamma=0.0001, kernel=rbf; total time=   0.0s\n",
      "[CV 2/5] END .....C=1000, degree=1, gamma=0.0001, kernel=rbf; total time=   0.0s\n",
      "[CV 3/5] END .....C=1000, degree=1, gamma=0.0001, kernel=rbf; total time=   0.0s\n",
      "[CV 4/5] END .....C=1000, degree=1, gamma=0.0001, kernel=rbf; total time=   0.0s\n",
      "[CV 5/5] END .....C=1000, degree=1, gamma=0.0001, kernel=rbf; total time=   0.0s\n",
      "[CV 1/5] END .C=1000, degree=1, gamma=0.0001, kernel=sigmoid; total time=   0.0s\n",
      "[CV 2/5] END .C=1000, degree=1, gamma=0.0001, kernel=sigmoid; total time=   0.0s\n",
      "[CV 3/5] END .C=1000, degree=1, gamma=0.0001, kernel=sigmoid; total time=   0.0s\n",
      "[CV 4/5] END .C=1000, degree=1, gamma=0.0001, kernel=sigmoid; total time=   0.0s\n",
      "[CV 5/5] END .C=1000, degree=1, gamma=0.0001, kernel=sigmoid; total time=   0.0s\n",
      "[CV 1/5] END ....C=1000, degree=1, gamma=0.0001, kernel=poly; total time=   0.0s\n",
      "[CV 2/5] END ....C=1000, degree=1, gamma=0.0001, kernel=poly; total time=   0.0s\n",
      "[CV 3/5] END ....C=1000, degree=1, gamma=0.0001, kernel=poly; total time=   0.0s\n",
      "[CV 4/5] END ....C=1000, degree=1, gamma=0.0001, kernel=poly; total time=   0.0s\n",
      "[CV 5/5] END ....C=1000, degree=1, gamma=0.0001, kernel=poly; total time=   0.0s\n",
      "[CV 1/5] END ...C=1000, degree=2, gamma=scale, kernel=linear; total time=   2.0s\n",
      "[CV 2/5] END ...C=1000, degree=2, gamma=scale, kernel=linear; total time=   0.8s\n",
      "[CV 3/5] END ...C=1000, degree=2, gamma=scale, kernel=linear; total time=   0.9s\n",
      "[CV 4/5] END ...C=1000, degree=2, gamma=scale, kernel=linear; total time=   0.8s\n",
      "[CV 5/5] END ...C=1000, degree=2, gamma=scale, kernel=linear; total time=   0.6s\n",
      "[CV 1/5] END ......C=1000, degree=2, gamma=scale, kernel=rbf; total time=   0.0s\n",
      "[CV 2/5] END ......C=1000, degree=2, gamma=scale, kernel=rbf; total time=   0.0s\n",
      "[CV 3/5] END ......C=1000, degree=2, gamma=scale, kernel=rbf; total time=   0.0s\n",
      "[CV 4/5] END ......C=1000, degree=2, gamma=scale, kernel=rbf; total time=   0.0s\n",
      "[CV 5/5] END ......C=1000, degree=2, gamma=scale, kernel=rbf; total time=   0.0s\n",
      "[CV 1/5] END ..C=1000, degree=2, gamma=scale, kernel=sigmoid; total time=   0.0s\n",
      "[CV 2/5] END ..C=1000, degree=2, gamma=scale, kernel=sigmoid; total time=   0.0s\n",
      "[CV 3/5] END ..C=1000, degree=2, gamma=scale, kernel=sigmoid; total time=   0.0s\n",
      "[CV 4/5] END ..C=1000, degree=2, gamma=scale, kernel=sigmoid; total time=   0.0s\n",
      "[CV 5/5] END ..C=1000, degree=2, gamma=scale, kernel=sigmoid; total time=   0.0s\n",
      "[CV 1/5] END .....C=1000, degree=2, gamma=scale, kernel=poly; total time=   0.0s\n",
      "[CV 2/5] END .....C=1000, degree=2, gamma=scale, kernel=poly; total time=   0.0s\n",
      "[CV 3/5] END .....C=1000, degree=2, gamma=scale, kernel=poly; total time=   0.0s\n",
      "[CV 4/5] END .....C=1000, degree=2, gamma=scale, kernel=poly; total time=   0.0s\n",
      "[CV 5/5] END .....C=1000, degree=2, gamma=scale, kernel=poly; total time=   0.2s\n",
      "[CV 1/5] END ....C=1000, degree=2, gamma=auto, kernel=linear; total time=   1.3s\n",
      "[CV 2/5] END ....C=1000, degree=2, gamma=auto, kernel=linear; total time=   0.8s\n",
      "[CV 3/5] END ....C=1000, degree=2, gamma=auto, kernel=linear; total time=   0.8s\n",
      "[CV 4/5] END ....C=1000, degree=2, gamma=auto, kernel=linear; total time=   0.8s\n",
      "[CV 5/5] END ....C=1000, degree=2, gamma=auto, kernel=linear; total time=   0.6s\n",
      "[CV 1/5] END .......C=1000, degree=2, gamma=auto, kernel=rbf; total time=   0.0s\n",
      "[CV 2/5] END .......C=1000, degree=2, gamma=auto, kernel=rbf; total time=   0.0s\n",
      "[CV 3/5] END .......C=1000, degree=2, gamma=auto, kernel=rbf; total time=   0.0s\n",
      "[CV 4/5] END .......C=1000, degree=2, gamma=auto, kernel=rbf; total time=   0.0s\n",
      "[CV 5/5] END .......C=1000, degree=2, gamma=auto, kernel=rbf; total time=   0.0s\n",
      "[CV 1/5] END ...C=1000, degree=2, gamma=auto, kernel=sigmoid; total time=   0.0s\n",
      "[CV 2/5] END ...C=1000, degree=2, gamma=auto, kernel=sigmoid; total time=   0.0s\n",
      "[CV 3/5] END ...C=1000, degree=2, gamma=auto, kernel=sigmoid; total time=   0.0s\n",
      "[CV 4/5] END ...C=1000, degree=2, gamma=auto, kernel=sigmoid; total time=   0.0s\n",
      "[CV 5/5] END ...C=1000, degree=2, gamma=auto, kernel=sigmoid; total time=   0.0s\n",
      "[CV 1/5] END ......C=1000, degree=2, gamma=auto, kernel=poly; total time=   0.0s\n",
      "[CV 2/5] END ......C=1000, degree=2, gamma=auto, kernel=poly; total time=   0.0s\n",
      "[CV 3/5] END ......C=1000, degree=2, gamma=auto, kernel=poly; total time=   0.0s\n",
      "[CV 4/5] END ......C=1000, degree=2, gamma=auto, kernel=poly; total time=   0.0s\n",
      "[CV 5/5] END ......C=1000, degree=2, gamma=auto, kernel=poly; total time=   0.1s\n",
      "[CV 1/5] END .......C=1000, degree=2, gamma=1, kernel=linear; total time=   1.3s\n",
      "[CV 2/5] END .......C=1000, degree=2, gamma=1, kernel=linear; total time=   0.8s\n",
      "[CV 3/5] END .......C=1000, degree=2, gamma=1, kernel=linear; total time=   0.8s\n",
      "[CV 4/5] END .......C=1000, degree=2, gamma=1, kernel=linear; total time=   0.8s\n",
      "[CV 5/5] END .......C=1000, degree=2, gamma=1, kernel=linear; total time=   0.8s\n",
      "[CV 1/5] END ..........C=1000, degree=2, gamma=1, kernel=rbf; total time=   0.0s\n",
      "[CV 2/5] END ..........C=1000, degree=2, gamma=1, kernel=rbf; total time=   0.0s\n",
      "[CV 3/5] END ..........C=1000, degree=2, gamma=1, kernel=rbf; total time=   0.0s\n",
      "[CV 4/5] END ..........C=1000, degree=2, gamma=1, kernel=rbf; total time=   0.0s\n",
      "[CV 5/5] END ..........C=1000, degree=2, gamma=1, kernel=rbf; total time=   0.0s\n",
      "[CV 1/5] END ......C=1000, degree=2, gamma=1, kernel=sigmoid; total time=   0.0s\n",
      "[CV 2/5] END ......C=1000, degree=2, gamma=1, kernel=sigmoid; total time=   0.0s\n",
      "[CV 3/5] END ......C=1000, degree=2, gamma=1, kernel=sigmoid; total time=   0.0s\n",
      "[CV 4/5] END ......C=1000, degree=2, gamma=1, kernel=sigmoid; total time=   0.0s\n",
      "[CV 5/5] END ......C=1000, degree=2, gamma=1, kernel=sigmoid; total time=   0.0s\n",
      "[CV 1/5] END .........C=1000, degree=2, gamma=1, kernel=poly; total time=   0.1s\n",
      "[CV 2/5] END .........C=1000, degree=2, gamma=1, kernel=poly; total time=   0.0s\n",
      "[CV 3/5] END .........C=1000, degree=2, gamma=1, kernel=poly; total time=   0.0s\n",
      "[CV 4/5] END .........C=1000, degree=2, gamma=1, kernel=poly; total time=   0.0s\n",
      "[CV 5/5] END .........C=1000, degree=2, gamma=1, kernel=poly; total time=   1.2s\n",
      "[CV 1/5] END .....C=1000, degree=2, gamma=0.1, kernel=linear; total time=   1.4s\n",
      "[CV 2/5] END .....C=1000, degree=2, gamma=0.1, kernel=linear; total time=   1.0s\n"
     ]
    },
    {
     "name": "stdout",
     "output_type": "stream",
     "text": [
      "[CV 3/5] END .....C=1000, degree=2, gamma=0.1, kernel=linear; total time=   0.9s\n",
      "[CV 4/5] END .....C=1000, degree=2, gamma=0.1, kernel=linear; total time=   0.9s\n",
      "[CV 5/5] END .....C=1000, degree=2, gamma=0.1, kernel=linear; total time=   0.8s\n",
      "[CV 1/5] END ........C=1000, degree=2, gamma=0.1, kernel=rbf; total time=   0.0s\n",
      "[CV 2/5] END ........C=1000, degree=2, gamma=0.1, kernel=rbf; total time=   0.0s\n",
      "[CV 3/5] END ........C=1000, degree=2, gamma=0.1, kernel=rbf; total time=   0.0s\n",
      "[CV 4/5] END ........C=1000, degree=2, gamma=0.1, kernel=rbf; total time=   0.0s\n",
      "[CV 5/5] END ........C=1000, degree=2, gamma=0.1, kernel=rbf; total time=   0.0s\n",
      "[CV 1/5] END ....C=1000, degree=2, gamma=0.1, kernel=sigmoid; total time=   0.0s\n",
      "[CV 2/5] END ....C=1000, degree=2, gamma=0.1, kernel=sigmoid; total time=   0.0s\n",
      "[CV 3/5] END ....C=1000, degree=2, gamma=0.1, kernel=sigmoid; total time=   0.0s\n",
      "[CV 4/5] END ....C=1000, degree=2, gamma=0.1, kernel=sigmoid; total time=   0.0s\n",
      "[CV 5/5] END ....C=1000, degree=2, gamma=0.1, kernel=sigmoid; total time=   0.0s\n",
      "[CV 1/5] END .......C=1000, degree=2, gamma=0.1, kernel=poly; total time=   0.2s\n",
      "[CV 2/5] END .......C=1000, degree=2, gamma=0.1, kernel=poly; total time=   0.0s\n",
      "[CV 3/5] END .......C=1000, degree=2, gamma=0.1, kernel=poly; total time=   0.0s\n",
      "[CV 4/5] END .......C=1000, degree=2, gamma=0.1, kernel=poly; total time=   0.0s\n",
      "[CV 5/5] END .......C=1000, degree=2, gamma=0.1, kernel=poly; total time=   0.3s\n",
      "[CV 1/5] END ....C=1000, degree=2, gamma=0.01, kernel=linear; total time=   1.5s\n",
      "[CV 2/5] END ....C=1000, degree=2, gamma=0.01, kernel=linear; total time=   0.8s\n",
      "[CV 3/5] END ....C=1000, degree=2, gamma=0.01, kernel=linear; total time=   0.8s\n",
      "[CV 4/5] END ....C=1000, degree=2, gamma=0.01, kernel=linear; total time=   0.8s\n",
      "[CV 5/5] END ....C=1000, degree=2, gamma=0.01, kernel=linear; total time=   0.7s\n",
      "[CV 1/5] END .......C=1000, degree=2, gamma=0.01, kernel=rbf; total time=   0.0s\n",
      "[CV 2/5] END .......C=1000, degree=2, gamma=0.01, kernel=rbf; total time=   0.0s\n",
      "[CV 3/5] END .......C=1000, degree=2, gamma=0.01, kernel=rbf; total time=   0.0s\n",
      "[CV 4/5] END .......C=1000, degree=2, gamma=0.01, kernel=rbf; total time=   0.0s\n",
      "[CV 5/5] END .......C=1000, degree=2, gamma=0.01, kernel=rbf; total time=   0.0s\n",
      "[CV 1/5] END ...C=1000, degree=2, gamma=0.01, kernel=sigmoid; total time=   0.0s\n",
      "[CV 2/5] END ...C=1000, degree=2, gamma=0.01, kernel=sigmoid; total time=   0.0s\n",
      "[CV 3/5] END ...C=1000, degree=2, gamma=0.01, kernel=sigmoid; total time=   0.0s\n",
      "[CV 4/5] END ...C=1000, degree=2, gamma=0.01, kernel=sigmoid; total time=   0.0s\n",
      "[CV 5/5] END ...C=1000, degree=2, gamma=0.01, kernel=sigmoid; total time=   0.0s\n",
      "[CV 1/5] END ......C=1000, degree=2, gamma=0.01, kernel=poly; total time=   0.0s\n",
      "[CV 2/5] END ......C=1000, degree=2, gamma=0.01, kernel=poly; total time=   0.0s\n",
      "[CV 3/5] END ......C=1000, degree=2, gamma=0.01, kernel=poly; total time=   0.0s\n",
      "[CV 4/5] END ......C=1000, degree=2, gamma=0.01, kernel=poly; total time=   0.0s\n",
      "[CV 5/5] END ......C=1000, degree=2, gamma=0.01, kernel=poly; total time=   0.0s\n",
      "[CV 1/5] END ...C=1000, degree=2, gamma=0.001, kernel=linear; total time=   1.3s\n",
      "[CV 2/5] END ...C=1000, degree=2, gamma=0.001, kernel=linear; total time=   0.8s\n",
      "[CV 3/5] END ...C=1000, degree=2, gamma=0.001, kernel=linear; total time=   0.8s\n",
      "[CV 4/5] END ...C=1000, degree=2, gamma=0.001, kernel=linear; total time=   0.9s\n",
      "[CV 5/5] END ...C=1000, degree=2, gamma=0.001, kernel=linear; total time=   0.6s\n",
      "[CV 1/5] END ......C=1000, degree=2, gamma=0.001, kernel=rbf; total time=   0.0s\n",
      "[CV 2/5] END ......C=1000, degree=2, gamma=0.001, kernel=rbf; total time=   0.0s\n",
      "[CV 3/5] END ......C=1000, degree=2, gamma=0.001, kernel=rbf; total time=   0.0s\n",
      "[CV 4/5] END ......C=1000, degree=2, gamma=0.001, kernel=rbf; total time=   0.0s\n",
      "[CV 5/5] END ......C=1000, degree=2, gamma=0.001, kernel=rbf; total time=   0.0s\n",
      "[CV 1/5] END ..C=1000, degree=2, gamma=0.001, kernel=sigmoid; total time=   0.0s\n",
      "[CV 2/5] END ..C=1000, degree=2, gamma=0.001, kernel=sigmoid; total time=   0.0s\n",
      "[CV 3/5] END ..C=1000, degree=2, gamma=0.001, kernel=sigmoid; total time=   0.0s\n",
      "[CV 4/5] END ..C=1000, degree=2, gamma=0.001, kernel=sigmoid; total time=   0.0s\n",
      "[CV 5/5] END ..C=1000, degree=2, gamma=0.001, kernel=sigmoid; total time=   0.0s\n",
      "[CV 1/5] END .....C=1000, degree=2, gamma=0.001, kernel=poly; total time=   0.0s\n",
      "[CV 2/5] END .....C=1000, degree=2, gamma=0.001, kernel=poly; total time=   0.0s\n",
      "[CV 3/5] END .....C=1000, degree=2, gamma=0.001, kernel=poly; total time=   0.0s\n",
      "[CV 4/5] END .....C=1000, degree=2, gamma=0.001, kernel=poly; total time=   0.0s\n",
      "[CV 5/5] END .....C=1000, degree=2, gamma=0.001, kernel=poly; total time=   0.0s\n",
      "[CV 1/5] END ..C=1000, degree=2, gamma=0.0001, kernel=linear; total time=   1.4s\n",
      "[CV 2/5] END ..C=1000, degree=2, gamma=0.0001, kernel=linear; total time=   0.9s\n",
      "[CV 3/5] END ..C=1000, degree=2, gamma=0.0001, kernel=linear; total time=   0.9s\n",
      "[CV 4/5] END ..C=1000, degree=2, gamma=0.0001, kernel=linear; total time=   0.8s\n",
      "[CV 5/5] END ..C=1000, degree=2, gamma=0.0001, kernel=linear; total time=   0.6s\n",
      "[CV 1/5] END .....C=1000, degree=2, gamma=0.0001, kernel=rbf; total time=   0.0s\n",
      "[CV 2/5] END .....C=1000, degree=2, gamma=0.0001, kernel=rbf; total time=   0.0s\n",
      "[CV 3/5] END .....C=1000, degree=2, gamma=0.0001, kernel=rbf; total time=   0.0s\n",
      "[CV 4/5] END .....C=1000, degree=2, gamma=0.0001, kernel=rbf; total time=   0.0s\n",
      "[CV 5/5] END .....C=1000, degree=2, gamma=0.0001, kernel=rbf; total time=   0.0s\n",
      "[CV 1/5] END .C=1000, degree=2, gamma=0.0001, kernel=sigmoid; total time=   0.0s\n",
      "[CV 2/5] END .C=1000, degree=2, gamma=0.0001, kernel=sigmoid; total time=   0.0s\n",
      "[CV 3/5] END .C=1000, degree=2, gamma=0.0001, kernel=sigmoid; total time=   0.0s\n",
      "[CV 4/5] END .C=1000, degree=2, gamma=0.0001, kernel=sigmoid; total time=   0.0s\n",
      "[CV 5/5] END .C=1000, degree=2, gamma=0.0001, kernel=sigmoid; total time=   0.0s\n",
      "[CV 1/5] END ....C=1000, degree=2, gamma=0.0001, kernel=poly; total time=   0.0s\n",
      "[CV 2/5] END ....C=1000, degree=2, gamma=0.0001, kernel=poly; total time=   0.0s\n",
      "[CV 3/5] END ....C=1000, degree=2, gamma=0.0001, kernel=poly; total time=   0.0s\n",
      "[CV 4/5] END ....C=1000, degree=2, gamma=0.0001, kernel=poly; total time=   0.0s\n",
      "[CV 5/5] END ....C=1000, degree=2, gamma=0.0001, kernel=poly; total time=   0.0s\n"
     ]
    },
    {
     "data": {
      "text/plain": [
       "GridSearchCV(estimator=SVC(),\n",
       "             param_grid={'C': [0.1, 1, 10, 100, 1000], 'degree': [1, 2],\n",
       "                         'gamma': ['scale', 'auto', 1, 0.1, 0.01, 0.001,\n",
       "                                   0.0001],\n",
       "                         'kernel': ['linear', 'rbf', 'sigmoid', 'poly']},\n",
       "             verbose=3)"
      ]
     },
     "execution_count": 294,
     "metadata": {},
     "output_type": "execute_result"
    }
   ],
   "source": [
    "svm_model_grid.fit(X_train_scaled, y_train)"
   ]
  },
  {
   "cell_type": "code",
   "execution_count": 295,
   "id": "49fa5e3e",
   "metadata": {},
   "outputs": [
    {
     "data": {
      "text/plain": [
       "{'C': 10, 'degree': 1, 'gamma': 'scale', 'kernel': 'linear'}"
      ]
     },
     "execution_count": 295,
     "metadata": {},
     "output_type": "execute_result"
    }
   ],
   "source": [
    "svm_model_grid.best_params_"
   ]
  },
  {
   "cell_type": "code",
   "execution_count": 296,
   "id": "1944d41d",
   "metadata": {},
   "outputs": [
    {
     "data": {
      "text/plain": [
       "SVC(C=10, degree=1, kernel='linear')"
      ]
     },
     "execution_count": 296,
     "metadata": {},
     "output_type": "execute_result"
    }
   ],
   "source": [
    "svm_model_grid.best_estimator_"
   ]
  },
  {
   "cell_type": "code",
   "execution_count": 297,
   "id": "2d4d7a4c",
   "metadata": {},
   "outputs": [
    {
     "name": "stdout",
     "output_type": "stream",
     "text": [
      "[[12  2]\n",
      " [ 1 17]]\n",
      "              precision    recall  f1-score   support\n",
      "\n",
      "           0       0.92      0.86      0.89        14\n",
      "           1       0.89      0.94      0.92        18\n",
      "\n",
      "    accuracy                           0.91        32\n",
      "   macro avg       0.91      0.90      0.90        32\n",
      "weighted avg       0.91      0.91      0.91        32\n",
      "\n"
     ]
    }
   ],
   "source": [
    "y_pred = svm_model_grid.predict(X_test_scaled)\n",
    "print(confusion_matrix(y_test, y_pred))\n",
    "print(classification_report(y_test, y_pred))"
   ]
  },
  {
   "cell_type": "markdown",
   "id": "8Hfumh_PyEoh",
   "metadata": {
    "id": "8Hfumh_PyEoh"
   },
   "source": [
    "# Visually compare models based on your chosen metric"
   ]
  },
  {
   "cell_type": "code",
   "execution_count": null,
   "id": "Rm-5gpKgycqD",
   "metadata": {
    "id": "Rm-5gpKgycqD"
   },
   "outputs": [],
   "source": []
  },
  {
   "cell_type": "markdown",
   "id": "3oDKxZRqx0Nw",
   "metadata": {
    "id": "3oDKxZRqx0Nw"
   },
   "source": [
    "# Chose best model and make a random prediction "
   ]
  },
  {
   "cell_type": "code",
   "execution_count": 298,
   "id": "pBjxBp8VxzhE",
   "metadata": {
    "id": "pBjxBp8VxzhE"
   },
   "outputs": [],
   "source": [
    "final_X_scaled = scaler.fit_transform(X)"
   ]
  },
  {
   "cell_type": "code",
   "execution_count": 299,
   "id": "93434eab",
   "metadata": {},
   "outputs": [],
   "source": [
    "final_model = SVC(C = 10, degree =  1, gamma= 'scale', kernel=  'linear')"
   ]
  },
  {
   "cell_type": "code",
   "execution_count": 300,
   "id": "17a4af98",
   "metadata": {},
   "outputs": [
    {
     "data": {
      "text/plain": [
       "SVC(C=10, degree=1, kernel='linear')"
      ]
     },
     "execution_count": 300,
     "metadata": {},
     "output_type": "execute_result"
    }
   ],
   "source": [
    "final_model.fit(final_X_scaled,y)"
   ]
  },
  {
   "cell_type": "code",
   "execution_count": 303,
   "id": "7c7ca337",
   "metadata": {},
   "outputs": [
    {
     "data": {
      "text/html": [
       "<div>\n",
       "<style scoped>\n",
       "    .dataframe tbody tr th:only-of-type {\n",
       "        vertical-align: middle;\n",
       "    }\n",
       "\n",
       "    .dataframe tbody tr th {\n",
       "        vertical-align: top;\n",
       "    }\n",
       "\n",
       "    .dataframe thead th {\n",
       "        text-align: right;\n",
       "    }\n",
       "</style>\n",
       "<table border=\"1\" class=\"dataframe\">\n",
       "  <thead>\n",
       "    <tr style=\"text-align: right;\">\n",
       "      <th></th>\n",
       "      <th>age</th>\n",
       "      <th>sex</th>\n",
       "      <th>cp</th>\n",
       "      <th>trestbps</th>\n",
       "      <th>chol</th>\n",
       "      <th>fbs</th>\n",
       "      <th>restecg</th>\n",
       "      <th>thalach</th>\n",
       "      <th>exang</th>\n",
       "      <th>oldpeak</th>\n",
       "      <th>slope</th>\n",
       "      <th>ca</th>\n",
       "      <th>thal</th>\n",
       "      <th>target</th>\n",
       "    </tr>\n",
       "  </thead>\n",
       "  <tbody>\n",
       "    <tr>\n",
       "      <th>0</th>\n",
       "      <td>63</td>\n",
       "      <td>1</td>\n",
       "      <td>3</td>\n",
       "      <td>145</td>\n",
       "      <td>233</td>\n",
       "      <td>1</td>\n",
       "      <td>0</td>\n",
       "      <td>150</td>\n",
       "      <td>0</td>\n",
       "      <td>2.300</td>\n",
       "      <td>0</td>\n",
       "      <td>0</td>\n",
       "      <td>1</td>\n",
       "      <td>1</td>\n",
       "    </tr>\n",
       "    <tr>\n",
       "      <th>1</th>\n",
       "      <td>37</td>\n",
       "      <td>1</td>\n",
       "      <td>2</td>\n",
       "      <td>130</td>\n",
       "      <td>250</td>\n",
       "      <td>0</td>\n",
       "      <td>1</td>\n",
       "      <td>187</td>\n",
       "      <td>0</td>\n",
       "      <td>3.500</td>\n",
       "      <td>0</td>\n",
       "      <td>0</td>\n",
       "      <td>2</td>\n",
       "      <td>1</td>\n",
       "    </tr>\n",
       "    <tr>\n",
       "      <th>2</th>\n",
       "      <td>41</td>\n",
       "      <td>0</td>\n",
       "      <td>1</td>\n",
       "      <td>130</td>\n",
       "      <td>204</td>\n",
       "      <td>0</td>\n",
       "      <td>0</td>\n",
       "      <td>172</td>\n",
       "      <td>0</td>\n",
       "      <td>1.400</td>\n",
       "      <td>2</td>\n",
       "      <td>0</td>\n",
       "      <td>2</td>\n",
       "      <td>1</td>\n",
       "    </tr>\n",
       "    <tr>\n",
       "      <th>3</th>\n",
       "      <td>56</td>\n",
       "      <td>1</td>\n",
       "      <td>1</td>\n",
       "      <td>120</td>\n",
       "      <td>236</td>\n",
       "      <td>0</td>\n",
       "      <td>1</td>\n",
       "      <td>178</td>\n",
       "      <td>0</td>\n",
       "      <td>0.800</td>\n",
       "      <td>2</td>\n",
       "      <td>0</td>\n",
       "      <td>2</td>\n",
       "      <td>1</td>\n",
       "    </tr>\n",
       "    <tr>\n",
       "      <th>4</th>\n",
       "      <td>57</td>\n",
       "      <td>0</td>\n",
       "      <td>0</td>\n",
       "      <td>120</td>\n",
       "      <td>354</td>\n",
       "      <td>0</td>\n",
       "      <td>1</td>\n",
       "      <td>163</td>\n",
       "      <td>1</td>\n",
       "      <td>0.600</td>\n",
       "      <td>2</td>\n",
       "      <td>0</td>\n",
       "      <td>2</td>\n",
       "      <td>1</td>\n",
       "    </tr>\n",
       "  </tbody>\n",
       "</table>\n",
       "</div>"
      ],
      "text/plain": [
       "   age  sex  cp  trestbps  chol  fbs  restecg  thalach  exang  oldpeak  slope  \\\n",
       "0   63    1   3       145   233    1        0      150      0    2.300      0   \n",
       "1   37    1   2       130   250    0        1      187      0    3.500      0   \n",
       "2   41    0   1       130   204    0        0      172      0    1.400      2   \n",
       "3   56    1   1       120   236    0        1      178      0    0.800      2   \n",
       "4   57    0   0       120   354    0        1      163      1    0.600      2   \n",
       "\n",
       "   ca  thal  target  \n",
       "0   0     1       1  \n",
       "1   0     2       1  \n",
       "2   0     2       1  \n",
       "3   0     2       1  \n",
       "4   0     2       1  "
      ]
     },
     "execution_count": 303,
     "metadata": {},
     "output_type": "execute_result"
    }
   ],
   "source": [
    "df.head()"
   ]
  },
  {
   "cell_type": "code",
   "execution_count": 304,
   "id": "83aac789",
   "metadata": {},
   "outputs": [],
   "source": [
    "values = [[25,0,2,180,200,0,0,200,1,1.8,1,1,0]]"
   ]
  },
  {
   "cell_type": "code",
   "execution_count": 305,
   "id": "e5b79284",
   "metadata": {},
   "outputs": [
    {
     "data": {
      "text/plain": [
       "array([1], dtype=int64)"
      ]
     },
     "execution_count": 305,
     "metadata": {},
     "output_type": "execute_result"
    }
   ],
   "source": [
    "final_model.predict(values)"
   ]
  },
  {
   "cell_type": "code",
   "execution_count": null,
   "id": "6ffe8857",
   "metadata": {},
   "outputs": [],
   "source": []
  }
 ],
 "metadata": {
  "colab": {
   "collapsed_sections": [],
   "name": "Heart_Stroke_Prediction_lab.ipynb",
   "provenance": []
  },
  "kernelspec": {
   "display_name": "Python 3",
   "language": "python",
   "name": "python3"
  },
  "language_info": {
   "codemirror_mode": {
    "name": "ipython",
    "version": 3
   },
   "file_extension": ".py",
   "mimetype": "text/x-python",
   "name": "python",
   "nbconvert_exporter": "python",
   "pygments_lexer": "ipython3",
   "version": "3.8.8"
  }
 },
 "nbformat": 4,
 "nbformat_minor": 5
}
