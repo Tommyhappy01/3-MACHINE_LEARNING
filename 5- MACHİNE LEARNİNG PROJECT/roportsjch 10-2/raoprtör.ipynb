{
 "cells": [
  {
   "cell_type": "code",
   "execution_count": 3,
   "metadata": {
    "id": "afPheo6WrnAc"
   },
   "outputs": [],
   "source": [
    "# hızlı raporlama toolu"
   ]
  },
  {
   "cell_type": "code",
   "execution_count": 2,
   "metadata": {
    "colab": {
     "base_uri": "https://localhost:8080/"
    },
    "id": "1jMqYUMur0b6",
    "outputId": "12c62f65-00c1-4f65-b25b-311d90e04e17"
   },
   "outputs": [
    {
     "ename": "IndentationError",
     "evalue": "unexpected indent (<ipython-input-2-69e8ea2ac8a3>, line 9)",
     "output_type": "error",
     "traceback": [
      "\u001b[1;36m  File \u001b[1;32m\"<ipython-input-2-69e8ea2ac8a3>\"\u001b[1;36m, line \u001b[1;32m9\u001b[0m\n\u001b[1;33m    f\"Değerleme konusu taşınmaz, Kayseri İli, {ilçe} İlçesi, {mahalle} Mahallesi, {cadde or sokak} Caddesi, No:{bina_no}/{kapı_no} adresinde yer almaktadır. (UAVT:{uavt_no})\" # Caddesi/sokağı değişken olacak!\u001b[0m\n\u001b[1;37m    ^\u001b[0m\n\u001b[1;31mIndentationError\u001b[0m\u001b[1;31m:\u001b[0m unexpected indent\n"
     ]
    }
   ],
   "source": [
    "ilçe = \"Ahmet\"\n",
    "mahalle = \"Mevlana\"\n",
    "cadde = \"Umut\"\n",
    "sokak = \"\"\n",
    "bina_no = \"16\"\n",
    "kapı_no = \"26\"\n",
    "uavt_no = \"3330725148\"\n",
    "#paragraf_1 =(\n",
    "    f\"Değerleme konusu taşınmaz, Kayseri İli, {ilçe} İlçesi, {mahalle} Mahallesi, {cadde or sokak} Caddesi, No:{bina_no}/{kapı_no} adresinde yer almaktadır. (UAVT:{uavt_no})\" # Caddesi/sokağı değişken olacak!\n",
    "    f\" Tarif olarak taşınmaza ulaşmak için Şehir merkezinden Sivas Bulvarı üzerinde, doğu yönünde yaklaşık 3 km. ilerlenerek Aşık Veysel Bulvarına dönülür ve 1 km. ilerlenerek Tavlusun Yolu caddesine dönülür.\"\n",
    "    f\" Yaklaşık 2 km. ilerlenerek Umut caddesine dönülür ve 1 km. ilerlendiğinde değerleme konusu taşınmaz solda yer almaktadır.\" # kayseri meydandan hedef adrese tarif!\n",
    "    f\" Gayrimenkul Kayseri il merkezine yaklaşık olarak 6 km. mesafede yer almakta olup, yakın çevresinde bilinen önemli yerler Büyük Nesil Koleji ve Hacı Ali Bayraktar camiidir.\"\n",
    "    f\" Gayrimenkule toplu taşıma araçları ve özel araç ile ulaşım mümkündür. Taşınmaz okul, hastane, park, market gibi donatılara yakın konumdadır.\" # yakın/uzak \"il merkezine mesafe><5 km.\"\"\n",
    "    f\" Bölgede yol, elektrik, su, doğalgaz, kanalizasyon altyapıları tamamlanmış durumda olup, herhangi bir eksik yoktur.\")\n",
    "\n",
    "#print(paragraf_1)"
   ]
  },
  {
   "cell_type": "code",
   "execution_count": 3,
   "metadata": {},
   "outputs": [],
   "source": [
    "#import PyPDF2\n",
    "#import PyMuPDF"
   ]
  },
  {
   "cell_type": "code",
   "execution_count": 11,
   "metadata": {
    "id": "308D7ZU6sndF"
   },
   "outputs": [],
   "source": [
    "#pdfFileObj = open(\"deneme.pdf\", \"rb\")\n",
    "#pdfReader = PyPDF2.PdfFileReader(pdfFileObj)\n",
    "#print(pdfReader.numPages)\n",
    "#pageObj = pdfReader.getPage(0)\n",
    "#print(pageObj.extractText())\n",
    "#pdfFileObj.close()"
   ]
  },
  {
   "cell_type": "code",
   "execution_count": 3,
   "metadata": {},
   "outputs": [
    {
     "ename": "ModuleNotFoundError",
     "evalue": "No module named 'fitz'",
     "output_type": "error",
     "traceback": [
      "\u001b[1;31m---------------------------------------------------------------------------\u001b[0m",
      "\u001b[1;31mModuleNotFoundError\u001b[0m                       Traceback (most recent call last)",
      "\u001b[1;32m<ipython-input-3-c7a3b1ccf1b0>\u001b[0m in \u001b[0;36m<module>\u001b[1;34m\u001b[0m\n\u001b[0;32m      1\u001b[0m \u001b[1;31m# Takbisden veri çekme-işleme\u001b[0m\u001b[1;33m\u001b[0m\u001b[1;33m\u001b[0m\u001b[1;33m\u001b[0m\u001b[0m\n\u001b[1;32m----> 2\u001b[1;33m \u001b[1;32mimport\u001b[0m \u001b[0mfitz\u001b[0m\u001b[1;33m\u001b[0m\u001b[1;33m\u001b[0m\u001b[0m\n\u001b[0m\u001b[0;32m      3\u001b[0m \u001b[1;32mimport\u001b[0m \u001b[0mpandas\u001b[0m \u001b[1;32mas\u001b[0m \u001b[0mpd\u001b[0m\u001b[1;33m\u001b[0m\u001b[1;33m\u001b[0m\u001b[0m\n\u001b[0;32m      4\u001b[0m \u001b[0mdoc\u001b[0m \u001b[1;33m=\u001b[0m \u001b[0mfitz\u001b[0m\u001b[1;33m.\u001b[0m\u001b[0mopen\u001b[0m\u001b[1;33m(\u001b[0m\u001b[1;34m\"takbis.pdf\"\u001b[0m\u001b[1;33m)\u001b[0m\u001b[1;33m\u001b[0m\u001b[1;33m\u001b[0m\u001b[0m\n\u001b[0;32m      5\u001b[0m \u001b[0mpage1\u001b[0m \u001b[1;33m=\u001b[0m \u001b[0mdoc\u001b[0m\u001b[1;33m[\u001b[0m\u001b[1;36m0\u001b[0m\u001b[1;33m]\u001b[0m\u001b[1;33m\u001b[0m\u001b[1;33m\u001b[0m\u001b[0m\n",
      "\u001b[1;31mModuleNotFoundError\u001b[0m: No module named 'fitz'"
     ]
    }
   ],
   "source": [
    "# Takbisden veri çekme-işleme\n",
    "import fitz\n",
    "import pandas as pd\n",
    "doc = fitz.open(\"takbis.pdf\")\n",
    "page1 = doc[0]\n",
    "words1 = page1.get_text(\"words\")\n",
    "words1[0]\n"
   ]
  },
  {
   "cell_type": "code",
   "execution_count": 30,
   "metadata": {},
   "outputs": [
    {
     "name": "stdout",
     "output_type": "stream",
     "text": [
      "Tarih:\n"
     ]
    }
   ],
   "source": [
    "#liste = list(words[0])\n",
    "#print(liste[4])"
   ]
  },
  {
   "cell_type": "code",
   "execution_count": 2,
   "metadata": {},
   "outputs": [
    {
     "data": {
      "text/plain": [
       "(26.453123092651367,\n",
       " 14.757810592651367,\n",
       " 62.03834915161133,\n",
       " 23.695310592651367,\n",
       " '5.10.2021',\n",
       " 0,\n",
       " 0,\n",
       " 0)"
      ]
     },
     "execution_count": 2,
     "metadata": {},
     "output_type": "execute_result"
    }
   ],
   "source": [
    "# Daskdan veri çekme-işleme\n",
    "import fitz\n",
    "import pandas as pd\n",
    "doc = fitz.open(\"adres.pdf\")\n",
    "page1 = doc[0]\n",
    "words = page1.get_text(\"words\")\n",
    "words[0]\n"
   ]
  },
  {
   "cell_type": "code",
   "execution_count": 5,
   "metadata": {},
   "outputs": [
    {
     "name": "stdout",
     "output_type": "stream",
     "text": [
      "Değerleme konusu taşınmaz, Kayseri İli, Talas İlçesi, Mevlana Mahallesi, Umut Caddesi, No:16/26 adresinde yer almaktadır. (UAVT:4015002985) Tarif olarak taşınmaza ulaşmak için Şehir merkezinden Sivas Bulvarı üzerinde, doğu yönünde yaklaşık 3 km. ilerlenerek Aşık Veysel Bulvarına dönülür ve 1 km. ilerlenerek Tavlusun Yolu caddesine dönülür. Yaklaşık 2 km. ilerlenerek Umut caddesine dönülür ve 1 km. ilerlendiğinde değerleme konusu taşınmaz solda yer almaktadır. Gayrimenkul Kayseri il merkezine yaklaşık olarak 6 km. mesafede yer almakta olup, yakın çevresinde bilinen önemli yerler Büyük Nesil Koleji ve Hacı Ali Bayraktar camiidir. Gayrimenkule toplu taşıma araçları ve özel araç ile ulaşım mümkündür. Taşınmaz okul, hastane, park, market gibi donatılara yakın konumdadır. Bölgede yol, elektrik, su, doğalgaz, kanalizasyon altyapıları tamamlanmış durumda olup, herhangi bir eksik yoktur.\n",
      "Değerleme konusu gayrimenkulün bulunduğu bölge şehrin gelişmekte olan bölgelerindendir. bölgede yapımı tamamlanmış ve devam eden çok sayıda bina bulunmaktadır.Bölgede her kesimden ve gelir grubundan insan yaşamaktadır.\n",
      "Değerleme konusu taşınmazın bulunduğu bölgedeki yeni binalar genel olarak konu taşınmaza benzer çok katlı yapıdadır. 0-10 yıllık blok nizam yapılaşmanın çoğunluktaolduğu bölgede binaların ortalama kat sayısı ortalama 14 'tür.\n",
      "1-10-2021- tarih ve saat 5:14 itibariyle Köyü Tapu Müdürlüğü TKGM TAKBİS sisteminden alınan takyidat belgesi incelenmiş olup, konu taşınmaz üzerinde aşağıdaki kayıtlara rastlanmıştır.Beyanlar bölümünde; 07.09.2017 tarih ve 10651 yevmiyeli Yönetim Planı: 21.08.2017 ve 07.05.2021 tarih, 8138 yevmiyeli Diğer (Konusu: Talas Mahallesi 1799 ada 1 parselin cins değişikliğiişlemleri için vergi dairesi alındısı Kaleönü Vergi Dairesi Müdürlüğü tarafından düzenlenen 06.05.2021 tarih E:35221 sayılı belgeye istinaden kesilmiştir.) beyan kaydı bulunmaktadır.NOT: Taşınmazın takyidat ve tapu incelemesi TAKBİS üzerinden teyit edilmiş olup TAKBİS belgesi üzerinde pafta numarası yazmadığı için raporda belirtilmemiştir.\n"
     ]
    }
   ],
   "source": [
    "ilçe = str(words[29][4]).title()\n",
    "mahalle = str(words[19][4]).title()\n",
    "cadde = str(words[21][4]).title()\n",
    "sokak = \"\"\n",
    "bina_no = words[24][4]\n",
    "kapı_no = words[28][4]\n",
    "uavt_no = (str(words[39][4])).strip(\",\")\n",
    "\n",
    "tarih = (str(words1[1][4])[0:10])\n",
    "saat = (str(words1[1][4])[11:])\n",
    "kurum = words1[29][4]\n",
    "paragraf_1 = (\n",
    "    f\"Değerleme konusu taşınmaz, Kayseri İli, {ilçe} İlçesi, {mahalle} Mahallesi, {cadde or sokak} Caddesi, No:{bina_no}/{kapı_no} adresinde yer almaktadır. (UAVT:{uavt_no})\" # Caddesi/sokağı değişken olacak!\n",
    "    f\" Tarif olarak taşınmaza ulaşmak için Şehir merkezinden Sivas Bulvarı üzerinde, doğu yönünde yaklaşık 3 km. ilerlenerek Aşık Veysel Bulvarına dönülür ve 1 km. ilerlenerek Tavlusun Yolu caddesine dönülür.\"\n",
    "    f\" Yaklaşık 2 km. ilerlenerek Umut caddesine dönülür ve 1 km. ilerlendiğinde değerleme konusu taşınmaz solda yer almaktadır.\" # kayseri meydandan hedef adrese tarif!\n",
    "    f\" Gayrimenkul Kayseri il merkezine yaklaşık olarak 6 km. mesafede yer almakta olup, yakın çevresinde bilinen önemli yerler Büyük Nesil Koleji ve Hacı Ali Bayraktar camiidir.\"\n",
    "    f\" Gayrimenkule toplu taşıma araçları ve özel araç ile ulaşım mümkündür. Taşınmaz okul, hastane, park, market gibi donatılara yakın konumdadır.\" # yakın/uzak \"il merkezine mesafe><5 km.\"\"\n",
    "    f\" Bölgede yol, elektrik, su, doğalgaz, kanalizasyon altyapıları tamamlanmış durumda olup, herhangi bir eksik yoktur.\"  \n",
    ")\n",
    "paragraf_2 = (\n",
    "    f\"Değerleme konusu gayrimenkulün bulunduğu bölge şehrin gelişmekte olan bölgelerindendir. bölgede yapımı tamamlanmış ve devam eden çok sayıda bina bulunmaktadır.\" \n",
    "    f\"Bölgede her kesimden ve gelir grubundan insan yaşamaktadır.\"\n",
    ")\n",
    "paragraf_3 = (\n",
    "    f\"Değerleme konusu taşınmazın bulunduğu bölgedeki yeni binalar genel olarak konu taşınmaza benzer çok katlı yapıdadır. 0-10 yıllık blok nizam yapılaşmanın çoğunlukta\" \n",
    "    f\"olduğu bölgede binaların ortalama kat sayısı ortalama 14 'tür.\" \n",
    ")\n",
    "paragraf_4 = (\n",
    "    f\"{tarih} tarih ve saat {saat} itibariyle {kurum} Tapu Müdürlüğü TKGM TAKBİS sisteminden alınan takyidat belgesi incelenmiş olup, konu taşınmaz üzerinde aşağıdaki kayıtlara rastlanmıştır.\"\n",
    "    f\"Beyanlar bölümünde; 07.09.2017 tarih ve 10651 yevmiyeli Yönetim Planı: 21.08.2017 ve 07.05.2021 tarih, 8138 yevmiyeli Diğer (Konusu: Talas Mahallesi 1799 ada 1 parselin cins değişikliği\" # bu bölüm 3 başlık halinde takbisten çekilecek\n",
    "    f\"işlemleri için vergi dairesi alındısı Kaleönü Vergi Dairesi Müdürlüğü tarafından düzenlenen 06.05.2021 tarih E:35221 sayılı belgeye istinaden kesilmiştir.) beyan kaydı bulunmaktadır.\"\n",
    "    f\"NOT: Taşınmazın takyidat ve tapu incelemesi TAKBİS üzerinden teyit edilmiş olup TAKBİS belgesi üzerinde pafta numarası yazmadığı için raporda belirtilmemiştir.\"\n",
    ")\n",
    "print(paragraf_1)\n",
    "print(paragraf_2)\n",
    "print(paragraf_3)\n",
    "print(paragraf_4)"
   ]
  },
  {
   "cell_type": "code",
   "execution_count": 92,
   "metadata": {},
   "outputs": [
    {
     "ename": "TypeError",
     "evalue": "can only concatenate list (not \"tuple\") to list",
     "output_type": "error",
     "traceback": [
      "\u001b[1;31m---------------------------------------------------------------------------\u001b[0m",
      "\u001b[1;31mTypeError\u001b[0m                                 Traceback (most recent call last)",
      "\u001b[1;32m~\\AppData\\Local\\Temp/ipykernel_9744/3876651774.py\u001b[0m in \u001b[0;36m<module>\u001b[1;34m\u001b[0m\n\u001b[0;32m      5\u001b[0m \u001b[0mwords1\u001b[0m \u001b[1;33m=\u001b[0m \u001b[0mpage1\u001b[0m\u001b[1;33m.\u001b[0m\u001b[0mget_text\u001b[0m\u001b[1;33m(\u001b[0m\u001b[1;34m\"words\"\u001b[0m\u001b[1;33m)\u001b[0m\u001b[1;33m\u001b[0m\u001b[1;33m\u001b[0m\u001b[0m\n\u001b[0;32m      6\u001b[0m \u001b[0mwords1\u001b[0m\u001b[1;33m\u001b[0m\u001b[1;33m\u001b[0m\u001b[0m\n\u001b[1;32m----> 7\u001b[1;33m \u001b[0mmylist\u001b[0m \u001b[1;33m=\u001b[0m \u001b[0mlist\u001b[0m\u001b[1;33m(\u001b[0m\u001b[0mwords1\u001b[0m\u001b[1;33m[\u001b[0m\u001b[1;36m0\u001b[0m\u001b[1;33m]\u001b[0m\u001b[1;33m)\u001b[0m\u001b[1;33m+\u001b[0m\u001b[1;33m(\u001b[0m\u001b[1;33m)\u001b[0m\u001b[1;33m+\u001b[0m\u001b[0mlist\u001b[0m\u001b[1;33m(\u001b[0m\u001b[0mwords1\u001b[0m\u001b[1;33m[\u001b[0m\u001b[1;36m100\u001b[0m\u001b[1;33m]\u001b[0m\u001b[1;33m)\u001b[0m\u001b[1;33m\u001b[0m\u001b[1;33m\u001b[0m\u001b[0m\n\u001b[0m\u001b[0;32m      8\u001b[0m \u001b[0mmylist\u001b[0m\u001b[1;33m\u001b[0m\u001b[1;33m\u001b[0m\u001b[0m\n\u001b[0;32m      9\u001b[0m \u001b[1;31m#index = mylist.index('Tarih:')\u001b[0m\u001b[1;33m\u001b[0m\u001b[1;33m\u001b[0m\u001b[1;33m\u001b[0m\u001b[0m\n",
      "\u001b[1;31mTypeError\u001b[0m: can only concatenate list (not \"tuple\") to list"
     ]
    }
   ],
   "source": [
    "import fitz\n",
    "import pandas as pd\n",
    "doc = fitz.open(\"takbis.pdf\")\n",
    "page1 = doc[0]\n",
    "words1 = page1.get_text(\"words\")\n",
    "words1\n",
    "mylist = list(words1[0])+list(words1[100]) # bu tupleları tek liste yapmanın kolay yolunu bulmalı\n",
    "mylist\n",
    "#index = mylist.index('Tarih:')\n",
    "#index"
   ]
  },
  {
   "cell_type": "code",
   "execution_count": null,
   "metadata": {},
   "outputs": [],
   "source": []
  },
  {
   "cell_type": "code",
   "execution_count": null,
   "metadata": {},
   "outputs": [],
   "source": []
  },
  {
   "cell_type": "code",
   "execution_count": null,
   "metadata": {},
   "outputs": [],
   "source": []
  },
  {
   "cell_type": "code",
   "execution_count": 34,
   "metadata": {},
   "outputs": [
    {
     "ename": "AttributeError",
     "evalue": "'NoneType' object has no attribute 'rect'",
     "output_type": "error",
     "traceback": [
      "\u001b[1;31m---------------------------------------------------------------------------\u001b[0m",
      "\u001b[1;31mAttributeError\u001b[0m                            Traceback (most recent call last)",
      "\u001b[1;32m~\\AppData\\Local\\Temp/ipykernel_9744/3623502511.py\u001b[0m in \u001b[0;36m<module>\u001b[1;34m\u001b[0m\n\u001b[0;32m      1\u001b[0m \u001b[0mfirst_annot\u001b[0m\u001b[1;33m=\u001b[0m\u001b[1;33m[\u001b[0m\u001b[1;36m682.4466552734375\u001b[0m\u001b[1;33m,\u001b[0m \u001b[1;36m24.0\u001b[0m\u001b[1;33m,\u001b[0m \u001b[1;36m711.9668579101562\u001b[0m\u001b[1;33m,\u001b[0m \u001b[1;36m38.0625\u001b[0m\u001b[1;33m]\u001b[0m\u001b[1;33m\u001b[0m\u001b[1;33m\u001b[0m\u001b[0m\n\u001b[0;32m      2\u001b[0m \u001b[1;33m\u001b[0m\u001b[0m\n\u001b[1;32m----> 3\u001b[1;33m \u001b[0mrec\u001b[0m\u001b[1;33m=\u001b[0m\u001b[0mpage1\u001b[0m\u001b[1;33m.\u001b[0m\u001b[0mfirst_annot\u001b[0m\u001b[1;33m.\u001b[0m\u001b[0mrect\u001b[0m\u001b[1;33m\u001b[0m\u001b[1;33m\u001b[0m\u001b[0m\n\u001b[0m\u001b[0;32m      4\u001b[0m \u001b[1;33m\u001b[0m\u001b[0m\n\u001b[0;32m      5\u001b[0m \u001b[0mrec\u001b[0m\u001b[1;33m\u001b[0m\u001b[1;33m\u001b[0m\u001b[0m\n",
      "\u001b[1;31mAttributeError\u001b[0m: 'NoneType' object has no attribute 'rect'"
     ]
    }
   ],
   "source": [
    "first_annot=[682.4466552734375, 24.0, 711.9668579101562, 38.0625]\n",
    "\n",
    "rec=page1.first_annot.rect\n",
    "\n",
    "rec\n",
    "\n",
    "#Information of words in first object is stored in mywords\n",
    "\n",
    "mywords = [w for w in words if fitz.Rect(w[:4]) in rec]\n",
    "\n",
    "ann= make_text(mywords)\n",
    "\n",
    "first_annot.append(ann)\n",
    "\n",
    "first_annot.append(ann)\n",
    "print(rec)\n",
    "print(first_annots)\n"
   ]
  },
  {
   "cell_type": "code",
   "execution_count": 1,
   "metadata": {},
   "outputs": [
    {
     "name": "stdout",
     "output_type": "stream",
     "text": [
      "15.0 celcius is equal 59.00 fahrenheit.\n"
     ]
    }
   ],
   "source": [
    "celcius = float(input(\"Please enter a celcius degree: \"))\n",
    "fahrenheit = (celcius * 1.8) + 32\n",
    "print(\"{} celcius is equal {:.2f} fahrenheit.\".format(celcius, fahrenheit))"
   ]
  },
  {
   "cell_type": "code",
   "execution_count": 11,
   "metadata": {},
   "outputs": [
    {
     "name": "stdout",
     "output_type": "stream",
     "text": [
      "100.0 km is equal to62.00 miles\n"
     ]
    }
   ],
   "source": [
    "km = float(input(\"Please enter km: \"))\n",
    "mile = 0.62*km\n",
    "print(\"{} km is equal to {:.2f} miles\".format(km, mile))"
   ]
  },
  {
   "cell_type": "code",
   "execution_count": 12,
   "metadata": {},
   "outputs": [
    {
     "name": "stdout",
     "output_type": "stream",
     "text": [
      "True\n"
     ]
    }
   ],
   "source": [
    "age = True\n",
    "chronic = True\n",
    "immune = True\n",
    "risk = age or chronic or immune\n",
    "print(risk)"
   ]
  },
  {
   "cell_type": "code",
   "execution_count": null,
   "metadata": {},
   "outputs": [],
   "source": []
  }
 ],
 "metadata": {
  "colab": {
   "name": "raportör.ipynb",
   "provenance": []
  },
  "interpreter": {
   "hash": "1a77833348a6a05d98e15657e93193bb8cd72ba122c15fc4032e7389abddf7af"
  },
  "kernelspec": {
   "display_name": "Python 3",
   "language": "python",
   "name": "python3"
  },
  "language_info": {
   "codemirror_mode": {
    "name": "ipython",
    "version": 3
   },
   "file_extension": ".py",
   "mimetype": "text/x-python",
   "name": "python",
   "nbconvert_exporter": "python",
   "pygments_lexer": "ipython3",
   "version": "3.8.5"
  }
 },
 "nbformat": 4,
 "nbformat_minor": 2
}
