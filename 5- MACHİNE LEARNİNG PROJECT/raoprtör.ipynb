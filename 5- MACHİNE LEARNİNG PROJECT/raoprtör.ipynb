{
 "cells": [
  {
   "cell_type": "code",
   "execution_count": 3,
   "metadata": {
    "id": "afPheo6WrnAc"
   },
   "outputs": [],
   "source": [
    "# hızlı raporlama toolu"
   ]
  },
  {
   "cell_type": "code",
   "execution_count": 7,
   "metadata": {
    "colab": {
     "base_uri": "https://localhost:8080/"
    },
    "id": "1jMqYUMur0b6",
    "outputId": "12c62f65-00c1-4f65-b25b-311d90e04e17"
   },
   "outputs": [
    {
     "data": {
      "text/plain": [
       "'Değerleme konusu taşınmaz, Kayseri İli, Ahmet İlçesi, Mevlana Mahallesi, Umut Caddesi, No:16/26 adresinde yer almaktadır. (UAVT:3330725148) Tarif olarak taşınmaza ulaşmak için Şehir merkezinden Sivas Bulvarı üzerinde, doğu yönünde yaklaşık 3 km. ilerlenerek Aşık Veysel Bulvarına dönülür ve 1 km. ilerlenerek Tavlusun Yolu caddesine dönülür. Yaklaşık 2 km. ilerlenerek Umut caddesine dönülür ve 1 km. ilerlendiğinde değerleme konusu taşınmaz solda yer almaktadır. Gayrimenkul Kayseri il merkezine yaklaşık olarak 6 km. mesafede yer almakta olup, yakın çevresinde bilinen önemli yerler Büyük Nesil Koleji ve Hacı Ali Bayraktar camiidir. Gayrimenkule toplu taşıma araçları ve özel araç ile ulaşım mümkündür. Taşınmaz okul, hastane, park, market gibi donatılara yakın konumdadır. Bölgede yol, elektrik, su, doğalgaz, kanalizasyon altyapıları tamamlanmış durumda olup, herhangi bir eksik yoktur.'"
      ]
     },
     "execution_count": 7,
     "metadata": {},
     "output_type": "execute_result"
    }
   ],
   "source": [
    "ilçe = \"Ahmet\"\n",
    "mahalle = \"Mevlana\"\n",
    "cadde = \"Umut\"\n",
    "sokak = \"\"\n",
    "bina_no = \"16\"\n",
    "kapı_no = \"26\"\n",
    "uavt_no = \"3330725148\"\n",
    "#paragraf_1 =\n",
    "(f\"Değerleme konusu taşınmaz, Kayseri İli, {ilçe} İlçesi, {mahalle} Mahallesi, {cadde or sokak} Caddesi, No:{bina_no}/{kapı_no} adresinde yer almaktadır. (UAVT:{uavt_no})\" # Caddesi/sokağı değişken olacak!\n",
    "    f\" Tarif olarak taşınmaza ulaşmak için Şehir merkezinden Sivas Bulvarı üzerinde, doğu yönünde yaklaşık 3 km. ilerlenerek Aşık Veysel Bulvarına dönülür ve 1 km. ilerlenerek Tavlusun Yolu caddesine dönülür.\"\n",
    "    f\" Yaklaşık 2 km. ilerlenerek Umut caddesine dönülür ve 1 km. ilerlendiğinde değerleme konusu taşınmaz solda yer almaktadır.\" # kayseri meydandan hedef adrese tarif!\n",
    "    f\" Gayrimenkul Kayseri il merkezine yaklaşık olarak 6 km. mesafede yer almakta olup, yakın çevresinde bilinen önemli yerler Büyük Nesil Koleji ve Hacı Ali Bayraktar camiidir.\"\n",
    "    f\" Gayrimenkule toplu taşıma araçları ve özel araç ile ulaşım mümkündür. Taşınmaz okul, hastane, park, market gibi donatılara yakın konumdadır.\" # yakın/uzak \"il merkezine mesafe><5 km.\"\n",
    "    f\" Bölgede yol, elektrik, su, doğalgaz, kanalizasyon altyapıları tamamlanmış durumda olup, herhangi bir eksik yoktur.\")\n",
    "\n",
    "#print(paragraf_1)"
   ]
  },
  {
   "cell_type": "code",
   "execution_count": 8,
   "metadata": {},
   "outputs": [],
   "source": [
    "#import PyPDF2\n",
    "#import PyMuPDF"
   ]
  },
  {
   "cell_type": "code",
   "execution_count": 9,
   "metadata": {
    "id": "308D7ZU6sndF"
   },
   "outputs": [],
   "source": [
    "#pdfFileObj = open(\"deneme.pdf\", \"rb\")\n",
    "#pdfReader = PyPDF2.PdfFileReader(pdfFileObj)\n",
    "#print(pdfReader.numPages)\n",
    "#pageObj = pdfReader.getPage(0)\n",
    "#print(pageObj.extractText())\n",
    "#pdfFileObj.close()"
   ]
  },
  {
   "cell_type": "code",
   "execution_count": 16,
   "metadata": {},
   "outputs": [
    {
     "name": "stdout",
     "output_type": "stream",
     "text": [
      "Collecting fitz\n",
      "  Downloading fitz-0.0.1.dev2-py2.py3-none-any.whl (20 kB)\n",
      "Collecting nipype\n",
      "  Downloading nipype-1.6.1-py3-none-any.whl (3.2 MB)\n",
      "Collecting httplib2\n",
      "  Downloading httplib2-0.20.1-py3-none-any.whl (96 kB)\n",
      "Collecting nibabel\n",
      "  Downloading nibabel-3.2.1-py3-none-any.whl (3.3 MB)\n",
      "Requirement already satisfied: scipy in c:\\programdata\\anaconda3\\lib\\site-packages (from fitz) (1.5.2)\n",
      "Requirement already satisfied: numpy in c:\\programdata\\anaconda3\\lib\\site-packages (from fitz) (1.19.2)\n",
      "Collecting pyxnat\n",
      "  Downloading pyxnat-1.4.tar.gz (78 kB)\n",
      "Collecting configobj\n",
      "  Downloading configobj-5.0.6.tar.gz (33 kB)\n",
      "Requirement already satisfied: pandas in c:\\users\\ökten\\appdata\\roaming\\python\\python38\\site-packages (from fitz) (1.3.3)\n",
      "Collecting configparser\n",
      "  Downloading configparser-5.0.2-py3-none-any.whl (19 kB)\n",
      "Requirement already satisfied: networkx>=2.0 in c:\\programdata\\anaconda3\\lib\\site-packages (from nipype->fitz) (2.5)\n",
      "Requirement already satisfied: packaging in c:\\programdata\\anaconda3\\lib\\site-packages (from nipype->fitz) (20.4)\n",
      "Collecting pydot>=1.2.3\n",
      "  Downloading pydot-1.4.2-py2.py3-none-any.whl (21 kB)\n",
      "Requirement already satisfied: python-dateutil>=2.2 in c:\\programdata\\anaconda3\\lib\\site-packages (from nipype->fitz) (2.8.1)\n",
      "Requirement already satisfied: filelock>=3.0.0 in c:\\programdata\\anaconda3\\lib\\site-packages (from nipype->fitz) (3.0.12)\n",
      "Collecting rdflib>=5.0.0\n",
      "  Downloading rdflib-6.0.2-py3-none-any.whl (407 kB)\n",
      "Requirement already satisfied: click>=6.6.0 in c:\\programdata\\anaconda3\\lib\\site-packages (from nipype->fitz) (7.1.2)\n",
      "Collecting simplejson>=3.8.0\n",
      "  Downloading simplejson-3.17.5-cp38-cp38-win_amd64.whl (75 kB)\n",
      "Collecting traits!=5.0,>=4.6\n",
      "  Downloading traits-6.3.1-cp38-cp38-win_amd64.whl (5.0 MB)\n",
      "Collecting etelemetry>=0.2.0\n",
      "  Downloading etelemetry-0.2.2-py3-none-any.whl (6.2 kB)\n",
      "Collecting prov>=1.5.2\n",
      "  Downloading prov-2.0.0-py3-none-any.whl (421 kB)\n",
      "Requirement already satisfied: pyparsing<3,>=2.4.2 in c:\\programdata\\anaconda3\\lib\\site-packages (from httplib2->fitz) (2.4.7)\n",
      "Requirement already satisfied: lxml>=4.3 in c:\\programdata\\anaconda3\\lib\\site-packages (from pyxnat->fitz) (4.6.1)\n",
      "Requirement already satisfied: requests>=2.20 in c:\\programdata\\anaconda3\\lib\\site-packages (from pyxnat->fitz) (2.24.0)\n",
      "Collecting pathlib>=1.0\n",
      "  Downloading pathlib-1.0.1.tar.gz (49 kB)\n",
      "Requirement already satisfied: six>=1.15 in c:\\programdata\\anaconda3\\lib\\site-packages (from pyxnat->fitz) (1.15.0)\n",
      "Requirement already satisfied: future>=0.16 in c:\\programdata\\anaconda3\\lib\\site-packages (from pyxnat->fitz) (0.18.2)\n",
      "Requirement already satisfied: pytz>=2017.3 in c:\\programdata\\anaconda3\\lib\\site-packages (from pandas->fitz) (2020.1)\n",
      "Requirement already satisfied: decorator>=4.3.0 in c:\\programdata\\anaconda3\\lib\\site-packages (from networkx>=2.0->nipype->fitz) (4.4.2)\n",
      "Requirement already satisfied: setuptools in c:\\programdata\\anaconda3\\lib\\site-packages (from rdflib>=5.0.0->nipype->fitz) (50.3.1.post20201107)\n",
      "Collecting isodate\n",
      "  Downloading isodate-0.6.0-py2.py3-none-any.whl (45 kB)\n",
      "Collecting ci-info>=0.2\n",
      "  Downloading ci_info-0.2.0-py3-none-any.whl (6.9 kB)\n",
      "Requirement already satisfied: chardet<4,>=3.0.2 in c:\\programdata\\anaconda3\\lib\\site-packages (from requests>=2.20->pyxnat->fitz) (3.0.4)\n",
      "Requirement already satisfied: idna<3,>=2.5 in c:\\programdata\\anaconda3\\lib\\site-packages (from requests>=2.20->pyxnat->fitz) (2.10)\n",
      "Requirement already satisfied: certifi>=2017.4.17 in c:\\programdata\\anaconda3\\lib\\site-packages (from requests>=2.20->pyxnat->fitz) (2020.6.20)\n",
      "Requirement already satisfied: urllib3!=1.25.0,!=1.25.1,<1.26,>=1.21.1 in c:\\programdata\\anaconda3\\lib\\site-packages (from requests>=2.20->pyxnat->fitz) (1.25.11)\n",
      "Building wheels for collected packages: pyxnat, configobj, pathlib\n",
      "  Building wheel for pyxnat (setup.py): started\n",
      "  Building wheel for pyxnat (setup.py): finished with status 'done'\n",
      "  Created wheel for pyxnat: filename=pyxnat-1.4-py3-none-any.whl size=92691 sha256=fdc1c40aba31c60061d290229127a601f0b2b47a2a0aa6efcdf1f98308a719b0\n",
      "  Stored in directory: c:\\users\\ökten\\appdata\\local\\pip\\cache\\wheels\\ab\\8c\\88\\43b445801349ef91dea1a2f7e572f20b9940320e27fb985faa\n",
      "  Building wheel for configobj (setup.py): started\n",
      "  Building wheel for configobj (setup.py): finished with status 'done'\n",
      "  Created wheel for configobj: filename=configobj-5.0.6-py3-none-any.whl size=34550 sha256=c6352d23cb93167c52dc32782ee865f8fa3a1dcaaffdd8c05b6ea2079f49df00\n",
      "  Stored in directory: c:\\users\\ökten\\appdata\\local\\pip\\cache\\wheels\\34\\2a\\24\\a490264ae9041fd48f778ff393526572c80bb498ddecb07ea5\n",
      "  Building wheel for pathlib (setup.py): started\n",
      "  Building wheel for pathlib (setup.py): finished with status 'done'\n",
      "  Created wheel for pathlib: filename=pathlib-1.0.1-py3-none-any.whl size=14352 sha256=7389e1f8408445a8a52eb53dfb41f4f12c702c21bbd27b40f4d264d894f3f829\n",
      "  Stored in directory: c:\\users\\ökten\\appdata\\local\\pip\\cache\\wheels\\59\\02\\2f\\ff4a3e16a518feb111ae1405908094483ef56fec0dfa39e571\n",
      "Successfully built pyxnat configobj pathlib\n",
      "Installing collected packages: pydot, nibabel, isodate, rdflib, simplejson, traits, ci-info, etelemetry, prov, nipype, httplib2, pathlib, pyxnat, configobj, configparser, fitz\n"
     ]
    },
    {
     "name": "stderr",
     "output_type": "stream",
     "text": [
      "ERROR: Could not install packages due to an EnvironmentError: [WinError 5] Erişim engellendi: 'C:\\\\ProgramData\\\\Anaconda3\\\\Lib\\\\site-packages\\\\backports\\\\__init__.py'\n",
      "Consider using the `--user` option or check the permissions.\n",
      "\n"
     ]
    },
    {
     "ename": "ModuleNotFoundError",
     "evalue": "No module named 'fitz'",
     "output_type": "error",
     "traceback": [
      "\u001b[1;31m---------------------------------------------------------------------------\u001b[0m",
      "\u001b[1;31mModuleNotFoundError\u001b[0m                       Traceback (most recent call last)",
      "\u001b[1;32m<ipython-input-16-5172a134c5f4>\u001b[0m in \u001b[0;36m<module>\u001b[1;34m\u001b[0m\n\u001b[0;32m      2\u001b[0m \u001b[0mget_ipython\u001b[0m\u001b[1;33m(\u001b[0m\u001b[1;33m)\u001b[0m\u001b[1;33m.\u001b[0m\u001b[0msystem\u001b[0m\u001b[1;33m(\u001b[0m\u001b[1;34m'pip install fitz'\u001b[0m\u001b[1;33m)\u001b[0m\u001b[1;33m\u001b[0m\u001b[1;33m\u001b[0m\u001b[0m\n\u001b[0;32m      3\u001b[0m \u001b[1;33m\u001b[0m\u001b[0m\n\u001b[1;32m----> 4\u001b[1;33m \u001b[1;32mimport\u001b[0m \u001b[0mfitz\u001b[0m\u001b[1;33m\u001b[0m\u001b[1;33m\u001b[0m\u001b[0m\n\u001b[0m\u001b[0;32m      5\u001b[0m \u001b[1;32mimport\u001b[0m \u001b[0mpandas\u001b[0m \u001b[1;32mas\u001b[0m \u001b[0mpd\u001b[0m\u001b[1;33m\u001b[0m\u001b[1;33m\u001b[0m\u001b[0m\n\u001b[0;32m      6\u001b[0m \u001b[0mdoc\u001b[0m \u001b[1;33m=\u001b[0m \u001b[0mfitz\u001b[0m\u001b[1;33m.\u001b[0m\u001b[0mopen\u001b[0m\u001b[1;33m(\u001b[0m\u001b[1;34m\"takbis.pdf\"\u001b[0m\u001b[1;33m)\u001b[0m\u001b[1;33m\u001b[0m\u001b[1;33m\u001b[0m\u001b[0m\n",
      "\u001b[1;31mModuleNotFoundError\u001b[0m: No module named 'fitz'"
     ]
    }
   ],
   "source": [
    "# Takbisden veri çekme-işleme\n",
    "!pip install fitz\n",
    "\n",
    "import fitz\n",
    "import pandas as pd\n",
    "doc = fitz.open(\"takbis.pdf\")\n",
    "page1 = doc[0]\n",
    "words1 = page1.get_text(\"words\")\n",
    "words1[0]\n"
   ]
  },
  {
   "cell_type": "code",
   "execution_count": 11,
   "metadata": {},
   "outputs": [],
   "source": [
    "#liste = list(words[0])\n",
    "#print(liste[4])"
   ]
  },
  {
   "cell_type": "code",
   "execution_count": 2,
   "metadata": {},
   "outputs": [
    {
     "data": {
      "text/plain": [
       "(26.453123092651367,\n",
       " 14.757810592651367,\n",
       " 62.03834915161133,\n",
       " 23.695310592651367,\n",
       " '5.10.2021',\n",
       " 0,\n",
       " 0,\n",
       " 0)"
      ]
     },
     "execution_count": 2,
     "metadata": {},
     "output_type": "execute_result"
    }
   ],
   "source": [
    "# Daskdan veri çekme-işleme\n",
    "import fitz\n",
    "import pandas as pd\n",
    "doc = fitz.open(\"adres.pdf\")\n",
    "page1 = doc[0]\n",
    "words = page1.get_text(\"words\")\n",
    "words[0]\n"
   ]
  },
  {
   "cell_type": "code",
   "execution_count": 12,
   "metadata": {},
   "outputs": [
    {
     "ename": "NameError",
     "evalue": "name 'words' is not defined",
     "output_type": "error",
     "traceback": [
      "\u001b[1;31m---------------------------------------------------------------------------\u001b[0m",
      "\u001b[1;31mNameError\u001b[0m                                 Traceback (most recent call last)",
      "\u001b[1;32m<ipython-input-12-dcc02e798ffd>\u001b[0m in \u001b[0;36m<module>\u001b[1;34m\u001b[0m\n\u001b[1;32m----> 1\u001b[1;33m \u001b[0milçe\u001b[0m \u001b[1;33m=\u001b[0m \u001b[0mstr\u001b[0m\u001b[1;33m(\u001b[0m\u001b[0mwords\u001b[0m\u001b[1;33m[\u001b[0m\u001b[1;36m29\u001b[0m\u001b[1;33m]\u001b[0m\u001b[1;33m[\u001b[0m\u001b[1;36m4\u001b[0m\u001b[1;33m]\u001b[0m\u001b[1;33m)\u001b[0m\u001b[1;33m.\u001b[0m\u001b[0mtitle\u001b[0m\u001b[1;33m(\u001b[0m\u001b[1;33m)\u001b[0m\u001b[1;33m\u001b[0m\u001b[1;33m\u001b[0m\u001b[0m\n\u001b[0m\u001b[0;32m      2\u001b[0m \u001b[0mmahalle\u001b[0m \u001b[1;33m=\u001b[0m \u001b[0mstr\u001b[0m\u001b[1;33m(\u001b[0m\u001b[0mwords\u001b[0m\u001b[1;33m[\u001b[0m\u001b[1;36m19\u001b[0m\u001b[1;33m]\u001b[0m\u001b[1;33m[\u001b[0m\u001b[1;36m4\u001b[0m\u001b[1;33m]\u001b[0m\u001b[1;33m)\u001b[0m\u001b[1;33m.\u001b[0m\u001b[0mtitle\u001b[0m\u001b[1;33m(\u001b[0m\u001b[1;33m)\u001b[0m\u001b[1;33m\u001b[0m\u001b[1;33m\u001b[0m\u001b[0m\n\u001b[0;32m      3\u001b[0m \u001b[0mcadde\u001b[0m \u001b[1;33m=\u001b[0m \u001b[0mstr\u001b[0m\u001b[1;33m(\u001b[0m\u001b[0mwords\u001b[0m\u001b[1;33m[\u001b[0m\u001b[1;36m21\u001b[0m\u001b[1;33m]\u001b[0m\u001b[1;33m[\u001b[0m\u001b[1;36m4\u001b[0m\u001b[1;33m]\u001b[0m\u001b[1;33m)\u001b[0m\u001b[1;33m.\u001b[0m\u001b[0mtitle\u001b[0m\u001b[1;33m(\u001b[0m\u001b[1;33m)\u001b[0m\u001b[1;33m\u001b[0m\u001b[1;33m\u001b[0m\u001b[0m\n\u001b[0;32m      4\u001b[0m \u001b[0msokak\u001b[0m \u001b[1;33m=\u001b[0m \u001b[1;34m\"\"\u001b[0m\u001b[1;33m\u001b[0m\u001b[1;33m\u001b[0m\u001b[0m\n\u001b[0;32m      5\u001b[0m \u001b[0mbina_no\u001b[0m \u001b[1;33m=\u001b[0m \u001b[0mwords\u001b[0m\u001b[1;33m[\u001b[0m\u001b[1;36m24\u001b[0m\u001b[1;33m]\u001b[0m\u001b[1;33m[\u001b[0m\u001b[1;36m4\u001b[0m\u001b[1;33m]\u001b[0m\u001b[1;33m\u001b[0m\u001b[1;33m\u001b[0m\u001b[0m\n",
      "\u001b[1;31mNameError\u001b[0m: name 'words' is not defined"
     ]
    }
   ],
   "source": [
    "ilçe = str(words[29][4]).title()\n",
    "mahalle = str(words[19][4]).title()\n",
    "cadde = str(words[21][4]).title()\n",
    "sokak = \"\"\n",
    "bina_no = words[24][4]\n",
    "kapı_no = words[28][4]\n",
    "uavt_no = (str(words[39][4])).strip(\",\")\n",
    "\n",
    "tarih = (str(words1[1][4])[0:10])\n",
    "saat = (str(words1[1][4])[11:])\n",
    "kurum = words1[29][4]\n",
    "paragraf_1 = (\n",
    "    f\"Değerleme konusu taşınmaz, Kayseri İli, {ilçe} İlçesi, {mahalle} Mahallesi, {cadde or sokak} Caddesi, No:{bina_no}/{kapı_no} adresinde yer almaktadır. (UAVT:{uavt_no})\" # Caddesi/sokağı değişken olacak!\n",
    "    f\" Tarif olarak taşınmaza ulaşmak için Şehir merkezinden Sivas Bulvarı üzerinde, doğu yönünde yaklaşık 3 km. ilerlenerek Aşık Veysel Bulvarına dönülür ve 1 km. ilerlenerek Tavlusun Yolu caddesine dönülür.\"\n",
    "    f\" Yaklaşık 2 km. ilerlenerek Umut caddesine dönülür ve 1 km. ilerlendiğinde değerleme konusu taşınmaz solda yer almaktadır.\" # kayseri meydandan hedef adrese tarif!\n",
    "    f\" Gayrimenkul Kayseri il merkezine yaklaşık olarak 6 km. mesafede yer almakta olup, yakın çevresinde bilinen önemli yerler Büyük Nesil Koleji ve Hacı Ali Bayraktar camiidir.\"\n",
    "    f\" Gayrimenkule toplu taşıma araçları ve özel araç ile ulaşım mümkündür. Taşınmaz okul, hastane, park, market gibi donatılara yakın konumdadır.\" # yakın/uzak \"il merkezine mesafe><5 km.\"\"\n",
    "    f\" Bölgede yol, elektrik, su, doğalgaz, kanalizasyon altyapıları tamamlanmış durumda olup, herhangi bir eksik yoktur.\"  \n",
    ")\n",
    "paragraf_2 = (\n",
    "    f\"Değerleme konusu gayrimenkulün bulunduğu bölge şehrin gelişmekte olan bölgelerindendir. bölgede yapımı tamamlanmış ve devam eden çok sayıda bina bulunmaktadır.\" \n",
    "    f\"Bölgede her kesimden ve gelir grubundan insan yaşamaktadır.\"\n",
    ")\n",
    "paragraf_3 = (\n",
    "    f\"Değerleme konusu taşınmazın bulunduğu bölgedeki yeni binalar genel olarak konu taşınmaza benzer çok katlı yapıdadır. 0-10 yıllık blok nizam yapılaşmanın çoğunlukta\" \n",
    "    f\"olduğu bölgede binaların ortalama kat sayısı ortalama 14 'tür.\" \n",
    ")\n",
    "paragraf_4 = (\n",
    "    f\"{tarih} tarih ve saat {saat} itibariyle {kurum} Tapu Müdürlüğü TKGM TAKBİS sisteminden alınan takyidat belgesi incelenmiş olup, konu taşınmaz üzerinde aşağıdaki kayıtlara rastlanmıştır.\"\n",
    "    f\"Beyanlar bölümünde; 07.09.2017 tarih ve 10651 yevmiyeli Yönetim Planı: 21.08.2017 ve 07.05.2021 tarih, 8138 yevmiyeli Diğer (Konusu: Talas Mahallesi 1799 ada 1 parselin cins değişikliği\" # bu bölüm 3 başlık halinde takbisten çekilecek\n",
    "    f\"işlemleri için vergi dairesi alındısı Kaleönü Vergi Dairesi Müdürlüğü tarafından düzenlenen 06.05.2021 tarih E:35221 sayılı belgeye istinaden kesilmiştir.) beyan kaydı bulunmaktadır.\"\n",
    "    f\"NOT: Taşınmazın takyidat ve tapu incelemesi TAKBİS üzerinden teyit edilmiş olup TAKBİS belgesi üzerinde pafta numarası yazmadığı için raporda belirtilmemiştir.\"\n",
    ")\n",
    "print(paragraf_1)\n",
    "print(paragraf_2)\n",
    "print(paragraf_3)\n",
    "print(paragraf_4)"
   ]
  },
  {
   "cell_type": "code",
   "execution_count": 13,
   "metadata": {},
   "outputs": [
    {
     "ename": "ModuleNotFoundError",
     "evalue": "No module named 'fitz'",
     "output_type": "error",
     "traceback": [
      "\u001b[1;31m---------------------------------------------------------------------------\u001b[0m",
      "\u001b[1;31mModuleNotFoundError\u001b[0m                       Traceback (most recent call last)",
      "\u001b[1;32m<ipython-input-13-66db28baed13>\u001b[0m in \u001b[0;36m<module>\u001b[1;34m\u001b[0m\n\u001b[1;32m----> 1\u001b[1;33m \u001b[1;32mimport\u001b[0m \u001b[0mfitz\u001b[0m\u001b[1;33m\u001b[0m\u001b[1;33m\u001b[0m\u001b[0m\n\u001b[0m\u001b[0;32m      2\u001b[0m \u001b[1;32mimport\u001b[0m \u001b[0mpandas\u001b[0m \u001b[1;32mas\u001b[0m \u001b[0mpd\u001b[0m\u001b[1;33m\u001b[0m\u001b[1;33m\u001b[0m\u001b[0m\n\u001b[0;32m      3\u001b[0m \u001b[0mdoc\u001b[0m \u001b[1;33m=\u001b[0m \u001b[0mfitz\u001b[0m\u001b[1;33m.\u001b[0m\u001b[0mopen\u001b[0m\u001b[1;33m(\u001b[0m\u001b[1;34m\"takbis.pdf\"\u001b[0m\u001b[1;33m)\u001b[0m\u001b[1;33m\u001b[0m\u001b[1;33m\u001b[0m\u001b[0m\n\u001b[0;32m      4\u001b[0m \u001b[0mpage1\u001b[0m \u001b[1;33m=\u001b[0m \u001b[0mdoc\u001b[0m\u001b[1;33m[\u001b[0m\u001b[1;36m0\u001b[0m\u001b[1;33m]\u001b[0m\u001b[1;33m\u001b[0m\u001b[1;33m\u001b[0m\u001b[0m\n\u001b[0;32m      5\u001b[0m \u001b[0mwords1\u001b[0m \u001b[1;33m=\u001b[0m \u001b[0mpage1\u001b[0m\u001b[1;33m.\u001b[0m\u001b[0mget_text\u001b[0m\u001b[1;33m(\u001b[0m\u001b[1;34m\"words\"\u001b[0m\u001b[1;33m)\u001b[0m\u001b[1;33m\u001b[0m\u001b[1;33m\u001b[0m\u001b[0m\n",
      "\u001b[1;31mModuleNotFoundError\u001b[0m: No module named 'fitz'"
     ]
    }
   ],
   "source": [
    "import fitz\n",
    "import pandas as pd\n",
    "doc = fitz.open(\"takbis.pdf\")\n",
    "page1 = doc[0]\n",
    "words1 = page1.get_text(\"words\")\n",
    "words1\n",
    "mylist = list(words1[0])+list(words1[100]) # bu tupleları tek liste yapmanın kolay yolunu bulmalı\n",
    "mylist\n",
    "#index = mylist.index('Tarih:')\n",
    "#index"
   ]
  },
  {
   "cell_type": "code",
   "execution_count": null,
   "metadata": {},
   "outputs": [],
   "source": []
  },
  {
   "cell_type": "code",
   "execution_count": null,
   "metadata": {},
   "outputs": [],
   "source": []
  },
  {
   "cell_type": "code",
   "execution_count": null,
   "metadata": {},
   "outputs": [],
   "source": []
  },
  {
   "cell_type": "code",
   "execution_count": 14,
   "metadata": {},
   "outputs": [
    {
     "ename": "NameError",
     "evalue": "name 'page1' is not defined",
     "output_type": "error",
     "traceback": [
      "\u001b[1;31m---------------------------------------------------------------------------\u001b[0m",
      "\u001b[1;31mNameError\u001b[0m                                 Traceback (most recent call last)",
      "\u001b[1;32m<ipython-input-14-9798b209d151>\u001b[0m in \u001b[0;36m<module>\u001b[1;34m\u001b[0m\n\u001b[0;32m      1\u001b[0m \u001b[0mfirst_annot\u001b[0m\u001b[1;33m=\u001b[0m\u001b[1;33m[\u001b[0m\u001b[1;36m682.4466552734375\u001b[0m\u001b[1;33m,\u001b[0m \u001b[1;36m24.0\u001b[0m\u001b[1;33m,\u001b[0m \u001b[1;36m711.9668579101562\u001b[0m\u001b[1;33m,\u001b[0m \u001b[1;36m38.0625\u001b[0m\u001b[1;33m]\u001b[0m\u001b[1;33m\u001b[0m\u001b[1;33m\u001b[0m\u001b[0m\n\u001b[0;32m      2\u001b[0m \u001b[1;33m\u001b[0m\u001b[0m\n\u001b[1;32m----> 3\u001b[1;33m \u001b[0mrec\u001b[0m\u001b[1;33m=\u001b[0m\u001b[0mpage1\u001b[0m\u001b[1;33m.\u001b[0m\u001b[0mfirst_annot\u001b[0m\u001b[1;33m.\u001b[0m\u001b[0mrect\u001b[0m\u001b[1;33m\u001b[0m\u001b[1;33m\u001b[0m\u001b[0m\n\u001b[0m\u001b[0;32m      4\u001b[0m \u001b[1;33m\u001b[0m\u001b[0m\n\u001b[0;32m      5\u001b[0m \u001b[0mrec\u001b[0m\u001b[1;33m\u001b[0m\u001b[1;33m\u001b[0m\u001b[0m\n",
      "\u001b[1;31mNameError\u001b[0m: name 'page1' is not defined"
     ]
    }
   ],
   "source": [
    "first_annot=[682.4466552734375, 24.0, 711.9668579101562, 38.0625]\n",
    "\n",
    "rec=page1.first_annot.rect\n",
    "\n",
    "rec\n",
    "\n",
    "#Information of words in first object is stored in mywords\n",
    "\n",
    "mywords = [w for w in words if fitz.Rect(w[:4]) in rec]\n",
    "\n",
    "ann= make_text(mywords)\n",
    "\n",
    "first_annot.append(ann)\n",
    "\n",
    "first_annot.append(ann)\n",
    "print(rec)\n",
    "print(first_annots)\n"
   ]
  },
  {
   "cell_type": "code",
   "execution_count": 1,
   "metadata": {},
   "outputs": [
    {
     "name": "stdout",
     "output_type": "stream",
     "text": [
      "15.0 celcius is equal 59.00 fahrenheit.\n"
     ]
    }
   ],
   "source": [
    "celcius = float(input(\"Please enter a celcius degree: \"))\n",
    "fahrenheit = (celcius * 1.8) + 32\n",
    "print(\"{} celcius is equal {:.2f} fahrenheit.\".format(celcius, fahrenheit))"
   ]
  },
  {
   "cell_type": "code",
   "execution_count": 11,
   "metadata": {},
   "outputs": [
    {
     "name": "stdout",
     "output_type": "stream",
     "text": [
      "100.0 km is equal to62.00 miles\n"
     ]
    }
   ],
   "source": [
    "km = float(input(\"Please enter km: \"))\n",
    "mile = 0.62*km\n",
    "print(\"{} km is equal to {:.2f} miles\".format(km, mile))"
   ]
  },
  {
   "cell_type": "code",
   "execution_count": 12,
   "metadata": {},
   "outputs": [
    {
     "name": "stdout",
     "output_type": "stream",
     "text": [
      "True\n"
     ]
    }
   ],
   "source": [
    "age = True\n",
    "chronic = True\n",
    "immune = True\n",
    "risk = age or chronic or immune\n",
    "print(risk)"
   ]
  },
  {
   "cell_type": "code",
   "execution_count": null,
   "metadata": {},
   "outputs": [],
   "source": []
  }
 ],
 "metadata": {
  "colab": {
   "name": "raportör.ipynb",
   "provenance": []
  },
  "interpreter": {
   "hash": "1a77833348a6a05d98e15657e93193bb8cd72ba122c15fc4032e7389abddf7af"
  },
  "kernelspec": {
   "display_name": "Python 3",
   "language": "python",
   "name": "python3"
  },
  "language_info": {
   "codemirror_mode": {
    "name": "ipython",
    "version": 3
   },
   "file_extension": ".py",
   "mimetype": "text/x-python",
   "name": "python",
   "nbconvert_exporter": "python",
   "pygments_lexer": "ipython3",
   "version": "3.8.5"
  }
 },
 "nbformat": 4,
 "nbformat_minor": 2
}
