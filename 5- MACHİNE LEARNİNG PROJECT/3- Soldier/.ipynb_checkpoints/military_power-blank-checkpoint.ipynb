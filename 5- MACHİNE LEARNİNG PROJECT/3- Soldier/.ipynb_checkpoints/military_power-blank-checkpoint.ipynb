{
 "cells": [
  {
   "cell_type": "markdown",
   "metadata": {
    "id": "0DxNKOyW8AKE"
   },
   "source": [
    "# Military Power Clustering Project\n",
    "-World military power\n",
    "Source : globalfirepower.com on 1st may 2020\n",
    "\n",
    "- https://data.world/vizzup/world-military-power/workspace/file?filename=World+military+power.xlsx\n"
   ]
  },
  {
   "cell_type": "markdown",
   "metadata": {
    "id": "pHcni9Yd8AKI"
   },
   "source": [
    "# Import Libraries"
   ]
  },
  {
   "cell_type": "code",
   "execution_count": 1,
   "metadata": {
    "id": "t8CFBZr28AKJ"
   },
   "outputs": [],
   "source": [
    "import pandas as pd\n",
    "import numpy as np\n",
    "import matplotlib.pyplot as plt\n",
    "import seaborn as sns\n"
   ]
  },
  {
   "cell_type": "markdown",
   "metadata": {
    "id": "LnUyXAAC8AKJ"
   },
   "source": [
    "# Ingest Data  "
   ]
  },
  {
   "cell_type": "code",
   "execution_count": 6,
   "metadata": {
    "id": "enCbGulB8AKK"
   },
   "outputs": [],
   "source": [
    "data = pd.read_excel(\"World military power.xlsx\",header=1)"
   ]
  },
  {
   "cell_type": "code",
   "execution_count": 8,
   "metadata": {},
   "outputs": [
    {
     "data": {
      "text/html": [
       "<div>\n",
       "<style scoped>\n",
       "    .dataframe tbody tr th:only-of-type {\n",
       "        vertical-align: middle;\n",
       "    }\n",
       "\n",
       "    .dataframe tbody tr th {\n",
       "        vertical-align: top;\n",
       "    }\n",
       "\n",
       "    .dataframe thead th {\n",
       "        text-align: right;\n",
       "    }\n",
       "</style>\n",
       "<table border=\"1\" class=\"dataframe\">\n",
       "  <thead>\n",
       "    <tr style=\"text-align: right;\">\n",
       "      <th></th>\n",
       "      <th>Military Strength</th>\n",
       "      <th>Military Strength Power Index</th>\n",
       "      <th>Aircraft Strength</th>\n",
       "      <th>Aircraft Strength value</th>\n",
       "      <th>Fighter/Interceptor Strength</th>\n",
       "      <th>Fighter/Interceptor Strength value</th>\n",
       "      <th>Attack Aircraft Strength</th>\n",
       "      <th>Attack Aircraft Strength value</th>\n",
       "      <th>Transport Aircraft Fleet Strength</th>\n",
       "      <th>Transport Aircraft Fleet Strength value</th>\n",
       "      <th>...</th>\n",
       "      <th>Total Population</th>\n",
       "      <th>Total Population value</th>\n",
       "      <th>Total Square Land Area</th>\n",
       "      <th>Total Square Land Area value</th>\n",
       "      <th>Total Coastline Coverage</th>\n",
       "      <th>Total Coastline Coverage value</th>\n",
       "      <th>Total Waterway Coverage</th>\n",
       "      <th>Total Waterway Coverage value</th>\n",
       "      <th>Total Border Coverage</th>\n",
       "      <th>Total Border Coverage value</th>\n",
       "    </tr>\n",
       "  </thead>\n",
       "  <tbody>\n",
       "    <tr>\n",
       "      <th>0</th>\n",
       "      <td>Afghanistan</td>\n",
       "      <td>1.3444</td>\n",
       "      <td>Afghanistan</td>\n",
       "      <td>260.0</td>\n",
       "      <td>Afghanistan</td>\n",
       "      <td>0.0</td>\n",
       "      <td>Afghanistan</td>\n",
       "      <td>25.0</td>\n",
       "      <td>Afghanistan</td>\n",
       "      <td>30.0</td>\n",
       "      <td>...</td>\n",
       "      <td>Afghanistan</td>\n",
       "      <td>3,49,40,837</td>\n",
       "      <td>Afghanistan</td>\n",
       "      <td>6,52,230</td>\n",
       "      <td>Afghanistan</td>\n",
       "      <td>0.0</td>\n",
       "      <td>Afghanistan</td>\n",
       "      <td>1200.0</td>\n",
       "      <td>Afghanistan</td>\n",
       "      <td>5987.0</td>\n",
       "    </tr>\n",
       "    <tr>\n",
       "      <th>1</th>\n",
       "      <td>Albania</td>\n",
       "      <td>2.3137</td>\n",
       "      <td>Albania</td>\n",
       "      <td>19.0</td>\n",
       "      <td>Albania</td>\n",
       "      <td>0.0</td>\n",
       "      <td>Albania</td>\n",
       "      <td>0.0</td>\n",
       "      <td>Albania</td>\n",
       "      <td>0.0</td>\n",
       "      <td>...</td>\n",
       "      <td>Albania</td>\n",
       "      <td>30,57,220</td>\n",
       "      <td>Albania</td>\n",
       "      <td>28748.0</td>\n",
       "      <td>Albania</td>\n",
       "      <td>362.0</td>\n",
       "      <td>Albania</td>\n",
       "      <td>41.0</td>\n",
       "      <td>Albania</td>\n",
       "      <td>691.0</td>\n",
       "    </tr>\n",
       "    <tr>\n",
       "      <th>2</th>\n",
       "      <td>Algeria</td>\n",
       "      <td>0.4659</td>\n",
       "      <td>Algeria</td>\n",
       "      <td>551.0</td>\n",
       "      <td>Algeria</td>\n",
       "      <td>103.0</td>\n",
       "      <td>Algeria</td>\n",
       "      <td>22.0</td>\n",
       "      <td>Algeria</td>\n",
       "      <td>59.0</td>\n",
       "      <td>...</td>\n",
       "      <td>Algeria</td>\n",
       "      <td>4,16,57,488</td>\n",
       "      <td>Algeria</td>\n",
       "      <td>23,81,741</td>\n",
       "      <td>Algeria</td>\n",
       "      <td>998.0</td>\n",
       "      <td>Algeria</td>\n",
       "      <td>0.0</td>\n",
       "      <td>Algeria</td>\n",
       "      <td>6734.0</td>\n",
       "    </tr>\n",
       "    <tr>\n",
       "      <th>3</th>\n",
       "      <td>Angola</td>\n",
       "      <td>0.8379</td>\n",
       "      <td>Angola</td>\n",
       "      <td>295.0</td>\n",
       "      <td>Angola</td>\n",
       "      <td>72.0</td>\n",
       "      <td>Angola</td>\n",
       "      <td>18.0</td>\n",
       "      <td>Angola</td>\n",
       "      <td>30.0</td>\n",
       "      <td>...</td>\n",
       "      <td>Angola</td>\n",
       "      <td>3,03,55,880</td>\n",
       "      <td>Angola</td>\n",
       "      <td>12,46,700</td>\n",
       "      <td>Angola</td>\n",
       "      <td>1600.0</td>\n",
       "      <td>Angola</td>\n",
       "      <td>1300.0</td>\n",
       "      <td>Angola</td>\n",
       "      <td>5369.0</td>\n",
       "    </tr>\n",
       "    <tr>\n",
       "      <th>4</th>\n",
       "      <td>Argentina</td>\n",
       "      <td>0.6521</td>\n",
       "      <td>Argentina</td>\n",
       "      <td>227.0</td>\n",
       "      <td>Argentina</td>\n",
       "      <td>24.0</td>\n",
       "      <td>Argentina</td>\n",
       "      <td>7.0</td>\n",
       "      <td>Argentina</td>\n",
       "      <td>9.0</td>\n",
       "      <td>...</td>\n",
       "      <td>Argentina</td>\n",
       "      <td>4,46,94,198</td>\n",
       "      <td>Argentina</td>\n",
       "      <td>27,80,400</td>\n",
       "      <td>Argentina</td>\n",
       "      <td>4989.0</td>\n",
       "      <td>Argentina</td>\n",
       "      <td>11000.0</td>\n",
       "      <td>Argentina</td>\n",
       "      <td>11968.0</td>\n",
       "    </tr>\n",
       "    <tr>\n",
       "      <th>...</th>\n",
       "      <td>...</td>\n",
       "      <td>...</td>\n",
       "      <td>...</td>\n",
       "      <td>...</td>\n",
       "      <td>...</td>\n",
       "      <td>...</td>\n",
       "      <td>...</td>\n",
       "      <td>...</td>\n",
       "      <td>...</td>\n",
       "      <td>...</td>\n",
       "      <td>...</td>\n",
       "      <td>...</td>\n",
       "      <td>...</td>\n",
       "      <td>...</td>\n",
       "      <td>...</td>\n",
       "      <td>...</td>\n",
       "      <td>...</td>\n",
       "      <td>...</td>\n",
       "      <td>...</td>\n",
       "      <td>...</td>\n",
       "      <td>...</td>\n",
       "    </tr>\n",
       "    <tr>\n",
       "      <th>133</th>\n",
       "      <td>Venezuela</td>\n",
       "      <td>0.6449</td>\n",
       "      <td>Venezuela</td>\n",
       "      <td>260.0</td>\n",
       "      <td>Venezuela</td>\n",
       "      <td>38.0</td>\n",
       "      <td>Venezuela</td>\n",
       "      <td>0.0</td>\n",
       "      <td>Venezuela</td>\n",
       "      <td>52.0</td>\n",
       "      <td>...</td>\n",
       "      <td>Venezuela</td>\n",
       "      <td>3,16,89,176</td>\n",
       "      <td>Venezuela</td>\n",
       "      <td>9,12,050</td>\n",
       "      <td>Venezuela</td>\n",
       "      <td>2800.0</td>\n",
       "      <td>Venezuela</td>\n",
       "      <td>7100.0</td>\n",
       "      <td>Venezuela</td>\n",
       "      <td>5267.0</td>\n",
       "    </tr>\n",
       "    <tr>\n",
       "      <th>134</th>\n",
       "      <td>Vietnam</td>\n",
       "      <td>0.3559</td>\n",
       "      <td>Vietnam</td>\n",
       "      <td>293.0</td>\n",
       "      <td>Vietnam</td>\n",
       "      <td>77.0</td>\n",
       "      <td>Vietnam</td>\n",
       "      <td>0.0</td>\n",
       "      <td>Vietnam</td>\n",
       "      <td>38.0</td>\n",
       "      <td>...</td>\n",
       "      <td>Vietnam</td>\n",
       "      <td>9,70,40,334</td>\n",
       "      <td>Vietnam</td>\n",
       "      <td>3,31,210</td>\n",
       "      <td>Vietnam</td>\n",
       "      <td>3444.0</td>\n",
       "      <td>Vietnam</td>\n",
       "      <td>17702.0</td>\n",
       "      <td>Vietnam</td>\n",
       "      <td>4616.0</td>\n",
       "    </tr>\n",
       "    <tr>\n",
       "      <th>135</th>\n",
       "      <td>Yemen</td>\n",
       "      <td>1.2412</td>\n",
       "      <td>Yemen</td>\n",
       "      <td>169.0</td>\n",
       "      <td>Yemen</td>\n",
       "      <td>77.0</td>\n",
       "      <td>Yemen</td>\n",
       "      <td>0.0</td>\n",
       "      <td>Yemen</td>\n",
       "      <td>8.0</td>\n",
       "      <td>...</td>\n",
       "      <td>Yemen</td>\n",
       "      <td>2,86,67,230</td>\n",
       "      <td>Yemen</td>\n",
       "      <td>5,27,968</td>\n",
       "      <td>Yemen</td>\n",
       "      <td>1906.0</td>\n",
       "      <td>Yemen</td>\n",
       "      <td>0.0</td>\n",
       "      <td>Yemen</td>\n",
       "      <td>1601.0</td>\n",
       "    </tr>\n",
       "    <tr>\n",
       "      <th>136</th>\n",
       "      <td>Zambia</td>\n",
       "      <td>1.6464</td>\n",
       "      <td>Zambia</td>\n",
       "      <td>108.0</td>\n",
       "      <td>Zambia</td>\n",
       "      <td>18.0</td>\n",
       "      <td>Zambia</td>\n",
       "      <td>0.0</td>\n",
       "      <td>Zambia</td>\n",
       "      <td>11.0</td>\n",
       "      <td>...</td>\n",
       "      <td>Zambia</td>\n",
       "      <td>1,64,45,079</td>\n",
       "      <td>Zambia</td>\n",
       "      <td>7,52,618</td>\n",
       "      <td>NaN</td>\n",
       "      <td>NaN</td>\n",
       "      <td>Zambia</td>\n",
       "      <td>2250.0</td>\n",
       "      <td>Zambia</td>\n",
       "      <td>6043.0</td>\n",
       "    </tr>\n",
       "    <tr>\n",
       "      <th>137</th>\n",
       "      <td>Zimbabwe</td>\n",
       "      <td>1.7577</td>\n",
       "      <td>Zimbabwe</td>\n",
       "      <td>90.0</td>\n",
       "      <td>Zimbabwe</td>\n",
       "      <td>10.0</td>\n",
       "      <td>Zimbabwe</td>\n",
       "      <td>0.0</td>\n",
       "      <td>Zimbabwe</td>\n",
       "      <td>14.0</td>\n",
       "      <td>...</td>\n",
       "      <td>Zimbabwe</td>\n",
       "      <td>1,40,30,368</td>\n",
       "      <td>Zimbabwe</td>\n",
       "      <td>3,90,757</td>\n",
       "      <td>NaN</td>\n",
       "      <td>NaN</td>\n",
       "      <td>Zimbabwe</td>\n",
       "      <td>0.0</td>\n",
       "      <td>Zimbabwe</td>\n",
       "      <td>3229.0</td>\n",
       "    </tr>\n",
       "  </tbody>\n",
       "</table>\n",
       "<p>138 rows × 60 columns</p>\n",
       "</div>"
      ],
      "text/plain": [
       "    Military Strength  Military Strength Power Index Aircraft Strength  \\\n",
       "0         Afghanistan                         1.3444       Afghanistan   \n",
       "1             Albania                         2.3137           Albania   \n",
       "2             Algeria                         0.4659           Algeria   \n",
       "3              Angola                         0.8379            Angola   \n",
       "4           Argentina                         0.6521         Argentina   \n",
       "..                ...                            ...               ...   \n",
       "133         Venezuela                         0.6449         Venezuela   \n",
       "134           Vietnam                         0.3559           Vietnam   \n",
       "135             Yemen                         1.2412             Yemen   \n",
       "136            Zambia                         1.6464            Zambia   \n",
       "137          Zimbabwe                         1.7577          Zimbabwe   \n",
       "\n",
       "     Aircraft Strength value Fighter/Interceptor Strength  \\\n",
       "0                      260.0                  Afghanistan   \n",
       "1                       19.0                      Albania   \n",
       "2                      551.0                      Algeria   \n",
       "3                      295.0                       Angola   \n",
       "4                      227.0                    Argentina   \n",
       "..                       ...                          ...   \n",
       "133                    260.0                    Venezuela   \n",
       "134                    293.0                      Vietnam   \n",
       "135                    169.0                        Yemen   \n",
       "136                    108.0                       Zambia   \n",
       "137                     90.0                     Zimbabwe   \n",
       "\n",
       "     Fighter/Interceptor Strength value Attack Aircraft Strength  \\\n",
       "0                                   0.0              Afghanistan   \n",
       "1                                   0.0                  Albania   \n",
       "2                                 103.0                  Algeria   \n",
       "3                                  72.0                   Angola   \n",
       "4                                  24.0                Argentina   \n",
       "..                                  ...                      ...   \n",
       "133                                38.0                Venezuela   \n",
       "134                                77.0                  Vietnam   \n",
       "135                                77.0                    Yemen   \n",
       "136                                18.0                   Zambia   \n",
       "137                                10.0                 Zimbabwe   \n",
       "\n",
       "     Attack Aircraft Strength value Transport Aircraft Fleet Strength  \\\n",
       "0                              25.0                       Afghanistan   \n",
       "1                               0.0                           Albania   \n",
       "2                              22.0                           Algeria   \n",
       "3                              18.0                            Angola   \n",
       "4                               7.0                         Argentina   \n",
       "..                              ...                               ...   \n",
       "133                             0.0                         Venezuela   \n",
       "134                             0.0                           Vietnam   \n",
       "135                             0.0                             Yemen   \n",
       "136                             0.0                            Zambia   \n",
       "137                             0.0                          Zimbabwe   \n",
       "\n",
       "     Transport Aircraft Fleet Strength value  ... Total Population  \\\n",
       "0                                       30.0  ...      Afghanistan   \n",
       "1                                        0.0  ...          Albania   \n",
       "2                                       59.0  ...          Algeria   \n",
       "3                                       30.0  ...           Angola   \n",
       "4                                        9.0  ...        Argentina   \n",
       "..                                       ...  ...              ...   \n",
       "133                                     52.0  ...        Venezuela   \n",
       "134                                     38.0  ...          Vietnam   \n",
       "135                                      8.0  ...            Yemen   \n",
       "136                                     11.0  ...           Zambia   \n",
       "137                                     14.0  ...         Zimbabwe   \n",
       "\n",
       "     Total Population value Total Square Land Area  \\\n",
       "0               3,49,40,837            Afghanistan   \n",
       "1                 30,57,220                Albania   \n",
       "2               4,16,57,488                Algeria   \n",
       "3               3,03,55,880                 Angola   \n",
       "4               4,46,94,198              Argentina   \n",
       "..                      ...                    ...   \n",
       "133             3,16,89,176              Venezuela   \n",
       "134             9,70,40,334                Vietnam   \n",
       "135             2,86,67,230                  Yemen   \n",
       "136             1,64,45,079                 Zambia   \n",
       "137             1,40,30,368               Zimbabwe   \n",
       "\n",
       "     Total Square Land Area value Total Coastline Coverage  \\\n",
       "0                        6,52,230              Afghanistan   \n",
       "1                         28748.0                  Albania   \n",
       "2                       23,81,741                  Algeria   \n",
       "3                       12,46,700                   Angola   \n",
       "4                       27,80,400                Argentina   \n",
       "..                            ...                      ...   \n",
       "133                      9,12,050                Venezuela   \n",
       "134                      3,31,210                  Vietnam   \n",
       "135                      5,27,968                    Yemen   \n",
       "136                      7,52,618                      NaN   \n",
       "137                      3,90,757                      NaN   \n",
       "\n",
       "     Total Coastline Coverage value Total Waterway Coverage  \\\n",
       "0                               0.0             Afghanistan   \n",
       "1                             362.0                 Albania   \n",
       "2                             998.0                 Algeria   \n",
       "3                            1600.0                  Angola   \n",
       "4                            4989.0               Argentina   \n",
       "..                              ...                     ...   \n",
       "133                          2800.0               Venezuela   \n",
       "134                          3444.0                 Vietnam   \n",
       "135                          1906.0                   Yemen   \n",
       "136                             NaN                  Zambia   \n",
       "137                             NaN                Zimbabwe   \n",
       "\n",
       "     Total Waterway Coverage value Total Border Coverage  \\\n",
       "0                           1200.0           Afghanistan   \n",
       "1                             41.0               Albania   \n",
       "2                              0.0               Algeria   \n",
       "3                           1300.0                Angola   \n",
       "4                          11000.0             Argentina   \n",
       "..                             ...                   ...   \n",
       "133                         7100.0             Venezuela   \n",
       "134                        17702.0               Vietnam   \n",
       "135                            0.0                 Yemen   \n",
       "136                         2250.0                Zambia   \n",
       "137                            0.0              Zimbabwe   \n",
       "\n",
       "     Total Border Coverage value  \n",
       "0                         5987.0  \n",
       "1                          691.0  \n",
       "2                         6734.0  \n",
       "3                         5369.0  \n",
       "4                        11968.0  \n",
       "..                           ...  \n",
       "133                       5267.0  \n",
       "134                       4616.0  \n",
       "135                       1601.0  \n",
       "136                       6043.0  \n",
       "137                       3229.0  \n",
       "\n",
       "[138 rows x 60 columns]"
      ]
     },
     "execution_count": 8,
     "metadata": {},
     "output_type": "execute_result"
    }
   ],
   "source": [
    "data"
   ]
  },
  {
   "cell_type": "markdown",
   "metadata": {
    "id": "v7Eqi2K28AKK"
   },
   "source": [
    "# EDA"
   ]
  },
  {
   "cell_type": "code",
   "execution_count": 30,
   "metadata": {
    "id": "QxAbx-Y98AKK"
   },
   "outputs": [],
   "source": [
    "df = data.copy()"
   ]
  },
  {
   "cell_type": "code",
   "execution_count": 26,
   "metadata": {},
   "outputs": [
    {
     "data": {
      "text/html": [
       "<div>\n",
       "<style scoped>\n",
       "    .dataframe tbody tr th:only-of-type {\n",
       "        vertical-align: middle;\n",
       "    }\n",
       "\n",
       "    .dataframe tbody tr th {\n",
       "        vertical-align: top;\n",
       "    }\n",
       "\n",
       "    .dataframe thead th {\n",
       "        text-align: right;\n",
       "    }\n",
       "</style>\n",
       "<table border=\"1\" class=\"dataframe\">\n",
       "  <thead>\n",
       "    <tr style=\"text-align: right;\">\n",
       "      <th></th>\n",
       "      <th>Unnamed: 1</th>\n",
       "      <th>Airforce Strength</th>\n",
       "      <th>Unnamed: 3</th>\n",
       "      <th>Unnamed: 4</th>\n",
       "      <th>Unnamed: 5</th>\n",
       "      <th>Unnamed: 6</th>\n",
       "      <th>Unnamed: 7</th>\n",
       "      <th>Unnamed: 8</th>\n",
       "      <th>Unnamed: 9</th>\n",
       "      <th>Unnamed: 10</th>\n",
       "      <th>...</th>\n",
       "      <th>Unnamed: 50</th>\n",
       "      <th>Unnamed: 51</th>\n",
       "      <th>Geography</th>\n",
       "      <th>Unnamed: 53</th>\n",
       "      <th>Unnamed: 54</th>\n",
       "      <th>Unnamed: 55</th>\n",
       "      <th>Unnamed: 56</th>\n",
       "      <th>Unnamed: 57</th>\n",
       "      <th>Unnamed: 58</th>\n",
       "      <th>Unnamed: 59</th>\n",
       "    </tr>\n",
       "    <tr>\n",
       "      <th>2020 ranking</th>\n",
       "      <th></th>\n",
       "      <th></th>\n",
       "      <th></th>\n",
       "      <th></th>\n",
       "      <th></th>\n",
       "      <th></th>\n",
       "      <th></th>\n",
       "      <th></th>\n",
       "      <th></th>\n",
       "      <th></th>\n",
       "      <th></th>\n",
       "      <th></th>\n",
       "      <th></th>\n",
       "      <th></th>\n",
       "      <th></th>\n",
       "      <th></th>\n",
       "      <th></th>\n",
       "      <th></th>\n",
       "      <th></th>\n",
       "      <th></th>\n",
       "      <th></th>\n",
       "    </tr>\n",
       "  </thead>\n",
       "  <tbody>\n",
       "    <tr>\n",
       "      <th>Military Strength</th>\n",
       "      <td>Military Strength Power Index</td>\n",
       "      <td>Aircraft Strength</td>\n",
       "      <td>Aircraft Strength value</td>\n",
       "      <td>Fighter/Interceptor Strength</td>\n",
       "      <td>Fighter/Interceptor Strength value</td>\n",
       "      <td>Attack Aircraft Strength</td>\n",
       "      <td>Attack Aircraft Strength value</td>\n",
       "      <td>Transport Aircraft Fleet Strength</td>\n",
       "      <td>Transport Aircraft Fleet Strength value</td>\n",
       "      <td>Trainer Aircraft Fleet</td>\n",
       "      <td>...</td>\n",
       "      <td>Total Population</td>\n",
       "      <td>Total Population value</td>\n",
       "      <td>Total Square Land Area</td>\n",
       "      <td>Total Square Land Area value</td>\n",
       "      <td>Total Coastline Coverage</td>\n",
       "      <td>Total Coastline Coverage value</td>\n",
       "      <td>Total Waterway Coverage</td>\n",
       "      <td>Total Waterway Coverage value</td>\n",
       "      <td>Total Border Coverage</td>\n",
       "      <td>Total Border Coverage value</td>\n",
       "    </tr>\n",
       "    <tr>\n",
       "      <th>Afghanistan</th>\n",
       "      <td>1.3444</td>\n",
       "      <td>Afghanistan</td>\n",
       "      <td>260.0</td>\n",
       "      <td>Afghanistan</td>\n",
       "      <td>0.0</td>\n",
       "      <td>Afghanistan</td>\n",
       "      <td>25.0</td>\n",
       "      <td>Afghanistan</td>\n",
       "      <td>30.0</td>\n",
       "      <td>Afghanistan</td>\n",
       "      <td>...</td>\n",
       "      <td>Afghanistan</td>\n",
       "      <td>3,49,40,837</td>\n",
       "      <td>Afghanistan</td>\n",
       "      <td>6,52,230</td>\n",
       "      <td>Afghanistan</td>\n",
       "      <td>0.0</td>\n",
       "      <td>Afghanistan</td>\n",
       "      <td>1200.0</td>\n",
       "      <td>Afghanistan</td>\n",
       "      <td>5987.0</td>\n",
       "    </tr>\n",
       "    <tr>\n",
       "      <th>Albania</th>\n",
       "      <td>2.3137</td>\n",
       "      <td>Albania</td>\n",
       "      <td>19.0</td>\n",
       "      <td>Albania</td>\n",
       "      <td>0.0</td>\n",
       "      <td>Albania</td>\n",
       "      <td>0.0</td>\n",
       "      <td>Albania</td>\n",
       "      <td>0.0</td>\n",
       "      <td>Albania</td>\n",
       "      <td>...</td>\n",
       "      <td>Albania</td>\n",
       "      <td>30,57,220</td>\n",
       "      <td>Albania</td>\n",
       "      <td>28748.0</td>\n",
       "      <td>Albania</td>\n",
       "      <td>362.0</td>\n",
       "      <td>Albania</td>\n",
       "      <td>41.0</td>\n",
       "      <td>Albania</td>\n",
       "      <td>691.0</td>\n",
       "    </tr>\n",
       "    <tr>\n",
       "      <th>Algeria</th>\n",
       "      <td>0.4659</td>\n",
       "      <td>Algeria</td>\n",
       "      <td>551.0</td>\n",
       "      <td>Algeria</td>\n",
       "      <td>103.0</td>\n",
       "      <td>Algeria</td>\n",
       "      <td>22.0</td>\n",
       "      <td>Algeria</td>\n",
       "      <td>59.0</td>\n",
       "      <td>Algeria</td>\n",
       "      <td>...</td>\n",
       "      <td>Algeria</td>\n",
       "      <td>4,16,57,488</td>\n",
       "      <td>Algeria</td>\n",
       "      <td>23,81,741</td>\n",
       "      <td>Algeria</td>\n",
       "      <td>998.0</td>\n",
       "      <td>Algeria</td>\n",
       "      <td>0.0</td>\n",
       "      <td>Algeria</td>\n",
       "      <td>6734.0</td>\n",
       "    </tr>\n",
       "    <tr>\n",
       "      <th>Angola</th>\n",
       "      <td>0.8379</td>\n",
       "      <td>Angola</td>\n",
       "      <td>295.0</td>\n",
       "      <td>Angola</td>\n",
       "      <td>72.0</td>\n",
       "      <td>Angola</td>\n",
       "      <td>18.0</td>\n",
       "      <td>Angola</td>\n",
       "      <td>30.0</td>\n",
       "      <td>Angola</td>\n",
       "      <td>...</td>\n",
       "      <td>Angola</td>\n",
       "      <td>3,03,55,880</td>\n",
       "      <td>Angola</td>\n",
       "      <td>12,46,700</td>\n",
       "      <td>Angola</td>\n",
       "      <td>1600.0</td>\n",
       "      <td>Angola</td>\n",
       "      <td>1300.0</td>\n",
       "      <td>Angola</td>\n",
       "      <td>5369.0</td>\n",
       "    </tr>\n",
       "  </tbody>\n",
       "</table>\n",
       "<p>5 rows × 59 columns</p>\n",
       "</div>"
      ],
      "text/plain": [
       "                                      Unnamed: 1  Airforce Strength  \\\n",
       "2020 ranking                                                          \n",
       "Military Strength  Military Strength Power Index  Aircraft Strength   \n",
       "Afghanistan                               1.3444        Afghanistan   \n",
       "Albania                                   2.3137            Albania   \n",
       "Algeria                                   0.4659            Algeria   \n",
       "Angola                                    0.8379             Angola   \n",
       "\n",
       "                                Unnamed: 3                    Unnamed: 4  \\\n",
       "2020 ranking                                                               \n",
       "Military Strength  Aircraft Strength value  Fighter/Interceptor Strength   \n",
       "Afghanistan                          260.0                   Afghanistan   \n",
       "Albania                               19.0                       Albania   \n",
       "Algeria                              551.0                       Algeria   \n",
       "Angola                               295.0                        Angola   \n",
       "\n",
       "                                           Unnamed: 5  \\\n",
       "2020 ranking                                            \n",
       "Military Strength  Fighter/Interceptor Strength value   \n",
       "Afghanistan                                       0.0   \n",
       "Albania                                           0.0   \n",
       "Algeria                                         103.0   \n",
       "Angola                                           72.0   \n",
       "\n",
       "                                 Unnamed: 6                      Unnamed: 7  \\\n",
       "2020 ranking                                                                  \n",
       "Military Strength  Attack Aircraft Strength  Attack Aircraft Strength value   \n",
       "Afghanistan                     Afghanistan                            25.0   \n",
       "Albania                             Albania                             0.0   \n",
       "Algeria                             Algeria                            22.0   \n",
       "Angola                               Angola                            18.0   \n",
       "\n",
       "                                          Unnamed: 8  \\\n",
       "2020 ranking                                           \n",
       "Military Strength  Transport Aircraft Fleet Strength   \n",
       "Afghanistan                              Afghanistan   \n",
       "Albania                                      Albania   \n",
       "Algeria                                      Algeria   \n",
       "Angola                                        Angola   \n",
       "\n",
       "                                                Unnamed: 9  \\\n",
       "2020 ranking                                                 \n",
       "Military Strength  Transport Aircraft Fleet Strength value   \n",
       "Afghanistan                                           30.0   \n",
       "Albania                                                0.0   \n",
       "Algeria                                               59.0   \n",
       "Angola                                                30.0   \n",
       "\n",
       "                              Unnamed: 10  ...       Unnamed: 50  \\\n",
       "2020 ranking                               ...                     \n",
       "Military Strength  Trainer Aircraft Fleet  ...  Total Population   \n",
       "Afghanistan                   Afghanistan  ...       Afghanistan   \n",
       "Albania                           Albania  ...           Albania   \n",
       "Algeria                           Algeria  ...           Algeria   \n",
       "Angola                             Angola  ...            Angola   \n",
       "\n",
       "                              Unnamed: 51               Geography  \\\n",
       "2020 ranking                                                        \n",
       "Military Strength  Total Population value  Total Square Land Area   \n",
       "Afghanistan                   3,49,40,837             Afghanistan   \n",
       "Albania                         30,57,220                 Albania   \n",
       "Algeria                       4,16,57,488                 Algeria   \n",
       "Angola                        3,03,55,880                  Angola   \n",
       "\n",
       "                                    Unnamed: 53               Unnamed: 54  \\\n",
       "2020 ranking                                                                \n",
       "Military Strength  Total Square Land Area value  Total Coastline Coverage   \n",
       "Afghanistan                            6,52,230               Afghanistan   \n",
       "Albania                                 28748.0                   Albania   \n",
       "Algeria                               23,81,741                   Algeria   \n",
       "Angola                                12,46,700                    Angola   \n",
       "\n",
       "                                      Unnamed: 55              Unnamed: 56  \\\n",
       "2020 ranking                                                                 \n",
       "Military Strength  Total Coastline Coverage value  Total Waterway Coverage   \n",
       "Afghanistan                                   0.0              Afghanistan   \n",
       "Albania                                     362.0                  Albania   \n",
       "Algeria                                     998.0                  Algeria   \n",
       "Angola                                     1600.0                   Angola   \n",
       "\n",
       "                                     Unnamed: 57            Unnamed: 58  \\\n",
       "2020 ranking                                                              \n",
       "Military Strength  Total Waterway Coverage value  Total Border Coverage   \n",
       "Afghanistan                               1200.0            Afghanistan   \n",
       "Albania                                     41.0                Albania   \n",
       "Algeria                                      0.0                Algeria   \n",
       "Angola                                    1300.0                 Angola   \n",
       "\n",
       "                                   Unnamed: 59  \n",
       "2020 ranking                                    \n",
       "Military Strength  Total Border Coverage value  \n",
       "Afghanistan                             5987.0  \n",
       "Albania                                  691.0  \n",
       "Algeria                                 6734.0  \n",
       "Angola                                  5369.0  \n",
       "\n",
       "[5 rows x 59 columns]"
      ]
     },
     "execution_count": 26,
     "metadata": {},
     "output_type": "execute_result"
    }
   ],
   "source": [
    "df.head()"
   ]
  },
  {
   "cell_type": "code",
   "execution_count": null,
   "metadata": {},
   "outputs": [],
   "source": []
  },
  {
   "cell_type": "code",
   "execution_count": null,
   "metadata": {},
   "outputs": [],
   "source": []
  },
  {
   "cell_type": "markdown",
   "metadata": {
    "id": "EoAk59FU8AKL"
   },
   "source": [
    "## Implement basic steps to see how is your data looks like"
   ]
  },
  {
   "cell_type": "code",
   "execution_count": null,
   "metadata": {
    "id": "PU3d2cKt8AKL"
   },
   "outputs": [],
   "source": []
  },
  {
   "cell_type": "markdown",
   "metadata": {
    "id": "oSiUeb-I8AKL"
   },
   "source": [
    "## Convert multi index columns to one level"
   ]
  },
  {
   "cell_type": "code",
   "execution_count": null,
   "metadata": {
    "id": "aTcr2roB8AKM"
   },
   "outputs": [],
   "source": []
  },
  {
   "cell_type": "markdown",
   "metadata": {
    "id": "9AHJyubO8AKM"
   },
   "source": [
    "## Detect and drop duplicated columns"
   ]
  },
  {
   "cell_type": "code",
   "execution_count": null,
   "metadata": {
    "id": "zb_hDNB08AKM"
   },
   "outputs": [],
   "source": []
  },
  {
   "cell_type": "markdown",
   "metadata": {
    "id": "D-WNWchf8AKM"
   },
   "source": [
    "## Check for missing values "
   ]
  },
  {
   "cell_type": "code",
   "execution_count": null,
   "metadata": {
    "id": "Hp9q9ILT8AKN"
   },
   "outputs": [],
   "source": []
  },
  {
   "cell_type": "markdown",
   "metadata": {
    "id": "T-aAEYmI8AKN"
   },
   "source": [
    "## Deal with missing values \n",
    "* Hint-1, use wikipedia to fill in missing values ​​comparing with similar countries\n",
    "* Hint-2, Georeferences of countries can help you"
   ]
  },
  {
   "cell_type": "code",
   "execution_count": null,
   "metadata": {
    "id": "wtUZNcXq8AKN"
   },
   "outputs": [],
   "source": []
  },
  {
   "cell_type": "markdown",
   "metadata": {
    "id": "OpG3lbXj8AKN"
   },
   "source": [
    "## Fix the dtypes"
   ]
  },
  {
   "cell_type": "code",
   "execution_count": null,
   "metadata": {
    "id": "uTPH08uK8AKO"
   },
   "outputs": [],
   "source": []
  },
  {
   "cell_type": "markdown",
   "metadata": {
    "id": "hGGYZWU58AKO"
   },
   "source": [
    "## Drop the features that not affect military power\n",
    "* Hint-1,  Georeferences not proper features"
   ]
  },
  {
   "cell_type": "code",
   "execution_count": null,
   "metadata": {
    "id": "B09VrwdB8AKO"
   },
   "outputs": [],
   "source": []
  },
  {
   "cell_type": "markdown",
   "metadata": {
    "id": "_Q9a0ODT8AKO"
   },
   "source": [
    "## Visualy inspect the some features"
   ]
  },
  {
   "cell_type": "code",
   "execution_count": null,
   "metadata": {
    "id": "6xQ6MEDy8AKO"
   },
   "outputs": [],
   "source": []
  },
  {
   "cell_type": "markdown",
   "metadata": {
    "id": "J4kKwd4y8AKP"
   },
   "source": [
    "## Decriptive statistics"
   ]
  },
  {
   "cell_type": "code",
   "execution_count": null,
   "metadata": {
    "id": "MRfNR8p_8AKP"
   },
   "outputs": [],
   "source": []
  },
  {
   "cell_type": "markdown",
   "metadata": {
    "id": "8WuFtB6i8AKP"
   },
   "source": [
    "# Data Preprocessing"
   ]
  },
  {
   "cell_type": "code",
   "execution_count": null,
   "metadata": {
    "id": "8PjRKofq8AKP"
   },
   "outputs": [],
   "source": []
  },
  {
   "cell_type": "markdown",
   "metadata": {
    "id": "RjfzLF0P8AKP"
   },
   "source": [
    "# Modelling"
   ]
  },
  {
   "cell_type": "code",
   "execution_count": null,
   "metadata": {
    "id": "Jnan1N358AKP"
   },
   "outputs": [],
   "source": []
  },
  {
   "cell_type": "markdown",
   "metadata": {
    "id": "dR6v_MwP8AKQ"
   },
   "source": [
    "## Hopkins Test \n",
    "#### Assess the clusterability of a dataset. A score between 0 and 1, a score around 0.5 express no clusterability, a score tending to 1 express an uniform distrubution so clustering can't be useful and  0 express  not an uniform distrubution hence clusterering can be useful."
   ]
  },
  {
   "cell_type": "markdown",
   "metadata": {
    "id": "MwuhI45E8AKQ"
   },
   "source": []
  },
  {
   "cell_type": "markdown",
   "metadata": {
    "id": "hupFwh2N8AKQ"
   },
   "source": [
    "## Clustering with K-means"
   ]
  },
  {
   "cell_type": "code",
   "execution_count": null,
   "metadata": {
    "id": "Xg4jD_8o8AKQ"
   },
   "outputs": [],
   "source": []
  },
  {
   "cell_type": "markdown",
   "metadata": {
    "id": "BRWQmu6H8AKQ"
   },
   "source": [
    "### Elbow Method \n",
    "### We use this method to find optimal k value by looking up to break point of graph. "
   ]
  },
  {
   "cell_type": "code",
   "execution_count": null,
   "metadata": {
    "id": "bJsKrZaA8AKQ"
   },
   "outputs": [],
   "source": []
  },
  {
   "cell_type": "markdown",
   "metadata": {
    "id": "mFJFx-Fg8AKR"
   },
   "source": [
    "### Model Building and label visualisation"
   ]
  },
  {
   "cell_type": "code",
   "execution_count": null,
   "metadata": {
    "id": "G0ygI1998AKR"
   },
   "outputs": [],
   "source": []
  },
  {
   "cell_type": "markdown",
   "metadata": {
    "id": "bj8H_Fmr8AKR"
   },
   "source": [
    "### Evaluate "
   ]
  },
  {
   "cell_type": "code",
   "execution_count": null,
   "metadata": {
    "id": "h_oGrBIS8AKR"
   },
   "outputs": [],
   "source": []
  },
  {
   "cell_type": "markdown",
   "metadata": {
    "id": "eLzoqvfI8AKR"
   },
   "source": [
    "## Hierarchical Clustering"
   ]
  },
  {
   "cell_type": "code",
   "execution_count": null,
   "metadata": {
    "id": "BF5xL3HF8AKS"
   },
   "outputs": [],
   "source": []
  },
  {
   "cell_type": "markdown",
   "metadata": {
    "id": "hZZd6NX_8AKS"
   },
   "source": [
    "### Dendogram"
   ]
  },
  {
   "cell_type": "code",
   "execution_count": null,
   "metadata": {
    "id": "0834lMh08AKS"
   },
   "outputs": [],
   "source": []
  },
  {
   "cell_type": "markdown",
   "metadata": {
    "id": "nOhjvMZN8AKS"
   },
   "source": [
    "### Model Building and label visualisation"
   ]
  },
  {
   "cell_type": "code",
   "execution_count": null,
   "metadata": {
    "id": "-OmyaWc_8AKS"
   },
   "outputs": [],
   "source": []
  },
  {
   "cell_type": "markdown",
   "metadata": {
    "id": "GMdiayVk8AKT"
   },
   "source": [
    "### Evaluate "
   ]
  },
  {
   "cell_type": "code",
   "execution_count": null,
   "metadata": {
    "id": "AyWIsy3P8AKT"
   },
   "outputs": [],
   "source": []
  },
  {
   "cell_type": "code",
   "execution_count": null,
   "metadata": {
    "id": "ae5r4ScQ8AKZ"
   },
   "outputs": [],
   "source": []
  }
 ],
 "metadata": {
  "colab": {
   "collapsed_sections": [
    "pHcni9Yd8AKI",
    "LnUyXAAC8AKJ",
    "v7Eqi2K28AKK",
    "8WuFtB6i8AKP",
    "RjfzLF0P8AKP"
   ],
   "name": "military_power-blank.ipynb",
   "provenance": []
  },
  "interpreter": {
   "hash": "e4e90950cb561445fc7289d5187c528b28750a487d008a70b474c773afaf79b7"
  },
  "kernelspec": {
   "display_name": "Python 3",
   "language": "python",
   "name": "python3"
  },
  "language_info": {
   "codemirror_mode": {
    "name": "ipython",
    "version": 3
   },
   "file_extension": ".py",
   "mimetype": "text/x-python",
   "name": "python",
   "nbconvert_exporter": "python",
   "pygments_lexer": "ipython3",
   "version": "3.8.5"
  }
 },
 "nbformat": 4,
 "nbformat_minor": 1
}
