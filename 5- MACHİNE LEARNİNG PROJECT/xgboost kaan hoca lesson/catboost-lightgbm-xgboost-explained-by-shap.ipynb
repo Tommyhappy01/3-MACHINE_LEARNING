{
 "cells": [
  {
   "cell_type": "markdown",
   "metadata": {
    "papermill": {
     "duration": 0.171319,
     "end_time": "2021-10-24T13:30:02.621252",
     "exception": false,
     "start_time": "2021-10-24T13:30:02.449933",
     "status": "completed"
    },
    "tags": []
   },
   "source": [
    "#### Hi all.  🙋\n",
    "\n",
    "#### We continue our **Beginner-Intermediate Friendly Machine Learning series**, which would help anyone who wants to learn or refresh the basics of ML.\n",
    "\n",
    "#### What we have covered: \n",
    "\n",
    "#### [Beginner Friendly Detailed Explained EDAs – For anyone at the beginnings of DS/ML journey](https://www.kaggle.com/general/253911#1393015) ✔️\n",
    "\n",
    "#### [BIAS & VARIANCE TRADEOFF](https://www.kaggle.com/kaanboke/ml-basics-bias-variance-tradeoff) ✔️\n",
    "\n",
    "#### [LINEAR ALGORITHMS](https://www.kaggle.com/kaanboke/ml-basics-linear-algorithms)  ✔️\n",
    "\n",
    "#### [NONLINEAR ALGORITHMS](https://www.kaggle.com/kaanboke/nonlinear-algorithms)  ✔️\n",
    "\n",
    "#### [The Most Used Methods to Deal with MISSING VALUES](https://www.kaggle.com/kaanboke/the-most-used-methods-to-deal-with-missing-values)  ✔️\n",
    "\n",
    "#### [Beginner Friendly End to End ML Project- Classification with Imbalanced Data](https://www.kaggle.com/kaanboke/beginner-friendly-end-to-end-ml-project-enjoy)  ✔️\n",
    "\n",
    "#### [How to Prevent the Data Leakage ?](https://www.kaggle.com/kaanboke/how-to-prevent-the-data-leakage) ✔️\n",
    "\n",
    "#### [The Most Common EVALUATION METRICS- A Gentle Intro](https://www.kaggle.com/kaanboke/the-most-common-evaluation-metrics-a-gentle-intro) ✔️\n",
    "\n",
    "#### [Feature Selection-The Most Common Methods to Know](https://www.kaggle.com/kaanboke/feature-selection-the-most-common-methods-to-know) ✔️\n",
    "\n",
    "#### [Beginner Friendly End to End ML Project- Car Price Prediction](https://www.kaggle.com/kaanboke/car-price-prediction-beginner-friendly-94-3)  ✔️\n",
    "\n",
    "#### [Beginner Friendly CATBOOST with OPTUNA](https://www.kaggle.com/kaanboke/beginner-friendly-catboost-with-optuna)  ✔️\n",
    "\n",
    "#### [A Gentle Intro to PYCARET-Beginner Friendly](https://www.kaggle.com/kaanboke/a-gentle-intro-to-pycaret-beginner-friendly)  ✔️\n",
    "\n",
    "#### [XGBoost & LightGBM & Catboost - Imbalanced Data](https://www.kaggle.com/kaanboke/xgboost-lightgbm-catboost-imbalanced-data)  ✔️\n",
    "\n",
    "\n",
    "#### In this notebook, we will look in detail at how the famous trio (**XGBoost & LightGBM & Catboost**) are explained by **SHAP**.\n",
    "\n",
    "\n",
    "#### **Enjoy** 🤘"
   ]
  },
  {
   "cell_type": "markdown",
   "metadata": {
    "papermill": {
     "duration": 0.104398,
     "end_time": "2021-10-24T13:30:02.831992",
     "exception": false,
     "start_time": "2021-10-24T13:30:02.727594",
     "status": "completed"
    },
    "tags": []
   },
   "source": [
    "![](https://user-images.githubusercontent.com/38404461/65588818-7734b500-df88-11e9-907c-a0bc0c0fdfc1.png)"
   ]
  },
  {
   "cell_type": "markdown",
   "metadata": {
    "papermill": {
     "duration": 0.107024,
     "end_time": "2021-10-24T13:30:03.045208",
     "exception": false,
     "start_time": "2021-10-24T13:30:02.938184",
     "status": "completed"
    },
    "tags": []
   },
   "source": [
    "Image Credit:https://user-images.githubusercontent.com/38404461/"
   ]
  },
  {
   "cell_type": "markdown",
   "metadata": {
    "papermill": {
     "duration": 0.103061,
     "end_time": "2021-10-24T13:30:03.251347",
     "exception": false,
     "start_time": "2021-10-24T13:30:03.148286",
     "status": "completed"
    },
    "tags": []
   },
   "source": [
    "<a id=\"toc\"></a>\n",
    "\n",
    "<h3 class=\"list-group-item list-group-item-action active\" data-toggle=\"list\" role=\"tab\" aria-controls=\"home\">Table of Contents</h3>\n",
    "    \n",
    "* [Data](#0)\n",
    "* [What Problem We Have and Which Metric to Use?](#1)\n",
    "\n",
    "* [Exploratory Data Analysis](#2)\n",
    "    * [Target Variable](#3)\n",
    "    * [Overall Insights from the EDA](#4)\n",
    "      \n",
    "      \n",
    "* [What is SHAP](#5) \n",
    "\n",
    "\n",
    "* [CATBOOST with SHAP](#6)\n",
    "    * [CatBoost (with adjusted Scale_Pos_Weight = 5) Deals With Imbalanced Data](#7)\n",
    "    * [SHAP Feature Importance](#8)\n",
    "    * [SHAP Summary Plot](#9)\n",
    "    * [SHAP Dependence Plot](#10)\n",
    "    * [SHAP Decision Plot](#11)\n",
    "    * [SHAP Force Plot](#12)\n",
    "    * [SHAP Waterfall Plot](#13)\n",
    "    \n",
    "* [LightGBM with SHAP](#14)\n",
    "    * [LightGBM (with adjusted Scale_Pos_Weight = 5) Deals With Imbalanced Data](#15)\n",
    "    * [SHAP Feature Importance](#16)\n",
    "    * [SHAP Summary Plot](#17)\n",
    "    * [SHAP Decision Plot](#18)\n",
    "    * [SHAP Force Plot](#19)\n",
    "    * [SHAP Waterfall Plot](#20)  \n",
    "\n",
    "* [XGBOOST with SHAP](#21)\n",
    "    * [XGBoost (with adjusted Scale_Pos_Weight = 5) Deals With Imbalanced Data](#22)\n",
    "    * [SHAP Feature Importance](#23)\n",
    "    * [SHAP Summary Plot](#24)\n",
    "    * [SHAP Decision Plot](#25)\n",
    "    * [SHAP Force Plot](#26)\n",
    "    * [SHAP Waterfall Plot](#27) \n",
    "    \n",
    "* [Conclusion](#28)\n",
    "\n",
    "* [References & Further Reading](#29)"
   ]
  },
  {
   "cell_type": "markdown",
   "metadata": {
    "papermill": {
     "duration": 0.102721,
     "end_time": "2021-10-24T13:30:03.457399",
     "exception": false,
     "start_time": "2021-10-24T13:30:03.354678",
     "status": "completed"
    },
    "tags": []
   },
   "source": [
    "<a id=\"0\"></a>\n",
    "<font color=\"Darkblue\" size=+2.5><b>Data</b></font>\n",
    "\n",
    "<a href=\"#toc\" class=\"btn btn-primary btn-sm\" role=\"button\" aria-pressed=\"true\" style=\"color:white\" data-toggle=\"popover\">Table of Contents</a>"
   ]
  },
  {
   "cell_type": "markdown",
   "metadata": {
    "papermill": {
     "duration": 0.103834,
     "end_time": "2021-10-24T13:30:03.664129",
     "exception": false,
     "start_time": "2021-10-24T13:30:03.560295",
     "status": "completed"
    },
    "tags": []
   },
   "source": [
    "# **Telco Customer Churn**"
   ]
  },
  {
   "cell_type": "markdown",
   "metadata": {
    "papermill": {
     "duration": 0.102848,
     "end_time": "2021-10-24T13:30:03.874925",
     "exception": false,
     "start_time": "2021-10-24T13:30:03.772077",
     "status": "completed"
    },
    "tags": []
   },
   "source": [
    "### **Data Dictionary**\n",
    "\n",
    "1. **`CustomerID`**: A unique ID that identifies each customer.\n",
    "\n",
    "2. **`Gender`**: The customer’s gender: Male, Female\n",
    "\n",
    "3. **`Age`**: The customer’s current age, in years, at the time the fiscal quarter ended.\n",
    "\n",
    "4. **`Senior Citizen`**: Indicates if the customer is 65 or older: Yes, No\n",
    "\n",
    "5. **`Married (Partner)`**: Indicates if the customer is married: Yes, No\n",
    "\n",
    "6. **`Dependents`**: Indicates if the customer lives with any dependents: Yes, No. Dependents could be children, parents, grandparents, etc.\n",
    "\n",
    "7. **`Number of Dependents`**: Indicates the number of dependents that live with the customer.\n",
    "\n",
    "8. **`Phone Service`**: Indicates if the customer subscribes to home phone service with the company: Yes, No\n",
    "\n",
    "9. **`Multiple Lines`**: Indicates if the customer subscribes to multiple telephone lines with the company: Yes, No\n",
    "\n",
    "10. **`Internet Service`**: Indicates if the customer subscribes to Internet service with the company: No, DSL, Fiber Optic, Cable.\n",
    "\n",
    "11. **`Online Security`**: Indicates if the customer subscribes to an additional online security service provided by the company: Yes, No\n",
    "\n",
    "12. **`Online Backup`**: Indicates if the customer subscribes to an additional online backup service provided by the company: Yes, No\n",
    "\n",
    "13. **`Device Protection Plan`**: Indicates if the customer subscribes to an additional device protection plan for their Internet equipment provided by the company: Yes, No\n",
    "\n",
    "14. **`Premium Tech Support`**: Indicates if the customer subscribes to an additional technical support plan from the company with reduced wait times: Yes, No\n",
    "\n",
    "15. **`Streaming TV`**: Indicates if the customer uses their Internet service to stream television programing from a third party provider: Yes, No. The company does not charge an additional fee for this service.\n",
    "\n",
    "16. **`Streaming Movies`**: Indicates if the customer uses their Internet service to stream movies from a third party provider: Yes, No. The company does not charge an additional fee for this service.\n",
    "\n",
    "17. **`Contract`**: Indicates the customer’s current contract type: Month-to-Month, One Year, Two Year.\n",
    "\n",
    "18. **`Paperless Billing`**: Indicates if the customer has chosen paperless billing: Yes, No\n",
    "\n",
    "19. **`Payment Method`**: Indicates how the customer pays their bill: Bank Withdrawal, Credit Card, Mailed Check\n",
    "\n",
    "20. **`Monthly Charge`**: Indicates the customer’s current total monthly charge for all their services from the company.\n",
    "\n",
    "21. **`Total Charges`**: Indicates the customer’s total charges, calculated to the end of the quarter specified above.\n",
    "\n",
    "22. **`Tenure`**: Indicates the total amount of months that the customer has been with the company.\n",
    "\n",
    "23. **`Churn`**: Yes = the customer left the company this quarter. No = the customer remained with the company. Directly related to Churn Value.\n",
    "\n",
    "Reference:\n",
    "https://www.kaggle.com/blastchar/telco-customer-churn\n",
    "\n",
    "https://community.ibm.com/community/user/businessanalytics/blogs/steven-macko/2019/07/11/telco-customer-churn-1113\n",
    "\n"
   ]
  },
  {
   "cell_type": "markdown",
   "metadata": {
    "papermill": {
     "duration": 0.102348,
     "end_time": "2021-10-24T13:30:04.080440",
     "exception": false,
     "start_time": "2021-10-24T13:30:03.978092",
     "status": "completed"
    },
    "tags": []
   },
   "source": [
    "<a id=\"1\"></a>\n",
    "<font color=\"Darkblue\" size=+1.5><b>What Problem We Have and Which Metric to Use?</b></font>\n",
    "\n",
    "<a href=\"#toc\" class=\"btn btn-primary btn-sm\" role=\"button\" aria-pressed=\"true\" style=\"color:white\" data-toggle=\"popover\">Table of Contents</a>"
   ]
  },
  {
   "cell_type": "markdown",
   "metadata": {
    "papermill": {
     "duration": 0.102997,
     "end_time": "2021-10-24T13:30:04.285820",
     "exception": false,
     "start_time": "2021-10-24T13:30:04.182823",
     "status": "completed"
    },
    "tags": []
   },
   "source": [
    "- Based on the data and data dictionary, We have a classification problem.\n",
    "- We wil make classification on the target variable **`Churn`**\n",
    "- And we will build a model to get best classification possible on the target variable.\n",
    "- For that we will look at the balance of the target variable.\n",
    "- As we will see later, our target variable has imblanced data\n",
    "- For that reason we are not going to use Accuracy score, \n",
    "- Based on the problem on the hand, we will use **`Recall score`**.\n",
    "- [For the detailed info about the evaluation metrics](https://www.kaggle.com/kaanboke/the-most-common-evaluation-metrics-a-gentle-intro)"
   ]
  },
  {
   "cell_type": "markdown",
   "metadata": {
    "papermill": {
     "duration": 0.103097,
     "end_time": "2021-10-24T13:30:04.492524",
     "exception": false,
     "start_time": "2021-10-24T13:30:04.389427",
     "status": "completed"
    },
    "tags": []
   },
   "source": [
    "![](https://e7.pngegg.com/pngimages/301/649/png-clipart-snake-scale-measuring-scales-measurement-scale-light-fixture-measuring-scales-thumbnail.png)"
   ]
  },
  {
   "cell_type": "markdown",
   "metadata": {
    "papermill": {
     "duration": 0.103902,
     "end_time": "2021-10-24T13:30:04.700445",
     "exception": false,
     "start_time": "2021-10-24T13:30:04.596543",
     "status": "completed"
    },
    "tags": []
   },
   "source": [
    "Image Credit: https://e7.pngegg.com"
   ]
  },
  {
   "cell_type": "markdown",
   "metadata": {
    "papermill": {
     "duration": 0.102733,
     "end_time": "2021-10-24T13:30:04.908034",
     "exception": false,
     "start_time": "2021-10-24T13:30:04.805301",
     "status": "completed"
    },
    "tags": []
   },
   "source": [
    "<a id=\"2\"></a>\n",
    "<font color=\"Darkblue\" size=+2.5><b>Exploratory Data Analysis</b></font>\n",
    "\n",
    "<a href=\"#toc\" class=\"btn btn-primary btn-sm\" role=\"button\" aria-pressed=\"true\" style=\"color:white\" data-toggle=\"popover\">Table of Contents</a>"
   ]
  },
  {
   "cell_type": "markdown",
   "metadata": {
    "papermill": {
     "duration": 0.103695,
     "end_time": "2021-10-24T13:30:05.114841",
     "exception": false,
     "start_time": "2021-10-24T13:30:05.011146",
     "status": "completed"
    },
    "tags": []
   },
   "source": [
    "# [We have already covered detailed EDA in our previous notebook. For that reason, I won't include detailed EDA in this notebook.](https://www.kaggle.com/kaanboke/xgboost-lightgbm-catboost-imbalanced-data)"
   ]
  },
  {
   "cell_type": "markdown",
   "metadata": {
    "papermill": {
     "duration": 0.103731,
     "end_time": "2021-10-24T13:30:05.322919",
     "exception": false,
     "start_time": "2021-10-24T13:30:05.219188",
     "status": "completed"
    },
    "tags": []
   },
   "source": [
    "- Let's import the libraries"
   ]
  },
  {
   "cell_type": "code",
   "execution_count": 2,
   "metadata": {
    "_cell_guid": "b1076dfc-b9ad-4769-8c92-a6c4dae69d19",
    "_kg_hide-input": true,
    "_uuid": "8f2839f25d086af736a60e9eeb907d3b93b6e0e5",
    "execution": {
     "iopub.execute_input": "2021-10-24T13:30:05.539910Z",
     "iopub.status.busy": "2021-10-24T13:30:05.538727Z",
     "iopub.status.idle": "2021-10-24T13:30:18.028424Z",
     "shell.execute_reply": "2021-10-24T13:30:18.027697Z",
     "shell.execute_reply.started": "2021-10-24T13:10:22.983254Z"
    },
    "papermill": {
     "duration": 12.59839,
     "end_time": "2021-10-24T13:30:18.028641",
     "exception": false,
     "start_time": "2021-10-24T13:30:05.430251",
     "status": "completed"
    },
    "tags": []
   },
   "outputs": [
    {
     "name": "stdout",
     "output_type": "stream",
     "text": [
      "Collecting optuna\n",
      "  Using cached optuna-2.10.0-py3-none-any.whl (308 kB)\n",
      "Requirement already satisfied: scipy!=1.4.0 in c:\\programdata\\anaconda3\\lib\\site-packages (from optuna) (1.5.2)\n",
      "Collecting cliff\n",
      "  Using cached cliff-3.9.0-py3-none-any.whl (80 kB)\n",
      "Requirement already satisfied: colorlog in c:\\programdata\\anaconda3\\lib\\site-packages (from optuna) (6.5.0)\n",
      "Requirement already satisfied: packaging>=20.0 in c:\\programdata\\anaconda3\\lib\\site-packages (from optuna) (20.4)\n",
      "Requirement already satisfied: cmaes>=0.8.2 in c:\\programdata\\anaconda3\\lib\\site-packages (from optuna) (0.8.2)\n",
      "Requirement already satisfied: PyYAML in c:\\programdata\\anaconda3\\lib\\site-packages (from optuna) (5.3.1)\n",
      "Collecting alembic\n",
      "  Using cached alembic-1.7.4-py3-none-any.whl (209 kB)\n",
      "Requirement already satisfied: sqlalchemy>=1.1.0 in c:\\programdata\\anaconda3\\lib\\site-packages (from optuna) (1.3.20)\n",
      "Requirement already satisfied: tqdm in c:\\programdata\\anaconda3\\lib\\site-packages (from optuna) (4.50.2)\n",
      "Requirement already satisfied: numpy in c:\\programdata\\anaconda3\\lib\\site-packages (from optuna) (1.19.2)\n",
      "Requirement already satisfied: pyparsing>=2.1.0 in c:\\programdata\\anaconda3\\lib\\site-packages (from cliff->optuna) (2.4.7)\n",
      "Collecting stevedore>=2.0.1\n",
      "  Using cached stevedore-3.5.0-py3-none-any.whl (49 kB)\n",
      "Collecting autopage>=0.4.0\n",
      "  Using cached autopage-0.4.0-py3-none-any.whl (20 kB)\n",
      "Requirement already satisfied: PrettyTable>=0.7.2 in c:\\programdata\\anaconda3\\lib\\site-packages (from cliff->optuna) (2.2.1)\n",
      "Collecting cmd2>=1.0.0\n",
      "  Using cached cmd2-2.2.0-py3-none-any.whl (144 kB)\n",
      "Requirement already satisfied: pbr!=2.1.0,>=2.0.0 in c:\\programdata\\anaconda3\\lib\\site-packages (from cliff->optuna) (5.6.0)\n",
      "Requirement already satisfied: colorama; sys_platform == \"win32\" in c:\\programdata\\anaconda3\\lib\\site-packages (from colorlog->optuna) (0.4.4)\n",
      "Requirement already satisfied: six in c:\\programdata\\anaconda3\\lib\\site-packages (from packaging>=20.0->optuna) (1.15.0)\n",
      "Collecting Mako\n"
     ]
    },
    {
     "name": "stderr",
     "output_type": "stream",
     "text": [
      "  WARNING: The script mako-render.exe is installed in 'C:\\Users\\ÖKTEN\\AppData\\Roaming\\Python\\Python38\\Scripts' which is not on PATH.\n",
      "  Consider adding this directory to PATH or, if you prefer to suppress this warning, use --no-warn-script-location.\n",
      "  WARNING: The script alembic.exe is installed in 'C:\\Users\\ÖKTEN\\AppData\\Roaming\\Python\\Python38\\Scripts' which is not on PATH.\n",
      "  Consider adding this directory to PATH or, if you prefer to suppress this warning, use --no-warn-script-location.\n",
      "  WARNING: The script optuna.exe is installed in 'C:\\Users\\ÖKTEN\\AppData\\Roaming\\Python\\Python38\\Scripts' which is not on PATH.\n",
      "  Consider adding this directory to PATH or, if you prefer to suppress this warning, use --no-warn-script-location.\n"
     ]
    },
    {
     "name": "stdout",
     "output_type": "stream",
     "text": [
      "  Using cached Mako-1.1.5-py2.py3-none-any.whl (75 kB)\n",
      "Requirement already satisfied: importlib-metadata; python_version < \"3.9\" in c:\\programdata\\anaconda3\\lib\\site-packages (from alembic->optuna) (2.0.0)\n",
      "Collecting importlib-resources; python_version < \"3.9\"\n",
      "  Using cached importlib_resources-5.3.0-py3-none-any.whl (28 kB)\n",
      "Requirement already satisfied: wcwidth in c:\\programdata\\anaconda3\\lib\\site-packages (from PrettyTable>=0.7.2->cliff->optuna) (0.2.5)\n",
      "Collecting pyreadline3; sys_platform == \"win32\" and python_version >= \"3.8\"\n",
      "  Using cached pyreadline3-3.3-py3-none-any.whl (95 kB)\n",
      "Requirement already satisfied: attrs>=16.3.0 in c:\\programdata\\anaconda3\\lib\\site-packages (from cmd2>=1.0.0->cliff->optuna) (20.3.0)\n",
      "Requirement already satisfied: pyperclip>=1.6 in c:\\programdata\\anaconda3\\lib\\site-packages (from cmd2>=1.0.0->cliff->optuna) (1.8.2)\n",
      "Requirement already satisfied: MarkupSafe>=0.9.2 in c:\\programdata\\anaconda3\\lib\\site-packages (from Mako->alembic->optuna) (1.1.1)\n",
      "Requirement already satisfied: zipp>=0.5 in c:\\programdata\\anaconda3\\lib\\site-packages (from importlib-metadata; python_version < \"3.9\"->alembic->optuna) (3.4.0)\n",
      "Installing collected packages: stevedore, autopage, pyreadline3, cmd2, cliff, Mako, importlib-resources, alembic, optuna\n",
      "Successfully installed Mako-1.1.5 alembic-1.7.4 autopage-0.4.0 cliff-3.9.0 cmd2-2.2.0 importlib-resources-5.3.0 optuna-2.10.0 pyreadline3-3.3 stevedore-3.5.0\n",
      "Requirement already satisfied: lightgbm in c:\\programdata\\anaconda3\\lib\\site-packages (3.3.0)\n",
      "Requirement already satisfied: wheel in c:\\programdata\\anaconda3\\lib\\site-packages (from lightgbm) (0.35.1)\n",
      "Requirement already satisfied: numpy in c:\\programdata\\anaconda3\\lib\\site-packages (from lightgbm) (1.19.2)\n",
      "Requirement already satisfied: scipy in c:\\programdata\\anaconda3\\lib\\site-packages (from lightgbm) (1.5.2)\n",
      "Requirement already satisfied: scikit-learn!=0.22.0 in c:\\users\\ökten\\appdata\\roaming\\python\\python38\\site-packages (from lightgbm) (0.24.2)\n",
      "Requirement already satisfied: threadpoolctl>=2.0.0 in c:\\programdata\\anaconda3\\lib\\site-packages (from scikit-learn!=0.22.0->lightgbm) (2.1.0)\n",
      "Requirement already satisfied: joblib>=0.11 in c:\\programdata\\anaconda3\\lib\\site-packages (from scikit-learn!=0.22.0->lightgbm) (0.17.0)\n",
      "Requirement already satisfied: catboost in c:\\programdata\\anaconda3\\lib\\site-packages (1.0.0)\n",
      "Requirement already satisfied: pandas>=0.24.0 in c:\\users\\ökten\\appdata\\roaming\\python\\python38\\site-packages (from catboost) (1.3.3)\n",
      "Requirement already satisfied: graphviz in c:\\programdata\\anaconda3\\lib\\site-packages (from catboost) (0.17)\n",
      "Requirement already satisfied: matplotlib in c:\\users\\ökten\\appdata\\roaming\\python\\python38\\site-packages (from catboost) (3.4.3)\n",
      "Requirement already satisfied: numpy>=1.16.0 in c:\\programdata\\anaconda3\\lib\\site-packages (from catboost) (1.19.2)\n",
      "Requirement already satisfied: plotly in c:\\programdata\\anaconda3\\lib\\site-packages (from catboost) (5.1.0)\n",
      "Requirement already satisfied: scipy in c:\\programdata\\anaconda3\\lib\\site-packages (from catboost) (1.5.2)\n",
      "Requirement already satisfied: six in c:\\programdata\\anaconda3\\lib\\site-packages (from catboost) (1.15.0)\n",
      "Requirement already satisfied: python-dateutil>=2.7.3 in c:\\programdata\\anaconda3\\lib\\site-packages (from pandas>=0.24.0->catboost) (2.8.1)\n",
      "Requirement already satisfied: pytz>=2017.3 in c:\\programdata\\anaconda3\\lib\\site-packages (from pandas>=0.24.0->catboost) (2020.1)\n",
      "Requirement already satisfied: kiwisolver>=1.0.1 in c:\\programdata\\anaconda3\\lib\\site-packages (from matplotlib->catboost) (1.3.0)\n",
      "Requirement already satisfied: cycler>=0.10 in c:\\programdata\\anaconda3\\lib\\site-packages (from matplotlib->catboost) (0.10.0)\n",
      "Requirement already satisfied: pyparsing>=2.2.1 in c:\\programdata\\anaconda3\\lib\\site-packages (from matplotlib->catboost) (2.4.7)\n",
      "Requirement already satisfied: pillow>=6.2.0 in c:\\programdata\\anaconda3\\lib\\site-packages (from matplotlib->catboost) (8.0.1)\n",
      "Requirement already satisfied: tenacity>=6.2.0 in c:\\programdata\\anaconda3\\lib\\site-packages (from plotly->catboost) (7.0.0)\n",
      "Requirement already satisfied: cufflinks in c:\\programdata\\anaconda3\\lib\\site-packages (0.17.3)\n",
      "Requirement already satisfied: numpy>=1.9.2 in c:\\programdata\\anaconda3\\lib\\site-packages (from cufflinks) (1.19.2)\n",
      "Requirement already satisfied: ipython>=5.3.0 in c:\\programdata\\anaconda3\\lib\\site-packages (from cufflinks) (7.19.0)\n",
      "Requirement already satisfied: six>=1.9.0 in c:\\programdata\\anaconda3\\lib\\site-packages (from cufflinks) (1.15.0)\n",
      "Requirement already satisfied: setuptools>=34.4.1 in c:\\programdata\\anaconda3\\lib\\site-packages (from cufflinks) (50.3.1.post20201107)\n",
      "Requirement already satisfied: ipywidgets>=7.0.0 in c:\\programdata\\anaconda3\\lib\\site-packages (from cufflinks) (7.5.1)\n",
      "Requirement already satisfied: colorlover>=0.2.1 in c:\\programdata\\anaconda3\\lib\\site-packages (from cufflinks) (0.3.0)\n",
      "Requirement already satisfied: plotly>=4.1.1 in c:\\programdata\\anaconda3\\lib\\site-packages (from cufflinks) (5.1.0)\n",
      "Requirement already satisfied: pandas>=0.19.2 in c:\\users\\ökten\\appdata\\roaming\\python\\python38\\site-packages (from cufflinks) (1.3.3)\n",
      "Requirement already satisfied: traitlets>=4.2 in c:\\programdata\\anaconda3\\lib\\site-packages (from ipython>=5.3.0->cufflinks) (5.0.5)\n",
      "Requirement already satisfied: backcall in c:\\programdata\\anaconda3\\lib\\site-packages (from ipython>=5.3.0->cufflinks) (0.2.0)\n",
      "Requirement already satisfied: pygments in c:\\programdata\\anaconda3\\lib\\site-packages (from ipython>=5.3.0->cufflinks) (2.7.2)\n",
      "Requirement already satisfied: pickleshare in c:\\programdata\\anaconda3\\lib\\site-packages (from ipython>=5.3.0->cufflinks) (0.7.5)\n",
      "Requirement already satisfied: prompt-toolkit!=3.0.0,!=3.0.1,<3.1.0,>=2.0.0 in c:\\programdata\\anaconda3\\lib\\site-packages (from ipython>=5.3.0->cufflinks) (3.0.8)\n",
      "Requirement already satisfied: colorama; sys_platform == \"win32\" in c:\\programdata\\anaconda3\\lib\\site-packages (from ipython>=5.3.0->cufflinks) (0.4.4)\n",
      "Requirement already satisfied: jedi>=0.10 in c:\\programdata\\anaconda3\\lib\\site-packages (from ipython>=5.3.0->cufflinks) (0.17.1)\n",
      "Requirement already satisfied: decorator in c:\\programdata\\anaconda3\\lib\\site-packages (from ipython>=5.3.0->cufflinks) (4.4.2)\n",
      "Requirement already satisfied: ipykernel>=4.5.1 in c:\\programdata\\anaconda3\\lib\\site-packages (from ipywidgets>=7.0.0->cufflinks) (5.3.4)\n",
      "Requirement already satisfied: nbformat>=4.2.0 in c:\\programdata\\anaconda3\\lib\\site-packages (from ipywidgets>=7.0.0->cufflinks) (5.0.8)\n",
      "Requirement already satisfied: widgetsnbextension~=3.5.0 in c:\\programdata\\anaconda3\\lib\\site-packages (from ipywidgets>=7.0.0->cufflinks) (3.5.1)\n",
      "Requirement already satisfied: tenacity>=6.2.0 in c:\\programdata\\anaconda3\\lib\\site-packages (from plotly>=4.1.1->cufflinks) (7.0.0)\n",
      "Requirement already satisfied: pytz>=2017.3 in c:\\programdata\\anaconda3\\lib\\site-packages (from pandas>=0.19.2->cufflinks) (2020.1)\n",
      "Requirement already satisfied: python-dateutil>=2.7.3 in c:\\programdata\\anaconda3\\lib\\site-packages (from pandas>=0.19.2->cufflinks) (2.8.1)\n",
      "Requirement already satisfied: ipython-genutils in c:\\programdata\\anaconda3\\lib\\site-packages (from traitlets>=4.2->ipython>=5.3.0->cufflinks) (0.2.0)\n",
      "Requirement already satisfied: wcwidth in c:\\programdata\\anaconda3\\lib\\site-packages (from prompt-toolkit!=3.0.0,!=3.0.1,<3.1.0,>=2.0.0->ipython>=5.3.0->cufflinks) (0.2.5)\n",
      "Requirement already satisfied: parso<0.8.0,>=0.7.0 in c:\\programdata\\anaconda3\\lib\\site-packages (from jedi>=0.10->ipython>=5.3.0->cufflinks) (0.7.0)\n",
      "Requirement already satisfied: tornado>=4.2 in c:\\programdata\\anaconda3\\lib\\site-packages (from ipykernel>=4.5.1->ipywidgets>=7.0.0->cufflinks) (6.0.4)\n",
      "Requirement already satisfied: jupyter-client in c:\\programdata\\anaconda3\\lib\\site-packages (from ipykernel>=4.5.1->ipywidgets>=7.0.0->cufflinks) (6.1.7)\n",
      "Requirement already satisfied: jupyter-core in c:\\programdata\\anaconda3\\lib\\site-packages (from nbformat>=4.2.0->ipywidgets>=7.0.0->cufflinks) (4.6.3)\n",
      "Requirement already satisfied: jsonschema!=2.5.0,>=2.4 in c:\\programdata\\anaconda3\\lib\\site-packages (from nbformat>=4.2.0->ipywidgets>=7.0.0->cufflinks) (3.2.0)\n",
      "Requirement already satisfied: notebook>=4.4.1 in c:\\programdata\\anaconda3\\lib\\site-packages (from widgetsnbextension~=3.5.0->ipywidgets>=7.0.0->cufflinks) (6.1.4)\n",
      "Requirement already satisfied: pyzmq>=13 in c:\\programdata\\anaconda3\\lib\\site-packages (from jupyter-client->ipykernel>=4.5.1->ipywidgets>=7.0.0->cufflinks) (19.0.2)\n",
      "Requirement already satisfied: pywin32>=1.0; sys_platform == \"win32\" in c:\\programdata\\anaconda3\\lib\\site-packages (from jupyter-core->nbformat>=4.2.0->ipywidgets>=7.0.0->cufflinks) (227)\n",
      "Requirement already satisfied: attrs>=17.4.0 in c:\\programdata\\anaconda3\\lib\\site-packages (from jsonschema!=2.5.0,>=2.4->nbformat>=4.2.0->ipywidgets>=7.0.0->cufflinks) (20.3.0)\n",
      "Requirement already satisfied: pyrsistent>=0.14.0 in c:\\programdata\\anaconda3\\lib\\site-packages (from jsonschema!=2.5.0,>=2.4->nbformat>=4.2.0->ipywidgets>=7.0.0->cufflinks) (0.17.3)\n",
      "Requirement already satisfied: terminado>=0.8.3 in c:\\programdata\\anaconda3\\lib\\site-packages (from notebook>=4.4.1->widgetsnbextension~=3.5.0->ipywidgets>=7.0.0->cufflinks) (0.9.1)\n",
      "Requirement already satisfied: prometheus-client in c:\\programdata\\anaconda3\\lib\\site-packages (from notebook>=4.4.1->widgetsnbextension~=3.5.0->ipywidgets>=7.0.0->cufflinks) (0.8.0)\n",
      "Requirement already satisfied: argon2-cffi in c:\\programdata\\anaconda3\\lib\\site-packages (from notebook>=4.4.1->widgetsnbextension~=3.5.0->ipywidgets>=7.0.0->cufflinks) (20.1.0)\n",
      "Requirement already satisfied: Send2Trash in c:\\programdata\\anaconda3\\lib\\site-packages (from notebook>=4.4.1->widgetsnbextension~=3.5.0->ipywidgets>=7.0.0->cufflinks) (1.5.0)\n",
      "Requirement already satisfied: jinja2 in c:\\programdata\\anaconda3\\lib\\site-packages (from notebook>=4.4.1->widgetsnbextension~=3.5.0->ipywidgets>=7.0.0->cufflinks) (2.11.2)\n",
      "Requirement already satisfied: nbconvert in c:\\programdata\\anaconda3\\lib\\site-packages (from notebook>=4.4.1->widgetsnbextension~=3.5.0->ipywidgets>=7.0.0->cufflinks) (6.0.7)\n",
      "Requirement already satisfied: pywinpty>=0.5 in c:\\programdata\\anaconda3\\lib\\site-packages (from terminado>=0.8.3->notebook>=4.4.1->widgetsnbextension~=3.5.0->ipywidgets>=7.0.0->cufflinks) (0.5.7)\n",
      "Requirement already satisfied: cffi>=1.0.0 in c:\\programdata\\anaconda3\\lib\\site-packages (from argon2-cffi->notebook>=4.4.1->widgetsnbextension~=3.5.0->ipywidgets>=7.0.0->cufflinks) (1.14.3)\n",
      "Requirement already satisfied: MarkupSafe>=0.23 in c:\\programdata\\anaconda3\\lib\\site-packages (from jinja2->notebook>=4.4.1->widgetsnbextension~=3.5.0->ipywidgets>=7.0.0->cufflinks) (1.1.1)\n",
      "Requirement already satisfied: jupyterlab-pygments in c:\\programdata\\anaconda3\\lib\\site-packages (from nbconvert->notebook>=4.4.1->widgetsnbextension~=3.5.0->ipywidgets>=7.0.0->cufflinks) (0.1.2)\n",
      "Requirement already satisfied: nbclient<0.6.0,>=0.5.0 in c:\\programdata\\anaconda3\\lib\\site-packages (from nbconvert->notebook>=4.4.1->widgetsnbextension~=3.5.0->ipywidgets>=7.0.0->cufflinks) (0.5.1)\n",
      "Requirement already satisfied: testpath in c:\\programdata\\anaconda3\\lib\\site-packages (from nbconvert->notebook>=4.4.1->widgetsnbextension~=3.5.0->ipywidgets>=7.0.0->cufflinks) (0.4.4)\n",
      "Requirement already satisfied: defusedxml in c:\\programdata\\anaconda3\\lib\\site-packages (from nbconvert->notebook>=4.4.1->widgetsnbextension~=3.5.0->ipywidgets>=7.0.0->cufflinks) (0.6.0)\n",
      "Requirement already satisfied: pandocfilters>=1.4.1 in c:\\programdata\\anaconda3\\lib\\site-packages (from nbconvert->notebook>=4.4.1->widgetsnbextension~=3.5.0->ipywidgets>=7.0.0->cufflinks) (1.4.3)\n",
      "Requirement already satisfied: mistune<2,>=0.8.1 in c:\\programdata\\anaconda3\\lib\\site-packages (from nbconvert->notebook>=4.4.1->widgetsnbextension~=3.5.0->ipywidgets>=7.0.0->cufflinks) (0.8.4)\n",
      "Requirement already satisfied: entrypoints>=0.2.2 in c:\\programdata\\anaconda3\\lib\\site-packages (from nbconvert->notebook>=4.4.1->widgetsnbextension~=3.5.0->ipywidgets>=7.0.0->cufflinks) (0.3)\n",
      "Requirement already satisfied: bleach in c:\\programdata\\anaconda3\\lib\\site-packages (from nbconvert->notebook>=4.4.1->widgetsnbextension~=3.5.0->ipywidgets>=7.0.0->cufflinks) (3.2.1)\n",
      "Requirement already satisfied: pycparser in c:\\programdata\\anaconda3\\lib\\site-packages (from cffi>=1.0.0->argon2-cffi->notebook>=4.4.1->widgetsnbextension~=3.5.0->ipywidgets>=7.0.0->cufflinks) (2.20)\n",
      "Requirement already satisfied: nest-asyncio in c:\\programdata\\anaconda3\\lib\\site-packages (from nbclient<0.6.0,>=0.5.0->nbconvert->notebook>=4.4.1->widgetsnbextension~=3.5.0->ipywidgets>=7.0.0->cufflinks) (1.4.2)\n",
      "Requirement already satisfied: async-generator in c:\\programdata\\anaconda3\\lib\\site-packages (from nbclient<0.6.0,>=0.5.0->nbconvert->notebook>=4.4.1->widgetsnbextension~=3.5.0->ipywidgets>=7.0.0->cufflinks) (1.10)\n",
      "Requirement already satisfied: webencodings in c:\\programdata\\anaconda3\\lib\\site-packages (from bleach->nbconvert->notebook>=4.4.1->widgetsnbextension~=3.5.0->ipywidgets>=7.0.0->cufflinks) (0.5.1)\n",
      "Requirement already satisfied: packaging in c:\\programdata\\anaconda3\\lib\\site-packages (from bleach->nbconvert->notebook>=4.4.1->widgetsnbextension~=3.5.0->ipywidgets>=7.0.0->cufflinks) (20.4)\n",
      "Requirement already satisfied: pyparsing>=2.0.2 in c:\\programdata\\anaconda3\\lib\\site-packages (from packaging->bleach->nbconvert->notebook>=4.4.1->widgetsnbextension~=3.5.0->ipywidgets>=7.0.0->cufflinks) (2.4.7)\n"
     ]
    },
    {
     "data": {
      "text/html": [
       "        <script type=\"text/javascript\">\n",
       "        window.PlotlyConfig = {MathJaxConfig: 'local'};\n",
       "        if (window.MathJax) {MathJax.Hub.Config({SVG: {font: \"STIX-Web\"}});}\n",
       "        if (typeof require !== 'undefined') {\n",
       "        require.undef(\"plotly\");\n",
       "        requirejs.config({\n",
       "            paths: {\n",
       "                'plotly': ['https://cdn.plot.ly/plotly-2.2.0.min']\n",
       "            }\n",
       "        });\n",
       "        require(['plotly'], function(Plotly) {\n",
       "            window._Plotly = Plotly;\n",
       "        });\n",
       "        }\n",
       "        </script>\n",
       "        "
      ]
     },
     "metadata": {},
     "output_type": "display_data"
    },
    {
     "ename": "ModuleNotFoundError",
     "evalue": "No module named 'shap'",
     "output_type": "error",
     "traceback": [
      "\u001b[1;31m---------------------------------------------------------------------------\u001b[0m",
      "\u001b[1;31mModuleNotFoundError\u001b[0m                       Traceback (most recent call last)",
      "\u001b[1;32m<ipython-input-2-78ad7ba0053a>\u001b[0m in \u001b[0;36m<module>\u001b[1;34m\u001b[0m\n\u001b[0;32m     39\u001b[0m \u001b[1;32mimport\u001b[0m \u001b[0mplotly\u001b[0m\u001b[1;33m.\u001b[0m\u001b[0mfigure_factory\u001b[0m \u001b[1;32mas\u001b[0m \u001b[0mff\u001b[0m\u001b[1;33m\u001b[0m\u001b[1;33m\u001b[0m\u001b[0m\n\u001b[0;32m     40\u001b[0m \u001b[1;33m\u001b[0m\u001b[0m\n\u001b[1;32m---> 41\u001b[1;33m \u001b[1;32mimport\u001b[0m \u001b[0mshap\u001b[0m\u001b[1;33m\u001b[0m\u001b[1;33m\u001b[0m\u001b[0m\n\u001b[0m\u001b[0;32m     42\u001b[0m \u001b[1;33m\u001b[0m\u001b[0m\n\u001b[0;32m     43\u001b[0m \u001b[1;32mimport\u001b[0m \u001b[0mmissingno\u001b[0m \u001b[1;32mas\u001b[0m \u001b[0mmsno\u001b[0m\u001b[1;33m\u001b[0m\u001b[1;33m\u001b[0m\u001b[0m\n",
      "\u001b[1;31mModuleNotFoundError\u001b[0m: No module named 'shap'"
     ]
    }
   ],
   "source": [
    "import numpy as np\n",
    "import pandas as pd\n",
    "import matplotlib.pyplot as plt\n",
    "import seaborn as sns\n",
    "\n",
    "!pip install optuna --user\n",
    "!pip install lightgbm\n",
    "!pip install catboost\n",
    "!pip install cufflinks\n",
    "\n",
    "from sklearn.model_selection import cross_val_score,cross_val_predict, train_test_split\n",
    "from sklearn.preprocessing import OneHotEncoder,StandardScaler,PowerTransformer,LabelEncoder\n",
    "\n",
    "from sklearn.metrics import accuracy_score,classification_report, recall_score,confusion_matrix, roc_auc_score, precision_score, f1_score, roc_curve, auc, plot_confusion_matrix,plot_roc_curve\n",
    "\n",
    "\n",
    "import optuna\n",
    "import lightgbm as lgb\n",
    "from xgboost import XGBClassifier\n",
    "#from lightgbm import LGBMClassifier, plot_importance\n",
    "from catboost import CatBoostClassifier\n",
    "\n",
    "\n",
    "\n",
    "\n",
    "#importing plotly and cufflinks in offline mode\n",
    "import cufflinks as cf\n",
    "import plotly.offline\n",
    "cf.go_offline()\n",
    "cf.set_config_file(offline=False, world_readable=True)\n",
    "\n",
    "\n",
    "import plotly \n",
    "import plotly.express as px\n",
    "import plotly.graph_objs as go\n",
    "import plotly.offline as py\n",
    "from plotly.offline import iplot\n",
    "from plotly.subplots import make_subplots\n",
    "import plotly.figure_factory as ff\n",
    "\n",
    "import shap \n",
    "\n",
    "import missingno as msno\n",
    "\n",
    "import warnings\n",
    "warnings.filterwarnings(\"ignore\")"
   ]
  },
  {
   "cell_type": "markdown",
   "metadata": {
    "papermill": {
     "duration": 0.103492,
     "end_time": "2021-10-24T13:30:18.237144",
     "exception": false,
     "start_time": "2021-10-24T13:30:18.133652",
     "status": "completed"
    },
    "tags": []
   },
   "source": [
    "- Let's look at the data."
   ]
  },
  {
   "cell_type": "code",
   "execution_count": null,
   "metadata": {
    "_kg_hide-input": true,
    "execution": {
     "iopub.execute_input": "2021-10-24T13:30:18.453729Z",
     "iopub.status.busy": "2021-10-24T13:30:18.452911Z",
     "iopub.status.idle": "2021-10-24T13:30:18.527357Z",
     "shell.execute_reply": "2021-10-24T13:30:18.527868Z",
     "shell.execute_reply.started": "2021-10-24T13:10:34.647179Z"
    },
    "papermill": {
     "duration": 0.185533,
     "end_time": "2021-10-24T13:30:18.528052",
     "exception": false,
     "start_time": "2021-10-24T13:30:18.342519",
     "status": "completed"
    },
    "tags": []
   },
   "outputs": [],
   "source": [
    "pd.set_option('max_columns',100)\n",
    "pd.set_option('max_rows',900)\n",
    "\n",
    "pd.set_option('max_colwidth',200)\n",
    "\n",
    "df = pd.read_csv('WA_Fn-UseC_-Telco-Customer-Churn.csv')\n",
    "df.head()"
   ]
  },
  {
   "cell_type": "markdown",
   "metadata": {
    "papermill": {
     "duration": 0.104892,
     "end_time": "2021-10-24T13:30:18.737646",
     "exception": false,
     "start_time": "2021-10-24T13:30:18.632754",
     "status": "completed"
    },
    "tags": []
   },
   "source": [
    "<a id=\"3\"></a>\n",
    "<font color=\"Darkblue\" size=+1.5><b>Target Variable</b></font>\n",
    "\n",
    "<a href=\"#toc\" class=\"btn btn-primary btn-sm\" role=\"button\" aria-pressed=\"true\" style=\"color:white\" data-toggle=\"popover\">Table of Contents</a>"
   ]
  },
  {
   "cell_type": "code",
   "execution_count": 3,
   "metadata": {
    "_kg_hide-input": true,
    "execution": {
     "iopub.execute_input": "2021-10-24T13:30:18.950684Z",
     "iopub.status.busy": "2021-10-24T13:30:18.949637Z",
     "iopub.status.idle": "2021-10-24T13:30:18.966262Z",
     "shell.execute_reply": "2021-10-24T13:30:18.966738Z",
     "shell.execute_reply.started": "2021-10-24T13:10:34.743107Z"
    },
    "papermill": {
     "duration": 0.125356,
     "end_time": "2021-10-24T13:30:18.966911",
     "exception": false,
     "start_time": "2021-10-24T13:30:18.841555",
     "status": "completed"
    },
    "tags": []
   },
   "outputs": [
    {
     "ename": "NameError",
     "evalue": "name 'df' is not defined",
     "output_type": "error",
     "traceback": [
      "\u001b[1;31m---------------------------------------------------------------------------\u001b[0m",
      "\u001b[1;31mNameError\u001b[0m                                 Traceback (most recent call last)",
      "\u001b[1;32m<ipython-input-3-071f21cfc80f>\u001b[0m in \u001b[0;36m<module>\u001b[1;34m\u001b[0m\n\u001b[1;32m----> 1\u001b[1;33m \u001b[0my\u001b[0m \u001b[1;33m=\u001b[0m \u001b[0mdf\u001b[0m\u001b[1;33m[\u001b[0m\u001b[1;34m'Churn'\u001b[0m\u001b[1;33m]\u001b[0m\u001b[1;33m\u001b[0m\u001b[1;33m\u001b[0m\u001b[0m\n\u001b[0m\u001b[0;32m      2\u001b[0m \u001b[0mprint\u001b[0m\u001b[1;33m(\u001b[0m\u001b[1;34mf'Percentage of Churn:  {round(y.value_counts(normalize=True)[1]*100,2)} %  --> ({y.value_counts()[1]} customer)\\nPercentage of customer did not churn: {round(y.value_counts(normalize=True)[0]*100,2)}  %  --> ({y.value_counts()[0]} customer)'\u001b[0m\u001b[1;33m)\u001b[0m\u001b[1;33m\u001b[0m\u001b[1;33m\u001b[0m\u001b[0m\n",
      "\u001b[1;31mNameError\u001b[0m: name 'df' is not defined"
     ]
    }
   ],
   "source": [
    "y = df['Churn']\n",
    "print(f'Percentage of Churn:  {round(y.value_counts(normalize=True)[1]*100,2)} %  --> ({y.value_counts()[1]} customer)\\nPercentage of customer did not churn: {round(y.value_counts(normalize=True)[0]*100,2)}  %  --> ({y.value_counts()[0]} customer)')\n"
   ]
  },
  {
   "cell_type": "code",
   "execution_count": 4,
   "metadata": {
    "_kg_hide-input": true,
    "execution": {
     "iopub.execute_input": "2021-10-24T13:30:19.193580Z",
     "iopub.status.busy": "2021-10-24T13:30:19.192646Z",
     "iopub.status.idle": "2021-10-24T13:30:20.201932Z",
     "shell.execute_reply": "2021-10-24T13:30:20.202504Z",
     "shell.execute_reply.started": "2021-10-24T13:10:34.764082Z"
    },
    "papermill": {
     "duration": 1.128684,
     "end_time": "2021-10-24T13:30:20.202698",
     "exception": false,
     "start_time": "2021-10-24T13:30:19.074014",
     "status": "completed"
    },
    "tags": []
   },
   "outputs": [
    {
     "ename": "NameError",
     "evalue": "name 'y' is not defined",
     "output_type": "error",
     "traceback": [
      "\u001b[1;31m---------------------------------------------------------------------------\u001b[0m",
      "\u001b[1;31mNameError\u001b[0m                                 Traceback (most recent call last)",
      "\u001b[1;32m<ipython-input-4-c905f380aa5e>\u001b[0m in \u001b[0;36m<module>\u001b[1;34m\u001b[0m\n\u001b[1;32m----> 1\u001b[1;33m \u001b[0my\u001b[0m\u001b[1;33m.\u001b[0m\u001b[0miplot\u001b[0m\u001b[1;33m(\u001b[0m\u001b[0mkind\u001b[0m\u001b[1;33m=\u001b[0m\u001b[1;34m'hist'\u001b[0m\u001b[1;33m,\u001b[0m \u001b[0mtitle\u001b[0m\u001b[1;33m=\u001b[0m \u001b[1;34m'Churn'\u001b[0m\u001b[1;33m)\u001b[0m\u001b[1;33m\u001b[0m\u001b[1;33m\u001b[0m\u001b[0m\n\u001b[0m",
      "\u001b[1;31mNameError\u001b[0m: name 'y' is not defined"
     ]
    }
   ],
   "source": [
    "y.iplot(kind='hist', title= 'Churn')"
   ]
  },
  {
   "cell_type": "markdown",
   "metadata": {
    "papermill": {
     "duration": 0.127451,
     "end_time": "2021-10-24T13:30:20.458061",
     "exception": false,
     "start_time": "2021-10-24T13:30:20.330610",
     "status": "completed"
    },
    "tags": []
   },
   "source": [
    "- We have imbalanced data.\n",
    "- Almost 27% of the customers didn't continue with the company and churned.\n",
    "- 1869 customer churned.\n",
    "- Almost 73% of the customers continue with the company and didn't churn.\n",
    "- 5174 customer didn't churn.\n"
   ]
  },
  {
   "cell_type": "markdown",
   "metadata": {
    "papermill": {
     "duration": 0.129232,
     "end_time": "2021-10-24T13:30:20.715043",
     "exception": false,
     "start_time": "2021-10-24T13:30:20.585811",
     "status": "completed"
    },
    "tags": []
   },
   "source": [
    "<a id=\"4\"></a>\n",
    "<font color=\"Darkblue\" size=+1.5><b>Overall Insights from the EDA</b></font>\n",
    "\n",
    "<a href=\"#toc\" class=\"btn btn-primary btn-sm\" role=\"button\" aria-pressed=\"true\" style=\"color:white\" data-toggle=\"popover\">Table of Contents</a>"
   ]
  },
  {
   "cell_type": "markdown",
   "metadata": {
    "papermill": {
     "duration": 0.126577,
     "end_time": "2021-10-24T13:30:20.969713",
     "exception": false,
     "start_time": "2021-10-24T13:30:20.843136",
     "status": "completed"
    },
    "tags": []
   },
   "source": [
    "- **`Gender`** : There is not much difference between gender on the churn rate. We won't include gender into our model.\n",
    "- **`Partner`** :  Customer without any relationship, single customer almost 1.7 times more likely churn than cutomer with a partner.\n",
    "- **`Dependents`** : Customer without any dependents, almost 2.03 times more likely churn than cutomer with a dependent.\n",
    "- **`Phone Service`**: Churn rate difference between customer has a phone service with the company and customer does not have a home phone service with the company is very small. We won't include phone service into our model.\n",
    "- **`Multiple Lines`** : Churn rate difference between customer has a multiple lines phone service with the company and customer does not have a multiple line phone service with the company is very small.\n",
    "- **`ìnternet Service`** : Customer with fiber optic internet with the company compare to customer without any internet service with the company 5.66 times more likely to churn.\n",
    "- **`Online Security`**: A customer with an online security service with the company almost 2.14 times less likely to leave the company than a customer without any online security service with the company.\n",
    "- **`Online Backup`** A customer with an online backup service with the company almost 1.35 times less likely to leave the company than a customer without any online backup service with the company.\n",
    "- **`Device Protection`** : A customer with a device protection service with the company almost 1.27 times less likely to leave the company than a customer without any a device protection service with the company.\n",
    "- **`Tech Support`** : A customer with a Tech Support service with the company almost 2.06 times less likely to leave the company than a customer without any a Tech Support service with the company.\n",
    "- **`Streaming TV Service`** : A customer with a Streaming TV service with the company almost 1.24 times more likely to leave the company than a customer without any a Streaming TV service with the company.\n",
    "- **`Streaming Movies Service`** : A customer with a Streaming Movies service with the company almost 1.23 times more likely to leave the company than a customer without any a Streaming movies service with the company.\n",
    "- **`Contract Type`** : Great differences based on the contract were seen in the histogram and mean differences.\n",
    "    - Customer with the 2 year contract almost 15.1 times less likely to churn compare to customer with a monthly contract.\n",
    "    - On the other hand customer with the 1 year contract almost 3.79 times less likely to churn compare to customer with a monthly contract.\n",
    "- **`Paperless Billing`** : A customer with a paperless billing with the company almost 2.06 times more likely to leave the company than a customer without a paperless billing with the company.\n",
    "- **`Payment Method`** : Almost half of the customers with a payment method as a Electornic Check churn, which is a quite big percentage.\n"
   ]
  },
  {
   "cell_type": "markdown",
   "metadata": {
    "papermill": {
     "duration": 0.129142,
     "end_time": "2021-10-24T13:30:21.227681",
     "exception": false,
     "start_time": "2021-10-24T13:30:21.098539",
     "status": "completed"
    },
    "tags": []
   },
   "source": [
    "<a id=\"5\"></a>\n",
    "<font color=\"Darkblue\" size=+2.5><b>What is SHAP?</b></font>\n",
    "\n",
    "<a href=\"#toc\" class=\"btn btn-primary btn-sm\" role=\"button\" aria-pressed=\"true\" style=\"color:white\" data-toggle=\"popover\">Table of Contents</a>"
   ]
  },
  {
   "cell_type": "markdown",
   "metadata": {
    "papermill": {
     "duration": 0.128053,
     "end_time": "2021-10-24T13:30:21.482883",
     "exception": false,
     "start_time": "2021-10-24T13:30:21.354830",
     "status": "completed"
    },
    "tags": []
   },
   "source": [
    "![](https://shap-lrjball.readthedocs.io/en/stable/_images/shap_header.png)"
   ]
  },
  {
   "cell_type": "markdown",
   "metadata": {
    "papermill": {
     "duration": 0.127336,
     "end_time": "2021-10-24T13:30:21.739145",
     "exception": false,
     "start_time": "2021-10-24T13:30:21.611809",
     "status": "completed"
    },
    "tags": []
   },
   "source": [
    "Image Credit: https://shap-lrjball.readthedocs.io/"
   ]
  },
  {
   "cell_type": "markdown",
   "metadata": {
    "papermill": {
     "duration": 0.127901,
     "end_time": "2021-10-24T13:30:21.995364",
     "exception": false,
     "start_time": "2021-10-24T13:30:21.867463",
     "status": "completed"
    },
    "tags": []
   },
   "source": [
    "> ### SHAP (SHapley Additive exPlanations) is a method to explain individual predictions. SHAP is based on the game theory.\n",
    "\n",
    "> ### A prediction can be explained by assuming that each feature value of the instance is a “player” in a game where the prediction is the payout. \n",
    "\n",
    "> ### Shapley values – a method from coalitional game theory – tells us how to fairly distribute the “payout” among the features.\n",
    "\n",
    "> ### The “game” is the prediction task for a single instance of the dataset. \n",
    "\n",
    "> ### The “gain” is the actual prediction for this instance minus the average prediction for all instances. \n",
    "\n",
    "> ### The “players” are the feature values of the instance that collaborate to receive the gain (= predict a certain value). \n",
    "\n",
    "> ### The Shapley value is the average marginal contribution of a feature value across all possible coalitions.\n",
    "\n",
    "Reference: https://christophm.github.io/interpretable-ml-book/shapley.html"
   ]
  },
  {
   "cell_type": "markdown",
   "metadata": {
    "papermill": {
     "duration": 0.12783,
     "end_time": "2021-10-24T13:30:22.250279",
     "exception": false,
     "start_time": "2021-10-24T13:30:22.122449",
     "status": "completed"
    },
    "tags": []
   },
   "source": [
    "<a id=\"6\"></a>\n",
    "<font color=\"Darkblue\" size=+2.5><b>CatBoost with SHAP</b></font>\n",
    "\n",
    "<a href=\"#toc\" class=\"btn btn-primary btn-sm\" role=\"button\" aria-pressed=\"true\" style=\"color:white\" data-toggle=\"popover\">Table of Contents</a>"
   ]
  },
  {
   "cell_type": "markdown",
   "metadata": {
    "papermill": {
     "duration": 0.127204,
     "end_time": "2021-10-24T13:30:22.506818",
     "exception": false,
     "start_time": "2021-10-24T13:30:22.379614",
     "status": "completed"
    },
    "tags": []
   },
   "source": [
    "![](https://avatars.mds.yandex.net/get-bunker/56833/dba868860690e7fe8b68223bb3b749ed8a36fbce/orig)"
   ]
  },
  {
   "cell_type": "markdown",
   "metadata": {
    "papermill": {
     "duration": 0.129891,
     "end_time": "2021-10-24T13:30:22.766153",
     "exception": false,
     "start_time": "2021-10-24T13:30:22.636262",
     "status": "completed"
    },
    "tags": []
   },
   "source": [
    "Image Credit: https://avatars.mds.yandex.net"
   ]
  },
  {
   "cell_type": "markdown",
   "metadata": {
    "papermill": {
     "duration": 0.130012,
     "end_time": "2021-10-24T13:30:23.028206",
     "exception": false,
     "start_time": "2021-10-24T13:30:22.898194",
     "status": "completed"
    },
    "tags": []
   },
   "source": [
    "<a id=\"7\"></a>\n",
    "<font color=\"Darkblue\" size=+1.5><b>CatBoost (with adjusted Scale_Pos_Weight = 5) Deals With Imbalanced Data</b></font>\n",
    "\n",
    "<a href=\"#toc\" class=\"btn btn-primary btn-sm\" role=\"button\" aria-pressed=\"true\" style=\"color:white\" data-toggle=\"popover\">Table of Contents</a>"
   ]
  },
  {
   "cell_type": "markdown",
   "metadata": {
    "papermill": {
     "duration": 0.130481,
     "end_time": "2021-10-24T13:30:23.287668",
     "exception": false,
     "start_time": "2021-10-24T13:30:23.157187",
     "status": "completed"
    },
    "tags": []
   },
   "source": [
    "### [As we discussed in the previous notebook](https://www.kaggle.com/kaanboke/xgboost-lightgbm-catboost-imbalanced-data), in this dataset we are dealing with imbalanced data.\n",
    "### [To handle imbalanced data](https://www.kaggle.com/kaanboke/xgboost-lightgbm-catboost-imbalanced-data) we use  **scale_pos_weight** and adjust it accordingly.\n",
    "###  By adjusting  **scale_pos_weight**  to **5**: Minority class gets 5 times more impact and 5 times more correction than errors made on the majority class. "
   ]
  },
  {
   "cell_type": "code",
   "execution_count": 5,
   "metadata": {
    "_kg_hide-input": true,
    "execution": {
     "iopub.execute_input": "2021-10-24T13:30:23.560313Z",
     "iopub.status.busy": "2021-10-24T13:30:23.558311Z",
     "iopub.status.idle": "2021-10-24T13:30:31.142644Z",
     "shell.execute_reply": "2021-10-24T13:30:31.141779Z",
     "shell.execute_reply.started": "2021-10-24T13:10:35.647373Z"
    },
    "papermill": {
     "duration": 7.726186,
     "end_time": "2021-10-24T13:30:31.142800",
     "exception": false,
     "start_time": "2021-10-24T13:30:23.416614",
     "status": "completed"
    },
    "tags": []
   },
   "outputs": [
    {
     "ename": "FileNotFoundError",
     "evalue": "[Errno 2] No such file or directory: '../input/telco-customer-churn/WA_Fn-UseC_-Telco-Customer-Churn.csv'",
     "output_type": "error",
     "traceback": [
      "\u001b[1;31m---------------------------------------------------------------------------\u001b[0m",
      "\u001b[1;31mFileNotFoundError\u001b[0m                         Traceback (most recent call last)",
      "\u001b[1;32m<ipython-input-5-ea5bcfcbba8b>\u001b[0m in \u001b[0;36m<module>\u001b[1;34m\u001b[0m\n\u001b[0;32m      5\u001b[0m \u001b[1;33m\u001b[0m\u001b[0m\n\u001b[0;32m      6\u001b[0m \u001b[1;33m\u001b[0m\u001b[0m\n\u001b[1;32m----> 7\u001b[1;33m \u001b[0mdf\u001b[0m \u001b[1;33m=\u001b[0m \u001b[0mpd\u001b[0m\u001b[1;33m.\u001b[0m\u001b[0mread_csv\u001b[0m\u001b[1;33m(\u001b[0m\u001b[1;34m'../input/telco-customer-churn/WA_Fn-UseC_-Telco-Customer-Churn.csv'\u001b[0m\u001b[1;33m)\u001b[0m\u001b[1;33m\u001b[0m\u001b[1;33m\u001b[0m\u001b[0m\n\u001b[0m\u001b[0;32m      8\u001b[0m \u001b[0mdf1\u001b[0m \u001b[1;33m=\u001b[0m \u001b[0mdf\u001b[0m\u001b[1;33m.\u001b[0m\u001b[0mdrop\u001b[0m\u001b[1;33m(\u001b[0m\u001b[1;33m[\u001b[0m\u001b[1;34m'customerID'\u001b[0m\u001b[1;33m,\u001b[0m\u001b[1;34m'gender'\u001b[0m\u001b[1;33m,\u001b[0m\u001b[1;34m'PhoneService'\u001b[0m\u001b[1;33m]\u001b[0m\u001b[1;33m,\u001b[0m\u001b[0maxis\u001b[0m\u001b[1;33m=\u001b[0m\u001b[1;36m1\u001b[0m\u001b[1;33m)\u001b[0m\u001b[1;33m.\u001b[0m\u001b[0mcopy\u001b[0m\u001b[1;33m(\u001b[0m\u001b[1;33m)\u001b[0m\u001b[1;33m\u001b[0m\u001b[1;33m\u001b[0m\u001b[0m\n\u001b[0;32m      9\u001b[0m \u001b[0mle\u001b[0m \u001b[1;33m=\u001b[0m \u001b[0mLabelEncoder\u001b[0m\u001b[1;33m(\u001b[0m\u001b[1;33m)\u001b[0m\u001b[1;33m\u001b[0m\u001b[1;33m\u001b[0m\u001b[0m\n",
      "\u001b[1;32m~\\AppData\\Roaming\\Python\\Python38\\site-packages\\pandas\\util\\_decorators.py\u001b[0m in \u001b[0;36mwrapper\u001b[1;34m(*args, **kwargs)\u001b[0m\n\u001b[0;32m    309\u001b[0m                     \u001b[0mstacklevel\u001b[0m\u001b[1;33m=\u001b[0m\u001b[0mstacklevel\u001b[0m\u001b[1;33m,\u001b[0m\u001b[1;33m\u001b[0m\u001b[1;33m\u001b[0m\u001b[0m\n\u001b[0;32m    310\u001b[0m                 )\n\u001b[1;32m--> 311\u001b[1;33m             \u001b[1;32mreturn\u001b[0m \u001b[0mfunc\u001b[0m\u001b[1;33m(\u001b[0m\u001b[1;33m*\u001b[0m\u001b[0margs\u001b[0m\u001b[1;33m,\u001b[0m \u001b[1;33m**\u001b[0m\u001b[0mkwargs\u001b[0m\u001b[1;33m)\u001b[0m\u001b[1;33m\u001b[0m\u001b[1;33m\u001b[0m\u001b[0m\n\u001b[0m\u001b[0;32m    312\u001b[0m \u001b[1;33m\u001b[0m\u001b[0m\n\u001b[0;32m    313\u001b[0m         \u001b[1;32mreturn\u001b[0m \u001b[0mwrapper\u001b[0m\u001b[1;33m\u001b[0m\u001b[1;33m\u001b[0m\u001b[0m\n",
      "\u001b[1;32m~\\AppData\\Roaming\\Python\\Python38\\site-packages\\pandas\\io\\parsers\\readers.py\u001b[0m in \u001b[0;36mread_csv\u001b[1;34m(filepath_or_buffer, sep, delimiter, header, names, index_col, usecols, squeeze, prefix, mangle_dupe_cols, dtype, engine, converters, true_values, false_values, skipinitialspace, skiprows, skipfooter, nrows, na_values, keep_default_na, na_filter, verbose, skip_blank_lines, parse_dates, infer_datetime_format, keep_date_col, date_parser, dayfirst, cache_dates, iterator, chunksize, compression, thousands, decimal, lineterminator, quotechar, quoting, doublequote, escapechar, comment, encoding, encoding_errors, dialect, error_bad_lines, warn_bad_lines, on_bad_lines, delim_whitespace, low_memory, memory_map, float_precision, storage_options)\u001b[0m\n\u001b[0;32m    584\u001b[0m     \u001b[0mkwds\u001b[0m\u001b[1;33m.\u001b[0m\u001b[0mupdate\u001b[0m\u001b[1;33m(\u001b[0m\u001b[0mkwds_defaults\u001b[0m\u001b[1;33m)\u001b[0m\u001b[1;33m\u001b[0m\u001b[1;33m\u001b[0m\u001b[0m\n\u001b[0;32m    585\u001b[0m \u001b[1;33m\u001b[0m\u001b[0m\n\u001b[1;32m--> 586\u001b[1;33m     \u001b[1;32mreturn\u001b[0m \u001b[0m_read\u001b[0m\u001b[1;33m(\u001b[0m\u001b[0mfilepath_or_buffer\u001b[0m\u001b[1;33m,\u001b[0m \u001b[0mkwds\u001b[0m\u001b[1;33m)\u001b[0m\u001b[1;33m\u001b[0m\u001b[1;33m\u001b[0m\u001b[0m\n\u001b[0m\u001b[0;32m    587\u001b[0m \u001b[1;33m\u001b[0m\u001b[0m\n\u001b[0;32m    588\u001b[0m \u001b[1;33m\u001b[0m\u001b[0m\n",
      "\u001b[1;32m~\\AppData\\Roaming\\Python\\Python38\\site-packages\\pandas\\io\\parsers\\readers.py\u001b[0m in \u001b[0;36m_read\u001b[1;34m(filepath_or_buffer, kwds)\u001b[0m\n\u001b[0;32m    480\u001b[0m \u001b[1;33m\u001b[0m\u001b[0m\n\u001b[0;32m    481\u001b[0m     \u001b[1;31m# Create the parser.\u001b[0m\u001b[1;33m\u001b[0m\u001b[1;33m\u001b[0m\u001b[1;33m\u001b[0m\u001b[0m\n\u001b[1;32m--> 482\u001b[1;33m     \u001b[0mparser\u001b[0m \u001b[1;33m=\u001b[0m \u001b[0mTextFileReader\u001b[0m\u001b[1;33m(\u001b[0m\u001b[0mfilepath_or_buffer\u001b[0m\u001b[1;33m,\u001b[0m \u001b[1;33m**\u001b[0m\u001b[0mkwds\u001b[0m\u001b[1;33m)\u001b[0m\u001b[1;33m\u001b[0m\u001b[1;33m\u001b[0m\u001b[0m\n\u001b[0m\u001b[0;32m    483\u001b[0m \u001b[1;33m\u001b[0m\u001b[0m\n\u001b[0;32m    484\u001b[0m     \u001b[1;32mif\u001b[0m \u001b[0mchunksize\u001b[0m \u001b[1;32mor\u001b[0m \u001b[0miterator\u001b[0m\u001b[1;33m:\u001b[0m\u001b[1;33m\u001b[0m\u001b[1;33m\u001b[0m\u001b[0m\n",
      "\u001b[1;32m~\\AppData\\Roaming\\Python\\Python38\\site-packages\\pandas\\io\\parsers\\readers.py\u001b[0m in \u001b[0;36m__init__\u001b[1;34m(self, f, engine, **kwds)\u001b[0m\n\u001b[0;32m    809\u001b[0m             \u001b[0mself\u001b[0m\u001b[1;33m.\u001b[0m\u001b[0moptions\u001b[0m\u001b[1;33m[\u001b[0m\u001b[1;34m\"has_index_names\"\u001b[0m\u001b[1;33m]\u001b[0m \u001b[1;33m=\u001b[0m \u001b[0mkwds\u001b[0m\u001b[1;33m[\u001b[0m\u001b[1;34m\"has_index_names\"\u001b[0m\u001b[1;33m]\u001b[0m\u001b[1;33m\u001b[0m\u001b[1;33m\u001b[0m\u001b[0m\n\u001b[0;32m    810\u001b[0m \u001b[1;33m\u001b[0m\u001b[0m\n\u001b[1;32m--> 811\u001b[1;33m         \u001b[0mself\u001b[0m\u001b[1;33m.\u001b[0m\u001b[0m_engine\u001b[0m \u001b[1;33m=\u001b[0m \u001b[0mself\u001b[0m\u001b[1;33m.\u001b[0m\u001b[0m_make_engine\u001b[0m\u001b[1;33m(\u001b[0m\u001b[0mself\u001b[0m\u001b[1;33m.\u001b[0m\u001b[0mengine\u001b[0m\u001b[1;33m)\u001b[0m\u001b[1;33m\u001b[0m\u001b[1;33m\u001b[0m\u001b[0m\n\u001b[0m\u001b[0;32m    812\u001b[0m \u001b[1;33m\u001b[0m\u001b[0m\n\u001b[0;32m    813\u001b[0m     \u001b[1;32mdef\u001b[0m \u001b[0mclose\u001b[0m\u001b[1;33m(\u001b[0m\u001b[0mself\u001b[0m\u001b[1;33m)\u001b[0m\u001b[1;33m:\u001b[0m\u001b[1;33m\u001b[0m\u001b[1;33m\u001b[0m\u001b[0m\n",
      "\u001b[1;32m~\\AppData\\Roaming\\Python\\Python38\\site-packages\\pandas\\io\\parsers\\readers.py\u001b[0m in \u001b[0;36m_make_engine\u001b[1;34m(self, engine)\u001b[0m\n\u001b[0;32m   1038\u001b[0m             )\n\u001b[0;32m   1039\u001b[0m         \u001b[1;31m# error: Too many arguments for \"ParserBase\"\u001b[0m\u001b[1;33m\u001b[0m\u001b[1;33m\u001b[0m\u001b[1;33m\u001b[0m\u001b[0m\n\u001b[1;32m-> 1040\u001b[1;33m         \u001b[1;32mreturn\u001b[0m \u001b[0mmapping\u001b[0m\u001b[1;33m[\u001b[0m\u001b[0mengine\u001b[0m\u001b[1;33m]\u001b[0m\u001b[1;33m(\u001b[0m\u001b[0mself\u001b[0m\u001b[1;33m.\u001b[0m\u001b[0mf\u001b[0m\u001b[1;33m,\u001b[0m \u001b[1;33m**\u001b[0m\u001b[0mself\u001b[0m\u001b[1;33m.\u001b[0m\u001b[0moptions\u001b[0m\u001b[1;33m)\u001b[0m  \u001b[1;31m# type: ignore[call-arg]\u001b[0m\u001b[1;33m\u001b[0m\u001b[1;33m\u001b[0m\u001b[0m\n\u001b[0m\u001b[0;32m   1041\u001b[0m \u001b[1;33m\u001b[0m\u001b[0m\n\u001b[0;32m   1042\u001b[0m     \u001b[1;32mdef\u001b[0m \u001b[0m_failover_to_python\u001b[0m\u001b[1;33m(\u001b[0m\u001b[0mself\u001b[0m\u001b[1;33m)\u001b[0m\u001b[1;33m:\u001b[0m\u001b[1;33m\u001b[0m\u001b[1;33m\u001b[0m\u001b[0m\n",
      "\u001b[1;32m~\\AppData\\Roaming\\Python\\Python38\\site-packages\\pandas\\io\\parsers\\c_parser_wrapper.py\u001b[0m in \u001b[0;36m__init__\u001b[1;34m(self, src, **kwds)\u001b[0m\n\u001b[0;32m     49\u001b[0m \u001b[1;33m\u001b[0m\u001b[0m\n\u001b[0;32m     50\u001b[0m         \u001b[1;31m# open handles\u001b[0m\u001b[1;33m\u001b[0m\u001b[1;33m\u001b[0m\u001b[1;33m\u001b[0m\u001b[0m\n\u001b[1;32m---> 51\u001b[1;33m         \u001b[0mself\u001b[0m\u001b[1;33m.\u001b[0m\u001b[0m_open_handles\u001b[0m\u001b[1;33m(\u001b[0m\u001b[0msrc\u001b[0m\u001b[1;33m,\u001b[0m \u001b[0mkwds\u001b[0m\u001b[1;33m)\u001b[0m\u001b[1;33m\u001b[0m\u001b[1;33m\u001b[0m\u001b[0m\n\u001b[0m\u001b[0;32m     52\u001b[0m         \u001b[1;32massert\u001b[0m \u001b[0mself\u001b[0m\u001b[1;33m.\u001b[0m\u001b[0mhandles\u001b[0m \u001b[1;32mis\u001b[0m \u001b[1;32mnot\u001b[0m \u001b[1;32mNone\u001b[0m\u001b[1;33m\u001b[0m\u001b[1;33m\u001b[0m\u001b[0m\n\u001b[0;32m     53\u001b[0m \u001b[1;33m\u001b[0m\u001b[0m\n",
      "\u001b[1;32m~\\AppData\\Roaming\\Python\\Python38\\site-packages\\pandas\\io\\parsers\\base_parser.py\u001b[0m in \u001b[0;36m_open_handles\u001b[1;34m(self, src, kwds)\u001b[0m\n\u001b[0;32m    220\u001b[0m         \u001b[0mLet\u001b[0m \u001b[0mthe\u001b[0m \u001b[0mreaders\u001b[0m \u001b[0mopen\u001b[0m \u001b[0mIOHandles\u001b[0m \u001b[0mafter\u001b[0m \u001b[0mthey\u001b[0m \u001b[0mare\u001b[0m \u001b[0mdone\u001b[0m \u001b[1;32mwith\u001b[0m \u001b[0mtheir\u001b[0m \u001b[0mpotential\u001b[0m \u001b[0mraises\u001b[0m\u001b[1;33m.\u001b[0m\u001b[1;33m\u001b[0m\u001b[1;33m\u001b[0m\u001b[0m\n\u001b[0;32m    221\u001b[0m         \"\"\"\n\u001b[1;32m--> 222\u001b[1;33m         self.handles = get_handle(\n\u001b[0m\u001b[0;32m    223\u001b[0m             \u001b[0msrc\u001b[0m\u001b[1;33m,\u001b[0m\u001b[1;33m\u001b[0m\u001b[1;33m\u001b[0m\u001b[0m\n\u001b[0;32m    224\u001b[0m             \u001b[1;34m\"r\"\u001b[0m\u001b[1;33m,\u001b[0m\u001b[1;33m\u001b[0m\u001b[1;33m\u001b[0m\u001b[0m\n",
      "\u001b[1;32m~\\AppData\\Roaming\\Python\\Python38\\site-packages\\pandas\\io\\common.py\u001b[0m in \u001b[0;36mget_handle\u001b[1;34m(path_or_buf, mode, encoding, compression, memory_map, is_text, errors, storage_options)\u001b[0m\n\u001b[0;32m    700\u001b[0m         \u001b[1;32mif\u001b[0m \u001b[0mioargs\u001b[0m\u001b[1;33m.\u001b[0m\u001b[0mencoding\u001b[0m \u001b[1;32mand\u001b[0m \u001b[1;34m\"b\"\u001b[0m \u001b[1;32mnot\u001b[0m \u001b[1;32min\u001b[0m \u001b[0mioargs\u001b[0m\u001b[1;33m.\u001b[0m\u001b[0mmode\u001b[0m\u001b[1;33m:\u001b[0m\u001b[1;33m\u001b[0m\u001b[1;33m\u001b[0m\u001b[0m\n\u001b[0;32m    701\u001b[0m             \u001b[1;31m# Encoding\u001b[0m\u001b[1;33m\u001b[0m\u001b[1;33m\u001b[0m\u001b[1;33m\u001b[0m\u001b[0m\n\u001b[1;32m--> 702\u001b[1;33m             handle = open(\n\u001b[0m\u001b[0;32m    703\u001b[0m                 \u001b[0mhandle\u001b[0m\u001b[1;33m,\u001b[0m\u001b[1;33m\u001b[0m\u001b[1;33m\u001b[0m\u001b[0m\n\u001b[0;32m    704\u001b[0m                 \u001b[0mioargs\u001b[0m\u001b[1;33m.\u001b[0m\u001b[0mmode\u001b[0m\u001b[1;33m,\u001b[0m\u001b[1;33m\u001b[0m\u001b[1;33m\u001b[0m\u001b[0m\n",
      "\u001b[1;31mFileNotFoundError\u001b[0m: [Errno 2] No such file or directory: '../input/telco-customer-churn/WA_Fn-UseC_-Telco-Customer-Churn.csv'"
     ]
    }
   ],
   "source": [
    "accuracy= []\n",
    "recall =[]\n",
    "roc_auc= []\n",
    "precision = []\n",
    "\n",
    "\n",
    "df = pd.read_csv('../input/telco-customer-churn/WA_Fn-UseC_-Telco-Customer-Churn.csv')\n",
    "df1 = df.drop(['customerID','gender','PhoneService'],axis=1).copy()\n",
    "le = LabelEncoder()\n",
    "df1['Churn']=le.fit_transform(df1['Churn'])\n",
    "\n",
    "df1['tenure']= df1['tenure'].astype(float)\n",
    "df1['TotalCharges']= df1['TotalCharges'].apply(lambda x: x if x!= ' ' else np.nan).astype(float)\n",
    "\n",
    "df1[['OnlineSecurity','OnlineBackup','DeviceProtection','TechSupport','StreamingTV','StreamingMovies']]= df1[['OnlineSecurity','OnlineBackup','DeviceProtection','TechSupport','StreamingTV','StreamingMovies']].replace('No internet service','No')\n",
    "\n",
    "\n",
    "X= df1.drop('Churn', axis=1)\n",
    "y= df1['Churn']\n",
    "\n",
    "categorical_features_indices = np.where(X.dtypes != np.float)[0]\n",
    "\n",
    "X_train, X_test, y_train, y_test = train_test_split(X, y, test_size=0.3, random_state=42)\n",
    "\n",
    "catboost_5 = CatBoostClassifier(verbose=False,random_state=0,scale_pos_weight=5)\n",
    "\n",
    "catboost_5.fit(X_train, y_train,cat_features=categorical_features_indices,eval_set=(X_test, y_test))\n",
    "y_pred = catboost_5.predict(X_test)\n",
    "\n",
    "accuracy.append(round(accuracy_score(y_test, y_pred),4))\n",
    "recall.append(round(recall_score(y_test, y_pred),4))\n",
    "roc_auc.append(round(roc_auc_score(y_test, y_pred),4))\n",
    "precision.append(round(precision_score(y_test, y_pred),4))\n",
    "\n",
    "model_names = ['Catboost_adjusted_weight_5']\n",
    "result_df3 = pd.DataFrame({'Accuracy':accuracy,'Recall':recall, 'Roc_Auc':roc_auc, 'Precision':precision}, index=model_names)\n",
    "result_df3"
   ]
  },
  {
   "cell_type": "markdown",
   "metadata": {
    "papermill": {
     "duration": 0.127621,
     "end_time": "2021-10-24T13:30:31.397912",
     "exception": false,
     "start_time": "2021-10-24T13:30:31.270291",
     "status": "completed"
    },
    "tags": []
   },
   "source": [
    "- With the adjusted **`scale_pos_weight=5`**, **CatBoost** got  almost **.92 Recall and .75 Roc_Auc**"
   ]
  },
  {
   "cell_type": "code",
   "execution_count": 6,
   "metadata": {
    "_kg_hide-input": true,
    "execution": {
     "iopub.execute_input": "2021-10-24T13:30:31.693869Z",
     "iopub.status.busy": "2021-10-24T13:30:31.693018Z",
     "iopub.status.idle": "2021-10-24T13:30:31.988863Z",
     "shell.execute_reply": "2021-10-24T13:30:31.988203Z",
     "shell.execute_reply.started": "2021-10-24T13:10:43.913232Z"
    },
    "papermill": {
     "duration": 0.463063,
     "end_time": "2021-10-24T13:30:31.989078",
     "exception": false,
     "start_time": "2021-10-24T13:30:31.526015",
     "status": "completed"
    },
    "tags": []
   },
   "outputs": [
    {
     "ename": "NameError",
     "evalue": "name 'catboost_5' is not defined",
     "output_type": "error",
     "traceback": [
      "\u001b[1;31m---------------------------------------------------------------------------\u001b[0m",
      "\u001b[1;31mNameError\u001b[0m                                 Traceback (most recent call last)",
      "\u001b[1;32m<ipython-input-6-2566cec266a3>\u001b[0m in \u001b[0;36m<module>\u001b[1;34m\u001b[0m\n\u001b[0;32m      1\u001b[0m \u001b[0mfig\u001b[0m\u001b[1;33m,\u001b[0m \u001b[0max\u001b[0m \u001b[1;33m=\u001b[0m \u001b[0mplt\u001b[0m\u001b[1;33m.\u001b[0m\u001b[0msubplots\u001b[0m\u001b[1;33m(\u001b[0m\u001b[0mfigsize\u001b[0m\u001b[1;33m=\u001b[0m\u001b[1;33m(\u001b[0m\u001b[1;36m8\u001b[0m\u001b[1;33m,\u001b[0m \u001b[1;36m8\u001b[0m\u001b[1;33m)\u001b[0m\u001b[1;33m)\u001b[0m\u001b[1;33m\u001b[0m\u001b[1;33m\u001b[0m\u001b[0m\n\u001b[1;32m----> 2\u001b[1;33m \u001b[0mplot_confusion_matrix\u001b[0m\u001b[1;33m(\u001b[0m\u001b[0mcatboost_5\u001b[0m\u001b[1;33m,\u001b[0m \u001b[0mX_test\u001b[0m\u001b[1;33m,\u001b[0m \u001b[0my_test\u001b[0m\u001b[1;33m,\u001b[0m \u001b[0mcmap\u001b[0m\u001b[1;33m=\u001b[0m\u001b[0mplt\u001b[0m\u001b[1;33m.\u001b[0m\u001b[0mcm\u001b[0m\u001b[1;33m.\u001b[0m\u001b[0mBlues\u001b[0m\u001b[1;33m,\u001b[0m \u001b[0max\u001b[0m\u001b[1;33m=\u001b[0m\u001b[0max\u001b[0m\u001b[1;33m)\u001b[0m\u001b[1;33m;\u001b[0m\u001b[1;33m\u001b[0m\u001b[1;33m\u001b[0m\u001b[0m\n\u001b[0m",
      "\u001b[1;31mNameError\u001b[0m: name 'catboost_5' is not defined"
     ]
    },
    {
     "data": {
      "image/png": "[encoded data removed]",
      "text/plain": [
       "<Figure size 576x576 with 1 Axes>"
      ]
     },
     "metadata": {
      "needs_background": "light"
     },
     "output_type": "display_data"
    }
   ],
   "source": [
    "fig, ax = plt.subplots(figsize=(8, 8))\n",
    "plot_confusion_matrix(catboost_5, X_test, y_test, cmap=plt.cm.Blues, ax=ax);"
   ]
  },
  {
   "cell_type": "markdown",
   "metadata": {
    "papermill": {
     "duration": 0.127839,
     "end_time": "2021-10-24T13:30:32.247948",
     "exception": false,
     "start_time": "2021-10-24T13:30:32.120109",
     "status": "completed"
    },
    "tags": []
   },
   "source": [
    "- By using **`scale_pos_weight = 5`**, **CatBoost** correctly predict almost **92% of the churned customers**."
   ]
  },
  {
   "cell_type": "markdown",
   "metadata": {
    "papermill": {
     "duration": 0.130766,
     "end_time": "2021-10-24T13:30:32.506767",
     "exception": false,
     "start_time": "2021-10-24T13:30:32.376001",
     "status": "completed"
    },
    "tags": []
   },
   "source": [
    "<a id=\"8\"></a>\n",
    "<font color=\"Darkblue\" size=+1.5><b>SHAP Feature Importance</b></font>\n",
    "\n",
    "<a href=\"#toc\" class=\"btn btn-primary btn-sm\" role=\"button\" aria-pressed=\"true\" style=\"color:white\" data-toggle=\"popover\">Table of Contents</a>"
   ]
  },
  {
   "cell_type": "code",
   "execution_count": 7,
   "metadata": {
    "_kg_hide-input": false,
    "execution": {
     "iopub.execute_input": "2021-10-24T13:30:32.772214Z",
     "iopub.status.busy": "2021-10-24T13:30:32.771477Z",
     "iopub.status.idle": "2021-10-24T13:30:33.366100Z",
     "shell.execute_reply": "2021-10-24T13:30:33.365507Z",
     "shell.execute_reply.started": "2021-10-24T13:10:44.245400Z"
    },
    "papermill": {
     "duration": 0.730515,
     "end_time": "2021-10-24T13:30:33.366254",
     "exception": false,
     "start_time": "2021-10-24T13:30:32.635739",
     "status": "completed"
    },
    "tags": []
   },
   "outputs": [
    {
     "ename": "NameError",
     "evalue": "name 'shap' is not defined",
     "output_type": "error",
     "traceback": [
      "\u001b[1;31m---------------------------------------------------------------------------\u001b[0m",
      "\u001b[1;31mNameError\u001b[0m                                 Traceback (most recent call last)",
      "\u001b[1;32m<ipython-input-7-d9345375bca9>\u001b[0m in \u001b[0;36m<module>\u001b[1;34m\u001b[0m\n\u001b[1;32m----> 1\u001b[1;33m \u001b[0mexplainercat\u001b[0m \u001b[1;33m=\u001b[0m \u001b[0mshap\u001b[0m\u001b[1;33m.\u001b[0m\u001b[0mTreeExplainer\u001b[0m\u001b[1;33m(\u001b[0m\u001b[0mcatboost_5\u001b[0m\u001b[1;33m)\u001b[0m\u001b[1;33m\u001b[0m\u001b[1;33m\u001b[0m\u001b[0m\n\u001b[0m\u001b[0;32m      2\u001b[0m \u001b[0mshap_values_cat_test\u001b[0m \u001b[1;33m=\u001b[0m \u001b[0mexplainercat\u001b[0m\u001b[1;33m.\u001b[0m\u001b[0mshap_values\u001b[0m\u001b[1;33m(\u001b[0m\u001b[0mX_test\u001b[0m\u001b[1;33m)\u001b[0m\u001b[1;33m\u001b[0m\u001b[1;33m\u001b[0m\u001b[0m\n\u001b[0;32m      3\u001b[0m \u001b[0mshap_values_cat_train\u001b[0m \u001b[1;33m=\u001b[0m \u001b[0mexplainercat\u001b[0m\u001b[1;33m.\u001b[0m\u001b[0mshap_values\u001b[0m\u001b[1;33m(\u001b[0m\u001b[0mX_train\u001b[0m\u001b[1;33m)\u001b[0m\u001b[1;33m\u001b[0m\u001b[1;33m\u001b[0m\u001b[0m\n",
      "\u001b[1;31mNameError\u001b[0m: name 'shap' is not defined"
     ]
    }
   ],
   "source": [
    "explainercat = shap.TreeExplainer(catboost_5)\n",
    "shap_values_cat_test = explainercat.shap_values(X_test)\n",
    "shap_values_cat_train = explainercat.shap_values(X_train)"
   ]
  },
  {
   "cell_type": "code",
   "execution_count": 8,
   "metadata": {
    "_kg_hide-input": true,
    "execution": {
     "iopub.execute_input": "2021-10-24T13:30:33.631534Z",
     "iopub.status.busy": "2021-10-24T13:30:33.630444Z",
     "iopub.status.idle": "2021-10-24T13:30:33.994372Z",
     "shell.execute_reply": "2021-10-24T13:30:33.994888Z",
     "shell.execute_reply.started": "2021-10-24T13:10:44.854298Z"
    },
    "papermill": {
     "duration": 0.497481,
     "end_time": "2021-10-24T13:30:33.995060",
     "exception": false,
     "start_time": "2021-10-24T13:30:33.497579",
     "status": "completed"
    },
    "tags": []
   },
   "outputs": [
    {
     "ename": "NameError",
     "evalue": "name 'shap' is not defined",
     "output_type": "error",
     "traceback": [
      "\u001b[1;31m---------------------------------------------------------------------------\u001b[0m",
      "\u001b[1;31mNameError\u001b[0m                                 Traceback (most recent call last)",
      "\u001b[1;32m<ipython-input-8-50da50238d09>\u001b[0m in \u001b[0;36m<module>\u001b[1;34m\u001b[0m\n\u001b[1;32m----> 1\u001b[1;33m \u001b[0mshap\u001b[0m\u001b[1;33m.\u001b[0m\u001b[0msummary_plot\u001b[0m\u001b[1;33m(\u001b[0m\u001b[0mshap_values_cat_train\u001b[0m\u001b[1;33m,\u001b[0m \u001b[0mX_train\u001b[0m\u001b[1;33m,\u001b[0m \u001b[0mplot_type\u001b[0m\u001b[1;33m=\u001b[0m\u001b[1;34m\"bar\"\u001b[0m\u001b[1;33m,\u001b[0m\u001b[0mplot_size\u001b[0m\u001b[1;33m=\u001b[0m\u001b[1;33m(\u001b[0m\u001b[1;36m12\u001b[0m\u001b[1;33m,\u001b[0m\u001b[1;36m12\u001b[0m\u001b[1;33m)\u001b[0m\u001b[1;33m)\u001b[0m\u001b[1;33m\u001b[0m\u001b[1;33m\u001b[0m\u001b[0m\n\u001b[0m",
      "\u001b[1;31mNameError\u001b[0m: name 'shap' is not defined"
     ]
    }
   ],
   "source": [
    "shap.summary_plot(shap_values_cat_train, X_train, plot_type=\"bar\",plot_size=(12,12))"
   ]
  },
  {
   "cell_type": "markdown",
   "metadata": {
    "papermill": {
     "duration": 0.133385,
     "end_time": "2021-10-24T13:30:34.259372",
     "exception": false,
     "start_time": "2021-10-24T13:30:34.125987",
     "status": "completed"
    },
    "tags": []
   },
   "source": [
    "- SHAP feature importance is easy to explain. Features with larger values are important. \n",
    "- As we have seen from the feature importance:\n",
    "   - **`contract`**\n",
    "   - **`internet service type`**\n",
    "   - **`tenure:How long they are with the company`** are the important features based on the Catboost model we have selected."
   ]
  },
  {
   "cell_type": "markdown",
   "metadata": {
    "papermill": {
     "duration": 0.129255,
     "end_time": "2021-10-24T13:30:34.518956",
     "exception": false,
     "start_time": "2021-10-24T13:30:34.389701",
     "status": "completed"
    },
    "tags": []
   },
   "source": [
    "<a id=\"9\"></a>\n",
    "<font color=\"Darkblue\" size=+1.5><b>SHAP Summary Plot</b></font>\n",
    "\n",
    "<a href=\"#toc\" class=\"btn btn-primary btn-sm\" role=\"button\" aria-pressed=\"true\" style=\"color:white\" data-toggle=\"popover\">Table of Contents</a>"
   ]
  },
  {
   "cell_type": "code",
   "execution_count": 9,
   "metadata": {
    "_kg_hide-input": false,
    "execution": {
     "iopub.execute_input": "2021-10-24T13:30:34.807757Z",
     "iopub.status.busy": "2021-10-24T13:30:34.806746Z",
     "iopub.status.idle": "2021-10-24T13:30:36.544276Z",
     "shell.execute_reply": "2021-10-24T13:30:36.544853Z",
     "shell.execute_reply.started": "2021-10-24T13:10:45.205354Z"
    },
    "papermill": {
     "duration": 1.872627,
     "end_time": "2021-10-24T13:30:36.545051",
     "exception": false,
     "start_time": "2021-10-24T13:30:34.672424",
     "status": "completed"
    },
    "tags": []
   },
   "outputs": [
    {
     "ename": "NameError",
     "evalue": "name 'shap' is not defined",
     "output_type": "error",
     "traceback": [
      "\u001b[1;31m---------------------------------------------------------------------------\u001b[0m",
      "\u001b[1;31mNameError\u001b[0m                                 Traceback (most recent call last)",
      "\u001b[1;32m<ipython-input-9-c04c9ff4eae7>\u001b[0m in \u001b[0;36m<module>\u001b[1;34m\u001b[0m\n\u001b[0;32m      1\u001b[0m \u001b[0mfig\u001b[0m \u001b[1;33m=\u001b[0m \u001b[0mplt\u001b[0m\u001b[1;33m.\u001b[0m\u001b[0msubplots\u001b[0m\u001b[1;33m(\u001b[0m\u001b[0mfigsize\u001b[0m\u001b[1;33m=\u001b[0m\u001b[1;33m(\u001b[0m\u001b[1;36m6\u001b[0m\u001b[1;33m,\u001b[0m\u001b[1;36m6\u001b[0m\u001b[1;33m)\u001b[0m\u001b[1;33m,\u001b[0m\u001b[0mdpi\u001b[0m\u001b[1;33m=\u001b[0m\u001b[1;36m200\u001b[0m\u001b[1;33m)\u001b[0m\u001b[1;33m\u001b[0m\u001b[1;33m\u001b[0m\u001b[0m\n\u001b[0;32m      2\u001b[0m \u001b[1;33m\u001b[0m\u001b[0m\n\u001b[1;32m----> 3\u001b[1;33m \u001b[0max\u001b[0m \u001b[1;33m=\u001b[0m \u001b[0mshap\u001b[0m\u001b[1;33m.\u001b[0m\u001b[0msummary_plot\u001b[0m\u001b[1;33m(\u001b[0m\u001b[0mshap_values_cat_train\u001b[0m\u001b[1;33m,\u001b[0m \u001b[0mX_train\u001b[0m\u001b[1;33m,\u001b[0m\u001b[0mplot_type\u001b[0m\u001b[1;33m=\u001b[0m\u001b[1;34m\"dot\"\u001b[0m\u001b[1;33m)\u001b[0m\u001b[1;33m\u001b[0m\u001b[1;33m\u001b[0m\u001b[0m\n\u001b[0m",
      "\u001b[1;31mNameError\u001b[0m: name 'shap' is not defined"
     ]
    },
    {
     "data": {
      "image/png": "[encoded data removed]",
      "text/plain": [
       "<Figure size 1200x1200 with 1 Axes>"
      ]
     },
     "metadata": {
      "needs_background": "light"
     },
     "output_type": "display_data"
    }
   ],
   "source": [
    "fig = plt.subplots(figsize=(6,6),dpi=200)\n",
    "\n",
    "ax = shap.summary_plot(shap_values_cat_train, X_train,plot_type=\"dot\")"
   ]
  },
  {
   "cell_type": "markdown",
   "metadata": {
    "papermill": {
     "duration": 0.139313,
     "end_time": "2021-10-24T13:30:36.824049",
     "exception": false,
     "start_time": "2021-10-24T13:30:36.684736",
     "status": "completed"
    },
    "tags": []
   },
   "source": [
    "### SHAP summary plot gives in detail info by combining feature importance with its effects.\n",
    "### Color of the dots represents the value of the feature (Blue: low value, red: Higher value)\n",
    "### Features are ordered based on their importance\n",
    "### As we have seen in the tenure higher values of the tenure, lower the probability of the customer churn.\n",
    "### Higher monthly charges increase risk of the customer churn.\n",
    "### As you have seen that **contract** has kind of dark gray color, what does it mean?\n",
    "### Both CatBoost and LightGBM handles with the categorical variables internaly for that reason, categorical features are not included into SHAP model as numerical encoded versions.\n",
    "### We will see their importance in detail with **SHAP Dependence Plot**\n"
   ]
  },
  {
   "cell_type": "markdown",
   "metadata": {
    "papermill": {
     "duration": 0.138269,
     "end_time": "2021-10-24T13:30:37.100304",
     "exception": false,
     "start_time": "2021-10-24T13:30:36.962035",
     "status": "completed"
    },
    "tags": []
   },
   "source": [
    "<a id=\"10\"></a>\n",
    "<font color=\"Darkblue\" size=+2><b>SHAP Dependence Plot</b></font>\n",
    "\n",
    "<a href=\"#toc\" class=\"btn btn-primary btn-sm\" role=\"button\" aria-pressed=\"true\" style=\"color:white\" data-toggle=\"popover\">Table of Contents</a>"
   ]
  },
  {
   "cell_type": "markdown",
   "metadata": {
    "papermill": {
     "duration": 0.138437,
     "end_time": "2021-10-24T13:30:37.375484",
     "exception": false,
     "start_time": "2021-10-24T13:30:37.237047",
     "status": "completed"
    },
    "tags": []
   },
   "source": [
    "## **Contract**"
   ]
  },
  {
   "cell_type": "code",
   "execution_count": 10,
   "metadata": {
    "_kg_hide-input": false,
    "execution": {
     "iopub.execute_input": "2021-10-24T13:30:37.676647Z",
     "iopub.status.busy": "2021-10-24T13:30:37.675943Z",
     "iopub.status.idle": "2021-10-24T13:30:37.876274Z",
     "shell.execute_reply": "2021-10-24T13:30:37.875577Z",
     "shell.execute_reply.started": "2021-10-24T13:10:46.518771Z"
    },
    "papermill": {
     "duration": 0.363837,
     "end_time": "2021-10-24T13:30:37.876431",
     "exception": false,
     "start_time": "2021-10-24T13:30:37.512594",
     "status": "completed"
    },
    "tags": []
   },
   "outputs": [
    {
     "ename": "NameError",
     "evalue": "name 'shap' is not defined",
     "output_type": "error",
     "traceback": [
      "\u001b[1;31m---------------------------------------------------------------------------\u001b[0m",
      "\u001b[1;31mNameError\u001b[0m                                 Traceback (most recent call last)",
      "\u001b[1;32m<ipython-input-10-79607c409460>\u001b[0m in \u001b[0;36m<module>\u001b[1;34m\u001b[0m\n\u001b[0;32m      1\u001b[0m \u001b[0mfig\u001b[0m\u001b[1;33m,\u001b[0m \u001b[0max\u001b[0m\u001b[1;33m=\u001b[0m \u001b[0mplt\u001b[0m\u001b[1;33m.\u001b[0m\u001b[0msubplots\u001b[0m\u001b[1;33m(\u001b[0m\u001b[0mfigsize\u001b[0m\u001b[1;33m=\u001b[0m\u001b[1;33m(\u001b[0m\u001b[1;36m6\u001b[0m\u001b[1;33m,\u001b[0m\u001b[1;36m6\u001b[0m\u001b[1;33m)\u001b[0m\u001b[1;33m,\u001b[0m\u001b[0mdpi\u001b[0m\u001b[1;33m=\u001b[0m\u001b[1;36m100\u001b[0m\u001b[1;33m)\u001b[0m\u001b[1;33m\u001b[0m\u001b[1;33m\u001b[0m\u001b[0m\n\u001b[1;32m----> 2\u001b[1;33m \u001b[0mshp_plt\u001b[0m \u001b[1;33m=\u001b[0m \u001b[0mshap\u001b[0m\u001b[1;33m.\u001b[0m\u001b[0mdependence_plot\u001b[0m\u001b[1;33m(\u001b[0m\u001b[1;34m\"Contract\"\u001b[0m\u001b[1;33m,\u001b[0m \u001b[0mshap_values_cat_test\u001b[0m\u001b[1;33m,\u001b[0m \u001b[0mX_test\u001b[0m\u001b[1;33m,\u001b[0m\u001b[0max\u001b[0m\u001b[1;33m=\u001b[0m\u001b[0max\u001b[0m\u001b[1;33m,\u001b[0m\u001b[0minteraction_index\u001b[0m\u001b[1;33m=\u001b[0m\u001b[1;32mNone\u001b[0m\u001b[1;33m)\u001b[0m\u001b[1;33m\u001b[0m\u001b[1;33m\u001b[0m\u001b[0m\n\u001b[0m",
      "\u001b[1;31mNameError\u001b[0m: name 'shap' is not defined"
     ]
    },
    {
     "data": {
      "image/png": "[encoded data removed]",
      "text/plain": [
       "<Figure size 600x600 with 1 Axes>"
      ]
     },
     "metadata": {
      "needs_background": "light"
     },
     "output_type": "display_data"
    }
   ],
   "source": [
    "fig, ax= plt.subplots(figsize=(6,6),dpi=100)\n",
    "shp_plt = shap.dependence_plot(\"Contract\", shap_values_cat_test, X_test,ax=ax,interaction_index=None)"
   ]
  },
  {
   "cell_type": "markdown",
   "metadata": {
    "papermill": {
     "duration": 0.139855,
     "end_time": "2021-10-24T13:30:38.156327",
     "exception": false,
     "start_time": "2021-10-24T13:30:38.016472",
     "status": "completed"
    },
    "tags": []
   },
   "source": [
    "### As seen very cleary form the dependence plot;\n",
    "### Customers with the **Month to month contract** most likely to churn\n",
    "### Customers with the **Two year contract** most likely to continue with the company"
   ]
  },
  {
   "cell_type": "markdown",
   "metadata": {
    "papermill": {
     "duration": 0.137828,
     "end_time": "2021-10-24T13:30:38.433066",
     "exception": false,
     "start_time": "2021-10-24T13:30:38.295238",
     "status": "completed"
    },
    "tags": []
   },
   "source": [
    "- Let' see one more categorical variable."
   ]
  },
  {
   "cell_type": "markdown",
   "metadata": {
    "papermill": {
     "duration": 0.14197,
     "end_time": "2021-10-24T13:30:38.715373",
     "exception": false,
     "start_time": "2021-10-24T13:30:38.573403",
     "status": "completed"
    },
    "tags": []
   },
   "source": [
    "## **Internet Service**"
   ]
  },
  {
   "cell_type": "code",
   "execution_count": 11,
   "metadata": {
    "_kg_hide-input": false,
    "execution": {
     "iopub.execute_input": "2021-10-24T13:30:39.003878Z",
     "iopub.status.busy": "2021-10-24T13:30:39.003100Z",
     "iopub.status.idle": "2021-10-24T13:30:39.216323Z",
     "shell.execute_reply": "2021-10-24T13:30:39.216853Z",
     "shell.execute_reply.started": "2021-10-24T13:10:46.739309Z"
    },
    "papermill": {
     "duration": 0.360837,
     "end_time": "2021-10-24T13:30:39.217066",
     "exception": false,
     "start_time": "2021-10-24T13:30:38.856229",
     "status": "completed"
    },
    "tags": []
   },
   "outputs": [
    {
     "ename": "NameError",
     "evalue": "name 'shap' is not defined",
     "output_type": "error",
     "traceback": [
      "\u001b[1;31m---------------------------------------------------------------------------\u001b[0m",
      "\u001b[1;31mNameError\u001b[0m                                 Traceback (most recent call last)",
      "\u001b[1;32m<ipython-input-11-0503d453a24b>\u001b[0m in \u001b[0;36m<module>\u001b[1;34m\u001b[0m\n\u001b[0;32m      1\u001b[0m \u001b[0mfig\u001b[0m\u001b[1;33m,\u001b[0m \u001b[0max\u001b[0m\u001b[1;33m=\u001b[0m \u001b[0mplt\u001b[0m\u001b[1;33m.\u001b[0m\u001b[0msubplots\u001b[0m\u001b[1;33m(\u001b[0m\u001b[0mfigsize\u001b[0m\u001b[1;33m=\u001b[0m\u001b[1;33m(\u001b[0m\u001b[1;36m6\u001b[0m\u001b[1;33m,\u001b[0m\u001b[1;36m6\u001b[0m\u001b[1;33m)\u001b[0m\u001b[1;33m,\u001b[0m\u001b[0mdpi\u001b[0m\u001b[1;33m=\u001b[0m\u001b[1;36m100\u001b[0m\u001b[1;33m)\u001b[0m\u001b[1;33m\u001b[0m\u001b[1;33m\u001b[0m\u001b[0m\n\u001b[0;32m      2\u001b[0m \u001b[1;33m\u001b[0m\u001b[0m\n\u001b[1;32m----> 3\u001b[1;33m \u001b[0mshap\u001b[0m\u001b[1;33m.\u001b[0m\u001b[0mdependence_plot\u001b[0m\u001b[1;33m(\u001b[0m\u001b[1;34m\"InternetService\"\u001b[0m\u001b[1;33m,\u001b[0m \u001b[0mshap_values_cat_test\u001b[0m\u001b[1;33m,\u001b[0m \u001b[0mX_test\u001b[0m\u001b[1;33m,\u001b[0m\u001b[0max\u001b[0m\u001b[1;33m=\u001b[0m\u001b[0max\u001b[0m\u001b[1;33m,\u001b[0m \u001b[0minteraction_index\u001b[0m\u001b[1;33m=\u001b[0m\u001b[1;32mNone\u001b[0m\u001b[1;33m)\u001b[0m\u001b[1;33m\u001b[0m\u001b[1;33m\u001b[0m\u001b[0m\n\u001b[0m",
      "\u001b[1;31mNameError\u001b[0m: name 'shap' is not defined"
     ]
    },
    {
     "data": {
      "image/png": "[encoded data removed]",
      "text/plain": [
       "<Figure size 600x600 with 1 Axes>"
      ]
     },
     "metadata": {
      "needs_background": "light"
     },
     "output_type": "display_data"
    }
   ],
   "source": [
    "fig, ax= plt.subplots(figsize=(6,6),dpi=100)\n",
    "\n",
    "shap.dependence_plot(\"InternetService\", shap_values_cat_test, X_test,ax=ax, interaction_index=None)"
   ]
  },
  {
   "cell_type": "markdown",
   "metadata": {
    "papermill": {
     "duration": 0.140966,
     "end_time": "2021-10-24T13:30:39.499070",
     "exception": false,
     "start_time": "2021-10-24T13:30:39.358104",
     "status": "completed"
    },
    "tags": []
   },
   "source": [
    "### As seen very cleary form the dependence plot;\n",
    "### Customers with the **Fiber Optic Internet Service** with the company most likely to churn\n",
    "### Customers **without any internet service** with the company most likely to continue with the company."
   ]
  },
  {
   "cell_type": "markdown",
   "metadata": {
    "papermill": {
     "duration": 0.140811,
     "end_time": "2021-10-24T13:30:39.783014",
     "exception": false,
     "start_time": "2021-10-24T13:30:39.642203",
     "status": "completed"
    },
    "tags": []
   },
   "source": [
    "- And let's see one numerical feature"
   ]
  },
  {
   "cell_type": "markdown",
   "metadata": {
    "papermill": {
     "duration": 0.139169,
     "end_time": "2021-10-24T13:30:40.060753",
     "exception": false,
     "start_time": "2021-10-24T13:30:39.921584",
     "status": "completed"
    },
    "tags": []
   },
   "source": [
    "## **Monthly Charges**"
   ]
  },
  {
   "cell_type": "code",
   "execution_count": 12,
   "metadata": {
    "_kg_hide-input": false,
    "execution": {
     "iopub.execute_input": "2021-10-24T13:30:40.354904Z",
     "iopub.status.busy": "2021-10-24T13:30:40.340234Z",
     "iopub.status.idle": "2021-10-24T13:30:40.618541Z",
     "shell.execute_reply": "2021-10-24T13:30:40.617975Z",
     "shell.execute_reply.started": "2021-10-24T13:10:46.958500Z"
    },
    "papermill": {
     "duration": 0.419587,
     "end_time": "2021-10-24T13:30:40.618706",
     "exception": false,
     "start_time": "2021-10-24T13:30:40.199119",
     "status": "completed"
    },
    "tags": []
   },
   "outputs": [
    {
     "ename": "NameError",
     "evalue": "name 'shap' is not defined",
     "output_type": "error",
     "traceback": [
      "\u001b[1;31m---------------------------------------------------------------------------\u001b[0m",
      "\u001b[1;31mNameError\u001b[0m                                 Traceback (most recent call last)",
      "\u001b[1;32m<ipython-input-12-e4bcd613b08f>\u001b[0m in \u001b[0;36m<module>\u001b[1;34m\u001b[0m\n\u001b[0;32m      1\u001b[0m \u001b[0mfig\u001b[0m\u001b[1;33m,\u001b[0m \u001b[0max1\u001b[0m\u001b[1;33m=\u001b[0m \u001b[0mplt\u001b[0m\u001b[1;33m.\u001b[0m\u001b[0msubplots\u001b[0m\u001b[1;33m(\u001b[0m\u001b[0mfigsize\u001b[0m\u001b[1;33m=\u001b[0m\u001b[1;33m(\u001b[0m\u001b[1;36m6\u001b[0m\u001b[1;33m,\u001b[0m\u001b[1;36m6\u001b[0m\u001b[1;33m)\u001b[0m\u001b[1;33m,\u001b[0m\u001b[0mdpi\u001b[0m\u001b[1;33m=\u001b[0m\u001b[1;36m150\u001b[0m\u001b[1;33m)\u001b[0m\u001b[1;33m\u001b[0m\u001b[1;33m\u001b[0m\u001b[0m\n\u001b[0;32m      2\u001b[0m \u001b[1;33m\u001b[0m\u001b[0m\n\u001b[1;32m----> 3\u001b[1;33m \u001b[0mshp_plt\u001b[0m \u001b[1;33m=\u001b[0m \u001b[0mshap\u001b[0m\u001b[1;33m.\u001b[0m\u001b[0mdependence_plot\u001b[0m\u001b[1;33m(\u001b[0m\u001b[1;34m\"MonthlyCharges\"\u001b[0m\u001b[1;33m,\u001b[0m \u001b[0mshap_values_cat_test\u001b[0m\u001b[1;33m,\u001b[0m\u001b[0mX_test\u001b[0m\u001b[1;33m,\u001b[0m\u001b[0max\u001b[0m\u001b[1;33m=\u001b[0m\u001b[0max1\u001b[0m\u001b[1;33m,\u001b[0m \u001b[0minteraction_index\u001b[0m\u001b[1;33m=\u001b[0m\u001b[1;32mNone\u001b[0m\u001b[1;33m)\u001b[0m\u001b[1;33m\u001b[0m\u001b[1;33m\u001b[0m\u001b[0m\n\u001b[0m",
      "\u001b[1;31mNameError\u001b[0m: name 'shap' is not defined"
     ]
    },
    {
     "data": {
      "image/png": "[encoded data removed]",
      "text/plain": [
       "<Figure size 900x900 with 1 Axes>"
      ]
     },
     "metadata": {
      "needs_background": "light"
     },
     "output_type": "display_data"
    }
   ],
   "source": [
    "fig, ax1= plt.subplots(figsize=(6,6),dpi=150)\n",
    "\n",
    "shp_plt = shap.dependence_plot(\"MonthlyCharges\", shap_values_cat_test,X_test,ax=ax1, interaction_index=None)"
   ]
  },
  {
   "cell_type": "markdown",
   "metadata": {
    "papermill": {
     "duration": 0.142343,
     "end_time": "2021-10-24T13:30:40.909043",
     "exception": false,
     "start_time": "2021-10-24T13:30:40.766700",
     "status": "completed"
    },
    "tags": []
   },
   "source": [
    "### **Monthly Charges**:\n",
    "### Monthly charges until at around 60 US Dollars, customer most likely not to churn and continue with the company.\n",
    "### When monthly charges start to increase from 100 US Dollar and up, customer is most likely to churn."
   ]
  },
  {
   "cell_type": "markdown",
   "metadata": {
    "papermill": {
     "duration": 0.143122,
     "end_time": "2021-10-24T13:30:41.194972",
     "exception": false,
     "start_time": "2021-10-24T13:30:41.051850",
     "status": "completed"
    },
    "tags": []
   },
   "source": [
    "## **Tenure**"
   ]
  },
  {
   "cell_type": "code",
   "execution_count": null,
   "metadata": {
    "_kg_hide-input": false,
    "execution": {
     "iopub.execute_input": "2021-10-24T13:30:41.483360Z",
     "iopub.status.busy": "2021-10-24T13:30:41.482707Z",
     "iopub.status.idle": "2021-10-24T13:30:41.819275Z",
     "shell.execute_reply": "2021-10-24T13:30:41.819798Z",
     "shell.execute_reply.started": "2021-10-24T13:10:47.238483Z"
    },
    "papermill": {
     "duration": 0.481696,
     "end_time": "2021-10-24T13:30:41.819973",
     "exception": false,
     "start_time": "2021-10-24T13:30:41.338277",
     "status": "completed"
    },
    "tags": []
   },
   "outputs": [],
   "source": [
    "fig, ax2 = plt.subplots(figsize=(6,6),dpi=200)\n",
    "shap.dependence_plot(\"tenure\", shap_values_cat_test, X_test,interaction_index=None,ax=ax2)"
   ]
  },
  {
   "cell_type": "markdown",
   "metadata": {
    "papermill": {
     "duration": 0.150989,
     "end_time": "2021-10-24T13:30:42.117045",
     "exception": false,
     "start_time": "2021-10-24T13:30:41.966056",
     "status": "completed"
    },
    "tags": []
   },
   "source": [
    "### **Tenure** as a numerical feature gives us a quite clear picture.\n",
    "### Customer more than at around 25 months with the company less likely to churn. "
   ]
  },
  {
   "cell_type": "markdown",
   "metadata": {
    "papermill": {
     "duration": 0.144903,
     "end_time": "2021-10-24T13:30:42.408409",
     "exception": false,
     "start_time": "2021-10-24T13:30:42.263506",
     "status": "completed"
    },
    "tags": []
   },
   "source": [
    "- Let's see different features interaction and how it effects the churn."
   ]
  },
  {
   "cell_type": "markdown",
   "metadata": {
    "papermill": {
     "duration": 0.14671,
     "end_time": "2021-10-24T13:30:42.701006",
     "exception": false,
     "start_time": "2021-10-24T13:30:42.554296",
     "status": "completed"
    },
    "tags": []
   },
   "source": [
    "## **Tenure & Contract-Churn**"
   ]
  },
  {
   "cell_type": "code",
   "execution_count": null,
   "metadata": {
    "_kg_hide-input": false,
    "execution": {
     "iopub.execute_input": "2021-10-24T13:30:42.998101Z",
     "iopub.status.busy": "2021-10-24T13:30:42.997437Z",
     "iopub.status.idle": "2021-10-24T13:30:43.582398Z",
     "shell.execute_reply": "2021-10-24T13:30:43.583031Z",
     "shell.execute_reply.started": "2021-10-24T13:10:47.575412Z"
    },
    "papermill": {
     "duration": 0.735479,
     "end_time": "2021-10-24T13:30:43.583250",
     "exception": false,
     "start_time": "2021-10-24T13:30:42.847771",
     "status": "completed"
    },
    "tags": []
   },
   "outputs": [],
   "source": [
    "fig, ax3 = plt.subplots(figsize=(6,6),dpi=200)\n",
    "shp_plt = shap.dependence_plot(\"tenure\", shap_values_cat_test, X_test,ax=ax3, cmap=plt.get_cmap('autumn'))"
   ]
  },
  {
   "cell_type": "markdown",
   "metadata": {
    "papermill": {
     "duration": 0.156904,
     "end_time": "2021-10-24T13:30:43.892731",
     "exception": false,
     "start_time": "2021-10-24T13:30:43.735827",
     "status": "completed"
    },
    "tags": []
   },
   "source": [
    "### **Tenure & Contract** interaction:\n",
    "### As expected customer with longer time with the company and with the two year contract less likely to churn\n",
    "### Customer with a month-to-month contract and less than at around 20 months with the company more likely to churn.\n",
    "### Customer with one year contract and less than 60 months with the company does not have much interaction with the churn rate.\n",
    "### Customer with one year contract and more than 60 months with the company more likely to stay with the company."
   ]
  },
  {
   "cell_type": "markdown",
   "metadata": {
    "papermill": {
     "duration": 0.150481,
     "end_time": "2021-10-24T13:30:44.194659",
     "exception": false,
     "start_time": "2021-10-24T13:30:44.044178",
     "status": "completed"
    },
    "tags": []
   },
   "source": [
    "## **Monthly Charges & Contract - Churn**"
   ]
  },
  {
   "cell_type": "code",
   "execution_count": null,
   "metadata": {
    "_kg_hide-input": false,
    "execution": {
     "iopub.execute_input": "2021-10-24T13:30:44.528086Z",
     "iopub.status.busy": "2021-10-24T13:30:44.524868Z",
     "iopub.status.idle": "2021-10-24T13:30:44.921518Z",
     "shell.execute_reply": "2021-10-24T13:30:44.922051Z",
     "shell.execute_reply.started": "2021-10-24T13:10:48.154973Z"
    },
    "papermill": {
     "duration": 0.578494,
     "end_time": "2021-10-24T13:30:44.922223",
     "exception": false,
     "start_time": "2021-10-24T13:30:44.343729",
     "status": "completed"
    },
    "tags": []
   },
   "outputs": [],
   "source": [
    "fig, ax4 = plt.subplots(figsize=(6,6),dpi=200)\n",
    "shp_plt = shap.dependence_plot('MonthlyCharges', shap_values_cat_test, X_test,interaction_index='Contract',ax=ax4, cmap=plt.get_cmap('Spectral'))"
   ]
  },
  {
   "cell_type": "markdown",
   "metadata": {
    "papermill": {
     "duration": 0.155562,
     "end_time": "2021-10-24T13:30:45.237546",
     "exception": false,
     "start_time": "2021-10-24T13:30:45.081984",
     "status": "completed"
    },
    "tags": []
   },
   "source": [
    "### **Monthly Charges & Contract** interaction:\n",
    "  \n",
    "### Customer with a month-to-month contract and less than at around 60 US Dollars  monthly charges is more likely to stay with the company.\n",
    "### When monthly charges get more than 100 US Dollars, probability of the customer churn in all contract types starts to increase.\n",
    "### Customer with two year contract or one year contract and with the monthly charges more than at around 110 US Dollars are more likely to churn."
   ]
  },
  {
   "cell_type": "markdown",
   "metadata": {
    "papermill": {
     "duration": 0.155998,
     "end_time": "2021-10-24T13:30:45.549019",
     "exception": false,
     "start_time": "2021-10-24T13:30:45.393021",
     "status": "completed"
    },
    "tags": []
   },
   "source": [
    "<a id=\"11\"></a>\n",
    "<font color=\"Darkblue\" size=+1.5><b>SHAP Decision Plot</b></font>\n",
    "\n",
    "<a href=\"#toc\" class=\"btn btn-primary btn-sm\" role=\"button\" aria-pressed=\"true\" style=\"color:white\" data-toggle=\"popover\">Table of Contents</a>"
   ]
  },
  {
   "cell_type": "markdown",
   "metadata": {
    "papermill": {
     "duration": 0.158015,
     "end_time": "2021-10-24T13:30:45.888233",
     "exception": false,
     "start_time": "2021-10-24T13:30:45.730218",
     "status": "completed"
    },
    "tags": []
   },
   "source": [
    "## SHAP Decison Plot gives us a clear picture of how models, in our case how complex models, reach their decisions.\n",
    "\n"
   ]
  },
  {
   "cell_type": "markdown",
   "metadata": {
    "papermill": {
     "duration": 0.155788,
     "end_time": "2021-10-24T13:30:46.203207",
     "exception": false,
     "start_time": "2021-10-24T13:30:46.047419",
     "status": "completed"
    },
    "tags": []
   },
   "source": [
    "#### OK. so far we  have seen general pictures.\n",
    "\n",
    "#### Since we want to explain model predictions to our (most probably non-technical) customers / stakeholders, let's make it more specific.\n",
    "\n",
    "#### We will focus on two different customers, who are customer 15 and customer 35 in test set.\n",
    "\n",
    "#### We will see how model decide the process and what features have affect on that decisions of the model.\n",
    "\n",
    "## Very enjoable, let's dive in."
   ]
  },
  {
   "cell_type": "code",
   "execution_count": null,
   "metadata": {
    "_kg_hide-input": true,
    "execution": {
     "iopub.execute_input": "2021-10-24T13:30:46.521890Z",
     "iopub.status.busy": "2021-10-24T13:30:46.521199Z",
     "iopub.status.idle": "2021-10-24T13:30:46.527240Z",
     "shell.execute_reply": "2021-10-24T13:30:46.526580Z",
     "shell.execute_reply.started": "2021-10-24T13:10:48.574555Z"
    },
    "papermill": {
     "duration": 0.167217,
     "end_time": "2021-10-24T13:30:46.527388",
     "exception": false,
     "start_time": "2021-10-24T13:30:46.360171",
     "status": "completed"
    },
    "tags": []
   },
   "outputs": [],
   "source": [
    "print(f'Expected Value-Base Value: {explainercat.expected_value}')"
   ]
  },
  {
   "cell_type": "markdown",
   "metadata": {
    "papermill": {
     "duration": 0.161235,
     "end_time": "2021-10-24T13:30:46.846684",
     "exception": false,
     "start_time": "2021-10-24T13:30:46.685449",
     "status": "completed"
    },
    "tags": []
   },
   "source": [
    "### The expected value – the average predicted probability – is:  - 0.1755.\n",
    "### In the plot, we will use **logit** function and  will change log-odds numbers into probabilities.\n",
    "### By using logit number, **base value- expected value** will be **0.4562**"
   ]
  },
  {
   "cell_type": "markdown",
   "metadata": {
    "papermill": {
     "duration": 0.159307,
     "end_time": "2021-10-24T13:30:47.162969",
     "exception": false,
     "start_time": "2021-10-24T13:30:47.003662",
     "status": "completed"
    },
    "tags": []
   },
   "source": [
    "### Before seeing how model make decison on the speficic case, let's see model decison plot on the **`first 50 customers' churn probability`**."
   ]
  },
  {
   "cell_type": "code",
   "execution_count": null,
   "metadata": {
    "_kg_hide-input": false,
    "execution": {
     "iopub.execute_input": "2021-10-24T13:30:47.482679Z",
     "iopub.status.busy": "2021-10-24T13:30:47.481974Z",
     "iopub.status.idle": "2021-10-24T13:30:48.112523Z",
     "shell.execute_reply": "2021-10-24T13:30:48.113078Z",
     "shell.execute_reply.started": "2021-10-24T13:10:48.583097Z"
    },
    "papermill": {
     "duration": 0.792778,
     "end_time": "2021-10-24T13:30:48.113256",
     "exception": false,
     "start_time": "2021-10-24T13:30:47.320478",
     "status": "completed"
    },
    "tags": []
   },
   "outputs": [],
   "source": [
    "fig = plt.subplots(figsize=(6,6),dpi=200)\n",
    "ax_1= shap.decision_plot(explainercat.expected_value, shap_values_cat_test[:50], X_test.iloc[:50],auto_size_plot=False, link= \"logit\")\n"
   ]
  },
  {
   "cell_type": "markdown",
   "metadata": {
    "papermill": {
     "duration": 0.170771,
     "end_time": "2021-10-24T13:30:48.456449",
     "exception": false,
     "start_time": "2021-10-24T13:30:48.285678",
     "status": "completed"
    },
    "tags": []
   },
   "source": [
    "\n",
    "# **It is beautiful**"
   ]
  },
  {
   "cell_type": "markdown",
   "metadata": {
    "papermill": {
     "duration": 0.174393,
     "end_time": "2021-10-24T13:30:48.803745",
     "exception": false,
     "start_time": "2021-10-24T13:30:48.629352",
     "status": "completed"
    },
    "tags": []
   },
   "source": [
    "> ### The x-axis represents the model’s output. In this case, the units are log odds. \n",
    "\n",
    "> ### The plot is centered on the x-axis at explainer.expected_value. All SHAP values are relative to the model’s expected value like a linear model’s effects are relative to the intercept. \n",
    "\n",
    "> ### The y-axis lists the model’s features. By default, the features are ordered by descending importance. The importance is calculated over the observations plotted. This is usually different than the importance ordering for the entire dataset. \n",
    "\n",
    "> ### In addition to feature importance ordering, the decision plot also supports hierarchical cluster feature ordering and user-defined feature ordering. \n",
    "\n",
    "> ### Each observation’s prediction is represented by a colored line. At the top of the plot, each line strikes the x-axis at its corresponding observation’s predicted value. This value determines the color of the line on a spectrum. \n",
    "\n",
    "> ### Moving from the bottom of the plot to the top, SHAP values for each feature are added to the model’s base value. This shows how each feature contributes to the overall prediction.  \n",
    "\n",
    "> ### At the bottom of the plot, the observations converge at **explainer.expected_value**.\n",
    "\n",
    "Reference: https://shap.readthedocs.io/\n"
   ]
  },
  {
   "cell_type": "markdown",
   "metadata": {
    "papermill": {
     "duration": 0.171666,
     "end_time": "2021-10-24T13:30:49.147122",
     "exception": false,
     "start_time": "2021-10-24T13:30:48.975456",
     "status": "completed"
    },
    "tags": []
   },
   "source": [
    "# **Customer Specific Cases: Customer 15 and Customer 35**"
   ]
  },
  {
   "cell_type": "markdown",
   "metadata": {
    "papermill": {
     "duration": 0.171884,
     "end_time": "2021-10-24T13:30:49.488968",
     "exception": false,
     "start_time": "2021-10-24T13:30:49.317084",
     "status": "completed"
    },
    "tags": []
   },
   "source": [
    "### **Customer 15**"
   ]
  },
  {
   "cell_type": "markdown",
   "metadata": {
    "papermill": {
     "duration": 0.16887,
     "end_time": "2021-10-24T13:30:49.833050",
     "exception": false,
     "start_time": "2021-10-24T13:30:49.664180",
     "status": "completed"
    },
    "tags": []
   },
   "source": [
    "- Let's see customer 15 in detail."
   ]
  },
  {
   "cell_type": "code",
   "execution_count": null,
   "metadata": {
    "_kg_hide-input": true,
    "execution": {
     "iopub.execute_input": "2021-10-24T13:30:50.186823Z",
     "iopub.status.busy": "2021-10-24T13:30:50.185796Z",
     "iopub.status.idle": "2021-10-24T13:30:50.190553Z",
     "shell.execute_reply": "2021-10-24T13:30:50.191035Z",
     "shell.execute_reply.started": "2021-10-24T13:10:49.419900Z"
    },
    "papermill": {
     "duration": 0.183298,
     "end_time": "2021-10-24T13:30:50.191205",
     "exception": false,
     "start_time": "2021-10-24T13:30:50.007907",
     "status": "completed"
    },
    "tags": []
   },
   "outputs": [],
   "source": [
    "X_test.iloc[15]"
   ]
  },
  {
   "cell_type": "markdown",
   "metadata": {
    "papermill": {
     "duration": 0.170908,
     "end_time": "2021-10-24T13:30:50.535528",
     "exception": false,
     "start_time": "2021-10-24T13:30:50.364620",
     "status": "completed"
    },
    "tags": []
   },
   "source": [
    "- So customer 15:\n",
    "   - Senior citizen\n",
    "   - Has Month to month contract\n",
    "   - 11 month tenure with the company\n",
    "   - Monthly charges is 95.15 $ and Total charges is around 1K\n",
    "   - Does not have any partner or dependent\n",
    "   - Internet service is Fiber optic\n",
    "   - No device protection, no online security, no tech support\n"
   ]
  },
  {
   "cell_type": "code",
   "execution_count": null,
   "metadata": {
    "_kg_hide-input": false,
    "execution": {
     "iopub.execute_input": "2021-10-24T13:30:50.889953Z",
     "iopub.status.busy": "2021-10-24T13:30:50.888922Z",
     "iopub.status.idle": "2021-10-24T13:30:51.821939Z",
     "shell.execute_reply": "2021-10-24T13:30:51.822765Z",
     "shell.execute_reply.started": "2021-10-24T13:10:49.430897Z"
    },
    "papermill": {
     "duration": 1.116225,
     "end_time": "2021-10-24T13:30:51.823059",
     "exception": false,
     "start_time": "2021-10-24T13:30:50.706834",
     "status": "completed"
    },
    "tags": []
   },
   "outputs": [],
   "source": [
    "fig = plt.subplots(figsize=(6,6),dpi=200)\n",
    "ax_2= shap.decision_plot(explainercat.expected_value, shap_values_cat_test[15], X_test.iloc[[15]], link= \"logit\")\n"
   ]
  },
  {
   "cell_type": "markdown",
   "metadata": {
    "papermill": {
     "duration": 0.185905,
     "end_time": "2021-10-24T13:30:52.202167",
     "exception": false,
     "start_time": "2021-10-24T13:30:52.016262",
     "status": "completed"
    },
    "tags": []
   },
   "source": [
    "### Model starts with the **expected value** – the average predicted probability:  **0.4562**.\n",
    "### Being **senior citizen**, doesn't have an **online security services**, having a **multiple lines** with the company, 1K **total charges**, **paperless billing** slightly increase probability of the churn.\n",
    "### **Monthly charges** with 95.15 US Dollars and having **Streaming TV** services have medium level effects on the increasing the probability of the churn.\n",
    "### On the other hand **payment method as a bank transfer automatic** has effect on the decreasing the probability of the churn decision.\n",
    "### Being 11 months **tenure** with the company and having **Fiber internet service** with the company have signigicantly increase the probability of the churn.  \n",
    "### From decision plot, it is seen that having **month-to-month contract** with the company has the most signigicant effect on the increasing the probability of the churn decision in this model for this specific customer."
   ]
  },
  {
   "cell_type": "markdown",
   "metadata": {
    "papermill": {
     "duration": 0.181191,
     "end_time": "2021-10-24T13:30:52.569420",
     "exception": false,
     "start_time": "2021-10-24T13:30:52.388229",
     "status": "completed"
    },
    "tags": []
   },
   "source": [
    "- Let's see our model prediction on the customer 15:"
   ]
  },
  {
   "cell_type": "code",
   "execution_count": null,
   "metadata": {
    "_kg_hide-input": true,
    "execution": {
     "iopub.execute_input": "2021-10-24T13:30:52.932047Z",
     "iopub.status.busy": "2021-10-24T13:30:52.930987Z",
     "iopub.status.idle": "2021-10-24T13:30:52.937721Z",
     "shell.execute_reply": "2021-10-24T13:30:52.938725Z",
     "shell.execute_reply.started": "2021-10-24T13:10:50.512991Z"
    },
    "papermill": {
     "duration": 0.189244,
     "end_time": "2021-10-24T13:30:52.939043",
     "exception": false,
     "start_time": "2021-10-24T13:30:52.749799",
     "status": "completed"
    },
    "tags": []
   },
   "outputs": [],
   "source": [
    "print(f'Customer 15: Actual value for the Customer Churn : {y_test.iloc[15]}')\n",
    "print(f\"Customer 15: CatBoost Model's prediction for the Customer Churn : {y_pred[15]}\")"
   ]
  },
  {
   "cell_type": "markdown",
   "metadata": {
    "papermill": {
     "duration": 0.177037,
     "end_time": "2021-10-24T13:30:53.296329",
     "exception": false,
     "start_time": "2021-10-24T13:30:53.119292",
     "status": "completed"
    },
    "tags": []
   },
   "source": [
    "![](https://media.giphy.com/media/11gC4odpiRKuha/giphy.gif)"
   ]
  },
  {
   "cell_type": "markdown",
   "metadata": {
    "papermill": {
     "duration": 0.179902,
     "end_time": "2021-10-24T13:30:53.655026",
     "exception": false,
     "start_time": "2021-10-24T13:30:53.475124",
     "status": "completed"
    },
    "tags": []
   },
   "source": [
    "Gif Credit: https://media.giphy.com/"
   ]
  },
  {
   "cell_type": "markdown",
   "metadata": {
    "papermill": {
     "duration": 0.178582,
     "end_time": "2021-10-24T13:30:54.011800",
     "exception": false,
     "start_time": "2021-10-24T13:30:53.833218",
     "status": "completed"
    },
    "tags": []
   },
   "source": [
    "### **Customer 35**"
   ]
  },
  {
   "cell_type": "markdown",
   "metadata": {
    "papermill": {
     "duration": 0.176972,
     "end_time": "2021-10-24T13:30:54.366698",
     "exception": false,
     "start_time": "2021-10-24T13:30:54.189726",
     "status": "completed"
    },
    "tags": []
   },
   "source": [
    "- Let's see customer 35 in detail."
   ]
  },
  {
   "cell_type": "code",
   "execution_count": null,
   "metadata": {
    "_kg_hide-input": true,
    "execution": {
     "iopub.execute_input": "2021-10-24T13:30:54.724337Z",
     "iopub.status.busy": "2021-10-24T13:30:54.723330Z",
     "iopub.status.idle": "2021-10-24T13:30:54.730979Z",
     "shell.execute_reply": "2021-10-24T13:30:54.731540Z",
     "shell.execute_reply.started": "2021-10-24T13:10:50.520221Z"
    },
    "papermill": {
     "duration": 0.188192,
     "end_time": "2021-10-24T13:30:54.731732",
     "exception": false,
     "start_time": "2021-10-24T13:30:54.543540",
     "status": "completed"
    },
    "tags": []
   },
   "outputs": [],
   "source": [
    "X_test.iloc[35]"
   ]
  },
  {
   "cell_type": "markdown",
   "metadata": {
    "papermill": {
     "duration": 0.181703,
     "end_time": "2021-10-24T13:30:55.092217",
     "exception": false,
     "start_time": "2021-10-24T13:30:54.910514",
     "status": "completed"
    },
    "tags": []
   },
   "source": [
    "- So customer 35:\n",
    "   - Not a Senior citizen\n",
    "   - Has two year contract\n",
    "   - 17 month tenure with the company\n",
    "   - Monthly charges is 19.45 $ and Total charges is 369.05 US Dollars.\n",
    "   - Does not have any partner or dependent \n",
    "   - Doesnot have any internet service with the company.\n",
    "   - No device protection, no online security, no tech support\n"
   ]
  },
  {
   "cell_type": "code",
   "execution_count": null,
   "metadata": {
    "_kg_hide-input": false,
    "execution": {
     "iopub.execute_input": "2021-10-24T13:30:55.454397Z",
     "iopub.status.busy": "2021-10-24T13:30:55.453394Z",
     "iopub.status.idle": "2021-10-24T13:30:56.237531Z",
     "shell.execute_reply": "2021-10-24T13:30:56.238067Z",
     "shell.execute_reply.started": "2021-10-24T13:10:50.535954Z"
    },
    "papermill": {
     "duration": 0.965775,
     "end_time": "2021-10-24T13:30:56.238237",
     "exception": false,
     "start_time": "2021-10-24T13:30:55.272462",
     "status": "completed"
    },
    "tags": []
   },
   "outputs": [],
   "source": [
    "fig = plt.subplots(figsize=(6,6),dpi=200)\n",
    "ax_2= shap.decision_plot(explainercat.expected_value, shap_values_cat_test[35], X_test.iloc[[35]],link= \"logit\")\n"
   ]
  },
  {
   "cell_type": "markdown",
   "metadata": {
    "papermill": {
     "duration": 0.212775,
     "end_time": "2021-10-24T13:30:56.693708",
     "exception": false,
     "start_time": "2021-10-24T13:30:56.480933",
     "status": "completed"
    },
    "tags": []
   },
   "source": [
    "### Model starts with the **expected value** – the average predicted probability:  0.4562.\n",
    "### Not having **multiple lines** and  **Streaming TV** with the company, have small effects on the increasing the probability of the not churn decision.\n",
    "### On the other hand being 17 months **tenure** has small effect on the increasing the probability of the churn decision.\n",
    "### **Monthly charges** with 19.45 US Dollars and not having **paperless billing`* have effects on the increasing the probability of the not churn decision.\n",
    "### Not having any **internet service** with the company have signigicant level effects on the increasing the probability of the not churn decision.\n",
    "### From decision plot, it is seen that having **two year contract** with the company has the most signigicant effect on the probability of the not churn decision in this model for this specific customer."
   ]
  },
  {
   "cell_type": "markdown",
   "metadata": {
    "papermill": {
     "duration": 0.189436,
     "end_time": "2021-10-24T13:30:57.069400",
     "exception": false,
     "start_time": "2021-10-24T13:30:56.879964",
     "status": "completed"
    },
    "tags": []
   },
   "source": [
    "- Let's see our model prediction on the customer 35:"
   ]
  },
  {
   "cell_type": "code",
   "execution_count": null,
   "metadata": {
    "_kg_hide-input": true,
    "execution": {
     "iopub.execute_input": "2021-10-24T13:30:57.448163Z",
     "iopub.status.busy": "2021-10-24T13:30:57.447078Z",
     "iopub.status.idle": "2021-10-24T13:30:57.451118Z",
     "shell.execute_reply": "2021-10-24T13:30:57.451592Z",
     "shell.execute_reply.started": "2021-10-24T13:10:51.331012Z"
    },
    "papermill": {
     "duration": 0.19515,
     "end_time": "2021-10-24T13:30:57.451777",
     "exception": false,
     "start_time": "2021-10-24T13:30:57.256627",
     "status": "completed"
    },
    "tags": []
   },
   "outputs": [],
   "source": [
    "print(f'Customer 35: Actual value for the Customer Churn : {y_test.iloc[35]}')\n",
    "print(f\"Customer 35: CatBoost Model's prediction for the Customer Churn : {y_pred[35]}\")"
   ]
  },
  {
   "cell_type": "markdown",
   "metadata": {
    "papermill": {
     "duration": 0.189488,
     "end_time": "2021-10-24T13:30:57.826269",
     "exception": false,
     "start_time": "2021-10-24T13:30:57.636781",
     "status": "completed"
    },
    "tags": []
   },
   "source": [
    "![](https://media.giphy.com/media/Qtp1Ps7V6mRZwja223/giphy.gif)"
   ]
  },
  {
   "cell_type": "markdown",
   "metadata": {
    "papermill": {
     "duration": 0.186442,
     "end_time": "2021-10-24T13:30:58.200057",
     "exception": false,
     "start_time": "2021-10-24T13:30:58.013615",
     "status": "completed"
    },
    "tags": []
   },
   "source": [
    "Gif Credit: https://media.giphy.com"
   ]
  },
  {
   "cell_type": "markdown",
   "metadata": {
    "papermill": {
     "duration": 0.186319,
     "end_time": "2021-10-24T13:30:58.571607",
     "exception": false,
     "start_time": "2021-10-24T13:30:58.385288",
     "status": "completed"
    },
    "tags": []
   },
   "source": [
    "<a id=\"12\"></a>\n",
    "<font color=\"Darkblue\" size=+1.5><b>SHAP Force Plot</b></font>\n",
    "\n",
    "<a href=\"#toc\" class=\"btn btn-primary btn-sm\" role=\"button\" aria-pressed=\"true\" style=\"color:white\" data-toggle=\"popover\">Table of Contents</a>"
   ]
  },
  {
   "cell_type": "markdown",
   "metadata": {
    "papermill": {
     "duration": 0.186145,
     "end_time": "2021-10-24T13:30:58.943006",
     "exception": false,
     "start_time": "2021-10-24T13:30:58.756861",
     "status": "completed"
    },
    "tags": []
   },
   "source": [
    "> ### You can visualize feature attributions such as Shapley values as “forces”. \n",
    "\n",
    "> ### Each feature value is a force that either increases or decreases the prediction. \n",
    "\n",
    "> ### The prediction starts from the baseline. The baseline for Shapley values is the average of all predictions. \n",
    "\n",
    "> ### In the plot, each Shapley value is an arrow that pushes to increase (positive value) or decrease (negative value) the prediction. These forces balance each other out at the actual prediction of the data instance.\n",
    "\n",
    "Reference: https://christophm.github.io/interpretable-ml-book/shap.html"
   ]
  },
  {
   "cell_type": "markdown",
   "metadata": {
    "papermill": {
     "duration": 0.184444,
     "end_time": "2021-10-24T13:30:59.313395",
     "exception": false,
     "start_time": "2021-10-24T13:30:59.128951",
     "status": "completed"
    },
    "tags": []
   },
   "source": [
    "## Before seeing how model make decison on the speficic case, let's see model force plot on the first 50 customers' churn probability.\n",
    "## Enjoy the beauty of the interactive SHAP Force plot."
   ]
  },
  {
   "cell_type": "code",
   "execution_count": null,
   "metadata": {
    "_kg_hide-input": false,
    "execution": {
     "iopub.execute_input": "2021-10-24T13:30:59.693740Z",
     "iopub.status.busy": "2021-10-24T13:30:59.692799Z",
     "iopub.status.idle": "2021-10-24T13:30:59.729498Z",
     "shell.execute_reply": "2021-10-24T13:30:59.730016Z",
     "shell.execute_reply.started": "2021-10-24T13:10:51.338496Z"
    },
    "papermill": {
     "duration": 0.231268,
     "end_time": "2021-10-24T13:30:59.730187",
     "exception": false,
     "start_time": "2021-10-24T13:30:59.498919",
     "status": "completed"
    },
    "tags": []
   },
   "outputs": [],
   "source": [
    "shap.initjs()\n",
    "shap.force_plot(explainercat.expected_value, shap_values_cat_test[:50], X_test.iloc[:50],link= \"logit\")"
   ]
  },
  {
   "cell_type": "markdown",
   "metadata": {
    "papermill": {
     "duration": 0.20297,
     "end_time": "2021-10-24T13:31:00.135733",
     "exception": false,
     "start_time": "2021-10-24T13:30:59.932763",
     "status": "completed"
    },
    "tags": []
   },
   "source": [
    "### **Customer 15**"
   ]
  },
  {
   "cell_type": "code",
   "execution_count": null,
   "metadata": {
    "_kg_hide-input": false,
    "execution": {
     "iopub.execute_input": "2021-10-24T13:31:00.542433Z",
     "iopub.status.busy": "2021-10-24T13:31:00.541771Z",
     "iopub.status.idle": "2021-10-24T13:31:00.561805Z",
     "shell.execute_reply": "2021-10-24T13:31:00.561247Z",
     "shell.execute_reply.started": "2021-10-24T13:10:51.382592Z"
    },
    "papermill": {
     "duration": 0.225307,
     "end_time": "2021-10-24T13:31:00.561944",
     "exception": false,
     "start_time": "2021-10-24T13:31:00.336637",
     "status": "completed"
    },
    "tags": []
   },
   "outputs": [],
   "source": [
    "shap.initjs()\n",
    "shap.force_plot(explainercat.expected_value, shap_values_cat_test[15], X_test.iloc[[15]],link= \"logit\")"
   ]
  },
  {
   "cell_type": "markdown",
   "metadata": {
    "papermill": {
     "duration": 0.214446,
     "end_time": "2021-10-24T13:31:00.990745",
     "exception": false,
     "start_time": "2021-10-24T13:31:00.776299",
     "status": "completed"
    },
    "tags": []
   },
   "source": [
    "#### The baseline is  0.4562. \n",
    "## Customer 15 has a very high predicted risk of **0.90 to churn**. \n",
    "###  **Month to month contract** significantly increases the probability of customer churn.\n",
    "### Only **Payment method: Bank Transfer-Automatic** decreases the probability of churn.\n",
    "### It is very similar to **Decision Plot** we have seen before."
   ]
  },
  {
   "cell_type": "markdown",
   "metadata": {
    "papermill": {
     "duration": 0.216035,
     "end_time": "2021-10-24T13:31:01.423782",
     "exception": false,
     "start_time": "2021-10-24T13:31:01.207747",
     "status": "completed"
    },
    "tags": []
   },
   "source": [
    "### **Customer 35**"
   ]
  },
  {
   "cell_type": "code",
   "execution_count": null,
   "metadata": {
    "_kg_hide-input": false,
    "execution": {
     "iopub.execute_input": "2021-10-24T13:31:01.863790Z",
     "iopub.status.busy": "2021-10-24T13:31:01.863108Z",
     "iopub.status.idle": "2021-10-24T13:31:01.883647Z",
     "shell.execute_reply": "2021-10-24T13:31:01.883094Z",
     "shell.execute_reply.started": "2021-10-24T13:10:51.403094Z"
    },
    "papermill": {
     "duration": 0.242478,
     "end_time": "2021-10-24T13:31:01.883787",
     "exception": false,
     "start_time": "2021-10-24T13:31:01.641309",
     "status": "completed"
    },
    "tags": []
   },
   "outputs": [],
   "source": [
    "shap.initjs()\n",
    "shap.force_plot(explainercat.expected_value, shap_values_cat_test[35], X_test.iloc[[35]],link= \"logit\")"
   ]
  },
  {
   "cell_type": "markdown",
   "metadata": {
    "papermill": {
     "duration": 0.24097,
     "end_time": "2021-10-24T13:31:02.358168",
     "exception": false,
     "start_time": "2021-10-24T13:31:02.117198",
     "status": "completed"
    },
    "tags": []
   },
   "source": [
    "#### The baseline is 0.4562. \n",
    "## Customer 35 has a very low predicted risk of **0.05 to churn**. \n",
    "### **Two year contract** significantly decreases the probability of customer churn.\n",
    "### Only **17 months of being with the company** increases the probability of churn.\n",
    "### It is very similar to **Decision Plot** we have seen before."
   ]
  },
  {
   "cell_type": "markdown",
   "metadata": {
    "papermill": {
     "duration": 0.236752,
     "end_time": "2021-10-24T13:31:02.829701",
     "exception": false,
     "start_time": "2021-10-24T13:31:02.592949",
     "status": "completed"
    },
    "tags": []
   },
   "source": [
    "<a id=\"13\"></a>\n",
    "<font color=\"Darkblue\" size=+2><b>SHAP Waterfall Plot</b></font>\n",
    "\n",
    "<a href=\"#toc\" class=\"btn btn-primary btn-sm\" role=\"button\" aria-pressed=\"true\" style=\"color:white\" data-toggle=\"popover\">Table of Contents</a>"
   ]
  },
  {
   "cell_type": "markdown",
   "metadata": {
    "papermill": {
     "duration": 0.23658,
     "end_time": "2021-10-24T13:31:03.299030",
     "exception": false,
     "start_time": "2021-10-24T13:31:03.062450",
     "status": "completed"
    },
    "tags": []
   },
   "source": [
    "- It is very similar to **`force plot`** so, it would be good to know."
   ]
  },
  {
   "cell_type": "markdown",
   "metadata": {
    "papermill": {
     "duration": 0.229244,
     "end_time": "2021-10-24T13:31:03.760980",
     "exception": false,
     "start_time": "2021-10-24T13:31:03.531736",
     "status": "completed"
    },
    "tags": []
   },
   "source": [
    "> ### Waterfall plots are designed to display explanations for individual predictions, so they expect a single row of an Explanation object as input. \n",
    "\n",
    "> ### The bottom of a waterfall plot starts as the expected value of the model output, and then each row shows how the positive (red) or negative (blue) contribution of each feature moves the value from the expected model output over the background dataset to the model output for this prediction.\n",
    "\n",
    "Reference: https://shap.readthedocs.io/\n"
   ]
  },
  {
   "cell_type": "markdown",
   "metadata": {
    "papermill": {
     "duration": 0.23115,
     "end_time": "2021-10-24T13:31:04.224145",
     "exception": false,
     "start_time": "2021-10-24T13:31:03.992995",
     "status": "completed"
    },
    "tags": []
   },
   "source": [
    "### **Customer 15**"
   ]
  },
  {
   "cell_type": "code",
   "execution_count": null,
   "metadata": {
    "_kg_hide-input": false,
    "execution": {
     "iopub.execute_input": "2021-10-24T13:31:04.688803Z",
     "iopub.status.busy": "2021-10-24T13:31:04.687768Z",
     "iopub.status.idle": "2021-10-24T13:31:06.104002Z",
     "shell.execute_reply": "2021-10-24T13:31:06.104528Z",
     "shell.execute_reply.started": "2021-10-24T13:10:51.432051Z"
    },
    "papermill": {
     "duration": 1.650525,
     "end_time": "2021-10-24T13:31:06.104719",
     "exception": false,
     "start_time": "2021-10-24T13:31:04.454194",
     "status": "completed"
    },
    "tags": []
   },
   "outputs": [],
   "source": [
    "fig = plt.subplots(figsize=(6,6),dpi=150)\n",
    "ax_3= shap.plots._waterfall.waterfall_legacy(explainercat.expected_value, shap_values_cat_test[15], feature_names = X_test.columns,max_display = 20)"
   ]
  },
  {
   "cell_type": "markdown",
   "metadata": {
    "papermill": {
     "duration": 0.236427,
     "end_time": "2021-10-24T13:31:06.579973",
     "exception": false,
     "start_time": "2021-10-24T13:31:06.343546",
     "status": "completed"
    },
    "tags": []
   },
   "source": [
    "### **Customer 35**"
   ]
  },
  {
   "cell_type": "code",
   "execution_count": null,
   "metadata": {
    "_kg_hide-input": false,
    "execution": {
     "iopub.execute_input": "2021-10-24T13:31:07.057872Z",
     "iopub.status.busy": "2021-10-24T13:31:07.056884Z",
     "iopub.status.idle": "2021-10-24T13:31:08.319860Z",
     "shell.execute_reply": "2021-10-24T13:31:08.320371Z",
     "shell.execute_reply.started": "2021-10-24T13:10:52.830913Z"
    },
    "papermill": {
     "duration": 1.502471,
     "end_time": "2021-10-24T13:31:08.320552",
     "exception": false,
     "start_time": "2021-10-24T13:31:06.818081",
     "status": "completed"
    },
    "tags": []
   },
   "outputs": [],
   "source": [
    "fig = plt.subplots(figsize=(6,6),dpi=150)\n",
    "ax_3= shap.plots._waterfall.waterfall_legacy(explainercat.expected_value, shap_values_cat_test[35], feature_names = X_test.columns,max_display = 20)"
   ]
  },
  {
   "cell_type": "markdown",
   "metadata": {
    "papermill": {
     "duration": 0.239821,
     "end_time": "2021-10-24T13:31:08.800744",
     "exception": false,
     "start_time": "2021-10-24T13:31:08.560923",
     "status": "completed"
    },
    "tags": []
   },
   "source": [
    "## **Decision Plot** , **Force Plot** and **Waterfall Plot** are very useful to understand and explain how the model arrived at its decision.\n"
   ]
  },
  {
   "cell_type": "markdown",
   "metadata": {
    "papermill": {
     "duration": 0.238784,
     "end_time": "2021-10-24T13:31:09.280474",
     "exception": false,
     "start_time": "2021-10-24T13:31:09.041690",
     "status": "completed"
    },
    "tags": []
   },
   "source": [
    "<a id=\"14\"></a>\n",
    "<font color=\"Darkblue\" size=+2.5><b>LightGBM with SHAP</b></font>\n",
    "\n",
    "<a href=\"#toc\" class=\"btn btn-primary btn-sm\" role=\"button\" aria-pressed=\"true\" style=\"color:white\" data-toggle=\"popover\">Table of Contents</a>"
   ]
  },
  {
   "cell_type": "markdown",
   "metadata": {
    "papermill": {
     "duration": 0.250197,
     "end_time": "2021-10-24T13:31:09.770404",
     "exception": false,
     "start_time": "2021-10-24T13:31:09.520207",
     "status": "completed"
    },
    "tags": []
   },
   "source": [
    "![](https://repository-images.githubusercontent.com/64991887/dc855780-e34b-11ea-9ab8-e08ca33288b0)"
   ]
  },
  {
   "cell_type": "markdown",
   "metadata": {
    "papermill": {
     "duration": 0.24148,
     "end_time": "2021-10-24T13:31:10.252433",
     "exception": false,
     "start_time": "2021-10-24T13:31:10.010953",
     "status": "completed"
    },
    "tags": []
   },
   "source": [
    "Image Credit: https://repository-images.githubusercontent.com/64991887/"
   ]
  },
  {
   "cell_type": "markdown",
   "metadata": {
    "papermill": {
     "duration": 0.238096,
     "end_time": "2021-10-24T13:31:10.730062",
     "exception": false,
     "start_time": "2021-10-24T13:31:10.491966",
     "status": "completed"
    },
    "tags": []
   },
   "source": [
    "<a id=\"15\"></a>\n",
    "<font color=\"Darkblue\" size=+1.5><b>LightGBM (with adjusted Scale_Pos_Weight =5) Deals With Imbalanced Data</b></font>\n",
    "\n",
    "<a href=\"#toc\" class=\"btn btn-primary btn-sm\" role=\"button\" aria-pressed=\"true\" style=\"color:white\" data-toggle=\"popover\">Table of Contents</a>"
   ]
  },
  {
   "cell_type": "markdown",
   "metadata": {
    "papermill": {
     "duration": 0.240982,
     "end_time": "2021-10-24T13:31:11.214117",
     "exception": false,
     "start_time": "2021-10-24T13:31:10.973135",
     "status": "completed"
    },
    "tags": []
   },
   "source": [
    "### [As we discussed in the previous notebook](https://www.kaggle.com/kaanboke/xgboost-lightgbm-catboost-imbalanced-data), in this dataset we are dealing with imbalanced data.\n",
    "### [To handle imbalanced data](https://www.kaggle.com/kaanboke/xgboost-lightgbm-catboost-imbalanced-data) we use  **scale_pos_weight** and adjust it accordingly.\n",
    "### By adjusting  **scale_pos_weight**  to **5**: Minority class gets 5 times more impact and 5 times more correction than errors made on the majority class. "
   ]
  },
  {
   "cell_type": "code",
   "execution_count": null,
   "metadata": {
    "_kg_hide-input": true,
    "execution": {
     "iopub.execute_input": "2021-10-24T13:31:11.703418Z",
     "iopub.status.busy": "2021-10-24T13:31:11.702342Z",
     "iopub.status.idle": "2021-10-24T13:31:12.036531Z",
     "shell.execute_reply": "2021-10-24T13:31:12.037297Z",
     "shell.execute_reply.started": "2021-10-24T13:10:54.084083Z"
    },
    "papermill": {
     "duration": 0.583302,
     "end_time": "2021-10-24T13:31:12.037470",
     "exception": false,
     "start_time": "2021-10-24T13:31:11.454168",
     "status": "completed"
    },
    "tags": []
   },
   "outputs": [],
   "source": [
    "accuracy= []\n",
    "recall =[]\n",
    "roc_auc= []\n",
    "precision = []\n",
    "\n",
    "\n",
    "df = pd.read_csv('../input/telco-customer-churn/WA_Fn-UseC_-Telco-Customer-Churn.csv')\n",
    "df1 = df.drop(['customerID','gender','PhoneService'],axis=1).copy()\n",
    "le = LabelEncoder()\n",
    "df1['Churn']=le.fit_transform(df1['Churn'])\n",
    "\n",
    "df1['TotalCharges']= df1['TotalCharges'].apply(lambda x: x if x!= ' ' else np.nan).astype(float)\n",
    "\n",
    "df1[['OnlineSecurity','OnlineBackup','DeviceProtection','TechSupport','StreamingTV','StreamingMovies']]= df1[['OnlineSecurity','OnlineBackup','DeviceProtection','TechSupport','StreamingTV','StreamingMovies']].replace('No internet service','No')\n",
    "\n",
    "X= df1.drop('Churn', axis=1)\n",
    "y= df1['Churn']\n",
    "\n",
    "for col in X.columns:\n",
    "    col_type = X[col].dtype\n",
    "    if col_type == 'object' or col_type.name == 'category':\n",
    "        X[col] = X[col].astype('category')\n",
    "\n",
    "X_train, X_test, y_train, y_test = train_test_split(X, y, test_size=0.3, random_state=42)\n",
    "\n",
    "lgbmc_5=lgb.LGBMClassifier(random_state=0,scale_pos_weight=5)\n",
    "\n",
    "lgbmc_5.fit(X_train, y_train,categorical_feature = 'auto',eval_set=(X_test, y_test),feature_name='auto', verbose=0)\n",
    "\n",
    "y_pred = lgbmc_5.predict(X_test)\n",
    "\n",
    "accuracy.append(round(accuracy_score(y_test, y_pred),4))\n",
    "recall.append(round(recall_score(y_test, y_pred),4))\n",
    "roc_auc.append(round(roc_auc_score(y_test, y_pred),4))\n",
    "precision.append(round(precision_score(y_test, y_pred),4))\n",
    "\n",
    "model_names = ['LightGBM_adjusted_weight_5']\n",
    "result_df9 = pd.DataFrame({'Accuracy':accuracy,'Recall':recall, 'Roc_Auc':roc_auc, 'Precision':precision}, index=model_names)\n",
    "result_df9"
   ]
  },
  {
   "cell_type": "markdown",
   "metadata": {
    "papermill": {
     "duration": 0.242809,
     "end_time": "2021-10-24T13:31:12.522508",
     "exception": false,
     "start_time": "2021-10-24T13:31:12.279699",
     "status": "completed"
    },
    "tags": []
   },
   "source": [
    "- With the adjusted **`scale_pos_weight = 5`**, **LightGBM** got **.84 Recall and  .76 Roc_Auc**"
   ]
  },
  {
   "cell_type": "code",
   "execution_count": null,
   "metadata": {
    "_kg_hide-input": true,
    "execution": {
     "iopub.execute_input": "2021-10-24T13:31:13.053237Z",
     "iopub.status.busy": "2021-10-24T13:31:13.049257Z",
     "iopub.status.idle": "2021-10-24T13:31:13.311947Z",
     "shell.execute_reply": "2021-10-24T13:31:13.311406Z",
     "shell.execute_reply.started": "2021-10-24T13:10:54.463404Z"
    },
    "papermill": {
     "duration": 0.545448,
     "end_time": "2021-10-24T13:31:13.312107",
     "exception": false,
     "start_time": "2021-10-24T13:31:12.766659",
     "status": "completed"
    },
    "tags": []
   },
   "outputs": [],
   "source": [
    "fig, ax = plt.subplots(figsize=(8, 8))\n",
    "plot_confusion_matrix(lgbmc_5, X_test, y_test, cmap=plt.cm.Blues, ax=ax);"
   ]
  },
  {
   "cell_type": "markdown",
   "metadata": {
    "papermill": {
     "duration": 0.246701,
     "end_time": "2021-10-24T13:31:13.798790",
     "exception": false,
     "start_time": "2021-10-24T13:31:13.552089",
     "status": "completed"
    },
    "tags": []
   },
   "source": [
    "- By using **`scale_pos_weight =5`**, **LightGBM** correctly predicted **83% of the churned customer**."
   ]
  },
  {
   "cell_type": "markdown",
   "metadata": {
    "papermill": {
     "duration": 0.244893,
     "end_time": "2021-10-24T13:31:14.284297",
     "exception": false,
     "start_time": "2021-10-24T13:31:14.039404",
     "status": "completed"
    },
    "tags": []
   },
   "source": [
    "<a id=\"16\"></a>\n",
    "<font color=\"Darkblue\" size=+1.5><b>SHAP Feature Importance</b></font>\n",
    "\n",
    "<a href=\"#toc\" class=\"btn btn-primary btn-sm\" role=\"button\" aria-pressed=\"true\" style=\"color:white\" data-toggle=\"popover\">Table of Contents</a>"
   ]
  },
  {
   "cell_type": "code",
   "execution_count": null,
   "metadata": {
    "_kg_hide-input": false,
    "execution": {
     "iopub.execute_input": "2021-10-24T13:31:14.773139Z",
     "iopub.status.busy": "2021-10-24T13:31:14.772118Z",
     "iopub.status.idle": "2021-10-24T13:31:16.744798Z",
     "shell.execute_reply": "2021-10-24T13:31:16.745386Z",
     "shell.execute_reply.started": "2021-10-24T13:10:54.742734Z"
    },
    "papermill": {
     "duration": 2.219117,
     "end_time": "2021-10-24T13:31:16.745603",
     "exception": false,
     "start_time": "2021-10-24T13:31:14.526486",
     "status": "completed"
    },
    "tags": []
   },
   "outputs": [],
   "source": [
    "explainerlgbmc = shap.TreeExplainer(lgbmc_5)\n",
    "shap_values_LightGBM_test = explainerlgbmc.shap_values(X_test)\n",
    "shap_values_LightGBM_train = explainerlgbmc.shap_values(X_train)"
   ]
  },
  {
   "cell_type": "code",
   "execution_count": null,
   "metadata": {
    "_kg_hide-input": false,
    "execution": {
     "iopub.execute_input": "2021-10-24T13:31:17.237282Z",
     "iopub.status.busy": "2021-10-24T13:31:17.235346Z",
     "iopub.status.idle": "2021-10-24T13:31:17.604088Z",
     "shell.execute_reply": "2021-10-24T13:31:17.604648Z",
     "shell.execute_reply.started": "2021-10-24T13:10:56.674189Z"
    },
    "papermill": {
     "duration": 0.617921,
     "end_time": "2021-10-24T13:31:17.604819",
     "exception": false,
     "start_time": "2021-10-24T13:31:16.986898",
     "status": "completed"
    },
    "tags": []
   },
   "outputs": [],
   "source": [
    "shap.summary_plot(shap_values_LightGBM_train[1], X_train, plot_type=\"bar\",plot_size=(12,12))"
   ]
  },
  {
   "cell_type": "markdown",
   "metadata": {
    "papermill": {
     "duration": 0.244505,
     "end_time": "2021-10-24T13:31:18.092421",
     "exception": false,
     "start_time": "2021-10-24T13:31:17.847916",
     "status": "completed"
    },
    "tags": []
   },
   "source": [
    "### SHAP feature importance is easy to explain. Features with larger values are important. \n",
    "### As we have seen from the feature importance:\n",
    "### **contract**\n",
    "### **tenure:How long they are with the company** \n",
    "### **monthly charges**\n",
    "### **internet service type** are the important features based on the Catboost model we have selected."
   ]
  },
  {
   "cell_type": "markdown",
   "metadata": {
    "papermill": {
     "duration": 0.250176,
     "end_time": "2021-10-24T13:31:18.586912",
     "exception": false,
     "start_time": "2021-10-24T13:31:18.336736",
     "status": "completed"
    },
    "tags": []
   },
   "source": [
    "<a id=\"17\"></a>\n",
    "<font color=\"Darkblue\" size=+2><b>SHAP Summary Plot</b></font>\n",
    "\n",
    "<a href=\"#toc\" class=\"btn btn-primary btn-sm\" role=\"button\" aria-pressed=\"true\" style=\"color:white\" data-toggle=\"popover\">Table of Contents</a>"
   ]
  },
  {
   "cell_type": "code",
   "execution_count": null,
   "metadata": {
    "_kg_hide-input": false,
    "execution": {
     "iopub.execute_input": "2021-10-24T13:31:19.094682Z",
     "iopub.status.busy": "2021-10-24T13:31:19.093661Z",
     "iopub.status.idle": "2021-10-24T13:31:20.601372Z",
     "shell.execute_reply": "2021-10-24T13:31:20.601876Z",
     "shell.execute_reply.started": "2021-10-24T13:10:57.054749Z"
    },
    "papermill": {
     "duration": 1.755139,
     "end_time": "2021-10-24T13:31:20.602052",
     "exception": false,
     "start_time": "2021-10-24T13:31:18.846913",
     "status": "completed"
    },
    "tags": []
   },
   "outputs": [],
   "source": [
    "fig = plt.subplots(figsize=(6,6),dpi=200)\n",
    "\n",
    "ax = shap.summary_plot(shap_values_LightGBM_train[1], X_train,plot_type=\"dot\")"
   ]
  },
  {
   "cell_type": "markdown",
   "metadata": {
    "papermill": {
     "duration": 0.251081,
     "end_time": "2021-10-24T13:31:21.105477",
     "exception": false,
     "start_time": "2021-10-24T13:31:20.854396",
     "status": "completed"
    },
    "tags": []
   },
   "source": [
    "<a id=\"18\"></a>\n",
    "<font color=\"Darkblue\" size=+1.5><b>SHAP Decision Plot</b></font>\n",
    "\n",
    "<a href=\"#toc\" class=\"btn btn-primary btn-sm\" role=\"button\" aria-pressed=\"true\" style=\"color:white\" data-toggle=\"popover\">Table of Contents</a>"
   ]
  },
  {
   "cell_type": "markdown",
   "metadata": {
    "papermill": {
     "duration": 0.249142,
     "end_time": "2021-10-24T13:31:21.606312",
     "exception": false,
     "start_time": "2021-10-24T13:31:21.357170",
     "status": "completed"
    },
    "tags": []
   },
   "source": [
    "## **Customer 15**"
   ]
  },
  {
   "cell_type": "code",
   "execution_count": null,
   "metadata": {
    "_kg_hide-input": false,
    "execution": {
     "iopub.execute_input": "2021-10-24T13:31:22.139770Z",
     "iopub.status.busy": "2021-10-24T13:31:22.139056Z",
     "iopub.status.idle": "2021-10-24T13:31:22.918002Z",
     "shell.execute_reply": "2021-10-24T13:31:22.918530Z",
     "shell.execute_reply.started": "2021-10-24T13:10:58.793573Z"
    },
    "papermill": {
     "duration": 1.060556,
     "end_time": "2021-10-24T13:31:22.918723",
     "exception": false,
     "start_time": "2021-10-24T13:31:21.858167",
     "status": "completed"
    },
    "tags": []
   },
   "outputs": [],
   "source": [
    "fig = plt.subplots(figsize=(6,6),dpi=200)\n",
    "ax_2= shap.decision_plot(explainerlgbmc.expected_value[1], shap_values_LightGBM_test[1][15], X_test.iloc[[15]],link= \"logit\")\n"
   ]
  },
  {
   "cell_type": "markdown",
   "metadata": {
    "papermill": {
     "duration": 0.277007,
     "end_time": "2021-10-24T13:31:23.457591",
     "exception": false,
     "start_time": "2021-10-24T13:31:23.180584",
     "status": "completed"
    },
    "tags": []
   },
   "source": [
    "## **Customer 35**"
   ]
  },
  {
   "cell_type": "code",
   "execution_count": null,
   "metadata": {
    "_kg_hide-input": false,
    "execution": {
     "iopub.execute_input": "2021-10-24T13:31:24.011383Z",
     "iopub.status.busy": "2021-10-24T13:31:24.010731Z",
     "iopub.status.idle": "2021-10-24T13:31:24.790956Z",
     "shell.execute_reply": "2021-10-24T13:31:24.791458Z",
     "shell.execute_reply.started": "2021-10-24T13:10:59.617670Z"
    },
    "papermill": {
     "duration": 1.049499,
     "end_time": "2021-10-24T13:31:24.791641",
     "exception": false,
     "start_time": "2021-10-24T13:31:23.742142",
     "status": "completed"
    },
    "tags": []
   },
   "outputs": [],
   "source": [
    "fig = plt.subplots(figsize=(6,6),dpi=200)\n",
    "ax_2= shap.decision_plot(explainerlgbmc.expected_value[1], shap_values_LightGBM_test[1][35], X_test.iloc[[35]],link= \"logit\")\n"
   ]
  },
  {
   "cell_type": "markdown",
   "metadata": {
    "papermill": {
     "duration": 0.263915,
     "end_time": "2021-10-24T13:31:25.323334",
     "exception": false,
     "start_time": "2021-10-24T13:31:25.059419",
     "status": "completed"
    },
    "tags": []
   },
   "source": [
    "<a id=\"19\"></a>\n",
    "<font color=\"Darkblue\" size=+2><b>SHAP Force Plot</b></font>\n",
    "\n",
    "<a href=\"#toc\" class=\"btn btn-primary btn-sm\" role=\"button\" aria-pressed=\"true\" style=\"color:white\" data-toggle=\"popover\">Table of Contents</a>"
   ]
  },
  {
   "cell_type": "markdown",
   "metadata": {
    "papermill": {
     "duration": 0.264132,
     "end_time": "2021-10-24T13:31:25.851871",
     "exception": false,
     "start_time": "2021-10-24T13:31:25.587739",
     "status": "completed"
    },
    "tags": []
   },
   "source": [
    "### **Customer 15**"
   ]
  },
  {
   "cell_type": "code",
   "execution_count": null,
   "metadata": {
    "_kg_hide-input": false,
    "execution": {
     "iopub.execute_input": "2021-10-24T13:31:26.392177Z",
     "iopub.status.busy": "2021-10-24T13:31:26.391439Z",
     "iopub.status.idle": "2021-10-24T13:31:26.411458Z",
     "shell.execute_reply": "2021-10-24T13:31:26.410904Z",
     "shell.execute_reply.started": "2021-10-24T13:11:00.416212Z"
    },
    "papermill": {
     "duration": 0.291897,
     "end_time": "2021-10-24T13:31:26.411607",
     "exception": false,
     "start_time": "2021-10-24T13:31:26.119710",
     "status": "completed"
    },
    "tags": []
   },
   "outputs": [],
   "source": [
    "shap.initjs()\n",
    "shap.force_plot(explainerlgbmc.expected_value[1],shap_values_LightGBM_test[1][15], X_test.iloc[[15]],link= \"logit\")"
   ]
  },
  {
   "cell_type": "markdown",
   "metadata": {
    "papermill": {
     "duration": 0.27716,
     "end_time": "2021-10-24T13:31:26.968295",
     "exception": false,
     "start_time": "2021-10-24T13:31:26.691135",
     "status": "completed"
    },
    "tags": []
   },
   "source": [
    "#### The baseline is  0.3025. \n",
    "## Customer 15 has a very high predicted risk of **0.94 to churn**. \n",
    "### **Month to month contract** significantly increases the probability of customer churn.\n",
    "### Only **Payment method: Bank Transfer-Automatic** decreases the probability of churn.\n",
    "### It is very similar to **Decision Plot** we have seen before."
   ]
  },
  {
   "cell_type": "markdown",
   "metadata": {
    "papermill": {
     "duration": 0.279408,
     "end_time": "2021-10-24T13:31:27.529108",
     "exception": false,
     "start_time": "2021-10-24T13:31:27.249700",
     "status": "completed"
    },
    "tags": []
   },
   "source": [
    "### **Customer 35**"
   ]
  },
  {
   "cell_type": "code",
   "execution_count": null,
   "metadata": {
    "_kg_hide-input": false,
    "execution": {
     "iopub.execute_input": "2021-10-24T13:31:28.092672Z",
     "iopub.status.busy": "2021-10-24T13:31:28.091857Z",
     "iopub.status.idle": "2021-10-24T13:31:28.114489Z",
     "shell.execute_reply": "2021-10-24T13:31:28.113863Z",
     "shell.execute_reply.started": "2021-10-24T13:11:00.440531Z"
    },
    "papermill": {
     "duration": 0.304692,
     "end_time": "2021-10-24T13:31:28.114651",
     "exception": false,
     "start_time": "2021-10-24T13:31:27.809959",
     "status": "completed"
    },
    "tags": []
   },
   "outputs": [],
   "source": [
    "shap.initjs()\n",
    "shap.force_plot(explainerlgbmc.expected_value[1],shap_values_LightGBM_test[1][35], X_test.iloc[[35]],link= \"logit\")"
   ]
  },
  {
   "cell_type": "markdown",
   "metadata": {
    "papermill": {
     "duration": 0.291449,
     "end_time": "2021-10-24T13:31:28.698407",
     "exception": false,
     "start_time": "2021-10-24T13:31:28.406958",
     "status": "completed"
    },
    "tags": []
   },
   "source": [
    "#### The baseline is 0.3025. \n",
    "## Customer 35 has a very low predicted risk of **0.01 to churn**. \n",
    "### **Two year contract** significantly decreases the probability of customer churn.\n",
    "### Only **17 months of being with the company** slightly increases the probability of churn.\n",
    "### It is very similar to **Decision Plot** we have seen before."
   ]
  },
  {
   "cell_type": "markdown",
   "metadata": {
    "papermill": {
     "duration": 0.295572,
     "end_time": "2021-10-24T13:31:29.284995",
     "exception": false,
     "start_time": "2021-10-24T13:31:28.989423",
     "status": "completed"
    },
    "tags": []
   },
   "source": [
    "<a id=\"20\"></a>\n",
    "<font color=\"Darkblue\" size=+2><b>SHAP Waterfall Plot</b></font>\n",
    "\n",
    "<a href=\"#toc\" class=\"btn btn-primary btn-sm\" role=\"button\" aria-pressed=\"true\" style=\"color:white\" data-toggle=\"popover\">Table of Contents</a>"
   ]
  },
  {
   "cell_type": "markdown",
   "metadata": {
    "papermill": {
     "duration": 0.315856,
     "end_time": "2021-10-24T13:31:29.900619",
     "exception": false,
     "start_time": "2021-10-24T13:31:29.584763",
     "status": "completed"
    },
    "tags": []
   },
   "source": [
    "- It is very similar to **`force plot`** so, it would be good to know it."
   ]
  },
  {
   "cell_type": "markdown",
   "metadata": {
    "papermill": {
     "duration": 0.293015,
     "end_time": "2021-10-24T13:31:30.489864",
     "exception": false,
     "start_time": "2021-10-24T13:31:30.196849",
     "status": "completed"
    },
    "tags": []
   },
   "source": [
    "### **Customer 15**"
   ]
  },
  {
   "cell_type": "code",
   "execution_count": null,
   "metadata": {
    "_kg_hide-input": false,
    "execution": {
     "iopub.execute_input": "2021-10-24T13:31:31.083141Z",
     "iopub.status.busy": "2021-10-24T13:31:31.082373Z",
     "iopub.status.idle": "2021-10-24T13:31:32.336581Z",
     "shell.execute_reply": "2021-10-24T13:31:32.337104Z",
     "shell.execute_reply.started": "2021-10-24T13:11:00.464947Z"
    },
    "papermill": {
     "duration": 1.5526,
     "end_time": "2021-10-24T13:31:32.337270",
     "exception": false,
     "start_time": "2021-10-24T13:31:30.784670",
     "status": "completed"
    },
    "tags": []
   },
   "outputs": [],
   "source": [
    "fig = plt.subplots(figsize=(6,6),dpi=150)\n",
    "ax_3= shap.plots._waterfall.waterfall_legacy(explainerlgbmc.expected_value[1],shap_values_LightGBM_test[1][15], feature_names = X_test.columns,max_display = 20)"
   ]
  },
  {
   "cell_type": "markdown",
   "metadata": {
    "papermill": {
     "duration": 0.296625,
     "end_time": "2021-10-24T13:31:32.935233",
     "exception": false,
     "start_time": "2021-10-24T13:31:32.638608",
     "status": "completed"
    },
    "tags": []
   },
   "source": [
    "### **Customer 35**"
   ]
  },
  {
   "cell_type": "code",
   "execution_count": null,
   "metadata": {
    "_kg_hide-input": false,
    "execution": {
     "iopub.execute_input": "2021-10-24T13:31:33.543675Z",
     "iopub.status.busy": "2021-10-24T13:31:33.542915Z",
     "iopub.status.idle": "2021-10-24T13:31:34.766539Z",
     "shell.execute_reply": "2021-10-24T13:31:34.767084Z",
     "shell.execute_reply.started": "2021-10-24T13:11:01.726005Z"
    },
    "papermill": {
     "duration": 1.528518,
     "end_time": "2021-10-24T13:31:34.767254",
     "exception": false,
     "start_time": "2021-10-24T13:31:33.238736",
     "status": "completed"
    },
    "tags": []
   },
   "outputs": [],
   "source": [
    "fig = plt.subplots(figsize=(6,6),dpi=150)\n",
    "ax_3= shap.plots._waterfall.waterfall_legacy(explainerlgbmc.expected_value[1],shap_values_LightGBM_test[1][35], feature_names = X_test.columns,max_display = 20)"
   ]
  },
  {
   "cell_type": "markdown",
   "metadata": {
    "papermill": {
     "duration": 0.305176,
     "end_time": "2021-10-24T13:31:35.382791",
     "exception": false,
     "start_time": "2021-10-24T13:31:35.077615",
     "status": "completed"
    },
    "tags": []
   },
   "source": [
    "## **Decision Plot** , **Force Plot** and **Waterfall Plot** are very useful to understand and explain how the model arrived at its decision.\n"
   ]
  },
  {
   "cell_type": "markdown",
   "metadata": {
    "papermill": {
     "duration": 0.306668,
     "end_time": "2021-10-24T13:31:35.993551",
     "exception": false,
     "start_time": "2021-10-24T13:31:35.686883",
     "status": "completed"
    },
    "tags": []
   },
   "source": [
    "<a id=\"21\"></a>\n",
    "<font color=\"Darkblue\" size=+2.5><b>XGBoost with SHAP</b></font>\n",
    "\n",
    "<a href=\"#toc\" class=\"btn btn-primary btn-sm\" role=\"button\" aria-pressed=\"true\" style=\"color:white\" data-toggle=\"popover\">Table of Contents</a>"
   ]
  },
  {
   "cell_type": "markdown",
   "metadata": {
    "papermill": {
     "duration": 0.306863,
     "end_time": "2021-10-24T13:31:36.606697",
     "exception": false,
     "start_time": "2021-10-24T13:31:36.299834",
     "status": "completed"
    },
    "tags": []
   },
   "source": [
    "![](https://miro.medium.com/max/1400/1*1kjLMDQMufaQoS-nNJfg1Q.png)"
   ]
  },
  {
   "cell_type": "markdown",
   "metadata": {
    "papermill": {
     "duration": 0.305018,
     "end_time": "2021-10-24T13:31:37.220849",
     "exception": false,
     "start_time": "2021-10-24T13:31:36.915831",
     "status": "completed"
    },
    "tags": []
   },
   "source": [
    "Image Credit: https://miro.medium.com/"
   ]
  },
  {
   "cell_type": "markdown",
   "metadata": {
    "papermill": {
     "duration": 0.30301,
     "end_time": "2021-10-24T13:31:37.830127",
     "exception": false,
     "start_time": "2021-10-24T13:31:37.527117",
     "status": "completed"
    },
    "tags": []
   },
   "source": [
    "<a id=\"22\"></a>\n",
    "<font color=\"Darkblue\" size=+1.5><b>XGBoost (with adjusted Scale_Pos_Weight = 5) Deals With Imbalanced Data</b></font>\n",
    "\n",
    "<a href=\"#toc\" class=\"btn btn-primary btn-sm\" role=\"button\" aria-pressed=\"true\" style=\"color:white\" data-toggle=\"popover\">Table of Contents</a>"
   ]
  },
  {
   "cell_type": "markdown",
   "metadata": {
    "papermill": {
     "duration": 0.303205,
     "end_time": "2021-10-24T13:31:38.438403",
     "exception": false,
     "start_time": "2021-10-24T13:31:38.135198",
     "status": "completed"
    },
    "tags": []
   },
   "source": [
    "### [As we discussed in the previous notebook](https://www.kaggle.com/kaanboke/xgboost-lightgbm-catboost-imbalanced-data), in this dataset we are dealing with imbalanced data.\n",
    "### [To handle imbalanced data](https://www.kaggle.com/kaanboke/xgboost-lightgbm-catboost-imbalanced-data) we use  **scale_pos_weight** and adjust it accordingly.\n",
    "### By adjusting  **scale_pos_weight**  to **5**: Minority class gets 5 times more impact and 5 times more correction than errors made on the majority class. "
   ]
  },
  {
   "cell_type": "code",
   "execution_count": null,
   "metadata": {
    "_kg_hide-input": true,
    "execution": {
     "iopub.execute_input": "2021-10-24T13:31:39.059888Z",
     "iopub.status.busy": "2021-10-24T13:31:39.059153Z",
     "iopub.status.idle": "2021-10-24T13:31:39.768498Z",
     "shell.execute_reply": "2021-10-24T13:31:39.769095Z",
     "shell.execute_reply.started": "2021-10-24T13:11:02.967006Z"
    },
    "papermill": {
     "duration": 1.028379,
     "end_time": "2021-10-24T13:31:39.769311",
     "exception": false,
     "start_time": "2021-10-24T13:31:38.740932",
     "status": "completed"
    },
    "tags": []
   },
   "outputs": [],
   "source": [
    "accuracy= []\n",
    "recall =[]\n",
    "roc_auc= []\n",
    "precision = []\n",
    "\n",
    "\n",
    "df = pd.read_csv('../input/telco-customer-churn/WA_Fn-UseC_-Telco-Customer-Churn.csv')\n",
    "df1 = df.drop(['customerID','gender','PhoneService'],axis=1).copy()\n",
    "le = LabelEncoder()\n",
    "df1['Churn']=le.fit_transform(df1['Churn'])\n",
    "\n",
    "df1['TotalCharges']= df1['TotalCharges'].apply(lambda x: x if x!= ' ' else np.nan).astype(float)\n",
    "\n",
    "df1[['OnlineSecurity','OnlineBackup','DeviceProtection','TechSupport','StreamingTV','StreamingMovies']]= df1[['OnlineSecurity','OnlineBackup','DeviceProtection','TechSupport','StreamingTV','StreamingMovies']].replace('No internet service','No')\n",
    "\n",
    "df1= pd.get_dummies(df1)\n",
    "X= df1.drop('Churn', axis=1)\n",
    "y= df1['Churn']\n",
    "\n",
    "X_train, X_test, y_train, y_test = train_test_split(X, y, test_size=0.3, random_state=42)\n",
    "\n",
    "xgbc_5 = XGBClassifier(random_state=0,scale_pos_weight=5)\n",
    "\n",
    "xgbc_5.fit(X_train, y_train)\n",
    "y_pred = xgbc_5.predict(X_test)\n",
    "\n",
    "accuracy.append(round(accuracy_score(y_test, y_pred),4))\n",
    "recall.append(round(recall_score(y_test, y_pred),4))\n",
    "roc_auc.append(round(roc_auc_score(y_test, y_pred),4))\n",
    "precision.append(round(precision_score(y_test, y_pred),4))\n",
    "\n",
    "model_names = ['XGBoost_adjusted_weight_5']\n",
    "result_df6 = pd.DataFrame({'Accuracy':accuracy,'Recall':recall, 'Roc_Auc':roc_auc, 'Precision':precision}, index=model_names)\n",
    "result_df6"
   ]
  },
  {
   "cell_type": "markdown",
   "metadata": {
    "papermill": {
     "duration": 0.310179,
     "end_time": "2021-10-24T13:31:40.385474",
     "exception": false,
     "start_time": "2021-10-24T13:31:40.075295",
     "status": "completed"
    },
    "tags": []
   },
   "source": [
    "- With the adjusted **`scale_pos_weight = 5`**, **XGBoost** got **.74 Recall and .75 Roc_Auc**"
   ]
  },
  {
   "cell_type": "code",
   "execution_count": null,
   "metadata": {
    "_kg_hide-input": true,
    "execution": {
     "iopub.execute_input": "2021-10-24T13:31:41.024414Z",
     "iopub.status.busy": "2021-10-24T13:31:41.023712Z",
     "iopub.status.idle": "2021-10-24T13:31:41.299359Z",
     "shell.execute_reply": "2021-10-24T13:31:41.298844Z",
     "shell.execute_reply.started": "2021-10-24T13:11:03.704302Z"
    },
    "papermill": {
     "duration": 0.585529,
     "end_time": "2021-10-24T13:31:41.299516",
     "exception": false,
     "start_time": "2021-10-24T13:31:40.713987",
     "status": "completed"
    },
    "tags": []
   },
   "outputs": [],
   "source": [
    "fig, ax = plt.subplots(figsize=(8, 8))\n",
    "plot_confusion_matrix(xgbc_5, X_test, y_test, cmap=plt.cm.Blues, ax=ax);"
   ]
  },
  {
   "cell_type": "markdown",
   "metadata": {
    "papermill": {
     "duration": 0.30594,
     "end_time": "2021-10-24T13:31:41.912298",
     "exception": false,
     "start_time": "2021-10-24T13:31:41.606358",
     "status": "completed"
    },
    "tags": []
   },
   "source": [
    "- **XGBoost** correctly predicted almost **74% of the churned customers** by using **scale_pos_weight=5** (Roc_Auc = .75)\n"
   ]
  },
  {
   "cell_type": "markdown",
   "metadata": {
    "papermill": {
     "duration": 0.30617,
     "end_time": "2021-10-24T13:31:42.527850",
     "exception": false,
     "start_time": "2021-10-24T13:31:42.221680",
     "status": "completed"
    },
    "tags": []
   },
   "source": [
    "<a id=\"23\"></a>\n",
    "<font color=\"Darkblue\" size=+2><b>SHAP Feature Importance</b></font>\n",
    "\n",
    "<a href=\"#toc\" class=\"btn btn-primary btn-sm\" role=\"button\" aria-pressed=\"true\" style=\"color:white\" data-toggle=\"popover\">Table of Contents</a>"
   ]
  },
  {
   "cell_type": "code",
   "execution_count": null,
   "metadata": {
    "_kg_hide-input": false,
    "execution": {
     "iopub.execute_input": "2021-10-24T13:31:43.149983Z",
     "iopub.status.busy": "2021-10-24T13:31:43.149312Z",
     "iopub.status.idle": "2021-10-24T13:31:45.039356Z",
     "shell.execute_reply": "2021-10-24T13:31:45.040433Z",
     "shell.execute_reply.started": "2021-10-24T13:11:03.988321Z"
    },
    "papermill": {
     "duration": 2.204032,
     "end_time": "2021-10-24T13:31:45.040668",
     "exception": false,
     "start_time": "2021-10-24T13:31:42.836636",
     "status": "completed"
    },
    "tags": []
   },
   "outputs": [],
   "source": [
    "explainerxgbc = shap.TreeExplainer(xgbc_5)\n",
    "shap_values_XGBoost_test = explainerxgbc.shap_values(X_test)\n",
    "shap_values_XGBoost_train = explainerxgbc.shap_values(X_train)"
   ]
  },
  {
   "cell_type": "code",
   "execution_count": null,
   "metadata": {
    "_kg_hide-input": false,
    "execution": {
     "iopub.execute_input": "2021-10-24T13:31:45.673811Z",
     "iopub.status.busy": "2021-10-24T13:31:45.673095Z",
     "iopub.status.idle": "2021-10-24T13:31:46.096588Z",
     "shell.execute_reply": "2021-10-24T13:31:46.096020Z",
     "shell.execute_reply.started": "2021-10-24T13:11:05.823061Z"
    },
    "papermill": {
     "duration": 0.747552,
     "end_time": "2021-10-24T13:31:46.096733",
     "exception": false,
     "start_time": "2021-10-24T13:31:45.349181",
     "status": "completed"
    },
    "tags": []
   },
   "outputs": [],
   "source": [
    "shap.summary_plot(shap_values_XGBoost_train, X_train, plot_type=\"bar\",plot_size=(12,12))"
   ]
  },
  {
   "cell_type": "markdown",
   "metadata": {
    "papermill": {
     "duration": 0.304199,
     "end_time": "2021-10-24T13:31:46.709523",
     "exception": false,
     "start_time": "2021-10-24T13:31:46.405324",
     "status": "completed"
    },
    "tags": []
   },
   "source": [
    "### SHAP feature importance is easy to explain. Features with larger values are important. \n",
    "### As we have seen from the feature importance:\n",
    "### **contract: month-to-month**\n",
    "### **tenure:How long they are with the company** \n",
    "### **Total charges**\n",
    "### **Monthly charges**\n",
    "### **Internet service type:: fiber optic** are the important features based on the XGboost model we have selected.\n",
    "   "
   ]
  },
  {
   "cell_type": "markdown",
   "metadata": {
    "papermill": {
     "duration": 0.317231,
     "end_time": "2021-10-24T13:31:47.337197",
     "exception": false,
     "start_time": "2021-10-24T13:31:47.019966",
     "status": "completed"
    },
    "tags": []
   },
   "source": [
    "<a id=\"24\"></a>\n",
    "<font color=\"Darkblue\" size=+1.5><b>SHAP Summary Plot</b></font>\n",
    "\n",
    "<a href=\"#toc\" class=\"btn btn-primary btn-sm\" role=\"button\" aria-pressed=\"true\" style=\"color:white\" data-toggle=\"popover\">Table of Contents</a>"
   ]
  },
  {
   "cell_type": "code",
   "execution_count": null,
   "metadata": {
    "_kg_hide-input": false,
    "execution": {
     "iopub.execute_input": "2021-10-24T13:31:47.966585Z",
     "iopub.status.busy": "2021-10-24T13:31:47.965884Z",
     "iopub.status.idle": "2021-10-24T13:31:50.873575Z",
     "shell.execute_reply": "2021-10-24T13:31:50.872985Z",
     "shell.execute_reply.started": "2021-10-24T13:11:06.253660Z"
    },
    "papermill": {
     "duration": 3.225348,
     "end_time": "2021-10-24T13:31:50.873744",
     "exception": false,
     "start_time": "2021-10-24T13:31:47.648396",
     "status": "completed"
    },
    "tags": []
   },
   "outputs": [],
   "source": [
    "fig = plt.subplots(figsize=(6,6),dpi=200)\n",
    "\n",
    "ax = shap.summary_plot(shap_values_XGBoost_train, X_train,plot_type=\"dot\")"
   ]
  },
  {
   "cell_type": "markdown",
   "metadata": {
    "papermill": {
     "duration": 0.311704,
     "end_time": "2021-10-24T13:31:51.500526",
     "exception": false,
     "start_time": "2021-10-24T13:31:51.188822",
     "status": "completed"
    },
    "tags": []
   },
   "source": [
    "<a id=\"25\"></a>\n",
    "<font color=\"Darkblue\" size=+1.5><b>SHAP Decision Plot</b></font>\n",
    "\n",
    "<a href=\"#toc\" class=\"btn btn-primary btn-sm\" role=\"button\" aria-pressed=\"true\" style=\"color:white\" data-toggle=\"popover\">Table of Contents</a>"
   ]
  },
  {
   "cell_type": "markdown",
   "metadata": {
    "papermill": {
     "duration": 0.326532,
     "end_time": "2021-10-24T13:31:52.167004",
     "exception": false,
     "start_time": "2021-10-24T13:31:51.840472",
     "status": "completed"
    },
    "tags": []
   },
   "source": [
    "### **Customer 15**"
   ]
  },
  {
   "cell_type": "code",
   "execution_count": null,
   "metadata": {
    "_kg_hide-input": false,
    "execution": {
     "iopub.execute_input": "2021-10-24T13:31:52.836399Z",
     "iopub.status.busy": "2021-10-24T13:31:52.835623Z",
     "iopub.status.idle": "2021-10-24T13:31:53.795320Z",
     "shell.execute_reply": "2021-10-24T13:31:53.795819Z",
     "shell.execute_reply.started": "2021-10-24T13:11:09.330094Z"
    },
    "papermill": {
     "duration": 1.305158,
     "end_time": "2021-10-24T13:31:53.796001",
     "exception": false,
     "start_time": "2021-10-24T13:31:52.490843",
     "status": "completed"
    },
    "tags": []
   },
   "outputs": [],
   "source": [
    "fig = plt.subplots(figsize=(6,6),dpi=200)\n",
    "ax_2= shap.decision_plot(explainerxgbc.expected_value, shap_values_XGBoost_test[15], X_test.iloc[[15]],link= \"logit\")\n"
   ]
  },
  {
   "cell_type": "markdown",
   "metadata": {
    "papermill": {
     "duration": 0.324017,
     "end_time": "2021-10-24T13:31:54.446915",
     "exception": false,
     "start_time": "2021-10-24T13:31:54.122898",
     "status": "completed"
    },
    "tags": []
   },
   "source": [
    "### **Customer 35**"
   ]
  },
  {
   "cell_type": "code",
   "execution_count": null,
   "metadata": {
    "_kg_hide-input": false,
    "execution": {
     "iopub.execute_input": "2021-10-24T13:31:55.102310Z",
     "iopub.status.busy": "2021-10-24T13:31:55.101617Z",
     "iopub.status.idle": "2021-10-24T13:31:56.175071Z",
     "shell.execute_reply": "2021-10-24T13:31:56.175663Z",
     "shell.execute_reply.started": "2021-10-24T13:11:10.304121Z"
    },
    "papermill": {
     "duration": 1.404267,
     "end_time": "2021-10-24T13:31:56.175983",
     "exception": false,
     "start_time": "2021-10-24T13:31:54.771716",
     "status": "completed"
    },
    "tags": []
   },
   "outputs": [],
   "source": [
    "fig = plt.subplots(figsize=(6,6),dpi=200)\n",
    "ax_2= shap.decision_plot(explainerxgbc.expected_value, shap_values_XGBoost_test[35], X_test.iloc[[35]],link= \"logit\")"
   ]
  },
  {
   "cell_type": "markdown",
   "metadata": {
    "papermill": {
     "duration": 0.346461,
     "end_time": "2021-10-24T13:31:56.866707",
     "exception": false,
     "start_time": "2021-10-24T13:31:56.520246",
     "status": "completed"
    },
    "tags": []
   },
   "source": [
    "<a id=\"26\"></a>\n",
    "<font color=\"Darkblue\" size=+2><b>SHAP Force Plot</b></font>\n",
    "\n",
    "<a href=\"#toc\" class=\"btn btn-primary btn-sm\" role=\"button\" aria-pressed=\"true\" style=\"color:white\" data-toggle=\"popover\">Table of Contents</a>"
   ]
  },
  {
   "cell_type": "markdown",
   "metadata": {
    "papermill": {
     "duration": 0.337469,
     "end_time": "2021-10-24T13:31:57.538879",
     "exception": false,
     "start_time": "2021-10-24T13:31:57.201410",
     "status": "completed"
    },
    "tags": []
   },
   "source": [
    "### **Customer 15**"
   ]
  },
  {
   "cell_type": "code",
   "execution_count": null,
   "metadata": {
    "_kg_hide-input": false,
    "execution": {
     "iopub.execute_input": "2021-10-24T13:31:58.212100Z",
     "iopub.status.busy": "2021-10-24T13:31:58.210984Z",
     "iopub.status.idle": "2021-10-24T13:31:58.233505Z",
     "shell.execute_reply": "2021-10-24T13:31:58.232956Z",
     "shell.execute_reply.started": "2021-10-24T13:11:11.387229Z"
    },
    "papermill": {
     "duration": 0.360028,
     "end_time": "2021-10-24T13:31:58.233658",
     "exception": false,
     "start_time": "2021-10-24T13:31:57.873630",
     "status": "completed"
    },
    "tags": []
   },
   "outputs": [],
   "source": [
    "shap.initjs()\n",
    "shap.force_plot(explainerxgbc.expected_value, shap_values_XGBoost_test[15], X_test.iloc[[15]],link= \"logit\")"
   ]
  },
  {
   "cell_type": "markdown",
   "metadata": {
    "papermill": {
     "duration": 0.343099,
     "end_time": "2021-10-24T13:31:58.929540",
     "exception": false,
     "start_time": "2021-10-24T13:31:58.586441",
     "status": "completed"
    },
    "tags": []
   },
   "source": [
    "#### The baseline is  0.6693. \n",
    "## Customer 15 has a very high predicted risk of **0.96 to churn**. \n",
    "### **Month to month contract** significantly increases the probability of customer churn.\n",
    "### Only **Payment method: Bank Transfer-Automatic** decreases the probability of churn.\n",
    "### It is very similar to **Decision Plot** we have seen before."
   ]
  },
  {
   "cell_type": "markdown",
   "metadata": {
    "papermill": {
     "duration": 0.353392,
     "end_time": "2021-10-24T13:31:59.627668",
     "exception": false,
     "start_time": "2021-10-24T13:31:59.274276",
     "status": "completed"
    },
    "tags": []
   },
   "source": [
    "### **Customer 35**"
   ]
  },
  {
   "cell_type": "code",
   "execution_count": null,
   "metadata": {
    "_kg_hide-input": false,
    "execution": {
     "iopub.execute_input": "2021-10-24T13:32:00.326694Z",
     "iopub.status.busy": "2021-10-24T13:32:00.325965Z",
     "iopub.status.idle": "2021-10-24T13:32:00.347431Z",
     "shell.execute_reply": "2021-10-24T13:32:00.346879Z",
     "shell.execute_reply.started": "2021-10-24T13:11:11.411709Z"
    },
    "papermill": {
     "duration": 0.371179,
     "end_time": "2021-10-24T13:32:00.347586",
     "exception": false,
     "start_time": "2021-10-24T13:31:59.976407",
     "status": "completed"
    },
    "tags": []
   },
   "outputs": [],
   "source": [
    "shap.initjs()\n",
    "shap.force_plot(explainerxgbc.expected_value, shap_values_XGBoost_test[35], X_test.iloc[[35]],link= \"logit\")"
   ]
  },
  {
   "cell_type": "markdown",
   "metadata": {
    "papermill": {
     "duration": 0.415556,
     "end_time": "2021-10-24T13:32:01.123431",
     "exception": false,
     "start_time": "2021-10-24T13:32:00.707875",
     "status": "completed"
    },
    "tags": []
   },
   "source": [
    "#### The baseline is 0.6693. \n",
    "## Customer 35 has a very low predicted risk of **0.0005 to churn**. \n",
    "### **Having Two year contract** instead of **month-to-month contract** significantly decreases the probability of customer churn.\n",
    "### It is very similar to **Decision Plot** we have seen before."
   ]
  },
  {
   "cell_type": "markdown",
   "metadata": {
    "papermill": {
     "duration": 0.362934,
     "end_time": "2021-10-24T13:32:01.850819",
     "exception": false,
     "start_time": "2021-10-24T13:32:01.487885",
     "status": "completed"
    },
    "tags": []
   },
   "source": [
    "<a id=\"27\"></a>\n",
    "<font color=\"Darkblue\" size=+1.5><b>SHAP Waterfall Plot</b></font>\n",
    "\n",
    "<a href=\"#toc\" class=\"btn btn-primary btn-sm\" role=\"button\" aria-pressed=\"true\" style=\"color:white\" data-toggle=\"popover\">Table of Contents</a>"
   ]
  },
  {
   "cell_type": "markdown",
   "metadata": {
    "papermill": {
     "duration": 0.371743,
     "end_time": "2021-10-24T13:32:02.587227",
     "exception": false,
     "start_time": "2021-10-24T13:32:02.215484",
     "status": "completed"
    },
    "tags": []
   },
   "source": [
    "- It is very similar to **force plot** so, it would be good to know it."
   ]
  },
  {
   "cell_type": "markdown",
   "metadata": {
    "papermill": {
     "duration": 0.376901,
     "end_time": "2021-10-24T13:32:03.352133",
     "exception": false,
     "start_time": "2021-10-24T13:32:02.975232",
     "status": "completed"
    },
    "tags": []
   },
   "source": [
    "### **Customer 15**"
   ]
  },
  {
   "cell_type": "code",
   "execution_count": null,
   "metadata": {
    "_kg_hide-input": false,
    "execution": {
     "iopub.execute_input": "2021-10-24T13:32:04.090871Z",
     "iopub.status.busy": "2021-10-24T13:32:04.089699Z",
     "iopub.status.idle": "2021-10-24T13:32:05.701111Z",
     "shell.execute_reply": "2021-10-24T13:32:05.701633Z",
     "shell.execute_reply.started": "2021-10-24T13:11:11.431878Z"
    },
    "papermill": {
     "duration": 1.980133,
     "end_time": "2021-10-24T13:32:05.701811",
     "exception": false,
     "start_time": "2021-10-24T13:32:03.721678",
     "status": "completed"
    },
    "tags": []
   },
   "outputs": [],
   "source": [
    "fig = plt.subplots(figsize=(6,6),dpi=200)\n",
    "ax_3= shap.plots._waterfall.waterfall_legacy(explainerxgbc.expected_value, shap_values_XGBoost_test[15], feature_names = X_test.columns,max_display = 20)"
   ]
  },
  {
   "cell_type": "markdown",
   "metadata": {
    "papermill": {
     "duration": 0.37108,
     "end_time": "2021-10-24T13:32:06.448754",
     "exception": false,
     "start_time": "2021-10-24T13:32:06.077674",
     "status": "completed"
    },
    "tags": []
   },
   "source": [
    "### **Customer 35**"
   ]
  },
  {
   "cell_type": "code",
   "execution_count": null,
   "metadata": {
    "_kg_hide-input": false,
    "execution": {
     "iopub.execute_input": "2021-10-24T13:32:07.211428Z",
     "iopub.status.busy": "2021-10-24T13:32:07.210372Z",
     "iopub.status.idle": "2021-10-24T13:32:08.861353Z",
     "shell.execute_reply": "2021-10-24T13:32:08.861902Z",
     "shell.execute_reply.started": "2021-10-24T13:11:12.918785Z"
    },
    "papermill": {
     "duration": 2.035023,
     "end_time": "2021-10-24T13:32:08.862080",
     "exception": false,
     "start_time": "2021-10-24T13:32:06.827057",
     "status": "completed"
    },
    "tags": []
   },
   "outputs": [],
   "source": [
    "fig = plt.subplots(figsize=(6,6),dpi=200)\n",
    "ax_3= shap.plots._waterfall.waterfall_legacy(explainerxgbc.expected_value, shap_values_XGBoost_test[35], feature_names = X_test.columns,max_display = 20)"
   ]
  },
  {
   "cell_type": "markdown",
   "metadata": {
    "papermill": {
     "duration": 0.390496,
     "end_time": "2021-10-24T13:32:09.642737",
     "exception": false,
     "start_time": "2021-10-24T13:32:09.252241",
     "status": "completed"
    },
    "tags": []
   },
   "source": [
    "## **Decision Plot** , **Force Plot** and **Waterfall Plot** are very useful to understand and explain how the model arrived at its decision.\n"
   ]
  },
  {
   "cell_type": "markdown",
   "metadata": {
    "papermill": {
     "duration": 0.387888,
     "end_time": "2021-10-24T13:32:10.427100",
     "exception": false,
     "start_time": "2021-10-24T13:32:10.039212",
     "status": "completed"
    },
    "tags": []
   },
   "source": [
    "<a id=\"28\"></a>\n",
    "<font color=\"Darkblue\" size=+2.5><b>Conclusion</b></font>\n",
    "\n",
    "<a href=\"#toc\" class=\"btn btn-primary btn-sm\" role=\"button\" aria-pressed=\"true\" style=\"color:white\" data-toggle=\"popover\">Table of Contents</a>"
   ]
  },
  {
   "cell_type": "markdown",
   "metadata": {
    "papermill": {
     "duration": 0.383416,
     "end_time": "2021-10-24T13:32:11.195824",
     "exception": false,
     "start_time": "2021-10-24T13:32:10.812408",
     "status": "completed"
    },
    "tags": []
   },
   "source": [
    "## In this notebook, we have looked in detail at how famous trio (XGBoost & LightGBM & Catboost)  models are explained by the SHAP.\n",
    "\n",
    "### First we started with the general explanation of  how model works.\n",
    "\n",
    "### Then we focused on the two different customer churn predictions to see everything in the action.\n",
    "\n",
    "### **SHAP (SHapley Additive exPlanations)** is a method to explain individual predictions.\n",
    "\n",
    "###  **SHAP summary plot** gives in detail info by combining feature importance with its effects.\n",
    "\n",
    "### **SHAP Decison Plot** gives us a clear picture of how models, in our case how complex models, reach their decisions.\n",
    "\n",
    "### **SHAP Force Plot**: We can visualize feature attributions such as Shapley values as “forces”. Each feature value is a force that either increases or decreases the prediction.\n",
    "\n",
    "### **SHAP Waterfall plots** are designed to display explanations for individual predictions, so they expect a single row of an Explanation object as input.\n",
    "\n",
    "### I have to emphasize that it is important to get deep knowledge on the data and problem on the hand. \n",
    "\n",
    "### Model interpretability is very important tool for any Data Scientist to have in her/his toolbox. \n",
    "\n",
    "## **SHAP** is very useful tool to understand and explain how the model arrived at its decision.\n",
    "\n",
    " "
   ]
  },
  {
   "cell_type": "markdown",
   "metadata": {
    "papermill": {
     "duration": 0.386662,
     "end_time": "2021-10-24T13:32:11.968604",
     "exception": false,
     "start_time": "2021-10-24T13:32:11.581942",
     "status": "completed"
    },
    "tags": []
   },
   "source": [
    "### By the way, when you like the topic, you can show it by supporting 👍\n",
    "\n",
    "###  **Feel free to leave a comment**. \n",
    "\n",
    "##  ENJOY YOUR DS / ML Learning Journey.\n",
    "\n",
    "## All the best 🤘"
   ]
  },
  {
   "cell_type": "markdown",
   "metadata": {
    "papermill": {
     "duration": 0.387744,
     "end_time": "2021-10-24T13:32:12.742388",
     "exception": false,
     "start_time": "2021-10-24T13:32:12.354644",
     "status": "completed"
    },
    "tags": []
   },
   "source": [
    "![](https://media.giphy.com/media/3orieM85kojJlOEYFy/giphy.gif)"
   ]
  },
  {
   "cell_type": "markdown",
   "metadata": {
    "papermill": {
     "duration": 0.382156,
     "end_time": "2021-10-24T13:32:13.508633",
     "exception": false,
     "start_time": "2021-10-24T13:32:13.126477",
     "status": "completed"
    },
    "tags": []
   },
   "source": [
    "Gif Credit: https://media.giphy.com/"
   ]
  },
  {
   "cell_type": "markdown",
   "metadata": {
    "execution": {
     "iopub.execute_input": "2021-10-20T19:17:43.789443Z",
     "iopub.status.busy": "2021-10-20T19:17:43.789159Z",
     "iopub.status.idle": "2021-10-20T19:17:43.796844Z",
     "shell.execute_reply": "2021-10-20T19:17:43.79576Z",
     "shell.execute_reply.started": "2021-10-20T19:17:43.789413Z"
    },
    "papermill": {
     "duration": 0.381856,
     "end_time": "2021-10-24T13:32:14.300090",
     "exception": false,
     "start_time": "2021-10-24T13:32:13.918234",
     "status": "completed"
    },
    "tags": []
   },
   "source": [
    "<a id=\"29\"></a>\n",
    "<font color=\"darkblue\" size=+1.5><b>References & Further Reading</b></font>\n",
    "\n",
    "<a href=\"#toc\" class=\"btn btn-primary btn-sm\" role=\"button\" aria-pressed=\"true\" style=\"color:white\" data-toggle=\"popover\">Table of Contents</a>\n",
    "\n",
    "[Machine Learning - Beginner &Intermediate-Friendly BOOKS](https://www.kaggle.com/general/255972)\n",
    "\n",
    "https://christophm.github.io/interpretable-ml-book/\n",
    "\n",
    "https://shap.readthedocs.io/\n",
    "\n",
    "https://shap-lrjball.readthedocs.io/en/docs_update/index.html"
   ]
  }
 ],
 "metadata": {
  "kernelspec": {
   "display_name": "Python 3",
   "language": "python",
   "name": "python3"
  },
  "language_info": {
   "codemirror_mode": {
    "name": "ipython",
    "version": 3
   },
   "file_extension": ".py",
   "mimetype": "text/x-python",
   "name": "python",
   "nbconvert_exporter": "python",
   "pygments_lexer": "ipython3",
   "version": "3.8.5"
  },
  "papermill": {
   "default_parameters": {},
   "duration": 144.865149,
   "end_time": "2021-10-24T13:32:17.599731",
   "environment_variables": {},
   "exception": null,
   "input_path": "__notebook__.ipynb",
   "output_path": "__notebook__.ipynb",
   "parameters": {},
   "start_time": "2021-10-24T13:29:52.734582",
   "version": "2.3.3"
  }
 },
 "nbformat": 4,
 "nbformat_minor": 5
}
