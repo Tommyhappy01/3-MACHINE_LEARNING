{
 "cells": [
  {
   "cell_type": "markdown",
   "metadata": {
    "id": "KI0TtW1tvm_r"
   },
   "source": [
    "___\n",
    "\n",
    "<p style=\"text-align: center;\"><img src=\"https://docs.google.com/uc?id=1lY0Uj5R04yMY3-ZppPWxqCr5pvBLYPnV\" class=\"img-fluid\" alt=\"CLRSWY\"></p>\n",
    "\n",
    "___"
   ]
  },
  {
   "cell_type": "markdown",
   "metadata": {
    "id": "392a02f0-fdda-44ae-a0fc-97f3b03924a9"
   },
   "source": [
    "Data vocabulary:\n",
    "\n",
    "1. #3 (age): age in years \n",
    "2. #4 (sex): sex (1 = male; 0 = female) \n",
    "3. #9 (cp): cp: chest pain type | Value 0: typical angina | Value 1: atypical angina | Value 2: non-anginal pain | Value 3: asymptomatic \n",
    "4. #10 (trestbps): resting blood pressure (in mm Hg on admission to the hospital) \n",
    "5. #12 (chol): serum cholestoral in mg/dl \n",
    "6. #16 (fbs): (fasting blood sugar > 120 mg/dl) (1 = true; 0 = false) \n",
    "7. #19 (restecg): resting electrocardiographic results | Value 0: normal | Value 1: having ST-T wave abnormality (T wave inversions and/or ST elevation or depression of > 0.05 mV) | Value 2: showing probable or definite left ventricular hypertrophy by Estes' criteria \n",
    "8. #32 (thalach): maximum heart rate achieved \n",
    "9. #38 (exang): exercise induced angina (1 = yes; 0 = no) \n",
    "10. #40 (oldpeak): ST depression induced by exercise relative to rest \n",
    "11. #41 (slope): the slope of the peak exercise ST segment | Value 1: upsloping | Value 2: flat | Value 3: downsloping \n",
    "12. #44 (ca): number of major vessels (0-3) colored by flourosopy \n",
    "13. #51 (thal): 3 = normal; 6 = fixed defect; 7 = reversable defect \n",
    "14. #58 (num) (the predicted attribute): Value 0: < 50% diameter narrowing | Value 1: > 50% diameter narrowing "
   ]
  },
  {
   "cell_type": "markdown",
   "metadata": {
    "id": "2kuJJ54iwAlk"
   },
   "source": [
    "# Import esential Libraries"
   ]
  },
  {
   "cell_type": "code",
   "execution_count": 1,
   "metadata": {
    "id": "d2f67c2a-c903-4b6c-bcda-2d69e2619192"
   },
   "outputs": [],
   "source": [
    "import numpy as np\n",
    "import pandas as pd\n",
    "import seaborn as sns\n",
    "import matplotlib.pyplot as plt\n",
    "\n",
    "#%matplotlib inline\n",
    "#%matplotlib notebook\n",
    "plt.rcParams[\"figure.figsize\"] = (10,6)\n",
    "import warnings\n",
    "warnings.filterwarnings(\"ignore\")\n",
    "warnings.warn(\"this will not show\")\n",
    "pd.set_option('display.float_format', lambda x: '%.3f' % x)"
   ]
  },
  {
   "cell_type": "markdown",
   "metadata": {
    "id": "6Qn_DjhPwKRF"
   },
   "source": [
    "# Ingest the data to notebook"
   ]
  },
  {
   "cell_type": "code",
   "execution_count": 2,
   "metadata": {
    "id": "542d4531-d67c-4a30-a836-dc31795ff0e8"
   },
   "outputs": [],
   "source": [
    "df = pd.read_csv('heart.csv')"
   ]
  },
  {
   "cell_type": "code",
   "execution_count": 3,
   "metadata": {},
   "outputs": [
    {
     "data": {
      "text/html": [
       "<div>\n",
       "<style scoped>\n",
       "    .dataframe tbody tr th:only-of-type {\n",
       "        vertical-align: middle;\n",
       "    }\n",
       "\n",
       "    .dataframe tbody tr th {\n",
       "        vertical-align: top;\n",
       "    }\n",
       "\n",
       "    .dataframe thead th {\n",
       "        text-align: right;\n",
       "    }\n",
       "</style>\n",
       "<table border=\"1\" class=\"dataframe\">\n",
       "  <thead>\n",
       "    <tr style=\"text-align: right;\">\n",
       "      <th></th>\n",
       "      <th>age</th>\n",
       "      <th>sex</th>\n",
       "      <th>cp</th>\n",
       "      <th>trestbps</th>\n",
       "      <th>chol</th>\n",
       "      <th>fbs</th>\n",
       "      <th>restecg</th>\n",
       "      <th>thalach</th>\n",
       "      <th>exang</th>\n",
       "      <th>oldpeak</th>\n",
       "      <th>slope</th>\n",
       "      <th>ca</th>\n",
       "      <th>thal</th>\n",
       "      <th>target</th>\n",
       "    </tr>\n",
       "  </thead>\n",
       "  <tbody>\n",
       "    <tr>\n",
       "      <th>0</th>\n",
       "      <td>63</td>\n",
       "      <td>1</td>\n",
       "      <td>3</td>\n",
       "      <td>145</td>\n",
       "      <td>233</td>\n",
       "      <td>1</td>\n",
       "      <td>0</td>\n",
       "      <td>150</td>\n",
       "      <td>0</td>\n",
       "      <td>2.300</td>\n",
       "      <td>0</td>\n",
       "      <td>0</td>\n",
       "      <td>1</td>\n",
       "      <td>1</td>\n",
       "    </tr>\n",
       "    <tr>\n",
       "      <th>1</th>\n",
       "      <td>37</td>\n",
       "      <td>1</td>\n",
       "      <td>2</td>\n",
       "      <td>130</td>\n",
       "      <td>250</td>\n",
       "      <td>0</td>\n",
       "      <td>1</td>\n",
       "      <td>187</td>\n",
       "      <td>0</td>\n",
       "      <td>3.500</td>\n",
       "      <td>0</td>\n",
       "      <td>0</td>\n",
       "      <td>2</td>\n",
       "      <td>1</td>\n",
       "    </tr>\n",
       "    <tr>\n",
       "      <th>2</th>\n",
       "      <td>41</td>\n",
       "      <td>0</td>\n",
       "      <td>1</td>\n",
       "      <td>130</td>\n",
       "      <td>204</td>\n",
       "      <td>0</td>\n",
       "      <td>0</td>\n",
       "      <td>172</td>\n",
       "      <td>0</td>\n",
       "      <td>1.400</td>\n",
       "      <td>2</td>\n",
       "      <td>0</td>\n",
       "      <td>2</td>\n",
       "      <td>1</td>\n",
       "    </tr>\n",
       "    <tr>\n",
       "      <th>3</th>\n",
       "      <td>56</td>\n",
       "      <td>1</td>\n",
       "      <td>1</td>\n",
       "      <td>120</td>\n",
       "      <td>236</td>\n",
       "      <td>0</td>\n",
       "      <td>1</td>\n",
       "      <td>178</td>\n",
       "      <td>0</td>\n",
       "      <td>0.800</td>\n",
       "      <td>2</td>\n",
       "      <td>0</td>\n",
       "      <td>2</td>\n",
       "      <td>1</td>\n",
       "    </tr>\n",
       "    <tr>\n",
       "      <th>4</th>\n",
       "      <td>57</td>\n",
       "      <td>0</td>\n",
       "      <td>0</td>\n",
       "      <td>120</td>\n",
       "      <td>354</td>\n",
       "      <td>0</td>\n",
       "      <td>1</td>\n",
       "      <td>163</td>\n",
       "      <td>1</td>\n",
       "      <td>0.600</td>\n",
       "      <td>2</td>\n",
       "      <td>0</td>\n",
       "      <td>2</td>\n",
       "      <td>1</td>\n",
       "    </tr>\n",
       "  </tbody>\n",
       "</table>\n",
       "</div>"
      ],
      "text/plain": [
       "   age  sex  cp  trestbps  chol  fbs  restecg  thalach  exang  oldpeak  slope  \\\n",
       "0   63    1   3       145   233    1        0      150      0    2.300      0   \n",
       "1   37    1   2       130   250    0        1      187      0    3.500      0   \n",
       "2   41    0   1       130   204    0        0      172      0    1.400      2   \n",
       "3   56    1   1       120   236    0        1      178      0    0.800      2   \n",
       "4   57    0   0       120   354    0        1      163      1    0.600      2   \n",
       "\n",
       "   ca  thal  target  \n",
       "0   0     1       1  \n",
       "1   0     2       1  \n",
       "2   0     2       1  \n",
       "3   0     2       1  \n",
       "4   0     2       1  "
      ]
     },
     "execution_count": 3,
     "metadata": {},
     "output_type": "execute_result"
    }
   ],
   "source": [
    "df.head()"
   ]
  },
  {
   "cell_type": "markdown",
   "metadata": {
    "id": "v64txbyYwhzL"
   },
   "source": [
    "# EDA"
   ]
  },
  {
   "cell_type": "code",
   "execution_count": 4,
   "metadata": {
    "id": "bc7eca15-a6ca-4959-a43b-d20e37bcefb3",
    "scrolled": true
   },
   "outputs": [
    {
     "name": "stdout",
     "output_type": "stream",
     "text": [
      "<class 'pandas.core.frame.DataFrame'>\n",
      "RangeIndex: 303 entries, 0 to 302\n",
      "Data columns (total 14 columns):\n",
      " #   Column    Non-Null Count  Dtype  \n",
      "---  ------    --------------  -----  \n",
      " 0   age       303 non-null    int64  \n",
      " 1   sex       303 non-null    int64  \n",
      " 2   cp        303 non-null    int64  \n",
      " 3   trestbps  303 non-null    int64  \n",
      " 4   chol      303 non-null    int64  \n",
      " 5   fbs       303 non-null    int64  \n",
      " 6   restecg   303 non-null    int64  \n",
      " 7   thalach   303 non-null    int64  \n",
      " 8   exang     303 non-null    int64  \n",
      " 9   oldpeak   303 non-null    float64\n",
      " 10  slope     303 non-null    int64  \n",
      " 11  ca        303 non-null    int64  \n",
      " 12  thal      303 non-null    int64  \n",
      " 13  target    303 non-null    int64  \n",
      "dtypes: float64(1), int64(13)\n",
      "memory usage: 33.3 KB\n"
     ]
    }
   ],
   "source": [
    "df.info()"
   ]
  },
  {
   "cell_type": "code",
   "execution_count": 5,
   "metadata": {
    "scrolled": true
   },
   "outputs": [
    {
     "data": {
      "text/html": [
       "<div>\n",
       "<style scoped>\n",
       "    .dataframe tbody tr th:only-of-type {\n",
       "        vertical-align: middle;\n",
       "    }\n",
       "\n",
       "    .dataframe tbody tr th {\n",
       "        vertical-align: top;\n",
       "    }\n",
       "\n",
       "    .dataframe thead th {\n",
       "        text-align: right;\n",
       "    }\n",
       "</style>\n",
       "<table border=\"1\" class=\"dataframe\">\n",
       "  <thead>\n",
       "    <tr style=\"text-align: right;\">\n",
       "      <th></th>\n",
       "      <th>count</th>\n",
       "      <th>mean</th>\n",
       "      <th>std</th>\n",
       "      <th>min</th>\n",
       "      <th>25%</th>\n",
       "      <th>50%</th>\n",
       "      <th>75%</th>\n",
       "      <th>max</th>\n",
       "    </tr>\n",
       "  </thead>\n",
       "  <tbody>\n",
       "    <tr>\n",
       "      <th>age</th>\n",
       "      <td>303.000</td>\n",
       "      <td>54.366</td>\n",
       "      <td>9.082</td>\n",
       "      <td>29.000</td>\n",
       "      <td>47.500</td>\n",
       "      <td>55.000</td>\n",
       "      <td>61.000</td>\n",
       "      <td>77.000</td>\n",
       "    </tr>\n",
       "    <tr>\n",
       "      <th>sex</th>\n",
       "      <td>303.000</td>\n",
       "      <td>0.683</td>\n",
       "      <td>0.466</td>\n",
       "      <td>0.000</td>\n",
       "      <td>0.000</td>\n",
       "      <td>1.000</td>\n",
       "      <td>1.000</td>\n",
       "      <td>1.000</td>\n",
       "    </tr>\n",
       "    <tr>\n",
       "      <th>cp</th>\n",
       "      <td>303.000</td>\n",
       "      <td>0.967</td>\n",
       "      <td>1.032</td>\n",
       "      <td>0.000</td>\n",
       "      <td>0.000</td>\n",
       "      <td>1.000</td>\n",
       "      <td>2.000</td>\n",
       "      <td>3.000</td>\n",
       "    </tr>\n",
       "    <tr>\n",
       "      <th>trestbps</th>\n",
       "      <td>303.000</td>\n",
       "      <td>131.624</td>\n",
       "      <td>17.538</td>\n",
       "      <td>94.000</td>\n",
       "      <td>120.000</td>\n",
       "      <td>130.000</td>\n",
       "      <td>140.000</td>\n",
       "      <td>200.000</td>\n",
       "    </tr>\n",
       "    <tr>\n",
       "      <th>chol</th>\n",
       "      <td>303.000</td>\n",
       "      <td>246.264</td>\n",
       "      <td>51.831</td>\n",
       "      <td>126.000</td>\n",
       "      <td>211.000</td>\n",
       "      <td>240.000</td>\n",
       "      <td>274.500</td>\n",
       "      <td>564.000</td>\n",
       "    </tr>\n",
       "    <tr>\n",
       "      <th>fbs</th>\n",
       "      <td>303.000</td>\n",
       "      <td>0.149</td>\n",
       "      <td>0.356</td>\n",
       "      <td>0.000</td>\n",
       "      <td>0.000</td>\n",
       "      <td>0.000</td>\n",
       "      <td>0.000</td>\n",
       "      <td>1.000</td>\n",
       "    </tr>\n",
       "    <tr>\n",
       "      <th>restecg</th>\n",
       "      <td>303.000</td>\n",
       "      <td>0.528</td>\n",
       "      <td>0.526</td>\n",
       "      <td>0.000</td>\n",
       "      <td>0.000</td>\n",
       "      <td>1.000</td>\n",
       "      <td>1.000</td>\n",
       "      <td>2.000</td>\n",
       "    </tr>\n",
       "    <tr>\n",
       "      <th>thalach</th>\n",
       "      <td>303.000</td>\n",
       "      <td>149.647</td>\n",
       "      <td>22.905</td>\n",
       "      <td>71.000</td>\n",
       "      <td>133.500</td>\n",
       "      <td>153.000</td>\n",
       "      <td>166.000</td>\n",
       "      <td>202.000</td>\n",
       "    </tr>\n",
       "    <tr>\n",
       "      <th>exang</th>\n",
       "      <td>303.000</td>\n",
       "      <td>0.327</td>\n",
       "      <td>0.470</td>\n",
       "      <td>0.000</td>\n",
       "      <td>0.000</td>\n",
       "      <td>0.000</td>\n",
       "      <td>1.000</td>\n",
       "      <td>1.000</td>\n",
       "    </tr>\n",
       "    <tr>\n",
       "      <th>oldpeak</th>\n",
       "      <td>303.000</td>\n",
       "      <td>1.040</td>\n",
       "      <td>1.161</td>\n",
       "      <td>0.000</td>\n",
       "      <td>0.000</td>\n",
       "      <td>0.800</td>\n",
       "      <td>1.600</td>\n",
       "      <td>6.200</td>\n",
       "    </tr>\n",
       "    <tr>\n",
       "      <th>slope</th>\n",
       "      <td>303.000</td>\n",
       "      <td>1.399</td>\n",
       "      <td>0.616</td>\n",
       "      <td>0.000</td>\n",
       "      <td>1.000</td>\n",
       "      <td>1.000</td>\n",
       "      <td>2.000</td>\n",
       "      <td>2.000</td>\n",
       "    </tr>\n",
       "    <tr>\n",
       "      <th>ca</th>\n",
       "      <td>303.000</td>\n",
       "      <td>0.729</td>\n",
       "      <td>1.023</td>\n",
       "      <td>0.000</td>\n",
       "      <td>0.000</td>\n",
       "      <td>0.000</td>\n",
       "      <td>1.000</td>\n",
       "      <td>4.000</td>\n",
       "    </tr>\n",
       "    <tr>\n",
       "      <th>thal</th>\n",
       "      <td>303.000</td>\n",
       "      <td>2.314</td>\n",
       "      <td>0.612</td>\n",
       "      <td>0.000</td>\n",
       "      <td>2.000</td>\n",
       "      <td>2.000</td>\n",
       "      <td>3.000</td>\n",
       "      <td>3.000</td>\n",
       "    </tr>\n",
       "    <tr>\n",
       "      <th>target</th>\n",
       "      <td>303.000</td>\n",
       "      <td>0.545</td>\n",
       "      <td>0.499</td>\n",
       "      <td>0.000</td>\n",
       "      <td>0.000</td>\n",
       "      <td>1.000</td>\n",
       "      <td>1.000</td>\n",
       "      <td>1.000</td>\n",
       "    </tr>\n",
       "  </tbody>\n",
       "</table>\n",
       "</div>"
      ],
      "text/plain": [
       "           count    mean    std     min     25%     50%     75%     max\n",
       "age      303.000  54.366  9.082  29.000  47.500  55.000  61.000  77.000\n",
       "sex      303.000   0.683  0.466   0.000   0.000   1.000   1.000   1.000\n",
       "cp       303.000   0.967  1.032   0.000   0.000   1.000   2.000   3.000\n",
       "trestbps 303.000 131.624 17.538  94.000 120.000 130.000 140.000 200.000\n",
       "chol     303.000 246.264 51.831 126.000 211.000 240.000 274.500 564.000\n",
       "fbs      303.000   0.149  0.356   0.000   0.000   0.000   0.000   1.000\n",
       "restecg  303.000   0.528  0.526   0.000   0.000   1.000   1.000   2.000\n",
       "thalach  303.000 149.647 22.905  71.000 133.500 153.000 166.000 202.000\n",
       "exang    303.000   0.327  0.470   0.000   0.000   0.000   1.000   1.000\n",
       "oldpeak  303.000   1.040  1.161   0.000   0.000   0.800   1.600   6.200\n",
       "slope    303.000   1.399  0.616   0.000   1.000   1.000   2.000   2.000\n",
       "ca       303.000   0.729  1.023   0.000   0.000   0.000   1.000   4.000\n",
       "thal     303.000   2.314  0.612   0.000   2.000   2.000   3.000   3.000\n",
       "target   303.000   0.545  0.499   0.000   0.000   1.000   1.000   1.000"
      ]
     },
     "execution_count": 5,
     "metadata": {},
     "output_type": "execute_result"
    }
   ],
   "source": [
    "df.describe().T"
   ]
  },
  {
   "cell_type": "code",
   "execution_count": 6,
   "metadata": {},
   "outputs": [
    {
     "data": {
      "text/html": [
       "<div>\n",
       "<style scoped>\n",
       "    .dataframe tbody tr th:only-of-type {\n",
       "        vertical-align: middle;\n",
       "    }\n",
       "\n",
       "    .dataframe tbody tr th {\n",
       "        vertical-align: top;\n",
       "    }\n",
       "\n",
       "    .dataframe thead th {\n",
       "        text-align: right;\n",
       "    }\n",
       "</style>\n",
       "<table border=\"1\" class=\"dataframe\">\n",
       "  <thead>\n",
       "    <tr style=\"text-align: right;\">\n",
       "      <th></th>\n",
       "      <th>age</th>\n",
       "      <th>sex</th>\n",
       "      <th>cp</th>\n",
       "      <th>trestbps</th>\n",
       "      <th>chol</th>\n",
       "      <th>fbs</th>\n",
       "      <th>restecg</th>\n",
       "      <th>thalach</th>\n",
       "      <th>exang</th>\n",
       "      <th>oldpeak</th>\n",
       "      <th>slope</th>\n",
       "      <th>ca</th>\n",
       "      <th>thal</th>\n",
       "      <th>target</th>\n",
       "    </tr>\n",
       "  </thead>\n",
       "  <tbody>\n",
       "    <tr>\n",
       "      <th>age</th>\n",
       "      <td>1.000</td>\n",
       "      <td>-0.098</td>\n",
       "      <td>-0.069</td>\n",
       "      <td>0.279</td>\n",
       "      <td>0.214</td>\n",
       "      <td>0.121</td>\n",
       "      <td>-0.116</td>\n",
       "      <td>-0.399</td>\n",
       "      <td>0.097</td>\n",
       "      <td>0.210</td>\n",
       "      <td>-0.169</td>\n",
       "      <td>0.276</td>\n",
       "      <td>0.068</td>\n",
       "      <td>-0.225</td>\n",
       "    </tr>\n",
       "    <tr>\n",
       "      <th>sex</th>\n",
       "      <td>-0.098</td>\n",
       "      <td>1.000</td>\n",
       "      <td>-0.049</td>\n",
       "      <td>-0.057</td>\n",
       "      <td>-0.198</td>\n",
       "      <td>0.045</td>\n",
       "      <td>-0.058</td>\n",
       "      <td>-0.044</td>\n",
       "      <td>0.142</td>\n",
       "      <td>0.096</td>\n",
       "      <td>-0.031</td>\n",
       "      <td>0.118</td>\n",
       "      <td>0.210</td>\n",
       "      <td>-0.281</td>\n",
       "    </tr>\n",
       "    <tr>\n",
       "      <th>cp</th>\n",
       "      <td>-0.069</td>\n",
       "      <td>-0.049</td>\n",
       "      <td>1.000</td>\n",
       "      <td>0.048</td>\n",
       "      <td>-0.077</td>\n",
       "      <td>0.094</td>\n",
       "      <td>0.044</td>\n",
       "      <td>0.296</td>\n",
       "      <td>-0.394</td>\n",
       "      <td>-0.149</td>\n",
       "      <td>0.120</td>\n",
       "      <td>-0.181</td>\n",
       "      <td>-0.162</td>\n",
       "      <td>0.434</td>\n",
       "    </tr>\n",
       "    <tr>\n",
       "      <th>trestbps</th>\n",
       "      <td>0.279</td>\n",
       "      <td>-0.057</td>\n",
       "      <td>0.048</td>\n",
       "      <td>1.000</td>\n",
       "      <td>0.123</td>\n",
       "      <td>0.178</td>\n",
       "      <td>-0.114</td>\n",
       "      <td>-0.047</td>\n",
       "      <td>0.068</td>\n",
       "      <td>0.193</td>\n",
       "      <td>-0.121</td>\n",
       "      <td>0.101</td>\n",
       "      <td>0.062</td>\n",
       "      <td>-0.145</td>\n",
       "    </tr>\n",
       "    <tr>\n",
       "      <th>chol</th>\n",
       "      <td>0.214</td>\n",
       "      <td>-0.198</td>\n",
       "      <td>-0.077</td>\n",
       "      <td>0.123</td>\n",
       "      <td>1.000</td>\n",
       "      <td>0.013</td>\n",
       "      <td>-0.151</td>\n",
       "      <td>-0.010</td>\n",
       "      <td>0.067</td>\n",
       "      <td>0.054</td>\n",
       "      <td>-0.004</td>\n",
       "      <td>0.071</td>\n",
       "      <td>0.099</td>\n",
       "      <td>-0.085</td>\n",
       "    </tr>\n",
       "    <tr>\n",
       "      <th>fbs</th>\n",
       "      <td>0.121</td>\n",
       "      <td>0.045</td>\n",
       "      <td>0.094</td>\n",
       "      <td>0.178</td>\n",
       "      <td>0.013</td>\n",
       "      <td>1.000</td>\n",
       "      <td>-0.084</td>\n",
       "      <td>-0.009</td>\n",
       "      <td>0.026</td>\n",
       "      <td>0.006</td>\n",
       "      <td>-0.060</td>\n",
       "      <td>0.138</td>\n",
       "      <td>-0.032</td>\n",
       "      <td>-0.028</td>\n",
       "    </tr>\n",
       "    <tr>\n",
       "      <th>restecg</th>\n",
       "      <td>-0.116</td>\n",
       "      <td>-0.058</td>\n",
       "      <td>0.044</td>\n",
       "      <td>-0.114</td>\n",
       "      <td>-0.151</td>\n",
       "      <td>-0.084</td>\n",
       "      <td>1.000</td>\n",
       "      <td>0.044</td>\n",
       "      <td>-0.071</td>\n",
       "      <td>-0.059</td>\n",
       "      <td>0.093</td>\n",
       "      <td>-0.072</td>\n",
       "      <td>-0.012</td>\n",
       "      <td>0.137</td>\n",
       "    </tr>\n",
       "    <tr>\n",
       "      <th>thalach</th>\n",
       "      <td>-0.399</td>\n",
       "      <td>-0.044</td>\n",
       "      <td>0.296</td>\n",
       "      <td>-0.047</td>\n",
       "      <td>-0.010</td>\n",
       "      <td>-0.009</td>\n",
       "      <td>0.044</td>\n",
       "      <td>1.000</td>\n",
       "      <td>-0.379</td>\n",
       "      <td>-0.344</td>\n",
       "      <td>0.387</td>\n",
       "      <td>-0.213</td>\n",
       "      <td>-0.096</td>\n",
       "      <td>0.422</td>\n",
       "    </tr>\n",
       "    <tr>\n",
       "      <th>exang</th>\n",
       "      <td>0.097</td>\n",
       "      <td>0.142</td>\n",
       "      <td>-0.394</td>\n",
       "      <td>0.068</td>\n",
       "      <td>0.067</td>\n",
       "      <td>0.026</td>\n",
       "      <td>-0.071</td>\n",
       "      <td>-0.379</td>\n",
       "      <td>1.000</td>\n",
       "      <td>0.288</td>\n",
       "      <td>-0.258</td>\n",
       "      <td>0.116</td>\n",
       "      <td>0.207</td>\n",
       "      <td>-0.437</td>\n",
       "    </tr>\n",
       "    <tr>\n",
       "      <th>oldpeak</th>\n",
       "      <td>0.210</td>\n",
       "      <td>0.096</td>\n",
       "      <td>-0.149</td>\n",
       "      <td>0.193</td>\n",
       "      <td>0.054</td>\n",
       "      <td>0.006</td>\n",
       "      <td>-0.059</td>\n",
       "      <td>-0.344</td>\n",
       "      <td>0.288</td>\n",
       "      <td>1.000</td>\n",
       "      <td>-0.578</td>\n",
       "      <td>0.223</td>\n",
       "      <td>0.210</td>\n",
       "      <td>-0.431</td>\n",
       "    </tr>\n",
       "    <tr>\n",
       "      <th>slope</th>\n",
       "      <td>-0.169</td>\n",
       "      <td>-0.031</td>\n",
       "      <td>0.120</td>\n",
       "      <td>-0.121</td>\n",
       "      <td>-0.004</td>\n",
       "      <td>-0.060</td>\n",
       "      <td>0.093</td>\n",
       "      <td>0.387</td>\n",
       "      <td>-0.258</td>\n",
       "      <td>-0.578</td>\n",
       "      <td>1.000</td>\n",
       "      <td>-0.080</td>\n",
       "      <td>-0.105</td>\n",
       "      <td>0.346</td>\n",
       "    </tr>\n",
       "    <tr>\n",
       "      <th>ca</th>\n",
       "      <td>0.276</td>\n",
       "      <td>0.118</td>\n",
       "      <td>-0.181</td>\n",
       "      <td>0.101</td>\n",
       "      <td>0.071</td>\n",
       "      <td>0.138</td>\n",
       "      <td>-0.072</td>\n",
       "      <td>-0.213</td>\n",
       "      <td>0.116</td>\n",
       "      <td>0.223</td>\n",
       "      <td>-0.080</td>\n",
       "      <td>1.000</td>\n",
       "      <td>0.152</td>\n",
       "      <td>-0.392</td>\n",
       "    </tr>\n",
       "    <tr>\n",
       "      <th>thal</th>\n",
       "      <td>0.068</td>\n",
       "      <td>0.210</td>\n",
       "      <td>-0.162</td>\n",
       "      <td>0.062</td>\n",
       "      <td>0.099</td>\n",
       "      <td>-0.032</td>\n",
       "      <td>-0.012</td>\n",
       "      <td>-0.096</td>\n",
       "      <td>0.207</td>\n",
       "      <td>0.210</td>\n",
       "      <td>-0.105</td>\n",
       "      <td>0.152</td>\n",
       "      <td>1.000</td>\n",
       "      <td>-0.344</td>\n",
       "    </tr>\n",
       "    <tr>\n",
       "      <th>target</th>\n",
       "      <td>-0.225</td>\n",
       "      <td>-0.281</td>\n",
       "      <td>0.434</td>\n",
       "      <td>-0.145</td>\n",
       "      <td>-0.085</td>\n",
       "      <td>-0.028</td>\n",
       "      <td>0.137</td>\n",
       "      <td>0.422</td>\n",
       "      <td>-0.437</td>\n",
       "      <td>-0.431</td>\n",
       "      <td>0.346</td>\n",
       "      <td>-0.392</td>\n",
       "      <td>-0.344</td>\n",
       "      <td>1.000</td>\n",
       "    </tr>\n",
       "  </tbody>\n",
       "</table>\n",
       "</div>"
      ],
      "text/plain": [
       "            age    sex     cp  trestbps   chol    fbs  restecg  thalach  \\\n",
       "age       1.000 -0.098 -0.069     0.279  0.214  0.121   -0.116   -0.399   \n",
       "sex      -0.098  1.000 -0.049    -0.057 -0.198  0.045   -0.058   -0.044   \n",
       "cp       -0.069 -0.049  1.000     0.048 -0.077  0.094    0.044    0.296   \n",
       "trestbps  0.279 -0.057  0.048     1.000  0.123  0.178   -0.114   -0.047   \n",
       "chol      0.214 -0.198 -0.077     0.123  1.000  0.013   -0.151   -0.010   \n",
       "fbs       0.121  0.045  0.094     0.178  0.013  1.000   -0.084   -0.009   \n",
       "restecg  -0.116 -0.058  0.044    -0.114 -0.151 -0.084    1.000    0.044   \n",
       "thalach  -0.399 -0.044  0.296    -0.047 -0.010 -0.009    0.044    1.000   \n",
       "exang     0.097  0.142 -0.394     0.068  0.067  0.026   -0.071   -0.379   \n",
       "oldpeak   0.210  0.096 -0.149     0.193  0.054  0.006   -0.059   -0.344   \n",
       "slope    -0.169 -0.031  0.120    -0.121 -0.004 -0.060    0.093    0.387   \n",
       "ca        0.276  0.118 -0.181     0.101  0.071  0.138   -0.072   -0.213   \n",
       "thal      0.068  0.210 -0.162     0.062  0.099 -0.032   -0.012   -0.096   \n",
       "target   -0.225 -0.281  0.434    -0.145 -0.085 -0.028    0.137    0.422   \n",
       "\n",
       "          exang  oldpeak  slope     ca   thal  target  \n",
       "age       0.097    0.210 -0.169  0.276  0.068  -0.225  \n",
       "sex       0.142    0.096 -0.031  0.118  0.210  -0.281  \n",
       "cp       -0.394   -0.149  0.120 -0.181 -0.162   0.434  \n",
       "trestbps  0.068    0.193 -0.121  0.101  0.062  -0.145  \n",
       "chol      0.067    0.054 -0.004  0.071  0.099  -0.085  \n",
       "fbs       0.026    0.006 -0.060  0.138 -0.032  -0.028  \n",
       "restecg  -0.071   -0.059  0.093 -0.072 -0.012   0.137  \n",
       "thalach  -0.379   -0.344  0.387 -0.213 -0.096   0.422  \n",
       "exang     1.000    0.288 -0.258  0.116  0.207  -0.437  \n",
       "oldpeak   0.288    1.000 -0.578  0.223  0.210  -0.431  \n",
       "slope    -0.258   -0.578  1.000 -0.080 -0.105   0.346  \n",
       "ca        0.116    0.223 -0.080  1.000  0.152  -0.392  \n",
       "thal      0.207    0.210 -0.105  0.152  1.000  -0.344  \n",
       "target   -0.437   -0.431  0.346 -0.392 -0.344   1.000  "
      ]
     },
     "execution_count": 6,
     "metadata": {},
     "output_type": "execute_result"
    }
   ],
   "source": [
    "df.corr()"
   ]
  },
  {
   "cell_type": "code",
   "execution_count": 7,
   "metadata": {},
   "outputs": [
    {
     "data": {
      "image/png": "[encoded data removed]",
      "text/plain": [
       "<Figure size 1008x576 with 2 Axes>"
      ]
     },
     "metadata": {
      "needs_background": "light"
     },
     "output_type": "display_data"
    }
   ],
   "source": [
    "plt.figure(figsize=(14,8))\n",
    "sns.heatmap(df.corr(),annot = True);"
   ]
  },
  {
   "cell_type": "code",
   "execution_count": 8,
   "metadata": {},
   "outputs": [
    {
     "data": {
      "text/plain": [
       "age         0\n",
       "sex         0\n",
       "cp          0\n",
       "trestbps    0\n",
       "chol        0\n",
       "fbs         0\n",
       "restecg     0\n",
       "thalach     0\n",
       "exang       0\n",
       "oldpeak     0\n",
       "slope       0\n",
       "ca          0\n",
       "thal        0\n",
       "target      0\n",
       "dtype: int64"
      ]
     },
     "execution_count": 8,
     "metadata": {},
     "output_type": "execute_result"
    }
   ],
   "source": [
    "df.isnull().sum()"
   ]
  },
  {
   "cell_type": "code",
   "execution_count": 9,
   "metadata": {
    "scrolled": true
   },
   "outputs": [
    {
     "data": {
      "text/plain": [
       "<AxesSubplot:>"
      ]
     },
     "execution_count": 9,
     "metadata": {},
     "output_type": "execute_result"
    },
    {
     "data": {
      "image/png": "[encoded data removed]",
      "text/plain": [
       "<Figure size 720x432 with 1 Axes>"
      ]
     },
     "metadata": {
      "needs_background": "light"
     },
     "output_type": "display_data"
    }
   ],
   "source": [
    "df.corr()['target'].drop('target').plot.barh()"
   ]
  },
  {
   "cell_type": "code",
   "execution_count": 17,
   "metadata": {},
   "outputs": [
    {
     "ename": "NameError",
     "evalue": "name 'ns' is not defined",
     "output_type": "error",
     "traceback": [
      "\u001b[1;31m---------------------------------------------------------------------------\u001b[0m",
      "\u001b[1;31mNameError\u001b[0m                                 Traceback (most recent call last)",
      "\u001b[1;32m<ipython-input-17-220ca13c1806>\u001b[0m in \u001b[0;36m<module>\u001b[1;34m\u001b[0m\n\u001b[1;32m----> 1\u001b[1;33m \u001b[0mns\u001b[0m\u001b[1;33m.\u001b[0m\u001b[0mpairplot\u001b[0m\u001b[1;33m(\u001b[0m\u001b[0mdf\u001b[0m\u001b[1;33m)\u001b[0m\u001b[1;33m\u001b[0m\u001b[1;33m\u001b[0m\u001b[0m\n\u001b[0m",
      "\u001b[1;31mNameError\u001b[0m: name 'ns' is not defined"
     ]
    }
   ],
   "source": [
    "sns.pairplot(df)"
   ]
  },
  {
   "cell_type": "code",
   "execution_count": 10,
   "metadata": {
    "scrolled": true
   },
   "outputs": [
    {
     "data": {
      "text/plain": [
       "1"
      ]
     },
     "execution_count": 10,
     "metadata": {},
     "output_type": "execute_result"
    }
   ],
   "source": [
    "df.duplicated().sum()"
   ]
  },
  {
   "cell_type": "code",
   "execution_count": 11,
   "metadata": {},
   "outputs": [],
   "source": [
    "df = df.drop_duplicates()"
   ]
  },
  {
   "cell_type": "code",
   "execution_count": 12,
   "metadata": {},
   "outputs": [
    {
     "data": {
      "text/plain": [
       "1    164\n",
       "0    138\n",
       "Name: target, dtype: int64"
      ]
     },
     "execution_count": 12,
     "metadata": {},
     "output_type": "execute_result"
    }
   ],
   "source": [
    "df['target'].value_counts()"
   ]
  },
  {
   "cell_type": "markdown",
   "metadata": {
    "id": "9XRYs7_ZwvG1"
   },
   "source": [
    "# Data Preprocessing"
   ]
  },
  {
   "cell_type": "code",
   "execution_count": 15,
   "metadata": {
    "id": "5d5dc755-7e67-4ee7-9706-a21c1bd6ff09"
   },
   "outputs": [],
   "source": [
    "from sklearn.preprocessing import MinMaxScaler,StandardScaler,RobustScaler\n",
    "from sklearn.model_selection import train_test_split"
   ]
  },
  {
   "cell_type": "code",
   "execution_count": 16,
   "metadata": {},
   "outputs": [],
   "source": [
    "X = df.drop(\"target\",axis=1)"
   ]
  },
  {
   "cell_type": "markdown",
   "metadata": {
    "id": "jeBjgfDiw6uJ"
   },
   "source": [
    "# Implement Logistic Regression and Evaluate"
   ]
  },
  {
   "cell_type": "code",
   "execution_count": null,
   "metadata": {
    "id": "f7f6864d-dfad-433b-a2a5-fd7e92865fd0"
   },
   "outputs": [],
   "source": []
  },
  {
   "cell_type": "markdown",
   "metadata": {
    "id": "uyHR7S4ExKCU"
   },
   "source": [
    "# Implement KNN and Evaluate"
   ]
  },
  {
   "cell_type": "code",
   "execution_count": null,
   "metadata": {
    "id": "612bff88-57f4-4d18-88bc-6fc7bb95735f"
   },
   "outputs": [],
   "source": []
  },
  {
   "cell_type": "markdown",
   "metadata": {
    "id": "tWSsL9psxaR6"
   },
   "source": [
    "# Implement SVM and Evaluate"
   ]
  },
  {
   "cell_type": "code",
   "execution_count": null,
   "metadata": {
    "id": "d4f69871-a019-49ab-a082-9d5f6f7020c8"
   },
   "outputs": [],
   "source": []
  },
  {
   "cell_type": "markdown",
   "metadata": {
    "id": "8Hfumh_PyEoh"
   },
   "source": [
    "# Visually compare models based on your chosen metric"
   ]
  },
  {
   "cell_type": "code",
   "execution_count": null,
   "metadata": {
    "id": "Rm-5gpKgycqD"
   },
   "outputs": [],
   "source": []
  },
  {
   "cell_type": "markdown",
   "metadata": {
    "id": "3oDKxZRqx0Nw"
   },
   "source": [
    "# Chose best model and make a random prediction "
   ]
  },
  {
   "cell_type": "code",
   "execution_count": null,
   "metadata": {
    "id": "pBjxBp8VxzhE"
   },
   "outputs": [],
   "source": []
  }
 ],
 "metadata": {
  "colab": {
   "collapsed_sections": [],
   "name": "Heart_Stroke_Prediction_lab.ipynb",
   "provenance": []
  },
  "kernelspec": {
   "display_name": "Python 3",
   "language": "python",
   "name": "python3"
  },
  "language_info": {
   "codemirror_mode": {
    "name": "ipython",
    "version": 3
   },
   "file_extension": ".py",
   "mimetype": "text/x-python",
   "name": "python",
   "nbconvert_exporter": "python",
   "pygments_lexer": "ipython3",
   "version": "3.8.5"
  }
 },
 "nbformat": 4,
 "nbformat_minor": 5
}
