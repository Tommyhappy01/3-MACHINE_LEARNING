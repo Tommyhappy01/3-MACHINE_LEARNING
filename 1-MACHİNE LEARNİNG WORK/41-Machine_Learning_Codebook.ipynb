{
 "cells": [
  {
   "cell_type": "markdown",
   "metadata": {},
   "source": [
    "<h1><center><span style=\"color:MidnightBlue; opacity: 0.9;\">BAŞLANGIÇ SEVİYESİ ML KODLARI VE AÇIKLAMALARI</span></center></h1>"
   ]
  },
  {
   "cell_type": "markdown",
   "metadata": {},
   "source": [
    "<img src=\"https://i.scdn.co/image/ab67616d00001e029b6cd365d38496b580026989\" alt=\"drawing\" width=\"200\"/>"
   ]
  },
  {
   "cell_type": "markdown",
   "metadata": {},
   "source": [
    "<h2><left><span style=\"color:LightCoral; opacity: 1;\">BASIC DATA EXPLORATION / TEMEL VERİ KEŞFİ</span></left></h2>"
   ]
  },
  {
   "cell_type": "markdown",
   "metadata": {},
   "source": [
    "<h3><left><span style=\"color:SteelBlue; opacity: 1;\">Libraries / Kütüphaneler</span></left></h3>"
   ]
  },
  {
   "cell_type": "markdown",
   "metadata": {},
   "source": [
    "- <span style=\"color:green; opacity: 1;\">**import**</span> *pandas* <span style=\"color:green\">**as**</span> *pd*<br>\n",
    "<p><span style=\"color:black; opacity: 1;\">Pandas kütüphanesinin en önemli kısmı DataFrame'dir. DataFrame, tablo olarak düşünebileceğiniz veri türünü tutar. Bu, Excel'deki bir sayfaya veya SQL veritabanındaki bir tabloya benzer.</span></p>"
   ]
  },
  {
   "cell_type": "markdown",
   "metadata": {},
   "source": [
    "- <span style=\"color:green; opacity: 1;\">**import**</span> *numpy* <span style=\"color:green\">**as**</span> *np*<br>\n",
    "<p><span style=\"color:black; opacity: 1;\">NumPy, Python'da bilimsel hesaplama için temel paket dildir. Çok boyutlu bir dizi nesnesi, çeşitli türetilmiş nesneler (diziler ve matrisler gibi) sağlayan bir Python kütüphanesidir.</span></p>"
   ]
  },
  {
   "cell_type": "markdown",
   "metadata": {},
   "source": [
    "- <span style=\"color:green; opacity: 1;\">**import**</span> *scipy.stats* <span style=\"color:green\">**as** </span>*stats*<br>\n",
    "<p><span style=\"color:black; opacity: 1;\">Bu modül çok sayıda olasılık dağılımı, özet ve frekans istatistikleri, korelasyon işlevleri ve istatistiksel testler, maskelenmiş istatistikler, kernel density tahmini, quasi-Monte Carlo functionality ve daha fazlasını içerir.</span></p>"
   ]
  },
  {
   "cell_type": "markdown",
   "metadata": {},
   "source": [
    "- <span style=\"color:green; opacity: 1;\">**import**</span> *matplotlib.pyplot* <span style=\"color:green\">**as**</span> *plt*<br>\n",
    "<p><span style=\"color:black; opacity: 1;\">matplotlib.pyplot, matplotlib için durum tabanlı bir arayüzdür. MATLAB benzeri bir çizim yolu sağlar. Pyplot temel olarak etkileşimli grafikler ve basit programatik plot (grafik) oluşturma durumları için tasarlanmıştır.</span></p>"
   ]
  },
  {
   "cell_type": "markdown",
   "metadata": {},
   "source": [
    "- <span style=\"color:green; opacity: 1;\">**import**</span> *seaborn* <span style=\"color:green\">**as** </span>*sns*<br>\n",
    "<p><span style=\"color:black; opacity: 1;\">Seaborn, matplotlib tabanlı bir Python veri görselleştirme kütüphanesidir. Çekici ve bilgilendirici istatistiksel grafikler çizmek için üst düzey bir arayüz sağlar.</span></p>"
   ]
  },
  {
   "cell_type": "markdown",
   "metadata": {},
   "source": [
    "- <span style=\"color:green; opacity: 1;\">**import**</span> *warnings*<br> *warnings.filterwarnings* (<span style=\"color:Crimson\">'ignore'</span>)<br>\n",
    "<p><span style=\"color:black; opacity: 1;\">Bir uyarı mesajı verilip verilmeyeceğinin belirlenmesi, eşleşen kurallar ve eylemler dizisi olan uyarı filtresi tarafından kontrol edilir. Kurallar, filterwarnings() çağrılarak filtreye eklenebilir ve resetwarnings() çağrılarak varsayılan durumuna sıfırlanabilir.</span></p>"
   ]
  },
  {
   "cell_type": "markdown",
   "metadata": {},
   "source": [
    "- *plt.rcParams*[<span style=\"color:Crimson\">\"figure.figsize\"</span>] <span style=\"color:DarkViolet\">**=**</span> *(*<span style=\"color:green\">10</span>**,**<span style=\"color:green\">6</span>*)*<br>\n",
    "<p><span style=\"color:black; opacity: 1;\">Bir python scriptindeki varsayılan rc ayarlarını dinamik olarak veya python shell'den etkileşimli olarak değiştirebilirsiniz. Tüm rc ayarları, matplotlib paketine genel olan matplotlib.rcParams adlı sözlük benzeri bir değişkende saklanır.</span></p>"
   ]
  },
  {
   "cell_type": "markdown",
   "metadata": {},
   "source": [
    "<h3><left><span style=\"color:SteelBlue; opacity: 1;\">Reading Dataset / Veri Setini Okuma</span></left></h3>"
   ]
  },
  {
   "cell_type": "markdown",
   "metadata": {},
   "source": [
    "- *pd.read_csv*(<span style=\"color:Crimson\">\"Dataset.csv\"</span>)<br>\n",
    "<p><span style=\"color:black; opacity: 1;\">CSV (virgülle ayrılmış değerler) dosyaları, verilerin aktarılması ve depolanması için yaygın bir dosya biçimidir. pd.read_csv(\"...\") python kullanarak CSV dosyalarından veri okuma, işleme ve yazma yeteneğidir.</span></p>"
   ]
  },
  {
   "cell_type": "markdown",
   "metadata": {},
   "source": [
    "<h3><left><span style=\"color:SteelBlue; opacity: 1;\">Basic Analysis Codes / Temel Analiz Kodları</span></left></h3>"
   ]
  },
  {
   "cell_type": "markdown",
   "metadata": {},
   "source": [
    "- *df.info()*<br>\n",
    "<p><span style=\"color:black; opacity: 1;\">Pandas dataframe.info() işlevi, verinin kısa bir özetini almak için kullanılır. Verilerin keşifsel analizini yaparken gerçekten kullanışlı olur. Veri kümesine hızlı bir genel bakış elde etmek için dataframe.info() işlevini kullanırız.</span></p>"
   ]
  },
  {
   "cell_type": "markdown",
   "metadata": {},
   "source": [
    "- *df.describe()*<br>\n",
    "<p><span style=\"color:black; opacity: 1;\">Pandas describe(), bir veri setinin veya bir dizi sayısal değerin yüzdelik oranı, ortalaması, standart sapması vb. gibi bazı temel istatistiksel ayrıntılarını görüntülemek için kullanılır. Not: std mean'den büyükse outlier sorunu olabilir, 25 ile min veya 75 ile max arasında ciddi bir fark varsa outlier üzerinde durulmalı.</span></p>"
   ]
  },
  {
   "cell_type": "markdown",
   "metadata": {},
   "source": [
    "- *sns.heatmap()*<br>\n",
    "<p><span style=\"color:black; opacity: 1;\">Değişkenlerin yoğunluğunu veya doygunluğunu tanımlamak, desen-kalıpları, varyansı ve hatta anormallikleri görselleştirmek için yaygın olarak uygulanır.</span></p>"
   ]
  },
  {
   "cell_type": "markdown",
   "metadata": {},
   "source": [
    "<h2><left><span style=\"color:LightCoral; opacity: 1;\">INTO THE FIRST MACHINE LEARNING MODEL / MAKİNE ÖĞRENİMİNE DOĞRU</span></left></h2>"
   ]
  },
  {
   "cell_type": "markdown",
   "metadata": {},
   "source": [
    "<h3><left><span style=\"color:SteelBlue; opacity: 1;\">Relation of Each Features And Target / Her Bir Feature ve Target İlişkisi</span></left></h3>"
   ]
  },
  {
   "cell_type": "markdown",
   "metadata": {},
   "source": [
    "- Konu anlatımına boğmadan kısaca değinmek gerekirse; Target sütunumuz yani \"y\" ile temsil edilen hedef sütunumuz ve bu bağımsız y sütununa etki eden bağımlı feature sütunlarımız \"X\" vardır.<br>\n",
    "\n",
    "    <p>Feature sütunların her birinin ayrı ayrı olarak target sütununu nasıl etkilediğini gösteren bir def yazarak kontrol etmemize yarayan kodlar:</p>"
   ]
  },
  {
   "cell_type": "code",
   "execution_count": 1,
   "metadata": {},
   "outputs": [
    {
     "ename": "NameError",
     "evalue": "name 'df' is not defined",
     "output_type": "error",
     "traceback": [
      "\u001b[1;31m---------------------------------------------------------------------------\u001b[0m",
      "\u001b[1;31mNameError\u001b[0m                                 Traceback (most recent call last)",
      "\u001b[1;32m<ipython-input-1-102ffc13b784>\u001b[0m in \u001b[0;36m<module>\u001b[1;34m\u001b[0m\n\u001b[0;32m      7\u001b[0m     \u001b[0mplt\u001b[0m\u001b[1;33m.\u001b[0m\u001b[0mshow\u001b[0m\u001b[1;33m(\u001b[0m\u001b[1;33m)\u001b[0m\u001b[1;33m\u001b[0m\u001b[1;33m\u001b[0m\u001b[0m\n\u001b[0;32m      8\u001b[0m \u001b[1;33m\u001b[0m\u001b[0m\n\u001b[1;32m----> 9\u001b[1;33m \u001b[1;32mfor\u001b[0m \u001b[0mcol\u001b[0m \u001b[1;32min\u001b[0m \u001b[0mdf\u001b[0m\u001b[1;33m.\u001b[0m\u001b[0mdrop\u001b[0m\u001b[1;33m(\u001b[0m\u001b[1;34m\"target_col_name\"\u001b[0m\u001b[1;33m,\u001b[0m \u001b[0maxis\u001b[0m\u001b[1;33m=\u001b[0m\u001b[1;36m1\u001b[0m\u001b[1;33m)\u001b[0m\u001b[1;33m.\u001b[0m\u001b[0mcolumns\u001b[0m\u001b[1;33m:\u001b[0m\u001b[1;33m\u001b[0m\u001b[1;33m\u001b[0m\u001b[0m\n\u001b[0m\u001b[0;32m     10\u001b[0m     \u001b[0mcheck_dist\u001b[0m\u001b[1;33m(\u001b[0m\u001b[0mdf\u001b[0m\u001b[1;33m,\u001b[0m \u001b[0mcol\u001b[0m\u001b[1;33m)\u001b[0m\u001b[1;33m\u001b[0m\u001b[1;33m\u001b[0m\u001b[0m\n\u001b[0;32m     11\u001b[0m \u001b[1;33m\u001b[0m\u001b[0m\n",
      "\u001b[1;31mNameError\u001b[0m: name 'df' is not defined"
     ]
    }
   ],
   "source": [
    "# 1. Yol\n",
    "def check_dist(df, var):\n",
    "    plt.subplot(1, 2, 1)\n",
    "    sns.histplot(x=var, data=df, kde = True)\n",
    "    plt.subplot(1, 2, 2)\n",
    "    stats.probplot(df[var], dist=\"norm\", plot=plt)\n",
    "    plt.show()\n",
    "\n",
    "for col in df.drop(\"target_col_name\", axis=1).columns:\n",
    "    check_dist(df, col)\n",
    "\n",
    "# Bu grafik için not: Değerlerim line etrafında bir sarmaşık gibi dolanmışsa burda normal dağılım var diyebiliriz.\n",
    "# Ama bir tarafta sapma (line'dan uzaklaşma) varsa normal dağılımdan uzaklaşmış demektir."
   ]
  },
  {
   "cell_type": "code",
   "execution_count": null,
   "metadata": {},
   "outputs": [],
   "source": [
    "# 2. Yol\n",
    "def plot_relation(df, target_var):\n",
    "    num_cols = df.columns\n",
    "    for col in num_cols:\n",
    "        if col != target_var:\n",
    "            plt.figure()\n",
    "            sns.lmplot(x=col, y=target_var, data=df, height=7)\n",
    "            plt.xlabel(f\"variable name: {col}\")\n",
    "            plt.ylabel(\"Target\")\n",
    "\n",
    "plot_relation(df, \"target\")"
   ]
  },
  {
   "cell_type": "markdown",
   "metadata": {},
   "source": [
    "- Skewness kontrolu ve yorumlanması."
   ]
  },
  {
   "cell_type": "code",
   "execution_count": null,
   "metadata": {},
   "outputs": [],
   "source": [
    "from scipy.stats import skew\n",
    "for i in df.drop(columns = \"target\").columns:\n",
    "    print(i, skew(df[i]))"
   ]
  },
  {
   "cell_type": "markdown",
   "metadata": {},
   "source": [
    "Lineer regression uygulayabilmemiz için kabul edilebilir skewness aralığı -1 ile +1 arasındadır. Eğer skew değerim -0.5 ile +0.5 arasında bir değerde ise ise normal dağılımdan bahsedebiliriz ve dolayısıyla lineer regression için uygundur. \n",
    "\n",
    "0.5 ile 1 arasında ise orta seviyede (moderate) skewness olduğunu söyleyebiliriz. bu durumda da lineer regression kullanabiliriz ama -/+ 1 den büyük ise lineer reg. uygulayamayız. "
   ]
  },
  {
   "cell_type": "markdown",
   "metadata": {},
   "source": [
    "- Pairplot ile ilşki analizi:"
   ]
  },
  {
   "cell_type": "code",
   "execution_count": null,
   "metadata": {},
   "outputs": [],
   "source": [
    "sns.pairplot(df)"
   ]
  },
  {
   "cell_type": "markdown",
   "metadata": {},
   "source": [
    "Tüm dependent feature'ların independent feature (target/label) ile olan bağlılıklarına bakıyoruz. Aralarındaki ilişkinin gücü bana hangi feature'ların tahmin etmede daha önemli olduğu konusunda bir fikir verse de sadece corr ile buna karar veremeyiz. \n",
    "\n",
    "Corr ile bir lineerity var mı ona bakarız. Correlasyon bana; bir linearity den bahsedebilir miyiz bahsedemez miyiz bana bunu söylüyor."
   ]
  },
  {
   "cell_type": "markdown",
   "metadata": {},
   "source": [
    "<h3><left><span style=\"color:SteelBlue; opacity: 1;\">Relation of Total Features And Target / Target ve Toplam Features İlişkisi</span></left></h3>"
   ]
  },
  {
   "cell_type": "markdown",
   "metadata": {},
   "source": [
    "***Not:*** Eğer isterseniz datasetinize yeni bir kolon ekleyip, bu kolonda tüm feature sütunlarımızı toplayabiliriz. Bu yeni kolonu da, aynı diğer feature kolonları gibi target ile karşılaştırabiliriz. Ve featurelarımızın target ile olan corr ve R2 skorlarını değerlendirebiliriz."
   ]
  },
  {
   "cell_type": "markdown",
   "metadata": {},
   "source": [
    "- <span style=\"color:green; opacity: 1;\">**Corr nedir?**</span><br>\n",
    "<p><span style=\"color:black; opacity: 1;\">Korelasyonun kısaltmasıdır. Pandas dataframe.corr(), veri setindeki tüm sütunların ikili korelasyonunu bulmak için kullanılır. Herhangi bir na değeri otomatik olarak hariç tutulur. Veri setindeki herhangi bir sayısal olmayan veri türü sütunları için yok sayılır.</span></p>"
   ]
  },
  {
   "cell_type": "markdown",
   "metadata": {},
   "source": [
    "- <span style=\"color:green; opacity: 1;\">**R2 Score nedir?**</span><br>\n",
    "<p><span style=\"color:black; opacity: 1;\">Coefficient of determination yani Determinasyon (belirleme) katsayısıdır. Korelasyonun karesidir. Belirleme katsayısı, R2, bir değişkendeki farklılıkların ikinci bir değişkendeki farkla nasıl açıklanabileceğini analiz etmek için kullanılır. Daha spesifik olarak, R-kare, x değişkenleri tarafından açıklanan y'deki yüzde değişimini verir. Aralık 0 ila 1'dir (yani, y'deki varyasyonun %0 ila %100'ü x değişkenleriyle açıklanabilir).</span></p>"
   ]
  },
  {
   "cell_type": "code",
   "execution_count": null,
   "metadata": {},
   "outputs": [],
   "source": [
    "# X imizi oluşturalıp.\n",
    "df[\"total_of_features\"] = df.feature_1 + df.feature_2 + df.feature_3 ..."
   ]
  },
  {
   "cell_type": "code",
   "execution_count": null,
   "metadata": {},
   "outputs": [],
   "source": [
    "# Corr ilişkisi\n",
    "corr = df[\"target\"].corr(df[\"total_of_features\"])\n",
    "corr"
   ]
  },
  {
   "cell_type": "markdown",
   "metadata": {},
   "source": [
    "- Aşağıdaki grafiklerin ne işe yaradığını ve nasıl yorumlanması gerektiğini Google'layarak bulabilirsiniz."
   ]
  },
  {
   "cell_type": "code",
   "execution_count": null,
   "metadata": {},
   "outputs": [],
   "source": [
    "# Scatterplot grafiği\n",
    "sns.scatterplot(x = \"total_of_features\", y = \"target\", data = df)"
   ]
  },
  {
   "cell_type": "code",
   "execution_count": null,
   "metadata": {},
   "outputs": [],
   "source": [
    "# Regplot grafiği\n",
    "sns.regplot(x = \"total_of_features\", y = \"target\", data = df, ci = None, label=f\"Correlation: {corr}\")  # best line\n",
    "plt.legend();"
   ]
  },
  {
   "cell_type": "code",
   "execution_count": null,
   "metadata": {},
   "outputs": [],
   "source": [
    "# R2 ilişkisi\n",
    "R2_score = corr**2\n",
    "R2_score"
   ]
  },
  {
   "cell_type": "markdown",
   "metadata": {},
   "source": [
    "<h3><left><span style=\"color:SteelBlue; opacity: 1;\">Building Your Model / Modelimizi İnşa Etme</span></left></h3>"
   ]
  },
  {
   "cell_type": "markdown",
   "metadata": {},
   "source": [
    "- Yukarıdaki ilişkisel analizlerimizin sonucu bir karar mekanizması olarak hangi sütunların feature (X) ve hangi sütunun target (y) olduğuna karar verdikten sonra artık bizim ilgileneceğimiz veri setini gerekli değişkenlere atamak için kodlar."
   ]
  },
  {
   "cell_type": "code",
   "execution_count": null,
   "metadata": {},
   "outputs": [],
   "source": [
    "X = df.total_of_features\n",
    "y = df.target\n",
    "---\n",
    "X = df[\"total_of_features\"]\n",
    "y = df[\"target\"]"
   ]
  },
  {
   "cell_type": "markdown",
   "metadata": {},
   "source": [
    "- <span style=\"color:green; opacity: 1;\">**from**</span> *sklearn.tree* <span style=\"color:green\">**import**</span> *DecisionTreeRegressor*<br>\n",
    "<p><span style=\"color:black; opacity: 1;\">Modellerinizi oluşturmak için scikit-learn kütüphanesini kullanacağız. Kodlama yaparken bu kütüphane yukarıda görüldüğü gibi **sklearn** olarak yazılır. Scikit-learn, DataFrame'lerde tipik olarak depolanan veri türlerini modellemek için kolayca kullanılabilen en popüler kütüphanedir.</span></p>"
   ]
  },
  {
   "cell_type": "markdown",
   "metadata": {},
   "source": [
    "- <span style=\"color:black; opacity: 0.8;\">**Steps / Adımlar:**</span><br>\n",
    "\n",
    "- <span style=\"color:green; opacity: 1;\">**Define:**</span> <span style=\"color:black; opacity: 1;\">Ne tür bir model olacak? DecisionTree mi? Başka bir model türü mü? Model tipinin diğer bazı parametreleri de belirtilir.</span><br>\n",
    "- <span style=\"color:green; opacity: 1;\">**Fit:**</span> <span style=\"color:black; opacity: 1;\">Elimizdeki verilerden yola çıkarak sağlanan kalıpları yakalarız. Bu modellemenin kalbidir.</span><br>\n",
    "- <span style=\"color:green; opacity: 1;\">**Predict:**</span> <span style=\"color:black; opacity: 1;\">Adından da anlaşıldığı gibi tahmin etmedir.</span><br>\n",
    "- <span style=\"color:green; opacity: 1;\">**Evaluate:**</span> <span style=\"color:black; opacity: 1;\">Modelin tahminlerinin ne kadar doğru olduğunu görerek belirleriz.</span>"
   ]
  },
  {
   "cell_type": "markdown",
   "metadata": {},
   "source": [
    "<span style=\"color:Crimson\">**Şimdi anlatılacak kısımlar detaylardır. Dilerseniz bu kısmı atlayarak**</span> <font size=\"5\"><span style=\"color:LightCoral; opacity: 1;\">**MODEL VALIDATION**</span></font> <span style=\"color:Crimson\">**kısmından devam edebilirsiniz. Burada best fit line seçilirken yani predict ederken neden least squares error method kullanıldığını açıklar.**</span>\n",
    "\n",
    "- Gelin slope ve interceptlerin neler olduğunu 2 ayrı yöntem ile bulalım: (bunların ne olduğunu Google'dan bulabilirsiniz.)"
   ]
  },
  {
   "cell_type": "code",
   "execution_count": 3,
   "metadata": {},
   "outputs": [],
   "source": [
    "# 1. Yol\n",
    "np.polyfit(X, y, deg = 1)"
   ]
  },
  {
   "cell_type": "code",
   "execution_count": null,
   "metadata": {},
   "outputs": [],
   "source": [
    "# 2. Yol\n",
    "X_mat = np.vstack([X, np.ones(len(X))]).T\n",
    "m, c = np.linalg.lstsq(X_mat, y, rcond=None)[0]\n",
    "m, c"
   ]
  },
  {
   "cell_type": "markdown",
   "metadata": {},
   "source": [
    "- Tahmin edeceğiniz üzere şimdi bu slope (eğim) ve intercept (b0) değerleri ile least squares error denklemimizi oluşturacak predict (tahmin) denklemlerimizi yazalım."
   ]
  },
  {
   "cell_type": "code",
   "execution_count": null,
   "metadata": {},
   "outputs": [],
   "source": [
    "# y = b1x + b0\n",
    "b1 = np.polyfit(X, y, deg = 1)[0]\n",
    "b0 = np.polyfit(X, y, deg = 1)[1]\n",
    "\n",
    "predict = b1*X + b0"
   ]
  },
  {
   "cell_type": "markdown",
   "metadata": {},
   "source": [
    "- Ve artık ***actual (mevcut)*** değerimizi, ***predict (tahmin)*** edilmiş değerimizi, aradaki ***residual (sapma-fark)*** değerimizi ve ***LSE*** yani ***least squares error*** değerimizi getiren bir dataframe oluşturalım."
   ]
  },
  {
   "cell_type": "code",
   "execution_count": null,
   "metadata": {},
   "outputs": [],
   "source": [
    "values = {\"actual\": y, \"predicted\": predict, \"residual\": y-predict, \"LSE\": (y-predict)**2}\n",
    "df_2 = pd.DataFrame(values)\n",
    "df_2"
   ]
  },
  {
   "cell_type": "markdown",
   "metadata": {},
   "source": [
    "- Şimdi residual değerlerimin toplamına bakarak ne kadar sıfıra yakın ise o kadar iyi bir best fitimin olduğunu kontroleden toplam denklemimize bakalım:"
   ]
  },
  {
   "cell_type": "code",
   "execution_count": null,
   "metadata": {},
   "outputs": [],
   "source": [
    "# 1.Yol\n",
    "# Best line ın best olduğu kontrol edilir. Eğer sıfır ise başarılıdır.\n",
    "df_2.residual.sum().round()"
   ]
  },
  {
   "cell_type": "code",
   "execution_count": null,
   "metadata": {},
   "outputs": [],
   "source": [
    "# 2. Yol\n",
    "np.sum(df_2['residual']).round()"
   ]
  },
  {
   "cell_type": "markdown",
   "metadata": {},
   "source": [
    "- Şimdi ise linspace fonksiyonu ile 0-500 arasında 100 eşit sayılar ile bir lineer regresyon eğrisi oluşturalım. Dikkat ettiyseniz b1 ve b0 sayılarımız yani slope ve intercept kullanarak denklemimizi oluşturuyoruz.\n",
    "- Ve oluşturduğumuz bu eğrinin grafiği üzerine bağımsız ve bağımlı değişkenlerimin scatterplot, yani nokta dağılım grafiğini çizdirerek şunu anlamaya çalışıyorum:\n",
    "- ***Benim slope (eğim) ve interceptim (b0) ile oluşturduğum bu lineer regresyon grafiğim; bağımlı ve bağımsız değişkenlerimin noktadağılım grafiğine best fit olabilecek mi diye yorum yapıyorum***"
   ]
  },
  {
   "cell_type": "code",
   "execution_count": null,
   "metadata": {},
   "outputs": [],
   "source": [
    "potential_spend = np.linspace(0, 500, 100)\n",
    "\n",
    "predicted_sales_lin = b1 * potential_spend + b0\n",
    "\n",
    "# Grafiğim için\n",
    "plt.plot(potential_spend, predicted_sales_lin)\n",
    "sns.scatterplot(x='total_of_features', y='target',data=df)"
   ]
  },
  {
   "cell_type": "code",
   "execution_count": null,
   "metadata": {},
   "outputs": [],
   "source": [
    "# Yukarıdaki kodun kısa hali (biraz karmaşık) ve sonucu;\n",
    "\n",
    "plt.plot(np.linspace(0, 500, 100), (b1 * potential_spend + b0))\n",
    "sns.scatterplot(x='total_of_features', y='target',data=df)"
   ]
  },
  {
   "attachments": {
    "image.png": {
     "image/png": "[encoded data removed]"
    }
   },
   "cell_type": "markdown",
   "metadata": {},
   "source": [
    "<left>![image.png](attachment:image.png)<left>"
   ]
  },
  {
   "cell_type": "markdown",
   "metadata": {},
   "source": [
    "- <span style=\"color:black; opacity: 0.8;\">**Tahmin Eğrimi Geliştirme Yolları:**</span><br>\n",
    "1. Son olarak, eğer istersek lineer regresyon **denklemimin derecesini artırarak**, lineer olan eğrimi polylinear hale getirebilirim. Bu sayede tahmin eğrimi bir kademe daha geliştirerek yeni eğrimin noktalarım ile daha iyi örtüşmesini sağlarım. Bu konu detaylı kodlar aşağıdadır.\n",
    "2. Elimdeki feaure sayısını, modelimin **complex yapısını artırırsam** da daha iyi bir tahmin elde edebilirim. Ama bu kompleksitenin de bir sınırı vardır. ML'de amaç, feature larımı minimize edip ondan en iyi sonuç almaktır. Minimumdan asıl olan; OPTIMUM sayıda featurelar (en iyi tanımlayan) ile  classification/regression başarmak. Optimum noktasının altinda da iyi % başarım elde edilebilir."
   ]
  },
  {
   "cell_type": "code",
   "execution_count": null,
   "metadata": {},
   "outputs": [],
   "source": [
    "# Derece artırma\n",
    "a3 = np.polyfit(X, y, deg =3)[0]\n",
    "a2 = np.polyfit(X, y, deg =3)[1]\n",
    "a1 = np.polyfit(X, y, deg =3)[2]\n",
    "a0 = np.polyfit(X, y, deg =3)[3]\n",
    "predicted_sales_poly = a3*potential_spend**3 + a2*potential_spend**2 + a1*potential_spend + a0\n",
    "\n",
    "# Linear ve Polylinear Eğrilerim\n",
    "sns.scatterplot(x=\"total_of_features\", y=\"target\", data=df)\n",
    "plt.plot(potential_spend, predicted_sales_poly, color=\"red\")\n",
    "plt.plot(potential_spend, predicted_sales_lin, color='blue')"
   ]
  },
  {
   "attachments": {
    "image.png": {
     "image/png": "[encoded data removed]"
    }
   },
   "cell_type": "markdown",
   "metadata": {},
   "source": [
    "![image.png](attachment:image.png)"
   ]
  },
  {
   "cell_type": "markdown",
   "metadata": {},
   "source": [
    "<h2><left><span style=\"color:LightCoral; opacity: 1;\">MODEL VALIDATION / MODEL DOĞRULAMA</span></left></h2>"
   ]
  },
  {
   "cell_type": "markdown",
   "metadata": {},
   "source": [
    "- Yaptığınız hemen hemen her modeli değerlendirmek isteyeceksiniz. Çoğu (hepsi olmasa da) uygulamada, model kalitesinin ilgili ölçüsü tahmin doğruluğudur. Başka bir deyişle, modelin tahminleri gerçekte olanlara yakın olacak mı?<br>\n",
    "- Birçok kişi, tahmin doğruluğunu ölçerken büyük bir hata yapar. Eğitim verileriyle tahminlerde bulunurlar ve bu tahminleri eğitim verilerindeki hedef değerlerle karşılaştırırlar. Dikkat edilmesi gereken en önemli nokta burasıdır."
   ]
  },
  {
   "cell_type": "markdown",
   "metadata": {},
   "source": [
    "<h3><left><span style=\"color:SteelBlue; opacity: 1;\">Splitting Data into Train and Test / Datayı Train ve Test Olarak Bölme</span></left></h3>"
   ]
  },
  {
   "cell_type": "code",
   "execution_count": null,
   "metadata": {},
   "outputs": [],
   "source": [
    "# Öncelikle Features ve target oluşturulduğundan emin olalım. 3 yol da aynıdır.\n",
    "X = df.total_of_features\n",
    "y = df.target\n",
    "---\n",
    "X = df[\"total_of_features\"]\n",
    "y = df[\"target\"]\n",
    "---\n",
    "X = df.drop(columns = \"target\")\n",
    "y = df[\"target\"]"
   ]
  },
  {
   "cell_type": "markdown",
   "metadata": {},
   "source": [
    "- <span style=\"color:DarkViolet\">**!**</span>*pip install scikit-learn*<br>\n",
    "<p><span style=\"color:black; opacity: 1;\">Bu kütüphanenin ne olduğunu ilerde daha detaylı göreceğiz. Python programlama dili için ücretsiz bir yazılım makine öğrenimi kitaplığıdır.</span></p>"
   ]
  },
  {
   "cell_type": "markdown",
   "metadata": {},
   "source": [
    "- <span style=\"color:green; opacity: 1;\">**from**</span> *sklearn.model_selection* <span style=\"color:green\">**import**</span> *train_test_split*<br>\n",
    "<p><span style=\"color:black; opacity: 1;\">Hem features hem de target için verileri eğitim (train) ve doğrulama (test) verilerine ayırmayı sağlar.</span><br>\n",
    "<span style=\"color:black; opacity: 1;\">Bölme, rastgele bir sayı üretecine dayanır. Sayısal bir değer sağlamaya yarayan random_state parametresi, her seferinde aynı bölünmeyi elde etmemizi garanti eder. </span></p>"
   ]
  },
  {
   "cell_type": "code",
   "execution_count": 3,
   "metadata": {},
   "outputs": [
    {
     "ename": "NameError",
     "evalue": "name 'X' is not defined",
     "output_type": "error",
     "traceback": [
      "\u001b[1;31m---------------------------------------------------------------------------\u001b[0m",
      "\u001b[1;31mNameError\u001b[0m                                 Traceback (most recent call last)",
      "\u001b[1;32m<ipython-input-3-030e206da96d>\u001b[0m in \u001b[0;36m<module>\u001b[1;34m\u001b[0m\n\u001b[0;32m      6\u001b[0m \u001b[1;32mfrom\u001b[0m \u001b[0msklearn\u001b[0m\u001b[1;33m.\u001b[0m\u001b[0mmodel_selection\u001b[0m \u001b[1;32mimport\u001b[0m \u001b[0mtrain_test_split\u001b[0m\u001b[1;33m\u001b[0m\u001b[1;33m\u001b[0m\u001b[0m\n\u001b[0;32m      7\u001b[0m \u001b[1;32mfrom\u001b[0m \u001b[0msklearn\u001b[0m\u001b[1;33m.\u001b[0m\u001b[0mmodel_selection\u001b[0m \u001b[1;32mimport\u001b[0m \u001b[0mtrain_test_split\u001b[0m\u001b[1;33m\u001b[0m\u001b[1;33m\u001b[0m\u001b[0m\n\u001b[1;32m----> 8\u001b[1;33m \u001b[0mX_train\u001b[0m\u001b[1;33m,\u001b[0m \u001b[0mX_test\u001b[0m\u001b[1;33m,\u001b[0m \u001b[0my_train\u001b[0m\u001b[1;33m,\u001b[0m \u001b[0my_test\u001b[0m \u001b[1;33m=\u001b[0m \u001b[0mtrain_test_split\u001b[0m\u001b[1;33m(\u001b[0m\u001b[0mX\u001b[0m\u001b[1;33m,\u001b[0m \u001b[0my\u001b[0m\u001b[1;33m,\u001b[0m \u001b[0mtest_size\u001b[0m\u001b[1;33m=\u001b[0m\u001b[1;36m0.3\u001b[0m\u001b[1;33m,\u001b[0m \u001b[0mrandom_state\u001b[0m\u001b[1;33m=\u001b[0m\u001b[1;36m42\u001b[0m\u001b[1;33m)\u001b[0m\u001b[1;33m\u001b[0m\u001b[1;33m\u001b[0m\u001b[0m\n\u001b[0m",
      "\u001b[1;31mNameError\u001b[0m: name 'X' is not defined"
     ]
    }
   ],
   "source": [
    "# !pip install scikit-learn\n",
    "# test_size = 0.3 ile datamın yüzde 30'unu test verisi olarak ayırdım.\n",
    "# random_state=42 ile 42'yi kullandığım her defasında aynı train ve test datasını sağlarım. \n",
    "# Aynı datada takım arkadaşlarınızla çalışırken skorlarınızı karşılaştırabilmeniz için bunu aynı rakam girmelisiniz.\n",
    "\n",
    "from sklearn.model_selection import train_test_split\n",
    "from sklearn.model_selection import train_test_split\n",
    "X_train, X_test, y_train, y_test = train_test_split(X, y, test_size=0.3, random_state=42)\n"
   ]
  },
  {
   "cell_type": "code",
   "execution_count": null,
   "metadata": {},
   "outputs": [],
   "source": [
    "print(\"Train features shape :\", X_train.shape)\n",
    "print(\"Train features shape :\", y_train.shape)\n",
    "print(\"Train features shape :\", X_test.shape)\n",
    "print(\"Train features shape :\", y_test.shape)"
   ]
  },
  {
   "cell_type": "markdown",
   "metadata": {},
   "source": [
    "- X_train = eğitim featureleri\n",
    "- X_test = evaluation featureleri\n",
    "- y_train = eğitim target\n",
    "- y_test = evaluate target"
   ]
  },
  {
   "cell_type": "markdown",
   "metadata": {},
   "source": [
    "- Dilerseniz bunların train ve test diye ayrılan tüm data parçalrına analiz kodları ile bakabilirsiniz.(head,sample,tail)"
   ]
  },
  {
   "cell_type": "markdown",
   "metadata": {},
   "source": [
    "<h3><left><span style=\"color:SteelBlue; opacity: 1;\">Model Fitting, Comparing Actual-Predicted Labels / Model Fit Etme, Mevcut-Tahmin Verilerini Karşılaştırma</span></left></h3>"
   ]
  },
  {
   "cell_type": "markdown",
   "metadata": {},
   "source": [
    "- <span style=\"color:green; opacity: 1;\">**from**</span> *sklearn.linear_model* <span style=\"color:green\">**import**</span> *LinearRegression*<br>\n",
    "<p><span style=\"color:black; opacity: 1;\">Bu kod scikit learn kütüphanesinden lineer bir model olan Lineer Regresyon modelini getirir. Başka model base lerimiz de mevcuttur. Ama şimdilik çok detaya girmeye gerek yoktur. Çünkü modeller konusunda bunlara değineceğiz.</span>"
   ]
  },
  {
   "cell_type": "markdown",
   "metadata": {},
   "source": [
    "- <span style=\"color:green; opacity: 1;\">**from**</span> *sklearn.tree* <span style=\"color:green\">**import**</span> *DecisionTreeRegressor*<br>\n",
    "<p><span style=\"color:black; opacity: 1;\">Sadece örnek olması amacı ile başka modellerin de olduğunu görmek amacıyla yazıldı.</span>"
   ]
  },
  {
   "cell_type": "code",
   "execution_count": null,
   "metadata": {},
   "outputs": [],
   "source": [
    "from sklearn.linear_model import LinearRegression\n",
    "model = LinearRegression()\n",
    "model.fit(X_train, y_train)\n",
    "y_pred = model.predict(X_test)\n",
    "y_pred"
   ]
  },
  {
   "cell_type": "code",
   "execution_count": null,
   "metadata": {},
   "outputs": [],
   "source": [
    "from sklearn.linear_model import LinearRegression\n",
    "model=LinearRegression()\n",
    "model.fit(X_train,y_train)\n",
    "y_pred=model.predict(X_test)\n",
    "y_pred"
   ]
  },
  {
   "cell_type": "code",
   "execution_count": null,
   "metadata": {},
   "outputs": [],
   "source": [
    "my_dict = {\"Actual\" : y_test, \"pred\" : y_pred, \"residual\" : y_test - y_pred} # compare verileri\n",
    "comparing = pd.DataFrame(my_dict)\n",
    "comparing"
   ]
  },
  {
   "cell_type": "markdown",
   "metadata": {},
   "source": [
    "- Karşılaştırma (compare) verilerimin ilk 25 satırını plot ederek aktüel ve tahmin değerlerini ve aynı zamanda aradaki farkları gösteren bir grafik oluşturan kod:"
   ]
  },
  {
   "cell_type": "code",
   "execution_count": null,
   "metadata": {},
   "outputs": [],
   "source": [
    "comparing.head(25).plot(kind = \"bar\", figsize = (15,9))\n",
    "plt.show()"
   ]
  },
  {
   "cell_type": "markdown",
   "metadata": {},
   "source": [
    "<h3><left><span style=\"color:SteelBlue; opacity: 1;\">Error Metrics</span></left></h3>"
   ]
  },
  {
   "cell_type": "markdown",
   "metadata": {},
   "source": [
    "- <span style=\"color:black; opacity: 0.8;\">**Model kalitesini özetlemek için pek çok ölçüm vardır:**</span><br>\n",
    "1. MAE\n",
    "2. MSE\n",
    "3. RMSE"
   ]
  },
  {
   "cell_type": "markdown",
   "metadata": {},
   "source": [
    "- <span style=\"color:green; opacity: 1;\">**from**</span> *sklearn.metrics* <span style=\"color:green\">**import**</span> *mean_absolute_error, mean_squared_error, r2_score*<br>\n",
    "<p><span style=\"color:black; opacity: 1;\">Scikit learn kütüphanesinden error metriklerini almaya yarayan koddur.</span>"
   ]
  },
  {
   "cell_type": "code",
   "execution_count": 4,
   "metadata": {},
   "outputs": [
    {
     "ename": "NameError",
     "evalue": "name 'y_test' is not defined",
     "output_type": "error",
     "traceback": [
      "\u001b[1;31m---------------------------------------------------------------------------\u001b[0m",
      "\u001b[1;31mNameError\u001b[0m                                 Traceback (most recent call last)",
      "\u001b[1;32m<ipython-input-4-1f45e3e470dc>\u001b[0m in \u001b[0;36m<module>\u001b[1;34m\u001b[0m\n\u001b[0;32m      5\u001b[0m \u001b[1;31m# Yani target değerdeki değişikliğin % kaçının features ile açıklanabildiğini gösterir.\u001b[0m\u001b[1;33m\u001b[0m\u001b[1;33m\u001b[0m\u001b[1;33m\u001b[0m\u001b[0m\n\u001b[0;32m      6\u001b[0m \u001b[1;31m# Geriye kalan % lik kısım, benim elimde olmayan featurelardan kaynaklanmaktadır.\u001b[0m\u001b[1;33m\u001b[0m\u001b[1;33m\u001b[0m\u001b[1;33m\u001b[0m\u001b[0m\n\u001b[1;32m----> 7\u001b[1;33m \u001b[0mR2_score\u001b[0m \u001b[1;33m=\u001b[0m \u001b[0mr2_score\u001b[0m\u001b[1;33m(\u001b[0m\u001b[0my_test\u001b[0m\u001b[1;33m,\u001b[0m \u001b[0my_pred\u001b[0m\u001b[1;33m)\u001b[0m\u001b[1;33m\u001b[0m\u001b[1;33m\u001b[0m\u001b[0m\n\u001b[0m\u001b[0;32m      8\u001b[0m \u001b[0mR2_score\u001b[0m \u001b[1;33m=\u001b[0m \u001b[0mr2_score\u001b[0m\u001b[1;33m(\u001b[0m\u001b[0my_test\u001b[0m\u001b[1;33m,\u001b[0m\u001b[0my_pred\u001b[0m\u001b[1;33m)\u001b[0m\u001b[1;33m\u001b[0m\u001b[1;33m\u001b[0m\u001b[0m\n\u001b[0;32m      9\u001b[0m \u001b[1;33m\u001b[0m\u001b[0m\n",
      "\u001b[1;31mNameError\u001b[0m: name 'y_test' is not defined"
     ]
    }
   ],
   "source": [
    "from sklearn.metrics import mean_absolute_error, mean_squared_error, r2_score\n",
    "from sklearn.metrics import mean_absolute_error, mean_squared_error, r2_score\n",
    "\n",
    "# Elimdeki veriler doğru tahmin yapmak için kaç % oranında yeterli olduğunu verir.\n",
    "# Yani target değerdeki değişikliğin % kaçının features ile açıklanabildiğini gösterir.\n",
    "# Geriye kalan % lik kısım, benim elimde olmayan featurelardan kaynaklanmaktadır.\n",
    "R2_score = r2_score(y_test, y_pred)\n",
    "R2_score = r2_score(y_test,y_pred)\n",
    "\n",
    "# MAE metriği ile her bir hatanın mutlak değerini alıyoruz. Bu, her hatayı pozitif bir sayıya dönüştürür. \n",
    "# Daha sonra bu mutlak hataların ortalamasını alırız. Bu, model kalitemizin ölçüsüdür.\n",
    "mae = mean_absolute_error(y_test, y_pred)\n",
    "mae = mean_absolute_error(y_test, y_pred)\n",
    "\n",
    "# MSE, cezalandırıcıdır. Ama target'ı ele aldığı için anlamlandırmıyor.\n",
    "mse = mean_squared_error(y_test, y_pred)\n",
    "mse = mean_squared_error(y_test, y_pred)\n",
    "# RMSE, tahmin ile gerçek değer arasındaki farkı verir, ve ideal sonucu yakalamaya fırsat verir.\n",
    "rmse = np.sqrt(mean_squared_error(y_test, y_pred))\n",
    "rmse = np.sqrt(mean_squared_error(y_test, y_pred))"
   ]
  },
  {
   "cell_type": "markdown",
   "metadata": {},
   "source": [
    "- Yorum yapabilmemizi sağlayacak olan kodları ve açıklamalarını görelim:"
   ]
  },
  {
   "cell_type": "code",
   "execution_count": null,
   "metadata": {},
   "outputs": [],
   "source": [
    "# Target label'ın ortalamasını alıp error ları yorumlarız.\n",
    "# Error'un mutlak ortalamasının, genel ortalamaya oranına bakıp error u anlamlı hale getiririz.\n",
    "mae / df[\"target\"].mean()"
   ]
  },
  {
   "cell_type": "code",
   "execution_count": null,
   "metadata": {},
   "outputs": [],
   "source": [
    "# Bize ciddi hataların olup olmadığını gösteririr ve hangi modeli seçeceğimize karar verir.\n",
    "rmse / df[\"target\"].mean()"
   ]
  },
  {
   "cell_type": "markdown",
   "metadata": {},
   "source": [
    "- ***Neden RMSE'yi tercih ediyoruz?***<br> Bizim tahmin değerlerimiz ile gerçek değerlerimiz arasındaki farkları, yani residual değerlerimizi  RMSE  büyük oranda cezalandırıyor ve görünür hale getiriyor. (Küçük olan farkları bile büyütüp gözümüze sokuyordaha görünür hale getiriyor). Ve demiş oluyor ki senin tahminlerinde hatalar var.<br> Örneğin, çıkan sonuç büyük ise, bizim farklı modelleri denememiz gerekmektedir. Hangisinde RMSE düşükse onu esas alacağız!"
   ]
  },
  {
   "cell_type": "markdown",
   "metadata": {},
   "source": [
    "<span style=\"color:Crimson\">**Şimdi anlatılacak kısımlar RMSE ile ilgili detaylardır. Dilerseniz bu kısmı atlayarak**</span> <font size=\"4\"><span style=\"color:SteelBlue; opacity: 1;\">**MODEL DEĞERLENDiRME**</span></font> <span style=\"color:Crimson\">**kısmından devam edebilirsiniz. Burada tahmin değerlerim değiştiğinde RMSE'nin nasıl değiştiğine değineceğiz.**</span>"
   ]
  },
  {
   "cell_type": "code",
   "execution_count": 5,
   "metadata": {},
   "outputs": [],
   "source": [
    "import pandas as pd"
   ]
  },
  {
   "cell_type": "code",
   "execution_count": 8,
   "metadata": {},
   "outputs": [
    {
     "data": {
      "text/html": [
       "<div>\n",
       "<style scoped>\n",
       "    .dataframe tbody tr th:only-of-type {\n",
       "        vertical-align: middle;\n",
       "    }\n",
       "\n",
       "    .dataframe tbody tr th {\n",
       "        vertical-align: top;\n",
       "    }\n",
       "\n",
       "    .dataframe thead th {\n",
       "        text-align: right;\n",
       "    }\n",
       "</style>\n",
       "<table border=\"1\" class=\"dataframe\">\n",
       "  <thead>\n",
       "    <tr style=\"text-align: right;\">\n",
       "      <th></th>\n",
       "      <th>Actual</th>\n",
       "      <th>pred</th>\n",
       "      <th>residual</th>\n",
       "    </tr>\n",
       "  </thead>\n",
       "  <tbody>\n",
       "    <tr>\n",
       "      <th>0</th>\n",
       "      <td>1000</td>\n",
       "      <td>1100</td>\n",
       "      <td>100</td>\n",
       "    </tr>\n",
       "    <tr>\n",
       "      <th>1</th>\n",
       "      <td>2000</td>\n",
       "      <td>2200</td>\n",
       "      <td>200</td>\n",
       "    </tr>\n",
       "    <tr>\n",
       "      <th>2</th>\n",
       "      <td>3000</td>\n",
       "      <td>3200</td>\n",
       "      <td>200</td>\n",
       "    </tr>\n",
       "  </tbody>\n",
       "</table>\n",
       "</div>"
      ],
      "text/plain": [
       "   Actual  pred  residual\n",
       "0    1000  1100       100\n",
       "1    2000  2200       200\n",
       "2    3000  3200       200"
      ]
     },
     "execution_count": 8,
     "metadata": {},
     "output_type": "execute_result"
    }
   ],
   "source": [
    "df_2 = pd.DataFrame({\"Actual\": [1000, 2000, 3000], \"pred\": [1100, 2200, 3200]})\n",
    "df_2[\"residual\"] = abs(df_2.Actual - df_2.pred)\n",
    "df_2"
   ]
  },
  {
   "cell_type": "code",
   "execution_count": 9,
   "metadata": {},
   "outputs": [
    {
     "data": {
      "text/plain": [
       "166.66666666666666"
      ]
     },
     "execution_count": 9,
     "metadata": {},
     "output_type": "execute_result"
    }
   ],
   "source": [
    "# mae\n",
    "df_2.residual.sum()/3"
   ]
  },
  {
   "cell_type": "code",
   "execution_count": 10,
   "metadata": {},
   "outputs": [
    {
     "data": {
      "text/plain": [
       "173.20508075688772"
      ]
     },
     "execution_count": 10,
     "metadata": {},
     "output_type": "execute_result"
    }
   ],
   "source": [
    "# rmse\n",
    "((df_2.residual**2).sum()/3)**0.5"
   ]
  },
  {
   "cell_type": "code",
   "execution_count": 14,
   "metadata": {},
   "outputs": [
    {
     "data": {
      "text/html": [
       "<div>\n",
       "<style scoped>\n",
       "    .dataframe tbody tr th:only-of-type {\n",
       "        vertical-align: middle;\n",
       "    }\n",
       "\n",
       "    .dataframe tbody tr th {\n",
       "        vertical-align: top;\n",
       "    }\n",
       "\n",
       "    .dataframe thead th {\n",
       "        text-align: right;\n",
       "    }\n",
       "</style>\n",
       "<table border=\"1\" class=\"dataframe\">\n",
       "  <thead>\n",
       "    <tr style=\"text-align: right;\">\n",
       "      <th></th>\n",
       "      <th>Actual</th>\n",
       "      <th>pred</th>\n",
       "      <th>residual</th>\n",
       "    </tr>\n",
       "  </thead>\n",
       "  <tbody>\n",
       "    <tr>\n",
       "      <th>0</th>\n",
       "      <td>1000</td>\n",
       "      <td>1100</td>\n",
       "      <td>100</td>\n",
       "    </tr>\n",
       "    <tr>\n",
       "      <th>1</th>\n",
       "      <td>2000</td>\n",
       "      <td>2200</td>\n",
       "      <td>200</td>\n",
       "    </tr>\n",
       "    <tr>\n",
       "      <th>2</th>\n",
       "      <td>3000</td>\n",
       "      <td>3600</td>\n",
       "      <td>600</td>\n",
       "    </tr>\n",
       "  </tbody>\n",
       "</table>\n",
       "</div>"
      ],
      "text/plain": [
       "   Actual  pred  residual\n",
       "0    1000  1100       100\n",
       "1    2000  2200       200\n",
       "2    3000  3600       600"
      ]
     },
     "execution_count": 14,
     "metadata": {},
     "output_type": "execute_result"
    }
   ],
   "source": [
    "df_3 = pd.DataFrame({\"Actual\": [1000, 2000, 3000], \"pred\": [1100, 2200, 3600]})\n",
    "df_3[\"residual\"] = abs(df_3.Actual - df_3.pred)\n",
    "df_3"
   ]
  },
  {
   "cell_type": "code",
   "execution_count": 15,
   "metadata": {},
   "outputs": [
    {
     "data": {
      "text/plain": [
       "300.0"
      ]
     },
     "execution_count": 15,
     "metadata": {},
     "output_type": "execute_result"
    }
   ],
   "source": [
    "# mae\n",
    "df_3.residual.sum()/3"
   ]
  },
  {
   "cell_type": "code",
   "execution_count": 16,
   "metadata": {},
   "outputs": [
    {
     "data": {
      "text/plain": [
       "369.68455021364724"
      ]
     },
     "execution_count": 16,
     "metadata": {},
     "output_type": "execute_result"
    }
   ],
   "source": [
    "# rmse\n",
    "((df_3.residual**2).sum()/3)**0.5"
   ]
  },
  {
   "cell_type": "markdown",
   "metadata": {},
   "source": [
    "Tahminimin sadece bir değerini 3200'den 3600 yaptığımda RMSE 173'den 369 a çıktı!<br>MAE'deki yeni durum 300 iken RMSE'de (rmse, karekökten dolayı mae ile aynı seviyede bir metrik olmasına rağmen) bu değerin 369 olduğunu gördüm. Yani RMSE, MAE'ye göre hatayı daha görünür hale getirdi. CEZALANDIRDI!"
   ]
  },
  {
   "cell_type": "markdown",
   "metadata": {},
   "source": [
    "<h3><left><span style=\"color:SteelBlue; opacity: 1;\">Model Evaluate / Modelimizi Değerlendirme</span></left></h3>"
   ]
  },
  {
   "cell_type": "markdown",
   "metadata": {},
   "source": [
    "- Aşağıda paylaşılacak olan kod son derece görselliği güzel ve bizlere aynen yukarıdaki metriklerimizi sırasıyla veren bir fonksiyondur:"
   ]
  },
  {
   "cell_type": "code",
   "execution_count": null,
   "metadata": {},
   "outputs": [],
   "source": [
    "def eval_metric(actual, pred):\n",
    "    mae = mean_absolute_error(actual, pred)\n",
    "    mse = mean_squared_error(actual, pred)\n",
    "    rmse = np.sqrt(mean_squared_error(actual, pred))\n",
    "    R2_score = r2_score(actual, pred)\n",
    "    print(\"Model testing performance:\")\n",
    "    print(\"--------------------------\")\n",
    "    print(f\"R2_score \\t: {R2_score}\")\n",
    "    print(f\"MAE \\t\\t: {mae}\")\n",
    "    print(f\"MSE \\t\\t: {mse}\")\n",
    "    print(f\"RMSE \\t\\t: {rmse}\")"
   ]
  },
  {
   "cell_type": "markdown",
   "metadata": {},
   "source": [
    "- Şimdi **y_pred** imizin ne olduğunu tekrardan hatırlayalım:\n",
    "- Yani **y_pred** imiz test dataları üzerindeki modelimin uygulanmış hali idi."
   ]
  },
  {
   "cell_type": "code",
   "execution_count": null,
   "metadata": {},
   "outputs": [],
   "source": [
    "from sklearn.linear_model import LinearRegression\n",
    "model = LinearRegression()\n",
    "model.fit(X_train, y_train)\n",
    "y_pred = model.predict(X_test)\n",
    "y_pred"
   ]
  },
  {
   "cell_type": "code",
   "execution_count": null,
   "metadata": {},
   "outputs": [],
   "source": [
    "from sklearn.linear_model import LinearRegression\n",
    "model= LinearRegression()\n",
    "model.fit(X_train,y_train)\n",
    "y_pred=model.predict(X_test)\n",
    "y_pred"
   ]
  },
  {
   "cell_type": "markdown",
   "metadata": {},
   "source": [
    "- Şimdi modelimizi, **Train** datası üzerinde uygulayan kodu yazalım:"
   ]
  },
  {
   "cell_type": "code",
   "execution_count": null,
   "metadata": {},
   "outputs": [],
   "source": [
    "y_train_pred = model.predict(X_train)\n",
    "y_train_pred = model.predict(X_tarin)"
   ]
  },
  {
   "cell_type": "markdown",
   "metadata": {},
   "source": [
    "- O zaman gelin şimdi bu metrik değerlerimi veren eval_metric fonksiyonumu ***Test*** ve ***Train*** datalarım üzerinde uygulayan kodları yazalım. ve Sonuçları değerlendirelim. "
   ]
  },
  {
   "cell_type": "code",
   "execution_count": null,
   "metadata": {},
   "outputs": [],
   "source": [
    "#MODELİN TEST UZERINDE UYGULANMASI\n",
    "# modelimi test ettiğim test datamı (yani y_test verilerimi);\n",
    "# modelimi teste uyguladıktan sonra elde ettiğim test tahmini ile (yani y_pred ile) metrik değerlendirmeye sokalım.\n",
    "eval_metric(y_test, y_pred) \n",
    "--- \n",
    "eval_metric(y_test, model.predict(X_test)) \n",
    "eval_metric(y_test,model.predict(X_test))"
   ]
  },
  {
   "cell_type": "code",
   "execution_count": null,
   "metadata": {},
   "outputs": [],
   "source": [
    "# modelimi eğittiğim train datamın (yani y_train verilerimi);\n",
    "# modelimi traine uyguladıktan sonra elde ettiğim train tahmini ile (yani y_pred_train ile) metrik değerlendirmeye sokalım.\n",
    "eval_metric(y_train, y_train_pred)\n",
    "---\n",
    "eval_metric(y_train, model.predict(X_train))"
   ]
  },
  {
   "cell_type": "markdown",
   "metadata": {},
   "source": [
    "- Öncelikle, y_train skorlarının daha iyi çıkması beklenir. Çünkü train yaparken train dataları kullanıldığı için bu veriler üzerinde eğitim yapılmıştır. Yani model bu verileri görerek kendini eğitti.\n",
    "- Fakat ben görmediğim veriler (test verileri) üzerinde de modelimden iyi skorlar alabiliyorum.\n",
    "- Bu noktada, modelimin test datasından elde ettiği skor, train data ile yaptığıma yakın olduğu için optimal bir başarıyı yakaladık diyebiliriz. \n",
    "- Yani test setinden aldığım değer train setinden aldığımız değeri kıyaslıyoruz. Bu değerler ne kadar yakınsa modelimin başarı oranı o kadar iyidir.\n",
    "---\n",
    "- Modeli değerlendiriken Test setinden aldığımız değer ile Train setinden aldığımız değerleri kıyaslıyoruz\n",
    "- Bu değerler birbirlerine ne kadar yakınsa (tutarlı) başarı oranı o kadar iyidir\n",
    "- Train setindeki scorelar genellikle daha iyi çıkar. Çünkü model bu veri üzerinde eğitiliyor.\n",
    "- Değerler arasında uçurumlar var ise overfitting söz konusudur.\n",
    "- İki skor da berbat çıkıyorsa under-fitting olma ihtimali 99%'dur."
   ]
  },
  {
   "cell_type": "markdown",
   "metadata": {},
   "source": [
    "<h3><left><span style=\"color:SteelBlue; opacity: 1;\">Modelin Lineer Regesyona Uygun Olup Olmadığı</span></left></h3>"
   ]
  },
  {
   "cell_type": "markdown",
   "metadata": {},
   "source": [
    "- ***Scatterplot ile Kontrol etme:***"
   ]
  },
  {
   "cell_type": "code",
   "execution_count": null,
   "metadata": {},
   "outputs": [],
   "source": [
    "residuals = y_test - y_pred\n",
    "plt.figure(figsize = (10,6))\n",
    "sns.scatterplot(x = y_test, y = residuals) #-residuals\n",
    "plt.axhline(y = 0, color =\"r\", linestyle = \"--\")\n",
    "plt.show()"
   ]
  },
  {
   "attachments": {
    "image.png": {
     "image/png": "[encoded data removed]"
    }
   },
   "cell_type": "markdown",
   "metadata": {},
   "source": [
    "- Örnek Çıktı\n",
    "![image.png](attachment:image.png)"
   ]
  },
  {
   "cell_type": "markdown",
   "metadata": {},
   "source": [
    "Benim residual değerlerim kırmızı çizginin her iki tarafında ne kadar normal dağılmışsa, çizginin altındaki değerlerler ile üstündeki değerler birbirini götürecek şekilde ise (toplamı 0 veya 0'a yakın ise) yani linearity ne kadar fazla ise veri linear modele o kadar uygundur\n",
    "\n",
    "- (1)Benim residual değerlerim kırmızı çizginin etrafında ne kadar simetrik veya normal dağılmış\n",
    "- (2)Linearity ne kadar fazla ise veri linear modele o kadar uygundur.\n",
    "- (3)Datam linear e yakın ama bir nonlinearlik de hafiften var."
   ]
  },
  {
   "cell_type": "markdown",
   "metadata": {},
   "source": [
    "- ***Kdeplot ile kontrol etme:***"
   ]
  },
  {
   "cell_type": "code",
   "execution_count": null,
   "metadata": {},
   "outputs": [],
   "source": [
    "sns.kdeplot(residuals);\n",
    "sns.kdeplot(residuals);"
   ]
  },
  {
   "attachments": {
    "image.png": {
     "image/png": "[encoded data removed]"
    }
   },
   "cell_type": "markdown",
   "metadata": {},
   "source": [
    "- Örnek Çıktı\n",
    "![image.png](attachment:image.png)"
   ]
  },
  {
   "cell_type": "markdown",
   "metadata": {},
   "source": [
    "Hafif bir left skewed olduğu görülüyor."
   ]
  },
  {
   "cell_type": "markdown",
   "metadata": {},
   "source": [
    "- ***Probplot ile kontrol etme:***"
   ]
  },
  {
   "cell_type": "code",
   "execution_count": null,
   "metadata": {},
   "outputs": [],
   "source": [
    "stats.probplot(residuals, dist=\"norm\", plot=plt);\n",
    "stats.probplot(residuals,dist=\"norm\",plot=plt)"
   ]
  },
  {
   "attachments": {
    "image.png": {
     "image/png": "[encoded data removed]"
    }
   },
   "cell_type": "markdown",
   "metadata": {},
   "source": [
    "- Örnek Çıktı:\n",
    "![image.png](attachment:image.png)"
   ]
  },
  {
   "cell_type": "markdown",
   "metadata": {},
   "source": [
    "Verilerim (yani noktalarım) kırmızı çizginin etrafında sarmaşık gibi dolanıyorsa normal dağılıma yakın demektir."
   ]
  },
  {
   "cell_type": "markdown",
   "metadata": {},
   "source": [
    "- ***skew değerri ile kontrol etme:***"
   ]
  },
  {
   "cell_type": "code",
   "execution_count": null,
   "metadata": {},
   "outputs": [],
   "source": [
    "skew(residuals)\n",
    "skew(residuals)"
   ]
  },
  {
   "cell_type": "markdown",
   "metadata": {},
   "source": [
    "- Lineer regression uygulayabilmemiz için kabul edilebilir skewness aralığı -1 ile +1 arasındadır.\n",
    "- Eğer skew değerim -0.5 ile +0.5 arasında bir değerde ise ise normal dağılımdan bahsedebiliriz ve dolayısıyla lineer regression için uygundur yorumu yapabiliriz. \n",
    "- 0.5 ile 1 arasında ise orta seviyede (moderate) skewness olduğunu söyleyebiliriz. Bu durumda da lineer regression kullanabiliriz ama -/+ 1 den büyük ise lineer reg. uygulayamayız. "
   ]
  },
  {
   "cell_type": "markdown",
   "metadata": {},
   "source": [
    "- ***yellowbrick kütüphanesi ResidualsPlot ile kontrol etme:***"
   ]
  },
  {
   "cell_type": "code",
   "execution_count": null,
   "metadata": {},
   "outputs": [],
   "source": [
    "# !pip install yellowbrick\n",
    "\n",
    "from yellowbrick.regressor import ResidualsPlot \n",
    "# Instantiate the linear model and visualizer\n",
    "model = LinearRegression()\n",
    "visualizer = ResidualsPlot(model)\n",
    "visualizer.fit(X_train, y_train)  # Fit the training data to the visualizer\n",
    "visualizer.score(X_test, y_test)  # Evaluate the model on the test data\n",
    "visualizer.show();        # Finalize and render the figure,"
   ]
  },
  {
   "attachments": {
    "image.png": {
     "image/png": "[encoded data removed]"
    }
   },
   "cell_type": "markdown",
   "metadata": {},
   "source": [
    "- Örnek çıktı:\n",
    "![image.png](attachment:image.png)"
   ]
  },
  {
   "cell_type": "markdown",
   "metadata": {},
   "source": [
    "- ***yellowbrick kütüphanesi PredictionError ile kontrol etme:***"
   ]
  },
  {
   "cell_type": "code",
   "execution_count": null,
   "metadata": {},
   "outputs": [],
   "source": [
    "from yellowbrick.regressor import PredictionError\n",
    "# Instantiate the linear model and visualizer\n",
    "model = LinearRegression()\n",
    "visualizer = PredictionError(model)\n",
    "visualizer.fit(X_train, y_train)  # Fit the training data to the visualizer\n",
    "visualizer.score(X_test, y_test)  # Evaluate the model on the test data\n",
    "visualizer.show()"
   ]
  },
  {
   "attachments": {
    "image.png": {
     "image/png": "[encoded data removed]"
    }
   },
   "cell_type": "markdown",
   "metadata": {},
   "source": [
    "- Örnek Çıktı:\n",
    "![image.png](attachment:image.png)"
   ]
  },
  {
   "cell_type": "markdown",
   "metadata": {},
   "source": [
    "- Silik olan çizgi değerlerin mükemmel olduğu sonuçlardır. (gerçek değerler)\n",
    "- Silik olmayan çizgi ise benim lineer regresyon ile aldığım best fit line sonucumdur.\n",
    "- Bu iki line ne kadar üst üste biniyorsa modelimizden o kadar rahat emin olabiliriz."
   ]
  },
  {
   "cell_type": "markdown",
   "metadata": {},
   "source": [
    "<h4><left><span style=\"color:Maroon; opacity: 1;\">Sonuç:</span></left></h4>"
   ]
  },
  {
   "cell_type": "markdown",
   "metadata": {},
   "source": [
    "- Bir Data Scientist hazır kodları alıp kendi notebook una uyarlaması gerektir. Developer gibi kod yazmaz.\n",
    "- Hangi modelin linear Reg için daha uygun olup olmadığını anlamak için bu grafikleri tek tek çizdirmeye gerek yok. \n",
    "- Diğer modeller ile kıyaslayıp karar vermemiz gerek ama ***interview larda sorarlarsa corr ve normal dağılıma benzerliği*** ile karar vermemiz gerektiğini aklımızda bulunduralım."
   ]
  },
  {
   "cell_type": "markdown",
   "metadata": {},
   "source": [
    "<h2><left><span style=\"color:LightCoral; opacity: 1;\">TÜM VERİ ÜZERİNDEN TEKRAR EĞİTİM MODELİ OLUŞTURMA</span></left></h2>"
   ]
  },
  {
   "cell_type": "code",
   "execution_count": null,
   "metadata": {},
   "outputs": [],
   "source": [
    "final_model = LinearRegression()\n",
    "final_model= LinearRegression()"
   ]
  },
  {
   "cell_type": "code",
   "execution_count": null,
   "metadata": {},
   "outputs": [],
   "source": [
    "final_model.fit(X, y)\n",
    "final_model.fit(X,y)"
   ]
  },
  {
   "cell_type": "markdown",
   "metadata": {},
   "source": [
    "**Emir:**<br>\n",
    "Hangi modeli seçmem gerektiğine karar verdikten sonra, modeli tüm data ile eğitirim. Çünkü ne kadar fazla data ile eğitirsem o kadar daha kesin ve sağlıklı bir predict yapan algoritma oluştururum.<br>\n",
    "\n",
    "**Hüseyin hoca:**<br>\n",
    "Eğitimimi tamamladıktan ve model validation'u geçtikten (yani modelimden emin olduktan sonra) artık son aşamada tüm datamı kullanarak fit yapıyorum. çünkü ne kadar büyük data ile fit yaparsam o kadar iyi sonuç alırım.<br>\n",
    "\n",
    "**Recep Bey:**<br>\n",
    "Modellemeyi yaparken etkilenmesin diye test ve train olarak ayiriyoruz, ama modelimize karar kilip sonuctan memnun olunca daha iyi sonuc almak icin tüm verileri kullanma adina hepsini train ediyoruz.<br>\n",
    "\n",
    "**Soru (Salih Bey):**<br> \n",
    "Hocam peki bunun doğruluğunu neye göre ölçeceğiz? Yani hepsini train olarak verdik!<br>\n",
    "**Cevap (Hüseyin Bey):**<br>\n",
    "Hocam zaten değerlendirdik. Validation'u bir önceki adımda test datam ile geçti. Modelimden emin oldum ve o modele karar verdim. O yüzden artık emin olduğum modelimi daha büyük data ile eğitiyorum."
   ]
  },
  {
   "cell_type": "code",
   "execution_count": null,
   "metadata": {},
   "outputs": [],
   "source": [
    "# Slope, yani eğim (b1)\n",
    "final_model.coef_\n",
    "final_model.coef_\n",
    "# Örnek sonuç: array([ 0.04576465,  0.18853002, -0.00103749])"
   ]
  },
  {
   "cell_type": "code",
   "execution_count": null,
   "metadata": {},
   "outputs": [],
   "source": [
    "# Intercept, yani başlangıç değeri (b0)\n",
    "final_model.intercept_\n",
    "final_model.intercept_\n",
    "# Örnek sonuç: 2.9388893694594067"
   ]
  },
  {
   "cell_type": "code",
   "execution_count": null,
   "metadata": {},
   "outputs": [],
   "source": [
    "# final_model.coef_ değerlerini dataframe a atar.\n",
    "coeff_df = pd.DataFrame(final_model.coef_, index = X.columns, columns = [\"Coefficient\"] )\n",
    "coeff_df"
   ]
  },
  {
   "attachments": {
    "image.png": {
     "image/png": "[encoded data removed]"
    }
   },
   "cell_type": "markdown",
   "metadata": {},
   "source": [
    "![image.png](attachment:image.png)"
   ]
  },
  {
   "cell_type": "markdown",
   "metadata": {},
   "source": [
    "<h3><left><span style=\"color:SteelBlue; opacity: 1;\">Final Modeli Farklı Datalarda Uygulama</span></left></h3>"
   ]
  },
  {
   "cell_type": "code",
   "execution_count": null,
   "metadata": {},
   "outputs": [],
   "source": [
    "adv = [[150, 20, 15]]  # predict edebilmek için 2 boyutlu olarak yapmak zorundayız.\n",
    "final_model.predict(adv) \n",
    "# Örnek sonuç: array([13.55862413])"
   ]
  },
  {
   "cell_type": "code",
   "execution_count": null,
   "metadata": {},
   "outputs": [],
   "source": [
    "# manuel olarak kanıtı; (b1X + b0)\n",
    "# 0.045765 *150 + 0.188530 *20 + -0.001037*15 + 2.9388893694594085"
   ]
  },
  {
   "cell_type": "code",
   "execution_count": null,
   "metadata": {},
   "outputs": [],
   "source": [
    "adv_2 = [[150, 20, 15], [160, 20, 15]] # ilk feature 10 artırılınca (TV)\n",
    "final_model.predict(adv_2)\n",
    "# Örnek sonuç: array([13.55862413, 14.01627059])"
   ]
  },
  {
   "cell_type": "markdown",
   "metadata": {},
   "source": [
    "Katsayı = feature daki bir birim artış demektir.<br>\n",
    "Katsayı oranı kadar fark çıkarıyor. (14.01627059 - 13.55862413) = 10 * (0.045765)TV_coeff\n",
    "\n",
    "(14.01627059 - 13.55862413) = 4.5764646 = 10 * (0.045765)\n",
    "\n",
    "4.5764646 = 4.5764646"
   ]
  },
  {
   "cell_type": "markdown",
   "metadata": {},
   "source": [
    "<h4><left><span style=\"color:Maroon; opacity: 1;\">Sonuç:</span></left></h4>"
   ]
  },
  {
   "cell_type": "markdown",
   "metadata": {},
   "source": [
    "- Katsayılara bakarak bir feature ın önemli olup olmadığına karar verilmez.\n",
    "- Katsayılara bakarak feature lar arasında bir önem derecesi yapamıyorum.\n",
    "- Öncelikle bu katsayıları feature değeri ile çarparak aldığım skora göre tahminleme üzerinde ne kadar etkisi varsa ona göre karar veriyorum.\n",
    "- Intercept i eklemeyi unutma!!! y=bo + b1*x1 + b2*x2.., (intercept = bo değeri)"
   ]
  },
  {
   "cell_type": "markdown",
   "metadata": {},
   "source": [
    "<h2><left><span style=\"color:LightCoral; opacity: 1;\">POLY FONKSİYONU</span></left></h2>"
   ]
  },
  {
   "cell_type": "markdown",
   "metadata": {},
   "source": [
    "**Soru (Ali İhsan Bey):**<br> \n",
    "Merhaba, 3. derste poly regressionun, değerlerimizi düzelttiğini, ama bu düzeltmeyi sentetik bir şekilde yaptığı için müşteriye bu değerlerle herhangi bir insight veremeyeceğimizi konuştuk. Müsteriye insight vermeyecek bir düzeltmeyi neden elde etmek için lineer regresyonun polysini aldık? Bu düzeltme bizim ne işimize yarıyor? (lineer regresyona göre, poly'nin residual değerlerinin daha küçük olduğunun farkındayım. Ama bu küçüklük bizim hiçbir işimize yaramıyor. Çünkü sentetik verilerle elde edildiği için reel hayatta isimize yaramaz dedik)<br>\n",
    "**Cevap (Orion Hoca):**<br>\n",
    "Size overfitting ve underfitting durumunu göstrebileceğimiz en uygun model polynomial regressiondır. Linear regressionı da daha sonra gerçek hayatta kullnamayacağınız gibi, sadece bu temel metricleri düzelten polyi de kullanmayacaksınız. Poly özelinde linear olmayan bir dataya, model complexity'sinin artırılarak nasıl daha iyi sonuçlar elde edilebildiğini, modelin coplexity'sinin underfit, overfit veya modelin değerlerinin iyileştirmesi olayına nasıl etki ettiğini gösterebilecek en uygun model poly olduğundan bu modeli size gösterdik.<br>\n",
    "Eğer siz kendiniz için bir model üretecekseniz; featureniz az ve sizin için açıklanabilirlik önemli değil ise, poly kullanabilirsiniz.<br>\n",
    "Ama ilerde daha birçok algoritma göreceğiz ve bu algoritmalar, az featureleriniz ile bile sizin için değerleri iyileştirecek."
   ]
  },
  {
   "cell_type": "markdown",
   "metadata": {},
   "source": [
    "- ***Poly için örnek uygulama:***"
   ]
  },
  {
   "cell_type": "code",
   "execution_count": 26,
   "metadata": {},
   "outputs": [
    {
     "data": {
      "text/plain": [
       "array([[ 2.,  3.,  4.,  4.,  6.,  8.,  9., 12., 16.]])"
      ]
     },
     "execution_count": 26,
     "metadata": {},
     "output_type": "execute_result"
    }
   ],
   "source": [
    "import numpy as np\n",
    "import pandas as pd\n",
    "import matplotlib.pyplot as plt\n",
    "import seaborn as sns\n",
    "plt.rcParams[\"figure.figsize\"] = (10,6)\n",
    "\n",
    "from sklearn.preprocessing import PolynomialFeatures\n",
    "\n",
    "data = np.array([[2, 3, 4]])\n",
    "\n",
    "# true yaparsak features lara bir sayısı ekler. Zaten inttercept var.\n",
    "trans = PolynomialFeatures(degree = 2, include_bias =False)\n",
    "\n",
    "trans.fit(data) # 2, 3, 4 , 2x3, 2x4, 3x4, 2**2, 3**2, 4**2\n",
    "\n",
    "trans.transform(data)"
   ]
  },
  {
   "cell_type": "markdown",
   "metadata": {},
   "source": [
    "- Fit ve transform neler yaptı onu gördük. Aşağıdaki satır ikisini birden aynı anda yapar."
   ]
  },
  {
   "cell_type": "code",
   "execution_count": 28,
   "metadata": {},
   "outputs": [
    {
     "data": {
      "text/plain": [
       "array([[ 2.,  3.,  4.,  4.,  6.,  8.,  9., 12., 16.]])"
      ]
     },
     "execution_count": 28,
     "metadata": {},
     "output_type": "execute_result"
    }
   ],
   "source": [
    "trans.fit_transform(data)"
   ]
  },
  {
   "cell_type": "markdown",
   "metadata": {},
   "source": [
    "- ***Biz de target column drop ederek sadece feature sütunlara poly uygularsak nasıl olur? Örnek uygulama kodları:*** "
   ]
  },
  {
   "cell_type": "code",
   "execution_count": 30,
   "metadata": {},
   "outputs": [
    {
     "data": {
      "text/html": [
       "<div>\n",
       "<style scoped>\n",
       "    .dataframe tbody tr th:only-of-type {\n",
       "        vertical-align: middle;\n",
       "    }\n",
       "\n",
       "    .dataframe tbody tr th {\n",
       "        vertical-align: top;\n",
       "    }\n",
       "\n",
       "    .dataframe thead th {\n",
       "        text-align: right;\n",
       "    }\n",
       "</style>\n",
       "<table border=\"1\" class=\"dataframe\">\n",
       "  <thead>\n",
       "    <tr style=\"text-align: right;\">\n",
       "      <th></th>\n",
       "      <th>TV</th>\n",
       "      <th>radio</th>\n",
       "      <th>newspaper</th>\n",
       "      <th>sales</th>\n",
       "    </tr>\n",
       "  </thead>\n",
       "  <tbody>\n",
       "    <tr>\n",
       "      <th>0</th>\n",
       "      <td>230.1</td>\n",
       "      <td>37.8</td>\n",
       "      <td>69.2</td>\n",
       "      <td>22.1</td>\n",
       "    </tr>\n",
       "    <tr>\n",
       "      <th>1</th>\n",
       "      <td>44.5</td>\n",
       "      <td>39.3</td>\n",
       "      <td>45.1</td>\n",
       "      <td>10.4</td>\n",
       "    </tr>\n",
       "    <tr>\n",
       "      <th>2</th>\n",
       "      <td>17.2</td>\n",
       "      <td>45.9</td>\n",
       "      <td>69.3</td>\n",
       "      <td>9.3</td>\n",
       "    </tr>\n",
       "    <tr>\n",
       "      <th>3</th>\n",
       "      <td>151.5</td>\n",
       "      <td>41.3</td>\n",
       "      <td>58.5</td>\n",
       "      <td>18.5</td>\n",
       "    </tr>\n",
       "    <tr>\n",
       "      <th>4</th>\n",
       "      <td>180.8</td>\n",
       "      <td>10.8</td>\n",
       "      <td>58.4</td>\n",
       "      <td>12.9</td>\n",
       "    </tr>\n",
       "  </tbody>\n",
       "</table>\n",
       "</div>"
      ],
      "text/plain": [
       "      TV  radio  newspaper  sales\n",
       "0  230.1   37.8       69.2   22.1\n",
       "1   44.5   39.3       45.1   10.4\n",
       "2   17.2   45.9       69.3    9.3\n",
       "3  151.5   41.3       58.5   18.5\n",
       "4  180.8   10.8       58.4   12.9"
      ]
     },
     "execution_count": 30,
     "metadata": {},
     "output_type": "execute_result"
    }
   ],
   "source": [
    "df = pd.read_csv(\"Advertising.csv\")\n",
    "df=pd.DataFrame(\"Advertising.csv\")\n",
    "df.head()\n",
    "df.head()"
   ]
  },
  {
   "cell_type": "code",
   "execution_count": 31,
   "metadata": {},
   "outputs": [
    {
     "data": {
      "text/html": [
       "<div>\n",
       "<style scoped>\n",
       "    .dataframe tbody tr th:only-of-type {\n",
       "        vertical-align: middle;\n",
       "    }\n",
       "\n",
       "    .dataframe tbody tr th {\n",
       "        vertical-align: top;\n",
       "    }\n",
       "\n",
       "    .dataframe thead th {\n",
       "        text-align: right;\n",
       "    }\n",
       "</style>\n",
       "<table border=\"1\" class=\"dataframe\">\n",
       "  <thead>\n",
       "    <tr style=\"text-align: right;\">\n",
       "      <th></th>\n",
       "      <th>TV</th>\n",
       "      <th>radio</th>\n",
       "      <th>newspaper</th>\n",
       "      <th>TV^2</th>\n",
       "      <th>TV&amp;Radio</th>\n",
       "      <th>TV&amp;Newspaper</th>\n",
       "      <th>Radio^2</th>\n",
       "      <th>Radio&amp;newspaper</th>\n",
       "      <th>Newspaper^2</th>\n",
       "    </tr>\n",
       "  </thead>\n",
       "  <tbody>\n",
       "    <tr>\n",
       "      <th>0</th>\n",
       "      <td>230.1</td>\n",
       "      <td>37.8</td>\n",
       "      <td>69.2</td>\n",
       "      <td>52946.01</td>\n",
       "      <td>8697.78</td>\n",
       "      <td>15922.92</td>\n",
       "      <td>1428.84</td>\n",
       "      <td>2615.76</td>\n",
       "      <td>4788.64</td>\n",
       "    </tr>\n",
       "    <tr>\n",
       "      <th>1</th>\n",
       "      <td>44.5</td>\n",
       "      <td>39.3</td>\n",
       "      <td>45.1</td>\n",
       "      <td>1980.25</td>\n",
       "      <td>1748.85</td>\n",
       "      <td>2006.95</td>\n",
       "      <td>1544.49</td>\n",
       "      <td>1772.43</td>\n",
       "      <td>2034.01</td>\n",
       "    </tr>\n",
       "    <tr>\n",
       "      <th>2</th>\n",
       "      <td>17.2</td>\n",
       "      <td>45.9</td>\n",
       "      <td>69.3</td>\n",
       "      <td>295.84</td>\n",
       "      <td>789.48</td>\n",
       "      <td>1191.96</td>\n",
       "      <td>2106.81</td>\n",
       "      <td>3180.87</td>\n",
       "      <td>4802.49</td>\n",
       "    </tr>\n",
       "    <tr>\n",
       "      <th>3</th>\n",
       "      <td>151.5</td>\n",
       "      <td>41.3</td>\n",
       "      <td>58.5</td>\n",
       "      <td>22952.25</td>\n",
       "      <td>6256.95</td>\n",
       "      <td>8862.75</td>\n",
       "      <td>1705.69</td>\n",
       "      <td>2416.05</td>\n",
       "      <td>3422.25</td>\n",
       "    </tr>\n",
       "    <tr>\n",
       "      <th>4</th>\n",
       "      <td>180.8</td>\n",
       "      <td>10.8</td>\n",
       "      <td>58.4</td>\n",
       "      <td>32688.64</td>\n",
       "      <td>1952.64</td>\n",
       "      <td>10558.72</td>\n",
       "      <td>116.64</td>\n",
       "      <td>630.72</td>\n",
       "      <td>3410.56</td>\n",
       "    </tr>\n",
       "  </tbody>\n",
       "</table>\n",
       "</div>"
      ],
      "text/plain": [
       "      TV  radio  newspaper      TV^2  TV&Radio  TV&Newspaper  Radio^2  \\\n",
       "0  230.1   37.8       69.2  52946.01   8697.78      15922.92  1428.84   \n",
       "1   44.5   39.3       45.1   1980.25   1748.85       2006.95  1544.49   \n",
       "2   17.2   45.9       69.3    295.84    789.48       1191.96  2106.81   \n",
       "3  151.5   41.3       58.5  22952.25   6256.95       8862.75  1705.69   \n",
       "4  180.8   10.8       58.4  32688.64   1952.64      10558.72   116.64   \n",
       "\n",
       "   Radio&newspaper  Newspaper^2  \n",
       "0          2615.76      4788.64  \n",
       "1          1772.43      2034.01  \n",
       "2          3180.87      4802.49  \n",
       "3          2416.05      3422.25  \n",
       "4           630.72      3410.56  "
      ]
     },
     "execution_count": 31,
     "metadata": {},
     "output_type": "execute_result"
    }
   ],
   "source": [
    "X = df.drop(\"sales\", axis =1)\n",
    "y = df.sales\n",
    "\n",
    "polynomial_converter = PolynomialFeatures(degree =2, include_bias =False)\n",
    "\n",
    "# kısa yol\n",
    "poly_features = polynomial_converter.fit_transform(X)\n",
    "\n",
    "# kolonlara atamak için\n",
    "pd.DataFrame(poly_features, columns = [\"TV\", \"radio\", \"newspaper\", \"TV^2\", \"TV&Radio\", \\\n",
    "                                   \"TV&Newspaper\", \"Radio^2\", \"Radio&newspaper\", \"Newspaper^2\"]).head()"
   ]
  },
  {
   "cell_type": "code",
   "execution_count": null,
   "metadata": {},
   "outputs": [],
   "source": [
    "X=df.drop(\"sales\",axis=1)\n",
    "y=df.sales\n",
    "polynomial_convertor = PolynominalFeatures(degree=2, include_bias=2)\n",
    " # veya\n",
    "    poly_features = polynominal_convertor.fit_transform(X)\n",
    "    # kolon atama için \n",
    "    pd.DataFrame(poly_features,columns=[\"TV\",\"radio\",\"newspaper\",\"Tv^2\",\"TV&Radio\",\\\n",
    "                                       \"TV&Newspaper\",\"Radio^2\",\"Radio&newspaper\",\"Newspaper^2\"])"
   ]
  },
  {
   "cell_type": "markdown",
   "metadata": {},
   "source": [
    "Her kolona, hangi işlemi yaptıysak oa göre isim verdik.<br>\n",
    "- Müşteriye anlatmak niye sıkıntılı?\n",
    "- Ben elde ettiğim yapay verilerden insight çıkarımı yaptım ama bunlar yapay veriler olduğu için bizi ve müşteriyi yanıltabilir.\n",
    "- Gerçek hayat verilerine uygularken müşteri neden TV'nin karesini aldığımızı bile bilemez. \n",
    "- Biz yeterli görmeyip yeni feature ları müşteriden talep ederiz. Ama amacımız sadece tahminimi iyileştirmek ise bu yöntem uygulanır. Gerçek verilerden yararlanmaktansa tahminimizi; yapay veri setlerini türetip iyileştirme yaptık. Sadece iyileştirme, gerçek hayata uyarlama değil."
   ]
  },
  {
   "cell_type": "markdown",
   "metadata": {},
   "source": [
    "<h3><left><span style=\"color:SteelBlue; opacity: 1;\">Poly Datanın Modele Sokulması</span></left></h3>"
   ]
  },
  {
   "cell_type": "markdown",
   "metadata": {},
   "source": [
    "- ***Tıpkı normal datamızda olduğu gibi poly fonksiyonu ile sentetik olarak featureları çoğaltılan yeni poly datamızda final model olana kadar aynı süreçlerden geöer ve modele sokulur. Bunları tekrardan yapmanın bir manası yoktur. Yukarıda olduğu gibi aynı süreç yeni poly datasetimiz için tekrar etmektedir.***\n",
    "\n",
    "\n",
    "- ***Poly datasetimiz için metrik değerlendirmeleri sonucuna (yani eval_metric fonksiyonu uygulandığındaki sonuçlara) bakarak bazı kanaatlere varırız.***"
   ]
  },
  {
   "cell_type": "markdown",
   "metadata": {},
   "source": [
    "- Örnek Çıktı:\n",
    "\n",
    "\n",
    "    * Simple Linear Regression:\n",
    "        * MAE      : 1.213\n",
    "        * RMSE     : 1.516\n",
    "        * r2_score : 0.8609\n",
    "\n",
    "    * Polynomial 2-degree:\n",
    "        * MAE      : 0.48\n",
    "        * RMSE     : 0.66\n",
    "        * r2_score : 0.9868"
   ]
  },
  {
   "cell_type": "markdown",
   "metadata": {},
   "source": [
    "- Train ve test setimizin sonuçları arasındaki uçurum overfitting olduğunu gösterir."
   ]
  },
  {
   "cell_type": "markdown",
   "metadata": {},
   "source": [
    "<h4><left><span style=\"color:Maroon; opacity: 1;\">Sonuç:</span></left></h4>"
   ]
  },
  {
   "cell_type": "markdown",
   "metadata": {},
   "source": [
    "***Polinom linear reg.*** işte tamamen skorlarımızı iyileştirir. Ama feature sayımız artacak, hangi birini müşteriye anlatacağız ki. 1000 tane feature ımız olacak. Yani bunu insight etmek, müşteriye açıklamak anlamsız. Sadece predictimizin başarısını sentetik veriler ile arttırmaya yarıyor."
   ]
  },
  {
   "cell_type": "markdown",
   "metadata": {},
   "source": [
    "<h3><left><span style=\"color:SteelBlue; opacity: 1;\">Poly İçin Optimal Derecenin Belirlenmesi</span></left></h3>"
   ]
  },
  {
   "cell_type": "markdown",
   "metadata": {},
   "source": [
    "- Şimdi sizlere çok önemli bir kod paylaşacağız. Poly fonksiyonu için yukarıdaki yaptığımız tüm işlemleri for döngüsü içerisinde yaptıran kod:"
   ]
  },
  {
   "cell_type": "code",
   "execution_count": 32,
   "metadata": {},
   "outputs": [],
   "source": [
    "def poly(d):\n",
    "    \n",
    "    train_rmse_errors = []\n",
    "    test_rmse_errors = []\n",
    "    \n",
    "    for i in range(1, d):\n",
    "        polynomial_converter = PolynomialFeatures(degree = i, include_bias =False)\n",
    "        poly_features = polynomial_converter.fit_transform(X)\n",
    "        \n",
    "        X_train, X_test, y_train, y_test = train_test_split(poly_features, y, test_size=0.3, random_state=101)\n",
    "        \n",
    "        model = LinearRegression(fit_intercept=True)\n",
    "        model.fit(X_train, y_train)\n",
    "        \n",
    "        train_pred = model.predict(X_train)\n",
    "        test_pred = model.predict(X_test)\n",
    "        \n",
    "        train_RMSE = np.sqrt(mean_squared_error(y_train,train_pred))\n",
    "        test_RMSE = np.sqrt(mean_squared_error(y_test,test_pred))\n",
    "        \n",
    "        train_rmse_errors.append(train_RMSE)\n",
    "        test_rmse_errors.append(test_RMSE)\n",
    "        \n",
    "    return pd.DataFrame({\"train_rmse_errors\": train_rmse_errors, \"test_rmse_errors\":test_rmse_errors}, index=[i for i in range(1,d)])\n",
    "        "
   ]
  },
  {
   "cell_type": "markdown",
   "metadata": {},
   "source": [
    "- Şimdi kaç dereceden inceleme yapmak istiyorsak sadece derece numarasını yazmak yeterli. İşte bu kadar kolay."
   ]
  },
  {
   "attachments": {
    "image.png": {
     "image/png": "[encoded data removed]"
    }
   },
   "cell_type": "markdown",
   "metadata": {},
   "source": [
    "- Örnek Çıktı:\n",
    "![image.png](attachment:image.png)"
   ]
  },
  {
   "cell_type": "markdown",
   "metadata": {},
   "source": [
    "- Şimdi diğer kullanışlı bir kod olan, derecelerine göre train ve test datanın plotlarını çizdiren kodu görelim."
   ]
  },
  {
   "cell_type": "code",
   "execution_count": null,
   "metadata": {},
   "outputs": [],
   "source": [
    "# ilk 10 derece\n",
    "plt.plot(range(1,10), poly(10)[\"train_rmse_errors\"], label = \"TRAIN\") # ilk 10 derece, train_rmse_errors feature as TRAIN\n",
    "plt.plot(range(1,10), poly(10)[\"test_rmse_errors\"], label = \"TEST\") # ilk 10 derece, test_rmse_errors feature as TEST\n",
    "plt.xlabel(\"Polynamial Complex\")\n",
    "plt.ylabel(\"RMSE\")\n",
    "plt.legend();"
   ]
  },
  {
   "attachments": {
    "image.png": {
     "image/png": "[encoded data removed]"
    }
   },
   "cell_type": "markdown",
   "metadata": {},
   "source": [
    "- Örnek Çıktı:\n",
    "![image.png](attachment:image.png)"
   ]
  },
  {
   "cell_type": "markdown",
   "metadata": {},
   "source": [
    "- ***Not:*** Eğer detayı yakalamıyorsak dereceyi azaltarak biraz daha zoom yapabiliriz. İşte kod:"
   ]
  },
  {
   "cell_type": "code",
   "execution_count": null,
   "metadata": {},
   "outputs": [],
   "source": [
    "# ilk 6 derece\n",
    "plt.plot(range(1,6), poly(6)[\"train_rmse_errors\"], label = \"TRAIN\")\n",
    "plt.plot(range(1,6), poly(6)[\"test_rmse_errors\"], label = \"TEST\")\n",
    "plt.xlabel(\"Polynamial Complex\")\n",
    "plt.ylabel(\"RMSE\")\n",
    "plt.legend();"
   ]
  },
  {
   "attachments": {
    "image.png": {
     "image/png": "[encoded data removed]"
    }
   },
   "cell_type": "markdown",
   "metadata": {},
   "source": [
    "- Örnek Çıktı:\n",
    "![image.png](attachment:image.png)"
   ]
  },
  {
   "cell_type": "markdown",
   "metadata": {},
   "source": [
    "- 1-2 arası underfitting\n",
    "- 2-4 ideal\n",
    "- 4-~ overfitting\n",
    "\n",
    "- Karar = 2'yi ve 3'ü seçmede sıkıntı yoktur. Ama patlama 4 te başladığı için 4 noktası seçilemez. Çünkü, 4 noktası en sağlam en kuvvetli en önemli feature olsa bile bu nokta overfitting in başladığı noktadır."
   ]
  },
  {
   "cell_type": "markdown",
   "metadata": {},
   "source": [
    "<h3><left><span style=\"color:SteelBlue; opacity: 1;\">Poly İçin Final Modeli Oluşturma ve Predict Etme</span></left></h3>"
   ]
  },
  {
   "cell_type": "markdown",
   "metadata": {},
   "source": [
    "- Yukarıda da söylediğim gibi bu kısımları isterseniz geçebilirsiniz."
   ]
  },
  {
   "cell_type": "code",
   "execution_count": null,
   "metadata": {},
   "outputs": [],
   "source": [
    "# Poly modeli final etme\n",
    "final_poly_converter = PolynomialFeatures(degree = 3)  # ben 3'ü aldım, siz 2'yi de seçebilirdiniz\n",
    "final_model = LinearRegression()\n",
    "final_model.fit(final_poly_converter.fit_transform(X), y)"
   ]
  },
  {
   "cell_type": "code",
   "execution_count": null,
   "metadata": {},
   "outputs": [],
   "source": [
    "# Poly model ile tahmin yapma\n",
    "new_record = [[150, 20, 15]]\n",
    "new_record_poly = final_poly_converter.fit_transform(new_record)\n",
    "final_model.predict(new_record_poly) "
   ]
  },
  {
   "cell_type": "markdown",
   "metadata": {},
   "source": [
    "<h2><left><span style=\"color:LightCoral; opacity: 1;\">OVERFIT DURUMU</span></left></h2>"
   ]
  },
  {
   "cell_type": "markdown",
   "metadata": {},
   "source": [
    "- Yukarıdaki grafiklerden de gördüğümüz kadarı ile, poly dercemizin 5 olduğu nokta bizim modelimiz için overfit olma noktası idi. \n",
    "- Şimdi poly fonksiyonumuzu uygulayıp, featurelarımızı sentetik olarak çoğaltalım ve dereceyi 5 alarak bir over fit durumu oluşturalım.\n",
    "- Ve tüm bu dataseti şu ana kadar olan gördüğümüz ML modeli oluşturma için kodlayalım;"
   ]
  },
  {
   "cell_type": "code",
   "execution_count": null,
   "metadata": {},
   "outputs": [],
   "source": [
    "over_poly_converter = PolynomialFeatures(degree =5)\n",
    "over_model = LinearRegression()\n",
    "X_train, X_test, y_train, y_test = train_test_split(over_poly_converter.fit_transform(X), y, test_size=0.3, random_state=101)\n",
    "over_model.fit(X_train, y_train)\n",
    "y_pred_over = over_model.predict(X_test)"
   ]
  },
  {
   "cell_type": "code",
   "execution_count": null,
   "metadata": {},
   "outputs": [],
   "source": [
    "over_model.score(X_train, y_train)  # örnek çıktı : 0.9969952215558862"
   ]
  },
  {
   "cell_type": "code",
   "execution_count": null,
   "metadata": {},
   "outputs": [],
   "source": [
    "over_model.score(X_test, y_test)  # örnek çıktı : 0.5764805665168864"
   ]
  },
  {
   "cell_type": "code",
   "execution_count": null,
   "metadata": {},
   "outputs": [],
   "source": [
    "eval_metric(y_test, y_pred_over)"
   ]
  },
  {
   "attachments": {
    "image.png": {
     "image/png": "[encoded data removed]"
    }
   },
   "cell_type": "markdown",
   "metadata": {},
   "source": [
    "- örnek çıktı:\n",
    "![image.png](attachment:image.png)"
   ]
  },
  {
   "cell_type": "code",
   "execution_count": null,
   "metadata": {},
   "outputs": [],
   "source": [
    "y_train_over = over_model.predict(X_train)\n",
    "eval_metric(y_train, y_train_over)"
   ]
  },
  {
   "attachments": {
    "image.png": {
     "image/png": "[encoded data removed]"
    }
   },
   "cell_type": "markdown",
   "metadata": {},
   "source": [
    "- örnek çıktı:\n",
    "![image.png](attachment:image.png)"
   ]
  },
  {
   "cell_type": "markdown",
   "metadata": {},
   "source": [
    "<h4><left><span style=\"color:Maroon; opacity: 1;\">Sonuç:</span></left></h4>"
   ]
  },
  {
   "cell_type": "markdown",
   "metadata": {},
   "source": [
    "- Model comlexitesini (degree) artırırken çok dikkatli olmak gerek. 5 olduğunda patlar. En küçüğü seçmek gerek.\n",
    "- Benim modelim train setindeki skorları ezberlemiş. Ama hiç görmediği skorlarda bu değeri genelleyemediği için bu modelim overfitting oldu. Overfitting i engelleme yöntemlerimiz ve azaltma yntemlerimiz var. Bunlar, şu an adını telafuz edemediğim bir takım validation falan filan cart curt ..."
   ]
  }
 ],
 "metadata": {
  "kernelspec": {
   "display_name": "Python 3",
   "language": "python",
   "name": "python3"
  },
  "language_info": {
   "codemirror_mode": {
    "name": "ipython",
    "version": 3
   },
   "file_extension": ".py",
   "mimetype": "text/x-python",
   "name": "python",
   "nbconvert_exporter": "python",
   "pygments_lexer": "ipython3",
   "version": "3.8.5"
  }
 },
 "nbformat": 4,
 "nbformat_minor": 5
}
