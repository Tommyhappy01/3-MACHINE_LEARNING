{
 "cells": [
  {
   "cell_type": "markdown",
   "source": [
    "___\n",
    "\n",
    "<p style=\"text-align: center;\"><img src=\"https://docs.google.com/uc?id=1lY0Uj5R04yMY3-ZppPWxqCr5pvBLYPnV\" class=\"img-fluid\" alt=\"CLRSWY\"></p>\n",
    "\n",
    "___"
   ],
   "metadata": {
    "id": "4UCsvzbImqZN"
   }
  },
  {
   "cell_type": "markdown",
   "source": [
    "# WELCOME!"
   ],
   "metadata": {
    "id": "i5WapR8JmqZN"
   }
  },
  {
   "cell_type": "markdown",
   "source": [
    "Welcome to \"***Car Price Prediction Project***\". This is the first medium project of ***Machine Learning*** course. In this project you will have the opportunity to apply many algorithms commonly used for regression problems.\n",
    "\n",
    "Also, you will apply various processes such as pre-processing, ***train-test spilit*** and ***cross validation*** that you will use in algorithm modeling and prediction processes in Python with ***scikit-learn***. \n",
    "\n",
    "Before diving into the project, please take a look at the determines and tasks.\n",
    "\n",
    "- **NOTE:** This project assumes that you already know the basics of coding in Python. You should also be familiar with the theory behind regression algorithms and scikit-learn module as well as Machine Learning before you begin.\n"
   ],
   "metadata": {
    "id": "ZyeGWbuTmqZN"
   }
  },
  {
   "cell_type": "markdown",
   "source": [
    "# #Determines\r\n",
    "\r\n",
    "**Auto Scout** data which using for this project, scraped from the on-line car trading company(https://www.autoscout24.com)in 2019, contains many features of 9 different car models. In this project, you will use the data set which is already preprocessed and prepared for algorithms .\r\n",
    "\r\n",
    "The aim of this project to understand of machine learning algorithms. Therefore, you will not need any EDA process as you will be working on the edited data.\r\n",
    "\r\n",
    "---\r\n",
    "\r\n",
    "In this Senario, you will estimate the prices of cars using regression algorithms.\r\n",
    "\r\n",
    "While starting you should import the necessary modules and load the data given as pkl file. Also you'll need to do a few pre-processing before moving to modelling. After that you will implement ***Linear Regression, Ridge Regression, Lasso Regression,and Elastic-Net algorithms respectively*** (After completion of Unsupervised Learning section, you can also add bagging and boosting algorithms such as ***Random Forest and XG Boost*** this notebook to develop the project). You can measure the success of your models with regression evaluation metrics as well as with cross validation method.\r\n",
    "\r\n",
    "For the better results, you should try to increase the success of your models by performing hyperparameter tuning. Determine feature importances for the model. You can set your model with the most important features for resource saving. You should try to apply this especially in Random Forest and XG Boost algorithms. Unlike the others, you will perform hyperparameter tuning for Random Forest and XG Boost using the ***GridSearchCV*** method. \r\n",
    "\r\n",
    "Finally You can compare the performances of algorithms, work more on the algorithm have the most successful prediction rate.\r\n",
    "\r\n",
    "\r\n",
    "\r\n",
    "\r\n"
   ],
   "metadata": {
    "id": "c0Iul5QymqZN"
   }
  },
  {
   "cell_type": "markdown",
   "source": [
    "# #Tasks\n",
    "\n",
    "#### 1. Import Modules, Load Data and Data Review\n",
    "#### 2. Data Pre-Processing\n",
    "#### 3. Implement Linear Regression \n",
    "#### 4. Implement Ridge Regression\n",
    "#### 5. Implement Lasso Regression \n",
    "#### 6. Implement Elastic-Net\n",
    "#### 7. Visually Compare Models Performance In a Graph"
   ],
   "metadata": {
    "id": "pL-jJ1irmqZN"
   }
  },
  {
   "cell_type": "markdown",
   "source": [
    "## 1. Import Modules, Load Data and Data Review"
   ],
   "metadata": {
    "id": "Rik6d_vimqZN"
   }
  },
  {
   "cell_type": "code",
   "execution_count": null,
   "source": [],
   "outputs": [],
   "metadata": {
    "id": "QBddHlqgmqZN"
   }
  },
  {
   "cell_type": "markdown",
   "source": [
    "## 2. Data Pre-Processing"
   ],
   "metadata": {
    "id": "QsEUUAAKmqZN"
   }
  },
  {
   "cell_type": "markdown",
   "source": [
    "As you know, the data set must be edited before proceeding to the implementation of the model. As the last step before model fitting, you need to spilit the data set as train and test. Then, you should train the model with train data and evaluate the performance of the model on the test data. You can use the train and test data you have created for all algorithms.\n",
    "\n",
    "You must also drop your target variable, the column you are trying to predict."
   ],
   "metadata": {
    "id": "QtVkM6f2mqZN"
   }
  },
  {
   "cell_type": "markdown",
   "source": [
    "You can use many [performance metrics for regression](https://medium.com/analytics-vidhya/evaluation-metrics-for-regression-problems-343c4923d922) to measure the performance of the regression model you train. You can define a function to view different metric results together.\n",
    "\n",
    "You can also use the [cross validation](https://towardsdatascience.com/cross-validation-explained-evaluating-estimator-performance-e51e5430ff85) method to measure the estimator performance. Cross validation uses different data samples from your test set and calculates the accuracy score for each data sample. You can calculate the final performance of your estimator by averaging these scores."
   ],
   "metadata": {
    "id": "K7d_92iemqZN"
   }
  },
  {
   "cell_type": "code",
   "execution_count": null,
   "source": [],
   "outputs": [],
   "metadata": {
    "id": "-3gMQ3utmqZN"
   }
  },
  {
   "cell_type": "markdown",
   "source": [
    "## 3. Implement Linear Regression"
   ],
   "metadata": {
    "id": "An_5ITcAmqZO"
   }
  },
  {
   "cell_type": "markdown",
   "source": [
    " - Import the modul\n",
    " - Fit the model \n",
    " - Predict the test set\n",
    " - Determine feature coefficiant\n",
    " - Evaluate model performance (use performance metrics for regression and cross_val_score)\n",
    " - Compare different evaluation metrics\n",
    " \n",
    "*Note: You can use the [dir()](https://www.geeksforgeeks.org/python-dir-function/) function to see the methods you need.*"
   ],
   "metadata": {
    "id": "0c0y-w8vmqZO"
   }
  },
  {
   "cell_type": "code",
   "execution_count": null,
   "source": [],
   "outputs": [],
   "metadata": {
    "id": "lq6UKn_HmqZO"
   }
  },
  {
   "cell_type": "markdown",
   "source": [
    "## 4. Implement Ridge Regression"
   ],
   "metadata": {
    "id": "n2ROwYsymqZO"
   }
  },
  {
   "cell_type": "markdown",
   "source": [
    "- Import the modul \n",
    "- Do not forget to scale the data or use Normalize parameter as True \n",
    "- Fit the model \n",
    "- Predict the test set \n",
    "- Evaluate model performance (use performance metrics for regression) \n",
    "- Tune alpha hiperparameter by using [cross validation](https://scikit-learn.org/stable/modules/generated/sklearn.linear_model.RidgeCV.html) and determine the optimal alpha value.\n",
    "- Fit the model and predict again with the new alpha value. "
   ],
   "metadata": {
    "id": "3RvdF8CRmqZO"
   }
  },
  {
   "cell_type": "code",
   "execution_count": null,
   "source": [],
   "outputs": [],
   "metadata": {
    "id": "CXm_zzZMmqZO"
   }
  },
  {
   "cell_type": "markdown",
   "source": [
    "## 5. Implement Lasso Regression"
   ],
   "metadata": {
    "id": "oDfXOSnpmqZO"
   }
  },
  {
   "cell_type": "markdown",
   "source": [
    "- Import the modul \n",
    "- Do not forget to scale the data or use Normalize parameter as True(If needed)\n",
    "- Fit the model \n",
    "- Predict the test set \n",
    "- Evaluate model performance (use performance metrics for regression) \n",
    "- Tune alpha hyperparameter by using [cross validation](https://scikit-learn.org/stable/modules/generated/sklearn.linear_model.LassoCV.html) and determine the optimal alpha value.\n",
    "- Fit the model and predict again with the new alpha value.\n",
    "- Compare different evaluation metrics\n",
    "\n",
    "*Note: To understand the importance of the alpha hyperparameter, you can observe the effects of different alpha values on feature coefficants.*"
   ],
   "metadata": {
    "id": "icqyxzBymqZO"
   }
  },
  {
   "cell_type": "code",
   "execution_count": null,
   "source": [],
   "outputs": [],
   "metadata": {
    "id": "KbGqu0u5mqZO"
   }
  },
  {
   "cell_type": "markdown",
   "source": [
    "## 6. Implement Elastic-Net"
   ],
   "metadata": {
    "id": "qpoOypMbmqZO"
   }
  },
  {
   "cell_type": "markdown",
   "source": [
    "- Import the modul \n",
    "- Do not forget to scale the data or use Normalize parameter as True(If needed)\n",
    "- Fit the model \n",
    "- Predict the test set \n",
    "- Evaluate model performance (use performance metrics for regression) \n",
    "- Tune alpha hyperparameter by using [GridSearchCV](https://scikit-learn.org/stable/modules/generated/sklearn.model_selection.GridSearchCV.html) and determine the optimal alpha value.\n",
    "- Fit the model and predict again with the new alpha value.\n",
    "- Compare different evaluation metrics"
   ],
   "metadata": {
    "id": "El7SNJUemqZO"
   }
  },
  {
   "cell_type": "code",
   "execution_count": null,
   "source": [],
   "outputs": [],
   "metadata": {
    "id": "XKVr6v2JmqZO"
   }
  },
  {
   "cell_type": "markdown",
   "source": [
    "## 7. Visually Compare Models Performance In a Graph"
   ],
   "metadata": {
    "id": "sYyuZQtWmqZO"
   }
  },
  {
   "cell_type": "code",
   "execution_count": null,
   "source": [],
   "outputs": [],
   "metadata": {
    "id": "iig18G7zmqZO"
   }
  },
  {
   "cell_type": "code",
   "execution_count": null,
   "source": [],
   "outputs": [],
   "metadata": {}
  },
  {
   "cell_type": "markdown",
   "source": [
    "___\n",
    "\n",
    "<p style=\"text-align: center;\"><img src=\"https://docs.google.com/uc?id=1lY0Uj5R04yMY3-ZppPWxqCr5pvBLYPnV\" class=\"img-fluid\" alt=\"CLRSWY\"></p>\n",
    "\n",
    "___"
   ],
   "metadata": {}
  },
  {
   "cell_type": "code",
   "execution_count": null,
   "source": [],
   "outputs": [],
   "metadata": {}
  }
 ],
 "metadata": {
  "colab": {
   "collapsed_sections": [],
   "name": "modeling_auto_scout_Student_V1.ipynb",
   "provenance": []
  },
  "kernelspec": {
   "display_name": "Python 3",
   "language": "python",
   "name": "python3"
  },
  "language_info": {
   "codemirror_mode": {
    "name": "ipython",
    "version": 3
   },
   "file_extension": ".py",
   "mimetype": "text/x-python",
   "name": "python",
   "nbconvert_exporter": "python",
   "pygments_lexer": "ipython3",
   "version": "3.8.8"
  }
 },
 "nbformat": 4,
 "nbformat_minor": 4
}