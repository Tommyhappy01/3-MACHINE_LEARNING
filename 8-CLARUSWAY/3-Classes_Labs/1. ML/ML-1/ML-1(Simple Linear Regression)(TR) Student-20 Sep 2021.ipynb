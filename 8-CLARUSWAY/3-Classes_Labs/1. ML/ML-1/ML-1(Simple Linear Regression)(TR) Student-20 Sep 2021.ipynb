{
 "cells": [
  {
   "cell_type": "markdown",
   "id": "vocational-shopper",
   "metadata": {},
   "source": [
    "# Simple Linear Regression"
   ]
  },
  {
   "cell_type": "markdown",
   "id": "lesbian-fluid",
   "metadata": {},
   "source": [
    "## Import Library"
   ]
  },
  {
   "cell_type": "code",
   "execution_count": 11,
   "id": "bottom-parish",
   "metadata": {},
   "outputs": [],
   "source": [
    "import numpy as np\n",
    "import pandas as pd\n",
    "import matplotlib.pyplot as plt\n",
    "import seaborn as sns\n",
    "import scipy.stats as stats\n",
    "plt.rcParams[\"figure.figsize\"] = (10,6)\n",
    "import warnings\n",
    "warnings.filterwarnings('ignore')"
   ]
  },
  {
   "cell_type": "markdown",
   "id": "thick-anderson",
   "metadata": {},
   "source": [
    "## Read Dataset"
   ]
  },
  {
   "cell_type": "code",
   "execution_count": 12,
   "id": "rapid-silence",
   "metadata": {},
   "outputs": [
    {
     "data": {
      "text/html": [
       "<div>\n",
       "<style scoped>\n",
       "    .dataframe tbody tr th:only-of-type {\n",
       "        vertical-align: middle;\n",
       "    }\n",
       "\n",
       "    .dataframe tbody tr th {\n",
       "        vertical-align: top;\n",
       "    }\n",
       "\n",
       "    .dataframe thead th {\n",
       "        text-align: right;\n",
       "    }\n",
       "</style>\n",
       "<table border=\"1\" class=\"dataframe\">\n",
       "  <thead>\n",
       "    <tr style=\"text-align: right;\">\n",
       "      <th></th>\n",
       "      <th>TV</th>\n",
       "      <th>radio</th>\n",
       "      <th>newspaper</th>\n",
       "      <th>sales</th>\n",
       "    </tr>\n",
       "  </thead>\n",
       "  <tbody>\n",
       "    <tr>\n",
       "      <th>0</th>\n",
       "      <td>230.1</td>\n",
       "      <td>37.8</td>\n",
       "      <td>69.2</td>\n",
       "      <td>22.1</td>\n",
       "    </tr>\n",
       "    <tr>\n",
       "      <th>1</th>\n",
       "      <td>44.5</td>\n",
       "      <td>39.3</td>\n",
       "      <td>45.1</td>\n",
       "      <td>10.4</td>\n",
       "    </tr>\n",
       "    <tr>\n",
       "      <th>2</th>\n",
       "      <td>17.2</td>\n",
       "      <td>45.9</td>\n",
       "      <td>69.3</td>\n",
       "      <td>9.3</td>\n",
       "    </tr>\n",
       "    <tr>\n",
       "      <th>3</th>\n",
       "      <td>151.5</td>\n",
       "      <td>41.3</td>\n",
       "      <td>58.5</td>\n",
       "      <td>18.5</td>\n",
       "    </tr>\n",
       "    <tr>\n",
       "      <th>4</th>\n",
       "      <td>180.8</td>\n",
       "      <td>10.8</td>\n",
       "      <td>58.4</td>\n",
       "      <td>12.9</td>\n",
       "    </tr>\n",
       "    <tr>\n",
       "      <th>...</th>\n",
       "      <td>...</td>\n",
       "      <td>...</td>\n",
       "      <td>...</td>\n",
       "      <td>...</td>\n",
       "    </tr>\n",
       "    <tr>\n",
       "      <th>195</th>\n",
       "      <td>38.2</td>\n",
       "      <td>3.7</td>\n",
       "      <td>13.8</td>\n",
       "      <td>7.6</td>\n",
       "    </tr>\n",
       "    <tr>\n",
       "      <th>196</th>\n",
       "      <td>94.2</td>\n",
       "      <td>4.9</td>\n",
       "      <td>8.1</td>\n",
       "      <td>9.7</td>\n",
       "    </tr>\n",
       "    <tr>\n",
       "      <th>197</th>\n",
       "      <td>177.0</td>\n",
       "      <td>9.3</td>\n",
       "      <td>6.4</td>\n",
       "      <td>12.8</td>\n",
       "    </tr>\n",
       "    <tr>\n",
       "      <th>198</th>\n",
       "      <td>283.6</td>\n",
       "      <td>42.0</td>\n",
       "      <td>66.2</td>\n",
       "      <td>25.5</td>\n",
       "    </tr>\n",
       "    <tr>\n",
       "      <th>199</th>\n",
       "      <td>232.1</td>\n",
       "      <td>8.6</td>\n",
       "      <td>8.7</td>\n",
       "      <td>13.4</td>\n",
       "    </tr>\n",
       "  </tbody>\n",
       "</table>\n",
       "<p>200 rows × 4 columns</p>\n",
       "</div>"
      ],
      "text/plain": [
       "        TV  radio  newspaper  sales\n",
       "0    230.1   37.8       69.2   22.1\n",
       "1     44.5   39.3       45.1   10.4\n",
       "2     17.2   45.9       69.3    9.3\n",
       "3    151.5   41.3       58.5   18.5\n",
       "4    180.8   10.8       58.4   12.9\n",
       "..     ...    ...        ...    ...\n",
       "195   38.2    3.7       13.8    7.6\n",
       "196   94.2    4.9        8.1    9.7\n",
       "197  177.0    9.3        6.4   12.8\n",
       "198  283.6   42.0       66.2   25.5\n",
       "199  232.1    8.6        8.7   13.4\n",
       "\n",
       "[200 rows x 4 columns]"
      ]
     },
     "execution_count": 12,
     "metadata": {},
     "output_type": "execute_result"
    }
   ],
   "source": [
    "df = pd.read_csv(\"Advertising.csv\")\n",
    "df"
   ]
  },
  {
   "cell_type": "code",
   "execution_count": 13,
   "id": "noted-paint",
   "metadata": {},
   "outputs": [
    {
     "name": "stdout",
     "output_type": "stream",
     "text": [
      "<class 'pandas.core.frame.DataFrame'>\n",
      "RangeIndex: 200 entries, 0 to 199\n",
      "Data columns (total 4 columns):\n",
      " #   Column     Non-Null Count  Dtype  \n",
      "---  ------     --------------  -----  \n",
      " 0   TV         200 non-null    float64\n",
      " 1   radio      200 non-null    float64\n",
      " 2   newspaper  200 non-null    float64\n",
      " 3   sales      200 non-null    float64\n",
      "dtypes: float64(4)\n",
      "memory usage: 6.4 KB\n"
     ]
    }
   ],
   "source": [
    "df.info()"
   ]
  },
  {
   "cell_type": "code",
   "execution_count": 14,
   "id": "transparent-enterprise",
   "metadata": {},
   "outputs": [
    {
     "data": {
      "text/html": [
       "<div>\n",
       "<style scoped>\n",
       "    .dataframe tbody tr th:only-of-type {\n",
       "        vertical-align: middle;\n",
       "    }\n",
       "\n",
       "    .dataframe tbody tr th {\n",
       "        vertical-align: top;\n",
       "    }\n",
       "\n",
       "    .dataframe thead th {\n",
       "        text-align: right;\n",
       "    }\n",
       "</style>\n",
       "<table border=\"1\" class=\"dataframe\">\n",
       "  <thead>\n",
       "    <tr style=\"text-align: right;\">\n",
       "      <th></th>\n",
       "      <th>TV</th>\n",
       "      <th>radio</th>\n",
       "      <th>newspaper</th>\n",
       "      <th>sales</th>\n",
       "    </tr>\n",
       "  </thead>\n",
       "  <tbody>\n",
       "    <tr>\n",
       "      <th>count</th>\n",
       "      <td>200.000000</td>\n",
       "      <td>200.000000</td>\n",
       "      <td>200.000000</td>\n",
       "      <td>200.000000</td>\n",
       "    </tr>\n",
       "    <tr>\n",
       "      <th>mean</th>\n",
       "      <td>147.042500</td>\n",
       "      <td>23.264000</td>\n",
       "      <td>30.554000</td>\n",
       "      <td>14.022500</td>\n",
       "    </tr>\n",
       "    <tr>\n",
       "      <th>std</th>\n",
       "      <td>85.854236</td>\n",
       "      <td>14.846809</td>\n",
       "      <td>21.778621</td>\n",
       "      <td>5.217457</td>\n",
       "    </tr>\n",
       "    <tr>\n",
       "      <th>min</th>\n",
       "      <td>0.700000</td>\n",
       "      <td>0.000000</td>\n",
       "      <td>0.300000</td>\n",
       "      <td>1.600000</td>\n",
       "    </tr>\n",
       "    <tr>\n",
       "      <th>25%</th>\n",
       "      <td>74.375000</td>\n",
       "      <td>9.975000</td>\n",
       "      <td>12.750000</td>\n",
       "      <td>10.375000</td>\n",
       "    </tr>\n",
       "    <tr>\n",
       "      <th>50%</th>\n",
       "      <td>149.750000</td>\n",
       "      <td>22.900000</td>\n",
       "      <td>25.750000</td>\n",
       "      <td>12.900000</td>\n",
       "    </tr>\n",
       "    <tr>\n",
       "      <th>75%</th>\n",
       "      <td>218.825000</td>\n",
       "      <td>36.525000</td>\n",
       "      <td>45.100000</td>\n",
       "      <td>17.400000</td>\n",
       "    </tr>\n",
       "    <tr>\n",
       "      <th>max</th>\n",
       "      <td>296.400000</td>\n",
       "      <td>49.600000</td>\n",
       "      <td>114.000000</td>\n",
       "      <td>27.000000</td>\n",
       "    </tr>\n",
       "  </tbody>\n",
       "</table>\n",
       "</div>"
      ],
      "text/plain": [
       "               TV       radio   newspaper       sales\n",
       "count  200.000000  200.000000  200.000000  200.000000\n",
       "mean   147.042500   23.264000   30.554000   14.022500\n",
       "std     85.854236   14.846809   21.778621    5.217457\n",
       "min      0.700000    0.000000    0.300000    1.600000\n",
       "25%     74.375000    9.975000   12.750000   10.375000\n",
       "50%    149.750000   22.900000   25.750000   12.900000\n",
       "75%    218.825000   36.525000   45.100000   17.400000\n",
       "max    296.400000   49.600000  114.000000   27.000000"
      ]
     },
     "execution_count": 14,
     "metadata": {},
     "output_type": "execute_result"
    }
   ],
   "source": [
    "df.describe()"
   ]
  },
  {
   "cell_type": "code",
   "execution_count": 15,
   "id": "endangered-packet",
   "metadata": {},
   "outputs": [
    {
     "data": {
      "text/plain": [
       "<AxesSubplot:>"
      ]
     },
     "execution_count": 15,
     "metadata": {},
     "output_type": "execute_result"
    },
    {
     "data": {
      "image/png": "[encoded data removed]",
      "text/plain": [
       "<Figure size 720x432 with 2 Axes>"
      ]
     },
     "metadata": {
      "needs_background": "light"
     },
     "output_type": "display_data"
    }
   ],
   "source": [
    "sns.heatmap(df.corr(), annot =True)"
   ]
  },
  {
   "cell_type": "markdown",
   "id": "spectacular-algebra",
   "metadata": {},
   "source": [
    "## Create new independent variable (feature)"
   ]
  },
  {
   "cell_type": "code",
   "execution_count": 16,
   "id": "polar-count",
   "metadata": {},
   "outputs": [],
   "source": [
    "df[\"total_spend\"] = df[\"TV\"] + df[\"radio\"] + df[\"newspaper\"]"
   ]
  },
  {
   "cell_type": "code",
   "execution_count": 17,
   "id": "hired-venice",
   "metadata": {},
   "outputs": [
    {
     "data": {
      "text/html": [
       "<div>\n",
       "<style scoped>\n",
       "    .dataframe tbody tr th:only-of-type {\n",
       "        vertical-align: middle;\n",
       "    }\n",
       "\n",
       "    .dataframe tbody tr th {\n",
       "        vertical-align: top;\n",
       "    }\n",
       "\n",
       "    .dataframe thead th {\n",
       "        text-align: right;\n",
       "    }\n",
       "</style>\n",
       "<table border=\"1\" class=\"dataframe\">\n",
       "  <thead>\n",
       "    <tr style=\"text-align: right;\">\n",
       "      <th></th>\n",
       "      <th>TV</th>\n",
       "      <th>radio</th>\n",
       "      <th>newspaper</th>\n",
       "      <th>sales</th>\n",
       "      <th>total_spend</th>\n",
       "    </tr>\n",
       "  </thead>\n",
       "  <tbody>\n",
       "    <tr>\n",
       "      <th>0</th>\n",
       "      <td>230.1</td>\n",
       "      <td>37.8</td>\n",
       "      <td>69.2</td>\n",
       "      <td>22.1</td>\n",
       "      <td>337.1</td>\n",
       "    </tr>\n",
       "    <tr>\n",
       "      <th>1</th>\n",
       "      <td>44.5</td>\n",
       "      <td>39.3</td>\n",
       "      <td>45.1</td>\n",
       "      <td>10.4</td>\n",
       "      <td>128.9</td>\n",
       "    </tr>\n",
       "    <tr>\n",
       "      <th>2</th>\n",
       "      <td>17.2</td>\n",
       "      <td>45.9</td>\n",
       "      <td>69.3</td>\n",
       "      <td>9.3</td>\n",
       "      <td>132.4</td>\n",
       "    </tr>\n",
       "    <tr>\n",
       "      <th>3</th>\n",
       "      <td>151.5</td>\n",
       "      <td>41.3</td>\n",
       "      <td>58.5</td>\n",
       "      <td>18.5</td>\n",
       "      <td>251.3</td>\n",
       "    </tr>\n",
       "    <tr>\n",
       "      <th>4</th>\n",
       "      <td>180.8</td>\n",
       "      <td>10.8</td>\n",
       "      <td>58.4</td>\n",
       "      <td>12.9</td>\n",
       "      <td>250.0</td>\n",
       "    </tr>\n",
       "  </tbody>\n",
       "</table>\n",
       "</div>"
      ],
      "text/plain": [
       "      TV  radio  newspaper  sales  total_spend\n",
       "0  230.1   37.8       69.2   22.1        337.1\n",
       "1   44.5   39.3       45.1   10.4        128.9\n",
       "2   17.2   45.9       69.3    9.3        132.4\n",
       "3  151.5   41.3       58.5   18.5        251.3\n",
       "4  180.8   10.8       58.4   12.9        250.0"
      ]
     },
     "execution_count": 17,
     "metadata": {},
     "output_type": "execute_result"
    }
   ],
   "source": [
    "df.head()"
   ]
  },
  {
   "cell_type": "code",
   "execution_count": null,
   "id": "spiritual-biodiversity",
   "metadata": {},
   "outputs": [],
   "source": []
  },
  {
   "cell_type": "markdown",
   "id": "funky-joseph",
   "metadata": {},
   "source": [
    "## Which feature is more suitable for linear regression?"
   ]
  },
  {
   "cell_type": "code",
   "execution_count": 18,
   "id": "historical-diversity",
   "metadata": {},
   "outputs": [],
   "source": [
    "def check_dist(df, var):\n",
    "    plt.subplot(1, 2, 1)\n",
    "    sns.histplot(x=var, data=df)\n",
    "    plt.subplot(1, 2, 2)\n",
    "    stats.probplot(df[var], dist=\"norm\", plot=plt)\n",
    "    plt.show()"
   ]
  },
  {
   "cell_type": "code",
   "execution_count": 19,
   "id": "junior-relevance",
   "metadata": {},
   "outputs": [
    {
     "data": {
      "image/png": "[encoded data removed]",
      "text/plain": [
       "<Figure size 720x432 with 2 Axes>"
      ]
     },
     "metadata": {
      "needs_background": "light"
     },
     "output_type": "display_data"
    },
    {
     "data": {
      "image/png": "[encoded data removed]",
      "text/plain": [
       "<Figure size 720x432 with 2 Axes>"
      ]
     },
     "metadata": {
      "needs_background": "light"
     },
     "output_type": "display_data"
    },
    {
     "data": {
      "image/png": "[encoded data removed]",
      "text/plain": [
       "<Figure size 720x432 with 2 Axes>"
      ]
     },
     "metadata": {
      "needs_background": "light"
     },
     "output_type": "display_data"
    },
    {
     "data": {
      "image/png": "[encoded data removed]",
      "text/plain": [
       "<Figure size 720x432 with 2 Axes>"
      ]
     },
     "metadata": {
      "needs_background": "light"
     },
     "output_type": "display_data"
    }
   ],
   "source": [
    "for col in df.drop(\"sales\", axis =1).columns:\n",
    "    check_dist(df, col)"
   ]
  },
  {
   "cell_type": "code",
   "execution_count": 20,
   "id": "august-thanksgiving",
   "metadata": {},
   "outputs": [
    {
     "data": {
      "text/html": [
       "<div>\n",
       "<style scoped>\n",
       "    .dataframe tbody tr th:only-of-type {\n",
       "        vertical-align: middle;\n",
       "    }\n",
       "\n",
       "    .dataframe tbody tr th {\n",
       "        vertical-align: top;\n",
       "    }\n",
       "\n",
       "    .dataframe thead th {\n",
       "        text-align: right;\n",
       "    }\n",
       "</style>\n",
       "<table border=\"1\" class=\"dataframe\">\n",
       "  <thead>\n",
       "    <tr style=\"text-align: right;\">\n",
       "      <th></th>\n",
       "      <th>total_spend</th>\n",
       "      <th>sales</th>\n",
       "    </tr>\n",
       "  </thead>\n",
       "  <tbody>\n",
       "    <tr>\n",
       "      <th>0</th>\n",
       "      <td>337.1</td>\n",
       "      <td>22.1</td>\n",
       "    </tr>\n",
       "    <tr>\n",
       "      <th>1</th>\n",
       "      <td>128.9</td>\n",
       "      <td>10.4</td>\n",
       "    </tr>\n",
       "    <tr>\n",
       "      <th>2</th>\n",
       "      <td>132.4</td>\n",
       "      <td>9.3</td>\n",
       "    </tr>\n",
       "    <tr>\n",
       "      <th>3</th>\n",
       "      <td>251.3</td>\n",
       "      <td>18.5</td>\n",
       "    </tr>\n",
       "    <tr>\n",
       "      <th>4</th>\n",
       "      <td>250.0</td>\n",
       "      <td>12.9</td>\n",
       "    </tr>\n",
       "  </tbody>\n",
       "</table>\n",
       "</div>"
      ],
      "text/plain": [
       "   total_spend  sales\n",
       "0        337.1   22.1\n",
       "1        128.9   10.4\n",
       "2        132.4    9.3\n",
       "3        251.3   18.5\n",
       "4        250.0   12.9"
      ]
     },
     "execution_count": 20,
     "metadata": {},
     "output_type": "execute_result"
    }
   ],
   "source": [
    "df = df[[\"total_spend\", \"sales\"]]\n",
    "df.head()"
   ]
  },
  {
   "cell_type": "code",
   "execution_count": null,
   "id": "intellectual-craps",
   "metadata": {},
   "outputs": [],
   "source": []
  },
  {
   "cell_type": "code",
   "execution_count": null,
   "id": "considerable-vanilla",
   "metadata": {},
   "outputs": [],
   "source": []
  },
  {
   "cell_type": "markdown",
   "id": "regulation-steering",
   "metadata": {},
   "source": [
    "## Plotting the relationship between independent variable and dependent variable "
   ]
  },
  {
   "cell_type": "code",
   "execution_count": 22,
   "id": "ordinary-offset",
   "metadata": {},
   "outputs": [
    {
     "data": {
      "text/plain": [
       "<AxesSubplot:xlabel='total_spend', ylabel='sales'>"
      ]
     },
     "execution_count": 22,
     "metadata": {},
     "output_type": "execute_result"
    },
    {
     "data": {
      "image/png": "[encoded data removed]",
      "text/plain": [
       "<Figure size 720x432 with 1 Axes>"
      ]
     },
     "metadata": {
      "needs_background": "light"
     },
     "output_type": "display_data"
    }
   ],
   "source": [
    "sns.scatterplot(x =\"total_spend\", y = \"sales\", data=df)"
   ]
  },
  {
   "cell_type": "code",
   "execution_count": null,
   "id": "affecting-hungary",
   "metadata": {},
   "outputs": [],
   "source": []
  },
  {
   "cell_type": "markdown",
   "id": "operational-target",
   "metadata": {},
   "source": [
    "## Correlation between independent variable and dependent variable"
   ]
  },
  {
   "cell_type": "code",
   "execution_count": 23,
   "id": "critical-sudan",
   "metadata": {},
   "outputs": [
    {
     "data": {
      "text/plain": [
       "0.8677123027017418"
      ]
     },
     "execution_count": 23,
     "metadata": {},
     "output_type": "execute_result"
    }
   ],
   "source": [
    "corr = df[\"sales\"].corr(df[\"total_spend\"])\n",
    "corr"
   ]
  },
  {
   "cell_type": "code",
   "execution_count": null,
   "id": "restricted-narrative",
   "metadata": {},
   "outputs": [],
   "source": []
  },
  {
   "cell_type": "markdown",
   "id": "adolescent-mongolia",
   "metadata": {},
   "source": [
    "## Coefficient of determination (R2)"
   ]
  },
  {
   "cell_type": "code",
   "execution_count": 24,
   "id": "modular-covering",
   "metadata": {},
   "outputs": [
    {
     "data": {
      "text/plain": [
       "0.7529246402599592"
      ]
     },
     "execution_count": 24,
     "metadata": {},
     "output_type": "execute_result"
    }
   ],
   "source": [
    "R2_score = corr**2\n",
    "R2_score"
   ]
  },
  {
   "cell_type": "code",
   "execution_count": 25,
   "id": "charged-prague",
   "metadata": {},
   "outputs": [
    {
     "data": {
      "text/plain": [
       "<AxesSubplot:xlabel='total_spend', ylabel='sales'>"
      ]
     },
     "execution_count": 25,
     "metadata": {},
     "output_type": "execute_result"
    },
    {
     "data": {
      "image/png": "[encoded data removed]",
      "text/plain": [
       "<Figure size 720x432 with 1 Axes>"
      ]
     },
     "metadata": {
      "needs_background": "light"
     },
     "output_type": "display_data"
    }
   ],
   "source": [
    "sns.regplot(x=\"total_spend\", y=\"sales\", data=df, ci=None)"
   ]
  },
  {
   "cell_type": "markdown",
   "id": "perfect-setting",
   "metadata": {},
   "source": [
    "## Splitting the dataset into X(independent variables) and y (dependent variable)"
   ]
  },
  {
   "cell_type": "code",
   "execution_count": null,
   "id": "textile-scholar",
   "metadata": {},
   "outputs": [],
   "source": [
    "# y= b1X + b0"
   ]
  },
  {
   "cell_type": "code",
   "execution_count": 26,
   "id": "serial-feedback",
   "metadata": {},
   "outputs": [],
   "source": [
    "X= df[\"total_spend\"]\n",
    "y= df[\"sales\"]"
   ]
  },
  {
   "cell_type": "markdown",
   "id": "printable-exhaust",
   "metadata": {},
   "source": [
    "## Determination of coefficients (slope and intercept)"
   ]
  },
  {
   "cell_type": "code",
   "execution_count": 27,
   "id": "skilled-aside",
   "metadata": {},
   "outputs": [
    {
     "data": {
      "text/plain": [
       "array([0.04868788, 4.24302822])"
      ]
     },
     "execution_count": 27,
     "metadata": {},
     "output_type": "execute_result"
    }
   ],
   "source": [
    "np.polyfit(X, y, deg=1)"
   ]
  },
  {
   "cell_type": "code",
   "execution_count": null,
   "id": "disabled-musical",
   "metadata": {},
   "outputs": [],
   "source": []
  },
  {
   "cell_type": "markdown",
   "id": "environmental-platform",
   "metadata": {},
   "source": [
    "## Why do we use the least squares error method to find the regression line that best fits the data?"
   ]
  },
  {
   "cell_type": "code",
   "execution_count": 28,
   "id": "white-escape",
   "metadata": {},
   "outputs": [],
   "source": [
    "b1 = np.polyfit(X, y, deg=1)[0]\n",
    "b0 = np.polyfit(X, y, deg=1)[1]\n",
    "\n",
    "predict = b1*X + b0   # b2*X2 + b1*X + b0"
   ]
  },
  {
   "cell_type": "code",
   "execution_count": 30,
   "id": "danish-participant",
   "metadata": {},
   "outputs": [
    {
     "data": {
      "text/html": [
       "<div>\n",
       "<style scoped>\n",
       "    .dataframe tbody tr th:only-of-type {\n",
       "        vertical-align: middle;\n",
       "    }\n",
       "\n",
       "    .dataframe tbody tr th {\n",
       "        vertical-align: top;\n",
       "    }\n",
       "\n",
       "    .dataframe thead th {\n",
       "        text-align: right;\n",
       "    }\n",
       "</style>\n",
       "<table border=\"1\" class=\"dataframe\">\n",
       "  <thead>\n",
       "    <tr style=\"text-align: right;\">\n",
       "      <th></th>\n",
       "      <th>actual</th>\n",
       "      <th>predicted</th>\n",
       "      <th>residual</th>\n",
       "      <th>LSE</th>\n",
       "    </tr>\n",
       "  </thead>\n",
       "  <tbody>\n",
       "    <tr>\n",
       "      <th>0</th>\n",
       "      <td>22.1</td>\n",
       "      <td>20.655712</td>\n",
       "      <td>1.444288</td>\n",
       "      <td>2.085967</td>\n",
       "    </tr>\n",
       "    <tr>\n",
       "      <th>1</th>\n",
       "      <td>10.4</td>\n",
       "      <td>10.518896</td>\n",
       "      <td>-0.118896</td>\n",
       "      <td>0.014136</td>\n",
       "    </tr>\n",
       "    <tr>\n",
       "      <th>2</th>\n",
       "      <td>9.3</td>\n",
       "      <td>10.689303</td>\n",
       "      <td>-1.389303</td>\n",
       "      <td>1.930164</td>\n",
       "    </tr>\n",
       "    <tr>\n",
       "      <th>3</th>\n",
       "      <td>18.5</td>\n",
       "      <td>16.478292</td>\n",
       "      <td>2.021708</td>\n",
       "      <td>4.087302</td>\n",
       "    </tr>\n",
       "    <tr>\n",
       "      <th>4</th>\n",
       "      <td>12.9</td>\n",
       "      <td>16.414998</td>\n",
       "      <td>-3.514998</td>\n",
       "      <td>12.355211</td>\n",
       "    </tr>\n",
       "    <tr>\n",
       "      <th>...</th>\n",
       "      <td>...</td>\n",
       "      <td>...</td>\n",
       "      <td>...</td>\n",
       "      <td>...</td>\n",
       "    </tr>\n",
       "    <tr>\n",
       "      <th>195</th>\n",
       "      <td>7.6</td>\n",
       "      <td>6.954943</td>\n",
       "      <td>0.645057</td>\n",
       "      <td>0.416098</td>\n",
       "    </tr>\n",
       "    <tr>\n",
       "      <th>196</th>\n",
       "      <td>9.7</td>\n",
       "      <td>9.462369</td>\n",
       "      <td>0.237631</td>\n",
       "      <td>0.056469</td>\n",
       "    </tr>\n",
       "    <tr>\n",
       "      <th>197</th>\n",
       "      <td>12.8</td>\n",
       "      <td>13.625183</td>\n",
       "      <td>-0.825183</td>\n",
       "      <td>0.680926</td>\n",
       "    </tr>\n",
       "    <tr>\n",
       "      <th>198</th>\n",
       "      <td>25.5</td>\n",
       "      <td>23.318939</td>\n",
       "      <td>2.181061</td>\n",
       "      <td>4.757026</td>\n",
       "    </tr>\n",
       "    <tr>\n",
       "      <th>199</th>\n",
       "      <td>13.4</td>\n",
       "      <td>16.385785</td>\n",
       "      <td>-2.985785</td>\n",
       "      <td>8.914914</td>\n",
       "    </tr>\n",
       "  </tbody>\n",
       "</table>\n",
       "<p>200 rows × 4 columns</p>\n",
       "</div>"
      ],
      "text/plain": [
       "     actual  predicted  residual        LSE\n",
       "0      22.1  20.655712  1.444288   2.085967\n",
       "1      10.4  10.518896 -0.118896   0.014136\n",
       "2       9.3  10.689303 -1.389303   1.930164\n",
       "3      18.5  16.478292  2.021708   4.087302\n",
       "4      12.9  16.414998 -3.514998  12.355211\n",
       "..      ...        ...       ...        ...\n",
       "195     7.6   6.954943  0.645057   0.416098\n",
       "196     9.7   9.462369  0.237631   0.056469\n",
       "197    12.8  13.625183 -0.825183   0.680926\n",
       "198    25.5  23.318939  2.181061   4.757026\n",
       "199    13.4  16.385785 -2.985785   8.914914\n",
       "\n",
       "[200 rows x 4 columns]"
      ]
     },
     "execution_count": 30,
     "metadata": {},
     "output_type": "execute_result"
    }
   ],
   "source": [
    "values = {\"actual\": y, \"predicted\": predict, \"residual\":y-predict, \"LSE\": (y-predict)**2}\n",
    "df_2 = pd.DataFrame(values)\n",
    "df_2"
   ]
  },
  {
   "cell_type": "code",
   "execution_count": 38,
   "id": "addressed-retention",
   "metadata": {},
   "outputs": [
    {
     "data": {
      "text/plain": [
       "8.810729923425242e-13"
      ]
     },
     "execution_count": 38,
     "metadata": {},
     "output_type": "execute_result"
    }
   ],
   "source": [
    "df_2.residual.sum().round()"
   ]
  },
  {
   "cell_type": "code",
   "execution_count": 49,
   "id": "blank-league",
   "metadata": {},
   "outputs": [
    {
     "data": {
      "text/plain": [
       "1338.4439761715594"
      ]
     },
     "execution_count": 49,
     "metadata": {},
     "output_type": "execute_result"
    }
   ],
   "source": [
    "df_2.LSE.sum()"
   ]
  },
  {
   "cell_type": "code",
   "execution_count": null,
   "id": "metropolitan-stretch",
   "metadata": {},
   "outputs": [],
   "source": []
  },
  {
   "cell_type": "markdown",
   "id": "steady-desktop",
   "metadata": {},
   "source": [
    "## Prediction with simple linear regression"
   ]
  },
  {
   "cell_type": "code",
   "execution_count": 35,
   "id": "intimate-virginia",
   "metadata": {},
   "outputs": [
    {
     "data": {
      "text/plain": [
       "array([  0.        ,   5.05050505,  10.1010101 ,  15.15151515,\n",
       "        20.2020202 ,  25.25252525,  30.3030303 ,  35.35353535,\n",
       "        40.4040404 ,  45.45454545,  50.50505051,  55.55555556,\n",
       "        60.60606061,  65.65656566,  70.70707071,  75.75757576,\n",
       "        80.80808081,  85.85858586,  90.90909091,  95.95959596,\n",
       "       101.01010101, 106.06060606, 111.11111111, 116.16161616,\n",
       "       121.21212121, 126.26262626, 131.31313131, 136.36363636,\n",
       "       141.41414141, 146.46464646, 151.51515152, 156.56565657,\n",
       "       161.61616162, 166.66666667, 171.71717172, 176.76767677,\n",
       "       181.81818182, 186.86868687, 191.91919192, 196.96969697,\n",
       "       202.02020202, 207.07070707, 212.12121212, 217.17171717,\n",
       "       222.22222222, 227.27272727, 232.32323232, 237.37373737,\n",
       "       242.42424242, 247.47474747, 252.52525253, 257.57575758,\n",
       "       262.62626263, 267.67676768, 272.72727273, 277.77777778,\n",
       "       282.82828283, 287.87878788, 292.92929293, 297.97979798,\n",
       "       303.03030303, 308.08080808, 313.13131313, 318.18181818,\n",
       "       323.23232323, 328.28282828, 333.33333333, 338.38383838,\n",
       "       343.43434343, 348.48484848, 353.53535354, 358.58585859,\n",
       "       363.63636364, 368.68686869, 373.73737374, 378.78787879,\n",
       "       383.83838384, 388.88888889, 393.93939394, 398.98989899,\n",
       "       404.04040404, 409.09090909, 414.14141414, 419.19191919,\n",
       "       424.24242424, 429.29292929, 434.34343434, 439.39393939,\n",
       "       444.44444444, 449.49494949, 454.54545455, 459.5959596 ,\n",
       "       464.64646465, 469.6969697 , 474.74747475, 479.7979798 ,\n",
       "       484.84848485, 489.8989899 , 494.94949495, 500.        ])"
      ]
     },
     "execution_count": 35,
     "metadata": {},
     "output_type": "execute_result"
    }
   ],
   "source": [
    "potential_spend = np.linspace(0, 500, 100)\n",
    "potential_spend"
   ]
  },
  {
   "cell_type": "code",
   "execution_count": 36,
   "id": "super-green",
   "metadata": {},
   "outputs": [
    {
     "data": {
      "text/plain": [
       "array([ 4.24302822,  4.4889266 ,  4.73482498,  4.98072336,  5.22662174,\n",
       "        5.47252012,  5.7184185 ,  5.96431688,  6.21021526,  6.45611364,\n",
       "        6.70201202,  6.9479104 ,  7.19380878,  7.43970716,  7.68560554,\n",
       "        7.93150392,  8.1774023 ,  8.42330068,  8.66919906,  8.91509744,\n",
       "        9.16099582,  9.4068942 ,  9.65279258,  9.89869097, 10.14458935,\n",
       "       10.39048773, 10.63638611, 10.88228449, 11.12818287, 11.37408125,\n",
       "       11.61997963, 11.86587801, 12.11177639, 12.35767477, 12.60357315,\n",
       "       12.84947153, 13.09536991, 13.34126829, 13.58716667, 13.83306505,\n",
       "       14.07896343, 14.32486181, 14.57076019, 14.81665857, 15.06255695,\n",
       "       15.30845533, 15.55435371, 15.80025209, 16.04615048, 16.29204886,\n",
       "       16.53794724, 16.78384562, 17.029744  , 17.27564238, 17.52154076,\n",
       "       17.76743914, 18.01333752, 18.2592359 , 18.50513428, 18.75103266,\n",
       "       18.99693104, 19.24282942, 19.4887278 , 19.73462618, 19.98052456,\n",
       "       20.22642294, 20.47232132, 20.7182197 , 20.96411808, 21.21001646,\n",
       "       21.45591484, 21.70181322, 21.9477116 , 22.19360999, 22.43950837,\n",
       "       22.68540675, 22.93130513, 23.17720351, 23.42310189, 23.66900027,\n",
       "       23.91489865, 24.16079703, 24.40669541, 24.65259379, 24.89849217,\n",
       "       25.14439055, 25.39028893, 25.63618731, 25.88208569, 26.12798407,\n",
       "       26.37388245, 26.61978083, 26.86567921, 27.11157759, 27.35747597,\n",
       "       27.60337435, 27.84927273, 28.09517111, 28.3410695 , 28.58696788])"
      ]
     },
     "execution_count": 36,
     "metadata": {},
     "output_type": "execute_result"
    }
   ],
   "source": [
    "predicted_sales_lin = b1* potential_spend + b0\n",
    "predicted_sales_lin"
   ]
  },
  {
   "cell_type": "code",
   "execution_count": 40,
   "id": "every-mystery",
   "metadata": {},
   "outputs": [
    {
     "data": {
      "text/plain": [
       "<AxesSubplot:xlabel='total_spend', ylabel='sales'>"
      ]
     },
     "execution_count": 40,
     "metadata": {},
     "output_type": "execute_result"
    },
    {
     "data": {
      "image/png": "[encoded data removed]",
      "text/plain": [
       "<Figure size 720x432 with 1 Axes>"
      ]
     },
     "metadata": {
      "needs_background": "light"
     },
     "output_type": "display_data"
    }
   ],
   "source": [
    "plt.plot(potential_spend, predicted_sales_lin)\n",
    "sns.scatterplot(x='total_spend',y='sales',data=df)"
   ]
  },
  {
   "cell_type": "code",
   "execution_count": null,
   "id": "united-gilbert",
   "metadata": {},
   "outputs": [],
   "source": []
  },
  {
   "cell_type": "code",
   "execution_count": null,
   "id": "gothic-elder",
   "metadata": {},
   "outputs": [],
   "source": []
  },
  {
   "cell_type": "markdown",
   "id": "curious-kinase",
   "metadata": {},
   "source": [
    "## Improving predictions"
   ]
  },
  {
   "cell_type": "code",
   "execution_count": 42,
   "id": "lightweight-nepal",
   "metadata": {},
   "outputs": [
    {
     "data": {
      "text/plain": [
       "array([ 3.07615033e-07, -1.89392449e-04,  8.20886302e-02,  2.70495053e+00])"
      ]
     },
     "execution_count": 42,
     "metadata": {},
     "output_type": "execute_result"
    }
   ],
   "source": [
    "np.polyfit(X, y, deg=3)"
   ]
  },
  {
   "cell_type": "code",
   "execution_count": 43,
   "id": "executed-drawing",
   "metadata": {},
   "outputs": [
    {
     "data": {
      "text/plain": [
       "array([ 2.70495053,  3.11474825,  3.51512185,  3.90630911,  4.28854779,\n",
       "        4.66207567,  5.02713052,  5.38395012,  5.73277224,  6.07383465,\n",
       "        6.40737513,  6.73363145,  7.05284138,  7.3652427 ,  7.67107317,\n",
       "        7.97057058,  8.2639727 ,  8.5515173 ,  8.83344215,  9.10998502,\n",
       "        9.3813837 ,  9.64787595,  9.90969955, 10.16709227, 10.42029188,\n",
       "       10.66953616, 10.91506287, 11.15710981, 11.39591473, 11.63171541,\n",
       "       11.86474962, 12.09525514, 12.32346974, 12.5496312 , 12.77397728,\n",
       "       12.99674577, 13.21817442, 13.43850103, 13.65796336, 13.87679918,\n",
       "       14.09524627, 14.3135424 , 14.53192534, 14.75063288, 14.96990277,\n",
       "       15.1899728 , 15.41108073, 15.63346435, 15.85736142, 16.08300973,\n",
       "       16.31064703, 16.54051111, 16.77283973, 17.00787068, 17.24584172,\n",
       "       17.48699063, 17.73155518, 17.97977315, 18.23188231, 18.48812043,\n",
       "       18.74872528, 19.01393464, 19.28398629, 19.55911799, 19.83956752,\n",
       "       20.12557265, 20.41737116, 20.71520081, 21.01929939, 21.32990467,\n",
       "       21.64725441, 21.9715864 , 22.3031384 , 22.64214819, 22.98885355,\n",
       "       23.34349224, 23.70630204, 24.07752072, 24.45738606, 24.84613583,\n",
       "       25.2440078 , 25.65123975, 26.06806945, 26.49473467, 26.93147319,\n",
       "       27.37852277, 27.8361212 , 28.30450625, 28.78391569, 29.27458729,\n",
       "       29.77675883, 30.29066808, 30.81655281, 31.3546508 , 31.90519982,\n",
       "       32.46843764, 33.04460204, 33.63393079, 34.23666166, 34.85303244])"
      ]
     },
     "execution_count": 43,
     "metadata": {},
     "output_type": "execute_result"
    }
   ],
   "source": [
    "# y = a3X**3 + a2X**2 + a1X**1 + a0\n",
    "a3 = np.polyfit(X, y, deg =3)[0] \n",
    "a2 = np.polyfit(X, y, deg =3)[1] \n",
    "a1 = np.polyfit(X, y, deg =3)[2] \n",
    "a0 = np.polyfit(X, y, deg =3)[3]\n",
    "predicted_sales_poly = a3*potential_spend**3 + a2*potential_spend**2 + a1*potential_spend + a0\n",
    "predicted_sales_poly"
   ]
  },
  {
   "cell_type": "code",
   "execution_count": 44,
   "id": "secondary-chase",
   "metadata": {},
   "outputs": [
    {
     "data": {
      "text/plain": [
       "[<matplotlib.lines.Line2D at 0x251e3712d88>]"
      ]
     },
     "execution_count": 44,
     "metadata": {},
     "output_type": "execute_result"
    },
    {
     "data": {
      "image/png": "[encoded data removed]",
      "text/plain": [
       "<Figure size 720x432 with 1 Axes>"
      ]
     },
     "metadata": {
      "needs_background": "light"
     },
     "output_type": "display_data"
    }
   ],
   "source": [
    "sns.scatterplot(x='total_spend',y='sales',data=df)\n",
    "plt.plot(potential_spend, predicted_sales_poly, color =\"red\")"
   ]
  },
  {
   "cell_type": "code",
   "execution_count": 45,
   "id": "forward-cotton",
   "metadata": {},
   "outputs": [
    {
     "data": {
      "text/plain": [
       "[<matplotlib.lines.Line2D at 0x251e3574708>]"
      ]
     },
     "execution_count": 45,
     "metadata": {},
     "output_type": "execute_result"
    },
    {
     "data": {
      "image/png": "[encoded data removed]",
      "text/plain": [
       "<Figure size 720x432 with 1 Axes>"
      ]
     },
     "metadata": {
      "needs_background": "light"
     },
     "output_type": "display_data"
    }
   ],
   "source": [
    "sns.scatterplot(x='total_spend',y='sales',data=df)\n",
    "plt.plot(potential_spend, predicted_sales_poly, color='red')\n",
    "plt.plot(potential_spend, predicted_sales_lin, color='blue')"
   ]
  },
  {
   "cell_type": "code",
   "execution_count": 46,
   "id": "liquid-criminal",
   "metadata": {},
   "outputs": [
    {
     "data": {
      "text/plain": [
       "(0.0, 10.0)"
      ]
     },
     "execution_count": 46,
     "metadata": {},
     "output_type": "execute_result"
    },
    {
     "data": {
      "image/png": "[encoded data removed]",
      "text/plain": [
       "<Figure size 720x432 with 1 Axes>"
      ]
     },
     "metadata": {
      "needs_background": "light"
     },
     "output_type": "display_data"
    }
   ],
   "source": [
    "sns.scatterplot(x='total_spend',y='sales',data=df)\n",
    "plt.plot(potential_spend, predicted_sales_poly,color='red')\n",
    "plt.xlim(0, 0.5)\n",
    "plt.ylim(0, 10)"
   ]
  },
  {
   "cell_type": "code",
   "execution_count": 48,
   "id": "parliamentary-racing",
   "metadata": {},
   "outputs": [
    {
     "name": "stdout",
     "output_type": "stream",
     "text": [
      "23.718179943655585\n",
      "24.9249728376707\n"
     ]
    }
   ],
   "source": [
    "\n",
    "spend = 400\n",
    "sales_pred_lin = b1*spend + b0\n",
    "sales_pred_poly = a3*spend**3 + a2*spend**2 + a1*spend + a0\n",
    "print(sales_pred_lin)\n",
    "print(sales_pred_poly)"
   ]
  },
  {
   "cell_type": "code",
   "execution_count": null,
   "id": "noticed-indication",
   "metadata": {},
   "outputs": [],
   "source": []
  }
 ],
 "metadata": {
  "kernelspec": {
   "display_name": "Python 3",
   "language": "python",
   "name": "python3"
  },
  "language_info": {
   "codemirror_mode": {
    "name": "ipython",
    "version": 3
   },
   "file_extension": ".py",
   "mimetype": "text/x-python",
   "name": "python",
   "nbconvert_exporter": "python",
   "pygments_lexer": "ipython3",
   "version": "3.7.9"
  }
 },
 "nbformat": 4,
 "nbformat_minor": 5
}
